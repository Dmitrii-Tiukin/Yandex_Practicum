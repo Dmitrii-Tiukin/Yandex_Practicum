{
  "cells": [
    {
      "cell_type": "markdown",
      "id": "e7dfb797",
      "metadata": {
        "id": "e7dfb797"
      },
      "source": [
        "# Исследование базы данных StackOverflow\n",
        "\n",
        "## Данные\n",
        "\n",
        "Самостоятельная работа основана на базе данных StackOverflow — сервиса вопросов и ответов о программировании.\n",
        "\n",
        "Мы будем работать с версией базы, где хранятся данные о постах за 2008 год, но в таблицах есть  информация и о более поздних оценках, которые эти посты получили.\n",
        "\n",
        "## Цель\n",
        "\n",
        "Проект состоит из двух частей:\n",
        "\n",
        "В первой части несколько задач в SQL-тренажёре, чтобы закрепить пройденный материал.\n",
        "\n",
        "Вторая часть проекта — аналитическая.  \n",
        "\n",
        "\n",
        "## Задания Часть 1\n",
        "\n",
        "\n",
        "### Задание 1\n",
        "Найдите количество вопросов, которые набрали больше 300 очков или как минимум 100 раз были добавлены в «Закладки».\n"
      ]
    },
    {
      "cell_type": "code",
      "execution_count": null,
      "id": "b94affd3",
      "metadata": {
        "id": "b94affd3"
      },
      "outputs": [],
      "source": [
        "'''\n",
        "SELECT COUNT(p.id)\n",
        "FROM stackoverflow.posts AS p\n",
        "JOIN stackoverflow.post_types AS pt ON p.post_type_id = pt.id\n",
        "WHERE pt.type = 'Question'\n",
        "      AND (p.score > 300 OR p.favorites_count >= 100);\n",
        "'''"
      ]
    },
    {
      "cell_type": "markdown",
      "id": "a8f6be8b",
      "metadata": {
        "id": "a8f6be8b"
      },
      "source": [
        "### Задание 2\n",
        "Сколько в среднем в день задавали вопросов с 1 по 18 ноября 2008 включительно? Результат округлите до целого числа.\n",
        "\n"
      ]
    },
    {
      "cell_type": "code",
      "execution_count": null,
      "id": "702093b1",
      "metadata": {
        "id": "702093b1"
      },
      "outputs": [],
      "source": [
        "'''\n",
        "WITH ppd AS\n",
        "            (SELECT COUNT(*) OVER(PARTITION BY creation_date::date) AS p_per_day\n",
        "FROM stackoverflow.posts AS p\n",
        "JOIN stackoverflow.post_types AS pt ON p.post_type_id=pt.id\n",
        "WHERE type = 'Question' AND creation_date::date BETWEEN '2008-11-01' AND '2008-11-18'\n",
        "            )\n",
        "SELECT ROUND(AVG(DISTINCT p_per_day))\n",
        "FROM ppd;\n",
        "'''"
      ]
    },
    {
      "cell_type": "markdown",
      "id": "81e05df1",
      "metadata": {
        "id": "81e05df1"
      },
      "source": [
        "### Задание 3\n",
        "Сколько пользователей получили значки сразу в день регистрации? Выведите количество уникальных пользователей.\n"
      ]
    },
    {
      "cell_type": "code",
      "execution_count": null,
      "id": "0f111021",
      "metadata": {
        "id": "0f111021"
      },
      "outputs": [],
      "source": [
        "'''\n",
        "SELECT COUNT(DISTINCT u.id)\n",
        "FROM stackoverflow.users AS u\n",
        "JOIN stackoverflow.badges AS b ON u.id = b.user_id\n",
        "WHERE CAST(b.creation_date AS date) = CAST(u.creation_date AS date);\n",
        "'''"
      ]
    },
    {
      "cell_type": "markdown",
      "id": "cf0bd78d",
      "metadata": {
        "id": "cf0bd78d"
      },
      "source": [
        "### Задание 4\n",
        "\n",
        "Сколько уникальных постов пользователя с именем Joel Coehoorn получили хотя бы один голос?\n",
        "\n"
      ]
    },
    {
      "cell_type": "code",
      "execution_count": null,
      "id": "a16e6be9",
      "metadata": {
        "id": "a16e6be9"
      },
      "outputs": [],
      "source": [
        "'''\n",
        "SELECT COUNT(DISTINCT p.id)\n",
        "FROM stackoverflow.posts AS p\n",
        "JOIN stackoverflow.votes AS v ON p.id = v.post_id\n",
        "JOIN stackoverflow.users AS u ON p.user_id = u.id\n",
        "WHERE u.display_name = 'Joel Coehoorn'\n",
        "      AND v.id <> 0;\n",
        "'''"
      ]
    },
    {
      "cell_type": "markdown",
      "id": "d8b64c72",
      "metadata": {
        "id": "d8b64c72"
      },
      "source": [
        "### Задание 5\n",
        "Выгрузите все поля таблицы vote_types. Добавьте к таблице поле rank, в которое войдут номера записей в обратном порядке. Таблица должна быть отсортирована по полю id."
      ]
    },
    {
      "cell_type": "code",
      "execution_count": null,
      "id": "7d7ab6da",
      "metadata": {
        "id": "7d7ab6da"
      },
      "outputs": [],
      "source": [
        "'''\n",
        "SELECT *,\n",
        "       RANK() OVER (ORDER BY id DESC)\n",
        "FROM stackoverflow.vote_types\n",
        "ORDER BY id;\n",
        "'''"
      ]
    },
    {
      "cell_type": "markdown",
      "id": "098bd9bc",
      "metadata": {
        "id": "098bd9bc"
      },
      "source": [
        "### Задание 6\n",
        "Отберите 10 пользователей, которые поставили больше всего голосов типа Close. Отобразите таблицу из двух полей: идентификатором пользователя и количеством голосов. Отсортируйте данные сначала по убыванию количества голосов, потом по убыванию значения идентификатора пользователя."
      ]
    },
    {
      "cell_type": "code",
      "execution_count": null,
      "id": "68cc6d9d",
      "metadata": {
        "id": "68cc6d9d"
      },
      "outputs": [],
      "source": [
        "'''\n",
        "SELECT u.id,\n",
        "       COUNT(v.id) AS count_votes\n",
        "FROM stackoverflow.users AS u\n",
        "JOIN stackoverflow.votes AS v ON u.id = v.user_id\n",
        "JOIN stackoverflow.vote_types AS vt ON v.vote_type_id = vt.id\n",
        "WHERE vt.name = 'Close'\n",
        "GROUP BY u.id\n",
        "ORDER BY count_votes DESC, u.id DESC\n",
        "LIMIT 10;\n",
        "'''"
      ]
    },
    {
      "cell_type": "markdown",
      "id": "2bc03b24",
      "metadata": {
        "id": "2bc03b24"
      },
      "source": [
        "### Задание 7\n",
        "Отберите 10 пользователей по количеству значков, полученных в период с 15 ноября по 15 декабря 2008 года включительно.\n",
        "Отобразите несколько полей:\n",
        "- идентификатор пользователя;\n",
        "- число значков;\n",
        "- место в рейтинге — чем больше значков, тем выше рейтинг.\n",
        "\n",
        "Пользователям, которые набрали одинаковое количество значков, присвойте одно и то же место в рейтинге.\n",
        "\n",
        "Отсортируйте записи по количеству значков по убыванию, а затем по возрастанию значения идентификатора пользователя."
      ]
    },
    {
      "cell_type": "code",
      "execution_count": null,
      "id": "cc9a8a1c",
      "metadata": {
        "id": "cc9a8a1c"
      },
      "outputs": [],
      "source": [
        "'''\n",
        "SELECT user_id,\n",
        "       COUNT(id),\n",
        "       DENSE_RANK() OVER (ORDER BY COUNT(id) DESC)\n",
        "FROM stackoverflow.badges\n",
        "WHERE CAST(creation_date AS date) BETWEEN '2008-11-15' AND '2008-12-15'\n",
        "GROUP BY user_id\n",
        "ORDER BY COUNT(id) DESC, user_id\n",
        "LIMIT 10;\n",
        "'''"
      ]
    },
    {
      "cell_type": "markdown",
      "id": "3790cb78",
      "metadata": {
        "id": "3790cb78"
      },
      "source": [
        "### Задание 8\n",
        "Сколько в среднем очков получает пост каждого пользователя?\n",
        "Сформируйте таблицу из следующих полей:\n",
        "- заголовок поста;\n",
        "- идентификатор пользователя;\n",
        "- число очков поста;\n",
        "- среднее число очков пользователя за пост, округлённое до целого числа.\n",
        "\n",
        "Не учитывайте посты без заголовка, а также те, что набрали ноль очков."
      ]
    },
    {
      "cell_type": "code",
      "execution_count": null,
      "id": "2e2cd852",
      "metadata": {
        "id": "2e2cd852"
      },
      "outputs": [],
      "source": [
        "'''\n",
        "SELECT title,\n",
        "       user_id,\n",
        "       score,\n",
        "       ROUND(AVG(score) OVER (PARTITION BY user_id))\n",
        "FROM stackoverflow.posts\n",
        "WHERE title IS NOT NULL\n",
        "      AND score <> 0;\n",
        "'''"
      ]
    },
    {
      "cell_type": "markdown",
      "id": "b0d85ee6",
      "metadata": {
        "id": "b0d85ee6"
      },
      "source": [
        "### Задание 9\n",
        "Отобразите заголовки постов, которые были написаны пользователями, получившими более 1000 значков. Посты без заголовков не должны попасть в список."
      ]
    },
    {
      "cell_type": "code",
      "execution_count": null,
      "id": "51df210a",
      "metadata": {
        "id": "51df210a"
      },
      "outputs": [],
      "source": [
        "'''\n",
        "SELECT p.title\n",
        "FROM stackoverflow.posts AS p\n",
        "JOIN stackoverflow.users AS u ON p.user_id = u.id\n",
        "JOIN stackoverflow.badges AS b ON u.id = b.user_id\n",
        "WHERE title IS NOT NULL\n",
        "GROUP BY p.title\n",
        "HAVING COUNT(b.id) > 1000;\n",
        "'''"
      ]
    },
    {
      "cell_type": "markdown",
      "id": "be802a48",
      "metadata": {
        "id": "be802a48"
      },
      "source": [
        "### Задание 10\n",
        "Напишите запрос, который выгрузит данные о пользователях из США (англ. United States). Разделите пользователей на три группы в зависимости от количества просмотров их профилей:\n",
        "\n",
        "- пользователям с числом просмотров больше либо равным 350 присвойте группу 1;\n",
        "- пользователям с числом просмотров меньше 350, но больше либо равно 100 — группу 2;\n",
        "- пользователям с числом просмотров меньше 100 — группу 3.\n",
        "\n",
        "Отобразите в итоговой таблице идентификатор пользователя, количество просмотров профиля и группу. Пользователи с нулевым количеством просмотров не должны войти в итоговую таблицу.\n"
      ]
    },
    {
      "cell_type": "code",
      "execution_count": null,
      "id": "f18c3b97",
      "metadata": {
        "id": "f18c3b97"
      },
      "outputs": [],
      "source": [
        "'''\n",
        "SELECT id,\n",
        "       views,\n",
        "       CASE\n",
        "           WHEN views >= 350 THEN 1\n",
        "           WHEN views < 350 AND views >= 100 THEN 2\n",
        "           WHEN views < 100 THEN 3\n",
        "       END\n",
        "FROM stackoverflow.users\n",
        "WHERE location LIKE '%United States%'\n",
        "      AND views <> 0;\n",
        "'''"
      ]
    },
    {
      "cell_type": "markdown",
      "id": "b60727c0",
      "metadata": {
        "id": "b60727c0"
      },
      "source": [
        "### Задание 11\n",
        "Дополните предыдущий запрос. Отобразите лидеров каждой группы — пользователей, которые набрали максимальное число просмотров в своей группе. Выведите поля с идентификатором пользователя, группой и количеством просмотров. Отсортируйте таблицу по убыванию просмотров, а затем по возрастанию значения идентификатора."
      ]
    },
    {
      "cell_type": "code",
      "execution_count": null,
      "id": "ae6ceb83",
      "metadata": {
        "id": "ae6ceb83"
      },
      "outputs": [],
      "source": [
        "'''\n",
        "WITH view_group AS\n",
        "(SELECT id,\n",
        "       views,\n",
        "       CASE\n",
        "           WHEN views >= 350 THEN 1\n",
        "           WHEN views >= 100 AND views < 350 THEN 2\n",
        "           WHEN views < 100 THEN 3\n",
        "       END AS user_group\n",
        "FROM stackoverflow.users\n",
        "WHERE location LIKE '%United States%' AND views <> 0)\n",
        "\n",
        "SELECT id,\n",
        "    views,\n",
        "    user_group\n",
        "FROM\n",
        "(SELECT *,\n",
        "    DENSE_RANK() OVER (PARTITION BY user_group ORDER BY views DESC)\n",
        "FROM view_group\n",
        "ORDER BY 3 ASC, 2 DESC) AS rating\n",
        "WHERE dense_rank = 1\n",
        "ORDER BY 2 DESC, 1 ASC;\n",
        "'''"
      ]
    },
    {
      "cell_type": "markdown",
      "id": "6c35823a",
      "metadata": {
        "id": "6c35823a"
      },
      "source": [
        "### Задание 12\n",
        "Посчитайте ежедневный прирост новых пользователей в ноябре 2008 года. Сформируйте таблицу с полями:\n",
        "\n",
        "- номер дня;\n",
        "- число пользователей, зарегистрированных в этот день;\n",
        "- сумму пользователей с накоплением."
      ]
    },
    {
      "cell_type": "code",
      "execution_count": null,
      "id": "0393d279",
      "metadata": {
        "id": "0393d279"
      },
      "outputs": [],
      "source": [
        "'''\n",
        "SELECT EXTRACT(DAY FROM creation_date),\n",
        "       COUNT(id),\n",
        "       SUM(COUNT(id)) OVER (ORDER BY EXTRACT(DAY FROM creation_date)) AS count_users\n",
        "FROM stackoverflow.users\n",
        "WHERE CAST(creation_date AS date) BETWEEN '2008-11-01' AND '2008-11-30'\n",
        "GROUP BY EXTRACT(DAY FROM creation_date)\n",
        "ORDER BY EXTRACT(DAY FROM creation_date);\n",
        "'''"
      ]
    },
    {
      "cell_type": "markdown",
      "id": "7f24772a",
      "metadata": {
        "id": "7f24772a"
      },
      "source": [
        "### Задание 13\n",
        "Для каждого пользователя, который написал хотя бы один пост, найдите интервал между регистрацией и временем создания первого поста.\n",
        "\n",
        "Отобразите:\n",
        "\n",
        "- идентификатор пользователя;\n",
        "- разницу во времени между регистрацией и первым постом."
      ]
    },
    {
      "cell_type": "code",
      "execution_count": null,
      "id": "ffa11404",
      "metadata": {
        "id": "ffa11404"
      },
      "outputs": [],
      "source": [
        "'''\n",
        "SELECT DISTINCT p.user_id,\n",
        "       FIRST_VALUE(p.creation_date) OVER (PARTITION BY p.user_id) - u.creation_date\n",
        "FROM stackoverflow.posts AS p\n",
        "JOIN stackoverflow.users AS u ON p.user_id = u.id\n",
        "GROUP BY p.user_id,\n",
        "         u.creation_date,\n",
        "         p.id,\n",
        "         p.creation_date\n",
        "HAVING p.id > 0;\n",
        "'''\n",
        "\n"
      ]
    },
    {
      "cell_type": "markdown",
      "id": "4f6b6ae1",
      "metadata": {
        "id": "4f6b6ae1"
      },
      "source": [
        "## Задания Часть 2\n",
        "\n",
        "### Задание 1\n",
        "\n",
        "Выведите общую сумму просмотров постов за каждый месяц 2008 года. Если данных за какой-либо месяц в базе нет, такой месяц можно пропустить. Результат отсортируйте по убыванию общего количества просмотров.\n"
      ]
    },
    {
      "cell_type": "code",
      "execution_count": null,
      "id": "28436dac",
      "metadata": {
        "id": "28436dac"
      },
      "outputs": [],
      "source": [
        "'''\n",
        "SELECT SUM(views_count),\n",
        "       CAST(DATE_TRUNC('month', creation_date) AS date) AS month\n",
        "FROM stackoverflow.posts\n",
        "WHERE CAST(creation_date AS date) BETWEEN '2008-01-01' AND '2008-12-31'\n",
        "GROUP BY month\n",
        "ORDER BY SUM(views_count) DESC;\n",
        "'''"
      ]
    },
    {
      "cell_type": "markdown",
      "id": "7e9f5525",
      "metadata": {
        "id": "7e9f5525"
      },
      "source": [
        "### Задание 2\n",
        "\n",
        "Выведите имена самых активных пользователей, которые в первый месяц после регистрации (включая день регистрации) дали больше 100 ответов. Вопросы, которые задавали пользователи, не учитывайте. Для каждого имени пользователя выведите количество уникальных значений user_id. Отсортируйте результат по полю с именами в лексикографическом порядке."
      ]
    },
    {
      "cell_type": "code",
      "execution_count": null,
      "id": "0e9e7d79",
      "metadata": {
        "id": "0e9e7d79"
      },
      "outputs": [],
      "source": [
        "'''\n",
        "SELECT u.display_name,\n",
        "       COUNT(DISTINCT p.user_id)\n",
        "FROM stackoverflow.users AS u\n",
        "JOIN stackoverflow.posts AS p ON u.id = p.user_id\n",
        "JOIN stackoverflow.post_types AS pt ON p.post_type_id = pt.id\n",
        "WHERE pt.type != 'Question'\n",
        "      AND p.creation_date::date BETWEEN u.creation_date::date AND (u.creation_date::date + INTERVAL '1 month')\n",
        "GROUP BY u.display_name\n",
        "HAVING COUNT(pt.id) > 100\n",
        "ORDER BY u.display_name;\n",
        "'''"
      ]
    },
    {
      "cell_type": "markdown",
      "id": "271ce2e8",
      "metadata": {
        "id": "271ce2e8"
      },
      "source": [
        "### Задание 3\n",
        "Выведите количество постов за 2008 год по месяцам. Отберите посты от пользователей, которые зарегистрировались в сентябре 2008 года и сделали хотя бы один пост в декабре того же года. Отсортируйте таблицу по значению месяца по убыванию."
      ]
    },
    {
      "cell_type": "code",
      "execution_count": null,
      "id": "119fd9fc",
      "metadata": {
        "id": "119fd9fc"
      },
      "outputs": [],
      "source": [
        "'''\n",
        "WITH users AS (SELECT u.id\n",
        "               FROM stackoverflow.posts AS p\n",
        "               JOIN stackoverflow.users AS u ON p.user_id=u.id\n",
        "               WHERE u.creation_date::date BETWEEN '2008-09-01' AND '2008-09-30'\n",
        "               AND p.creation_date::date BETWEEN '2008-12-01' AND '2008-12-31'\n",
        "               GROUP BY u.id\n",
        "               HAVING COUNT(p.id) > 0)\n",
        "\n",
        "SELECT COUNT(p.id),\n",
        "       DATE_TRUNC('month', p.creation_date)::date\n",
        "FROM stackoverflow.posts AS p\n",
        "WHERE p.user_id IN (SELECT *\n",
        "                    FROM users)\n",
        "GROUP BY DATE_TRUNC('month', p.creation_date)::date\n",
        "ORDER BY DATE_TRUNC('month', p.creation_date)::date DESC;\n",
        "\n",
        "'''"
      ]
    },
    {
      "cell_type": "markdown",
      "id": "27c99c65",
      "metadata": {
        "id": "27c99c65"
      },
      "source": [
        "### Задание 4\n",
        "Используя данные о постах, выведите несколько полей:\n",
        "\n",
        "- идентификатор пользователя, который написал пост;\n",
        "- дата создания поста;\n",
        "- количество просмотров у текущего поста;\n",
        "- сумму просмотров постов автора с накоплением.\n",
        "\n",
        "Данные в таблице должны быть отсортированы по возрастанию идентификаторов пользователей, а данные об одном и том же пользователе — по возрастанию даты создания поста."
      ]
    },
    {
      "cell_type": "code",
      "execution_count": null,
      "id": "1a105100",
      "metadata": {
        "id": "1a105100"
      },
      "outputs": [],
      "source": [
        "'''\n",
        "SELECT user_id,\n",
        "       creation_date,\n",
        "       views_count,\n",
        "       SUM(views_count) OVER (PARTITION BY user_id ORDER BY creation_date) AS view_sum\n",
        "FROM stackoverflow.posts\n",
        "ORDER BY user_id, creation_date;\n",
        "'''"
      ]
    },
    {
      "cell_type": "markdown",
      "id": "2ec8fdb0",
      "metadata": {
        "id": "2ec8fdb0"
      },
      "source": [
        "### Задание 5\n",
        "Сколько в среднем дней в период с 1 по 7 декабря 2008 года включительно пользователи взаимодействовали с платформой?\n",
        "\n",
        "Для каждого пользователя отберите дни, в которые он или она опубликовали хотя бы один пост. Нужно получить одно целое число — не забудьте округлить результат."
      ]
    },
    {
      "cell_type": "code",
      "execution_count": null,
      "id": "37b0f227",
      "metadata": {
        "id": "37b0f227"
      },
      "outputs": [],
      "source": [
        "'''\n",
        "WITH a AS\n",
        "(\n",
        "SELECT DISTINCT user_id,\n",
        "       COUNT(DISTINCT creation_date::date) AS day\n",
        "FROM stackoverflow.posts\n",
        "WHERE creation_date::date BETWEEN '2008-12-01' AND '2008-12-07'\n",
        "GROUP BY user_id\n",
        ")\n",
        "SELECT ROUND(AVG(day))\n",
        "FROM a;\n",
        "\n",
        "'''"
      ]
    },
    {
      "cell_type": "markdown",
      "id": "10163198",
      "metadata": {
        "id": "10163198"
      },
      "source": [
        "### Задание 6\n",
        "На сколько процентов менялось количество постов ежемесячно с 1 сентября по 31 декабря 2008 года?\n",
        "Отобразите таблицу со следующими полями:\n",
        "- номер месяца;\n",
        "- количество постов за месяц;\n",
        "- процент, который показывает, насколько изменилось количество постов в текущем месяце по сравнению с предыдущим.\n",
        "\n",
        "Если постов стало меньше, значение процента должно быть отрицательным, если больше — положительным. Округлите значение процента до двух знаков после запятой.\n",
        "\n",
        "\n",
        "Напомним, что при делении одного целого числа на другое в PostgreSQL в результате получится целое число, округлённое до ближайшего целого вниз. Чтобы этого избежать, переведите делимое в тип numeric.\n"
      ]
    },
    {
      "cell_type": "code",
      "execution_count": null,
      "id": "b8048bc6",
      "metadata": {
        "id": "b8048bc6"
      },
      "outputs": [],
      "source": [
        "'''\n",
        "WITH posts_monthly AS\n",
        "(SELECT EXTRACT(MONTH FROM creation_date::DATE) AS month,\n",
        "    COUNT(id) AS cnt\n",
        "FROM stackoverflow.posts\n",
        "WHERE creation_date::date BETWEEN '2008-09-01' AND '2008-12-31'\n",
        "GROUP BY 1)\n",
        "\n",
        "SELECT *,\n",
        "      ROUND((cnt - LAG(cnt, 1) OVER(ORDER BY month)) * 100.0 / LAG(cnt) OVER(ORDER BY MONTH), 2)\n",
        "FROM posts_monthly;\n",
        "'''"
      ]
    },
    {
      "cell_type": "markdown",
      "id": "8e8f16e5",
      "metadata": {
        "id": "8e8f16e5"
      },
      "source": [
        "### Задание 7\n",
        "\n",
        "Выгрузите данные активности пользователя, который опубликовал больше всего постов за всё время. Выведите данные за октябрь 2008 года в таком виде:\n",
        "- номер недели;\n",
        "- дата и время последнего поста, опубликованного на этой неделе."
      ]
    },
    {
      "cell_type": "code",
      "execution_count": null,
      "id": "841d160e",
      "metadata": {
        "id": "841d160e"
      },
      "outputs": [],
      "source": [
        "'''\n",
        "WITH data AS (SELECT user_id,\n",
        "             COUNT(id) AS count\n",
        "             FROM stackoverflow.posts\n",
        "             GROUP BY user_id\n",
        "             ORDER BY count DESC\n",
        "             LIMIT 1)\n",
        "SELECT DISTINCT EXTRACT(WEEK FROM creation_date) AS week,\n",
        "       MAX(creation_date) OVER (ORDER BY EXTRACT (WEEK FROM creation_date) )\n",
        "FROM stackoverflow.posts\n",
        "WHERE user_id IN (SELECT user_id FROM data)\n",
        "AND DATE_TRUNC('day', creation_date) BETWEEN '2008-10-01' AND '2008-10-31';\n",
        "'''"
      ]
    }
  ],
  "metadata": {
    "kernelspec": {
      "display_name": "Python 3 (ipykernel)",
      "language": "python",
      "name": "python3"
    },
    "language_info": {
      "codemirror_mode": {
        "name": "ipython",
        "version": 3
      },
      "file_extension": ".py",
      "mimetype": "text/x-python",
      "name": "python",
      "nbconvert_exporter": "python",
      "pygments_lexer": "ipython3",
      "version": "3.10.4"
    },
    "toc": {
      "base_numbering": 1,
      "nav_menu": {},
      "number_sections": true,
      "sideBar": true,
      "skip_h1_title": true,
      "title_cell": "Table of Contents",
      "title_sidebar": "Contents",
      "toc_cell": true,
      "toc_position": {},
      "toc_section_display": true,
      "toc_window_display": false
    },
    "colab": {
      "provenance": []
    }
  },
  "nbformat": 4,
  "nbformat_minor": 5
}