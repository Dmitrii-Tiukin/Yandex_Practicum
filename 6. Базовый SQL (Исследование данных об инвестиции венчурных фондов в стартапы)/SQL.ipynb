{
  "cells": [
    {
      "cell_type": "markdown",
      "id": "e7dfb797",
      "metadata": {
        "id": "e7dfb797"
      },
      "source": [
        "# Исследование данных об инвестиции венчурных фондов в компании-стартапы\n",
        "\n",
        "## Данные\n",
        "\n",
        "Самостоятельная работа основана на базе данных, которая хранит информацию о венчурных фондах и инвестициях в компании-стартапы, и основана на датасете Startup Investments https://www.kaggle.com/justinas/startup-investments.\n",
        "\n",
        "## Цель\n",
        "\n",
        "Проанализировать данные о фондах и инвестициях, произвести выгрузки данных и ответить на поставленные вопросы с помощью SQL.\n",
        "\n",
        "\n",
        "### Задание 1\n",
        "Посчитайте, сколько компаний закрылось.\n"
      ]
    },
    {
      "cell_type": "code",
      "execution_count": null,
      "id": "b94affd3",
      "metadata": {
        "id": "b94affd3"
      },
      "outputs": [],
      "source": [
        "'''\n",
        "SELECT COUNT(id)\n",
        "FROM company\n",
        "WHERE status = 'closed';\n",
        "'''"
      ]
    },
    {
      "cell_type": "markdown",
      "id": "a8f6be8b",
      "metadata": {
        "id": "a8f6be8b"
      },
      "source": [
        "### Задание 2\n",
        "Отобразите количество привлечённых средств для новостных компаний США.\n",
        "Используйте данные из таблицы company. Отсортируйте таблицу по убыванию значений в поле funding_total.\n",
        "\n"
      ]
    },
    {
      "cell_type": "code",
      "execution_count": null,
      "id": "702093b1",
      "metadata": {
        "id": "702093b1"
      },
      "outputs": [],
      "source": [
        "'''\n",
        "SELECT SUM(funding_total)\n",
        "FROM company\n",
        "WHERE category_code = 'news'\n",
        "      AND country_code = 'USA'\n",
        "GROUP BY id\n",
        "ORDER BY funding_total DESC;\n",
        "'''"
      ]
    },
    {
      "cell_type": "markdown",
      "id": "81e05df1",
      "metadata": {
        "id": "81e05df1"
      },
      "source": [
        "### Задание 3\n",
        "Найдите общую сумму сделок по покупке одних компаний другими в долларах. Отберите сделки, которые осуществлялись только за наличные с 2011 по 2013 год включительно.\n",
        "\n"
      ]
    },
    {
      "cell_type": "code",
      "execution_count": null,
      "id": "0f111021",
      "metadata": {
        "id": "0f111021"
      },
      "outputs": [],
      "source": [
        "'''\n",
        "SELECT SUM(price_amount)\n",
        "FROM acquisition\n",
        "WHERE term_code = 'cash'\n",
        "      AND CAST(acquired_at AS date) BETWEEN '2011-01-01' AND '2013-12-31';\n",
        "'''"
      ]
    },
    {
      "cell_type": "markdown",
      "id": "cf0bd78d",
      "metadata": {
        "id": "cf0bd78d"
      },
      "source": [
        "### Задание 4\n",
        "Отобразите имя, фамилию и названия аккаунтов людей в твиттере, у которых названия аккаунтов начинаются на 'Silver'.\n",
        "\n"
      ]
    },
    {
      "cell_type": "code",
      "execution_count": null,
      "id": "a16e6be9",
      "metadata": {
        "id": "a16e6be9"
      },
      "outputs": [],
      "source": [
        "'''\n",
        "SELECT first_name,\n",
        "       last_name,\n",
        "       twitter_username\n",
        "FROM people\n",
        "WHERE twitter_username LIKE 'Silver%';\n",
        "'''"
      ]
    },
    {
      "cell_type": "markdown",
      "id": "d8b64c72",
      "metadata": {
        "id": "d8b64c72"
      },
      "source": [
        "### Задание 5\n",
        "Выведите на экран всю информацию о людях, у которых названия аккаунтов в твиттере содержат подстроку 'money', а фамилия начинается на 'K'\n",
        "\n"
      ]
    },
    {
      "cell_type": "code",
      "execution_count": null,
      "id": "7d7ab6da",
      "metadata": {
        "id": "7d7ab6da"
      },
      "outputs": [],
      "source": [
        "'''\n",
        "SELECT *\n",
        "FROM people\n",
        "WHERE twitter_username LIKE '%money%'\n",
        "      AND last_name LIKE 'K%';\n",
        "'''"
      ]
    },
    {
      "cell_type": "markdown",
      "id": "098bd9bc",
      "metadata": {
        "id": "098bd9bc"
      },
      "source": [
        "### Задание 6\n",
        "Для каждой страны отобразите общую сумму привлечённых инвестиций, которые получили компании, зарегистрированные в этой стране. Страну, в которой зарегистрирована компания, можно определить по коду страны. Отсортируйте данные по убыванию суммы.\n",
        "\n"
      ]
    },
    {
      "cell_type": "code",
      "execution_count": null,
      "id": "68cc6d9d",
      "metadata": {
        "id": "68cc6d9d"
      },
      "outputs": [],
      "source": [
        "'''\n",
        "SELECT country_code,\n",
        "       SUM(funding_total)\n",
        "FROM company\n",
        "GROUP BY country_code\n",
        "ORDER BY SUM(funding_total) DESC;\n",
        "'''"
      ]
    },
    {
      "cell_type": "markdown",
      "id": "2bc03b24",
      "metadata": {
        "id": "2bc03b24"
      },
      "source": [
        "### Задание 7\n",
        "Составьте таблицу, в которую войдёт дата проведения раунда, а также минимальное и максимальное значения суммы инвестиций, привлечённых в эту дату. Оставьте в итоговой таблице только те записи, в которых минимальное значение суммы инвестиций не равно нулю и не равно максимальному значению.\n"
      ]
    },
    {
      "cell_type": "code",
      "execution_count": null,
      "id": "cc9a8a1c",
      "metadata": {
        "id": "cc9a8a1c"
      },
      "outputs": [],
      "source": [
        "'''\n",
        "SELECT funded_at,\n",
        "       MIN(raised_amount),\n",
        "       MAX(raised_amount)\n",
        "FROM funding_round\n",
        "GROUP BY funded_at\n",
        "HAVING MIN(raised_amount) <> 0\n",
        "      AND MIN(raised_amount) <> MAX(raised_amount);\n",
        "'''"
      ]
    },
    {
      "cell_type": "markdown",
      "id": "3790cb78",
      "metadata": {
        "id": "3790cb78"
      },
      "source": [
        "### Задание 8\n",
        "Создайте поле с категориями:\n",
        "\n",
        "Для фондов, которые инвестируют в 100 и более компаний, назначьте категорию high_activity.\n",
        "\n",
        "Для фондов, которые инвестируют в 20 и более компаний до 100, назначьте категорию middle_activity.\n",
        "\n",
        "Если количество инвестируемых компаний фонда не достигает 20, назначьте категорию low_activity.\n",
        "\n",
        "Отобразите все поля таблицы fund и новое поле с категориями.\n"
      ]
    },
    {
      "cell_type": "code",
      "execution_count": null,
      "id": "2e2cd852",
      "metadata": {
        "id": "2e2cd852"
      },
      "outputs": [],
      "source": [
        "'''\n",
        "SELECT *,\n",
        "       CASE\n",
        "           WHEN invested_companies >= 100 THEN 'high_activity'\n",
        "           WHEN invested_companies >= 20 AND invested_companies < 100 THEN 'middle_activity'\n",
        "           WHEN invested_companies < 20 THEN 'low_activity'\n",
        "       END\n",
        "FROM fund;\n",
        "'''"
      ]
    },
    {
      "cell_type": "markdown",
      "id": "b0d85ee6",
      "metadata": {
        "id": "b0d85ee6"
      },
      "source": [
        "### Задание 9\n",
        "Для каждой из категорий, назначенных в предыдущем задании, посчитайте округлённое до ближайшего целого числа среднее количество инвестиционных раундов, в которых фонд принимал участие. Выведите на экран категории и среднее число инвестиционных раундов. Отсортируйте таблицу по возрастанию среднего."
      ]
    },
    {
      "cell_type": "code",
      "execution_count": null,
      "id": "51df210a",
      "metadata": {
        "id": "51df210a"
      },
      "outputs": [],
      "source": [
        "'''\n",
        "SELECT ROUND(AVG(investment_rounds)),\n",
        "       CASE\n",
        "           WHEN invested_companies>=100 THEN 'high_activity'\n",
        "           WHEN invested_companies>=20 THEN 'middle_activity'\n",
        "           ELSE 'low_activity'\n",
        "       END AS activity\n",
        "FROM fund\n",
        "GROUP BY activity\n",
        "ORDER BY ROUND(AVG(investment_rounds));\n",
        "'''"
      ]
    },
    {
      "cell_type": "markdown",
      "id": "be802a48",
      "metadata": {
        "id": "be802a48"
      },
      "source": [
        "### Задание 10\n",
        "\n",
        "Проанализируйте, в каких странах находятся фонды, которые чаще всего инвестируют в стартапы.\n",
        "Для каждой страны посчитайте минимальное, максимальное и среднее число компаний, в которые инвестировали фонды этой страны, основанные с 2010 по 2012 год включительно. Исключите страны с фондами, у которых минимальное число компаний, получивших инвестиции, равно нулю.\n",
        "Выгрузите десять самых активных стран-инвесторов: отсортируйте таблицу по среднему количеству компаний от большего к меньшему. Затем добавьте сортировку по коду страны в лексикографическом порядке.\n"
      ]
    },
    {
      "cell_type": "code",
      "execution_count": null,
      "id": "f18c3b97",
      "metadata": {
        "id": "f18c3b97"
      },
      "outputs": [],
      "source": [
        "'''\n",
        "SELECT country_code,\n",
        "       MIN(invested_companies),\n",
        "       MAX(invested_companies),\n",
        "       AVG(invested_companies)\n",
        "FROM fund\n",
        "WHERE CAST(founded_at AS date) BETWEEN '2010-01-01' AND '2012-12-31'\n",
        "GROUP BY country_code\n",
        "HAVING MIN(invested_companies) <> 0\n",
        "ORDER BY AVG(invested_companies) DESC, country_code\n",
        "LIMIT 10;\n",
        "'''"
      ]
    },
    {
      "cell_type": "markdown",
      "id": "b60727c0",
      "metadata": {
        "id": "b60727c0"
      },
      "source": [
        "### Задание 11\n",
        "Отобразите имя и фамилию всех сотрудников стартапов. Добавьте поле с названием учебного заведения, которое окончил сотрудник, если эта информация известна.\n",
        "\n"
      ]
    },
    {
      "cell_type": "code",
      "execution_count": null,
      "id": "ae6ceb83",
      "metadata": {
        "id": "ae6ceb83"
      },
      "outputs": [],
      "source": [
        "'''\n",
        "SELECT p.first_name,\n",
        "       p.last_name,\n",
        "       e.instituition\n",
        "FROM people AS p\n",
        "LEFT JOIN education AS e ON p.id = e.person_id;\n",
        "'''"
      ]
    },
    {
      "cell_type": "markdown",
      "id": "6c35823a",
      "metadata": {
        "id": "6c35823a"
      },
      "source": [
        "### Задание 12\n",
        "Для каждой компании найдите количество учебных заведений, которые окончили её сотрудники. Выведите название компании и число уникальных названий учебных заведений. Составьте топ-5 компаний по количеству университетов.\n",
        "\n"
      ]
    },
    {
      "cell_type": "code",
      "execution_count": null,
      "id": "0393d279",
      "metadata": {
        "id": "0393d279"
      },
      "outputs": [],
      "source": [
        "'''\n",
        "SELECT c.name,\n",
        "       COUNT(DISTINCT e.instituition)\n",
        "FROM company AS c\n",
        "JOIN people AS p ON c.id = p.company_id\n",
        "JOIN education AS e ON p.id = e.person_id\n",
        "GROUP BY c.name\n",
        "ORDER BY COUNT(DISTINCT e.instituition) DESC\n",
        "LIMIT 5;\n",
        "'''"
      ]
    },
    {
      "cell_type": "markdown",
      "id": "7f24772a",
      "metadata": {
        "id": "7f24772a"
      },
      "source": [
        "### Задание 13\n",
        "Составьте список с уникальными названиями закрытых компаний, для которых первый раунд финансирования оказался последним.\n",
        "\n"
      ]
    },
    {
      "cell_type": "code",
      "execution_count": null,
      "id": "ffa11404",
      "metadata": {
        "id": "ffa11404"
      },
      "outputs": [],
      "source": [
        "'''\n",
        "SELECT DISTINCT c.name\n",
        "FROM company AS c\n",
        "JOIN funding_round AS f ON c.id = f.company_id\n",
        "WHERE c.status = 'closed'\n",
        "      AND f.is_first_round = 1\n",
        "      AND f.is_last_round = 1;\n",
        "'''\n",
        "\n"
      ]
    },
    {
      "cell_type": "markdown",
      "id": "4f6b6ae1",
      "metadata": {
        "id": "4f6b6ae1"
      },
      "source": [
        "### Задание 14\n",
        "Составьте список уникальных номеров сотрудников, которые работают в компаниях, отобранных в предыдущем задании.\n",
        "\n"
      ]
    },
    {
      "cell_type": "code",
      "execution_count": null,
      "id": "28436dac",
      "metadata": {
        "id": "28436dac"
      },
      "outputs": [],
      "source": [
        "'''\n",
        "SELECT DISTINCT p.id\n",
        "FROM people AS p\n",
        "WHERE p.company_id IN\n",
        "(SELECT DISTINCT c.id\n",
        "FROM company AS c\n",
        "JOIN funding_round AS f ON c.id = f.company_id\n",
        "WHERE c.status = 'closed'\n",
        "      AND f.is_first_round = 1\n",
        "      AND f.is_last_round = 1);\n",
        "'''"
      ]
    },
    {
      "cell_type": "markdown",
      "id": "7e9f5525",
      "metadata": {
        "id": "7e9f5525"
      },
      "source": [
        "### Задание 15\n",
        "Составьте таблицу, куда войдут уникальные пары с номерами сотрудников из предыдущей задачи и учебным заведением, которое окончил сотрудник.\n",
        "\n"
      ]
    },
    {
      "cell_type": "code",
      "execution_count": null,
      "id": "0e9e7d79",
      "metadata": {
        "id": "0e9e7d79"
      },
      "outputs": [],
      "source": [
        "'''\n",
        "SELECT DISTINCT p.id,\n",
        "       e.instituition\n",
        "FROM education AS e\n",
        "JOIN people AS p ON e.person_id = p.id\n",
        "WHERE e.person_id IN\n",
        "(SELECT DISTINCT p.id\n",
        "FROM people AS p\n",
        "WHERE p.company_id IN\n",
        "(SELECT DISTINCT c.id\n",
        "FROM company AS c\n",
        "JOIN funding_round AS f ON c.id = f.company_id\n",
        "WHERE c.status = 'closed'\n",
        "      AND f.is_first_round = 1\n",
        "      AND f.is_last_round = 1));\n",
        "'''"
      ]
    },
    {
      "cell_type": "markdown",
      "id": "271ce2e8",
      "metadata": {
        "id": "271ce2e8"
      },
      "source": [
        "### Задание 16\n",
        "Посчитайте количество учебных заведений для каждого сотрудника из предыдущего задания. При подсчёте учитывайте, что некоторые сотрудники могли окончить одно и то же заведение дважды.\n",
        "\n"
      ]
    },
    {
      "cell_type": "code",
      "execution_count": null,
      "id": "119fd9fc",
      "metadata": {
        "id": "119fd9fc"
      },
      "outputs": [],
      "source": [
        "'''\n",
        "SELECT p.id,\n",
        "       COUNT(e.instituition)\n",
        "FROM education AS e\n",
        "JOIN people AS p ON e.person_id = p.id\n",
        "WHERE e.person_id IN\n",
        "(SELECT DISTINCT p.id\n",
        "FROM people AS p\n",
        "WHERE p.company_id IN\n",
        "(SELECT DISTINCT c.id\n",
        "FROM company AS c\n",
        "JOIN funding_round AS f ON c.id = f.company_id\n",
        "WHERE c.status = 'closed'\n",
        "      AND f.is_first_round = 1\n",
        "      AND f.is_last_round = 1))\n",
        "GROUP BY p.id;\n",
        "'''"
      ]
    },
    {
      "cell_type": "markdown",
      "id": "27c99c65",
      "metadata": {
        "id": "27c99c65"
      },
      "source": [
        "### Задание 17\n",
        "\n",
        "Дополните предыдущий запрос и выведите среднее число учебных заведений (всех, не только уникальных), которые окончили сотрудники разных компаний. Нужно вывести только одну запись, группировка здесь не понадобится.\n",
        "\n"
      ]
    },
    {
      "cell_type": "code",
      "execution_count": null,
      "id": "1a105100",
      "metadata": {
        "id": "1a105100"
      },
      "outputs": [],
      "source": [
        "'''\n",
        "WITH\n",
        "avg_1 AS\n",
        "(SELECT p.id,\n",
        "       COUNT(e.instituition)\n",
        "FROM education AS e\n",
        "JOIN people AS p ON e.person_id = p.id\n",
        "WHERE e.person_id IN\n",
        "(SELECT DISTINCT p.id\n",
        "FROM people AS p\n",
        "WHERE p.company_id IN\n",
        "(SELECT DISTINCT c.id\n",
        "FROM company AS c\n",
        "JOIN funding_round AS f ON c.id = f.company_id\n",
        "WHERE c.status = 'closed'\n",
        "      AND f.is_first_round = 1\n",
        "      AND f.is_last_round = 1))\n",
        "GROUP BY p.id)\n",
        "SELECT AVG(COUNT)\n",
        "FROM avg_1;\n",
        "'''"
      ]
    },
    {
      "cell_type": "markdown",
      "id": "2ec8fdb0",
      "metadata": {
        "id": "2ec8fdb0"
      },
      "source": [
        "### Задание 18\n",
        "Напишите похожий запрос: выведите среднее число учебных заведений (всех, не только уникальных), которые окончили сотрудники Facebook*.\n",
        "*(сервис, запрещённый на территории РФ)\n",
        "\n"
      ]
    },
    {
      "cell_type": "code",
      "execution_count": null,
      "id": "37b0f227",
      "metadata": {
        "id": "37b0f227"
      },
      "outputs": [],
      "source": [
        "'''\n",
        "WITH\n",
        "avg_2 AS\n",
        "(SELECT p.id,\n",
        "       COUNT(e.instituition)\n",
        "FROM education AS e\n",
        "JOIN people AS p ON e.person_id = p.id\n",
        "WHERE e.person_id IN\n",
        "(SELECT DISTINCT p.id\n",
        "FROM people AS p\n",
        "WHERE p.company_id IN\n",
        "(SELECT DISTINCT c.id\n",
        "FROM company AS c\n",
        "JOIN funding_round AS fr ON c.id = fr.company_id\n",
        "WHERE c.name = 'Facebook'))\n",
        "GROUP BY p.id)\n",
        "SELECT AVG(COUNT)\n",
        "FROM avg_2;\n",
        "'''\n",
        "\n"
      ]
    },
    {
      "cell_type": "markdown",
      "id": "10163198",
      "metadata": {
        "id": "10163198"
      },
      "source": [
        "### Задание 19\n",
        "Составьте таблицу из полей:\n",
        "- name_of_fund — название фонда;\n",
        "- name_of_company — название компании;\n",
        "- amount — сумма инвестиций, которую привлекла компания в раунде.\n",
        "\n",
        "В таблицу войдут данные о компаниях, в истории которых было больше шести важных этапов, а раунды финансирования проходили с 2012 по 2013 год включительно.\n",
        "\n"
      ]
    },
    {
      "cell_type": "code",
      "execution_count": null,
      "id": "b8048bc6",
      "metadata": {
        "id": "b8048bc6"
      },
      "outputs": [],
      "source": [
        "'''\n",
        "SELECT f.name AS name_of_fund,\n",
        "       c.name AS name_of_company,\n",
        "       fr.raised_amount AS amount\n",
        "FROM company AS c\n",
        "JOIN funding_round AS fr ON c.id = fr.company_id\n",
        "JOIN investment AS i ON fr.id = i.funding_round_id\n",
        "JOIN fund AS f ON i.fund_id = f.id\n",
        "WHERE c.milestones > 6\n",
        "      AND CAST(fr.funded_at AS date) BETWEEN '2012.01.01' AND '2013.12.31';\n",
        "'''"
      ]
    },
    {
      "cell_type": "markdown",
      "id": "8e8f16e5",
      "metadata": {
        "id": "8e8f16e5"
      },
      "source": [
        "### Задание 20\n",
        "\n",
        "Выгрузите таблицу, в которой будут такие поля:\n",
        "- название компании-покупателя;\n",
        "- сумма сделки;\n",
        "- название компании, которую купили;\n",
        "- сумма инвестиций, вложенных в купленную компанию;\n",
        "- доля, которая отображает, во сколько раз сумма покупки превысила сумму вложенных в компанию инвестиций, округлённая до ближайшего целого числа.\n",
        "\n",
        "Не учитывайте те сделки, в которых сумма покупки равна нулю. Если сумма инвестиций в компанию равна нулю, исключите такую компанию из таблицы.\n",
        "\n",
        "Отсортируйте таблицу по сумме сделки от большей к меньшей, а затем по названию купленной компании в лексикографическом порядке. Ограничьте таблицу первыми десятью записями.\n",
        "\n"
      ]
    },
    {
      "cell_type": "code",
      "execution_count": null,
      "id": "36fb1826",
      "metadata": {
        "id": "36fb1826"
      },
      "outputs": [],
      "source": [
        "'''\n",
        "SELECT c1.name AS buyer,\n",
        "       a.price_amount AS price,\n",
        "       c2.name AS seller,\n",
        "       c2.funding_total AS funding,\n",
        "       ROUND(a.price_amount/c2.funding_total) AS proportion\n",
        "FROM acquisition AS a\n",
        "INNER JOIN company AS c1 ON a.acquiring_company_id = c1.id\n",
        "INNER JOIN company AS c2 ON a.acquired_company_id = c2.id\n",
        "WHERE a.price_amount != 0 AND c2.funding_total != 0\n",
        "ORDER BY price DESC, seller\n",
        "LIMIT 10;\n",
        "'''"
      ]
    },
    {
      "cell_type": "markdown",
      "id": "89f5db99",
      "metadata": {
        "id": "89f5db99"
      },
      "source": [
        "### Задание 21\n",
        "\n",
        "Выгрузите таблицу, в которую войдут названия компаний из категории social, получившие финансирование с 2010 по 2013 год включительно. Проверьте, что сумма инвестиций не равна нулю. Выведите также номер месяца, в котором проходил раунд финансирования.\n",
        "\n"
      ]
    },
    {
      "cell_type": "code",
      "execution_count": null,
      "id": "27bbd226",
      "metadata": {
        "id": "27bbd226"
      },
      "outputs": [],
      "source": [
        "'''\n",
        "SELECT c.name,\n",
        "       EXTRACT(MONTH FROM CAST(fr.funded_at AS date))\n",
        "FROM company AS c\n",
        "JOIN funding_round AS fr ON c.id = fr.company_id\n",
        "WHERE c.category_code = 'social'\n",
        "      AND CAST(fr.funded_at AS date) BETWEEN '2010-01-01' AND '2013-12-31'\n",
        "      AND fr.raised_amount <> 0;\n",
        "'''"
      ]
    },
    {
      "cell_type": "markdown",
      "id": "7d35b679",
      "metadata": {
        "id": "7d35b679"
      },
      "source": [
        "### Задание 22\n",
        "Отберите данные по месяцам с 2010 по 2013 год, когда проходили инвестиционные раунды. Сгруппируйте данные по номеру месяца и получите таблицу, в которой будут поля:\n",
        "- номер месяца, в котором проходили раунды;\n",
        "- количество уникальных названий фондов из США, которые инвестировали в этом месяце;\n",
        "- количество компаний, купленных за этот месяц;\n",
        "- общая сумма сделок по покупкам в этом месяце.\n"
      ]
    },
    {
      "cell_type": "code",
      "execution_count": null,
      "id": "1b7f79e4",
      "metadata": {
        "id": "1b7f79e4"
      },
      "outputs": [],
      "source": [
        "'''\n",
        "WITH\n",
        "fundings AS\n",
        "(SELECT EXTRACT(MONTH FROM CAST(fr.funded_at AS DATE)) AS funding_month,\n",
        "COUNT(DISTINCT f.id) AS us_funds\n",
        "FROM fund AS f\n",
        "LEFT JOIN investment AS i ON f.id = i.fund_id\n",
        "LEFT JOIN funding_round AS fr ON i.funding_round_id = fr.id\n",
        "WHERE f.country_code = 'USA'\n",
        "AND EXTRACT(YEAR FROM CAST(fr.funded_at AS DATE)) BETWEEN 2010 AND 2013\n",
        "GROUP BY funding_month),\n",
        "acquisitions AS\n",
        "(SELECT EXTRACT(MONTH FROM CAST(acquired_at AS DATE)) AS funding_month,\n",
        "COUNT(acquired_company_id) AS bought_co,\n",
        "SUM(price_amount) AS sum_total\n",
        "FROM acquisition\n",
        "WHERE EXTRACT(YEAR FROM CAST(acquired_at AS DATE)) BETWEEN 2010 AND 2013\n",
        "GROUP BY funding_month)\n",
        "SELECT fnd.funding_month, fnd.us_funds, acq.bought_co, acq.sum_total\n",
        "FROM fundings AS fnd\n",
        "LEFT JOIN acquisitions AS acq ON fnd.funding_month = acq.funding_month;\n",
        "\n",
        "'''"
      ]
    },
    {
      "cell_type": "markdown",
      "id": "d925cd03",
      "metadata": {
        "id": "d925cd03"
      },
      "source": [
        "### Задание 23\n",
        "Составьте сводную таблицу и выведите среднюю сумму инвестиций для стран, в которых есть стартапы, зарегистрированные в 2011, 2012 и 2013 годах. Данные за каждый год должны быть в отдельном поле. Отсортируйте таблицу по среднему значению инвестиций за 2011 год от большего к меньшему.\n"
      ]
    },
    {
      "cell_type": "code",
      "execution_count": null,
      "id": "d9dac583",
      "metadata": {
        "id": "d9dac583"
      },
      "outputs": [],
      "source": [
        "\n",
        "'''\n",
        "WITH y_11 AS\n",
        "(SELECT country_code AS country,\n",
        "AVG(funding_total) AS y_2011\n",
        "FROM company\n",
        "WHERE EXTRACT(YEAR FROM founded_at::DATE) IN(2011, 2012, 2013)\n",
        "GROUP BY country, EXTRACT(YEAR FROM founded_at)\n",
        "HAVING EXTRACT(YEAR FROM founded_at) = '2011'),\n",
        "y_12 AS\n",
        "(SELECT country_code AS country,\n",
        "AVG(funding_total) AS y_2012\n",
        "FROM company\n",
        "WHERE EXTRACT(YEAR FROM founded_at::DATE) IN(2011, 2012, 2013)\n",
        "GROUP BY country, EXTRACT(YEAR FROM founded_at)\n",
        "HAVING EXTRACT(YEAR FROM founded_at) = '2012'),\n",
        "y_13 AS\n",
        "(SELECT country_code AS country,\n",
        "AVG(funding_total) AS y_2013\n",
        "FROM company\n",
        "WHERE EXTRACT(YEAR FROM founded_at::DATE) IN(2011, 2012, 2013)\n",
        "GROUP BY country, EXTRACT(YEAR FROM founded_at)\n",
        "HAVING EXTRACT(YEAR FROM founded_at) = '2013')\n",
        "SELECT y_11.country, y_2011, y_2012, y_2013\n",
        "FROM y_11\n",
        "JOIN y_12 ON y_11.country = y_12.country\n",
        "JOIN y_13 ON y_12.country = y_13.country\n",
        "ORDER BY y_2011 DESC;\n",
        "'''"
      ]
    }
  ],
  "metadata": {
    "kernelspec": {
      "display_name": "Python 3 (ipykernel)",
      "language": "python",
      "name": "python3"
    },
    "language_info": {
      "codemirror_mode": {
        "name": "ipython",
        "version": 3
      },
      "file_extension": ".py",
      "mimetype": "text/x-python",
      "name": "python",
      "nbconvert_exporter": "python",
      "pygments_lexer": "ipython3",
      "version": "3.10.4"
    },
    "toc": {
      "base_numbering": 1,
      "nav_menu": {},
      "number_sections": true,
      "sideBar": true,
      "skip_h1_title": true,
      "title_cell": "Table of Contents",
      "title_sidebar": "Contents",
      "toc_cell": true,
      "toc_position": {},
      "toc_section_display": true,
      "toc_window_display": false
    },
    "colab": {
      "provenance": []
    }
  },
  "nbformat": 4,
  "nbformat_minor": 5
}