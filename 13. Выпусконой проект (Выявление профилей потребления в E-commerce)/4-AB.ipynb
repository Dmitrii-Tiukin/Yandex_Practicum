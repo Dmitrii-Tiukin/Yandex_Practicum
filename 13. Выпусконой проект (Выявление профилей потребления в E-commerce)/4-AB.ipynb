{
 "cells": [
  {
   "cell_type": "markdown",
   "metadata": {},
   "source": [
    "# A/B-тестирование"
   ]
  },
  {
   "cell_type": "markdown",
   "metadata": {},
   "source": [
    "# Цели исследования:"
   ]
  },
  {
   "cell_type": "markdown",
   "metadata": {},
   "source": [
    "Задача — провести оценку результатов A/B-теста новой рекомендательной системы товаров для пользователей. Мне предстоит оценить изменились ли продажи после внедрения изменений или нет.\n",
    "\n",
    "Ожидаемый эффект: за 14 дней с момента регистрации пользователи покажут улучшение каждой метрики не менее, чем на 10%:\n",
    "* конверсии в просмотр карточек товаров — событие product_page;\n",
    "* просмотры корзины — product_cart;\n",
    "* покупки — purchase;\n",
    "\n",
    "В моем распоряжении есть датасет с действиями пользователей, техническое задание и несколько вспомогательных датасетов.\n",
    "\n",
    "Нужно оценить корректность проведения теста и проанализировать его результаты.\n",
    "\n",
    "Чтобы оценить корректность проведения теста:\n",
    "* нужно удостовериться, что нет пересечений с конкурирующим тестом и нет пользователей, участвующих в двух группах теста одновременно;\n",
    "* нужно проверить равномерность распределения пользователей по тестовым группам и правильность их формирования."
   ]
  },
  {
   "cell_type": "markdown",
   "metadata": {},
   "source": [
    "# Техническое задание"
   ]
  },
  {
   "cell_type": "markdown",
   "metadata": {},
   "source": [
    "* Название теста: recommender_system_test;\n",
    "* группы: А — контрольная, B — новая платёжная воронка;\n",
    "* дата запуска: 2020-12-07;\n",
    "* дата остановки набора новых пользователей: 2020-12-21;\n",
    "* дата остановки: 2021-01-04;\n",
    "* аудитория: в тест должно быть отобрано 15% новых пользователей из региона EU;\n",
    "* назначение теста: тестирование изменений, связанных с внедрением улучшенной рекомендательной системы;\n",
    "* ожидаемое количество участников теста: 6000."
   ]
  },
  {
   "cell_type": "markdown",
   "metadata": {},
   "source": [
    "# Описание данных"
   ]
  },
  {
   "cell_type": "markdown",
   "metadata": {},
   "source": [
    "ab_project_marketing_events.csv — календарь маркетинговых событий на 2020 год.\n",
    "\n",
    "Структура файла:\n",
    "* name — название маркетингового события;\n",
    "* regions — регионы, в которых будет проводиться рекламная кампания;\n",
    "* start_dt — дата начала кампании;\n",
    "* finish_dt — дата завершения кампании.\n",
    "\n",
    "final_ab_new_users.csv — пользователи, зарегистрировавшиеся с 7 до 21 декабря 2020 года.\n",
    "\n",
    "Структура файла:\n",
    "* user_id — идентификатор пользователя;\n",
    "* first_date — дата регистрации;\n",
    "* region — регион пользователя;\n",
    "* device — устройство, с которого происходила регистрация.\n",
    "\n",
    "final_ab_events.csv — действия новых пользователей в период с 7 декабря 2020 по 4 января 2021 года.\n",
    "\n",
    "Структура файла:\n",
    "* user_id — идентификатор пользователя;\n",
    "* event_dt — дата и время события;\n",
    "* event_name — тип события;\n",
    "* details — дополнительные данные о событии. Например, для покупок, purchase, в этом поле хранится стоимость покупки в долларах.\n",
    "\n",
    "final_ab_participants.csv — таблица участников тестов.\n",
    "\n",
    "Структура файла:\n",
    "* user_id — идентификатор пользователя;\n",
    "* ab_test — название теста;\n",
    "* group — группа пользователя."
   ]
  },
  {
   "cell_type": "markdown",
   "metadata": {},
   "source": [
    "# Шаг 1. Загрузка и первичный анализ данных"
   ]
  },
  {
   "cell_type": "code",
   "execution_count": 1,
   "metadata": {},
   "outputs": [
    {
     "name": "stdout",
     "output_type": "stream",
     "text": [
      "Collecting kaleido\n",
      "  Downloading kaleido-0.2.1-py2.py3-none-manylinux1_x86_64.whl (79.9 MB)\n",
      "\u001b[K     |████████████████████████████████| 79.9 MB 71 kB/s s eta 0:00:01\n",
      "\u001b[?25hInstalling collected packages: kaleido\n",
      "Successfully installed kaleido-0.2.1\n",
      "Note: you may need to restart the kernel to use updated packages.\n"
     ]
    }
   ],
   "source": [
    "pip install -U kaleido"
   ]
  },
  {
   "cell_type": "code",
   "execution_count": 2,
   "metadata": {},
   "outputs": [],
   "source": [
    "# Загрузим необходимые для работы библиотеки\n",
    "\n",
    "import numpy as np\n",
    "import pandas as pd\n",
    "import matplotlib.pyplot as plt\n",
    "import seaborn as sns\n",
    "sns.set()\n",
    "import plotly.graph_objects as go\n",
    "import plotly.express as px\n",
    "import math as mth\n",
    "from scipy import stats as st\n",
    "import warnings\n",
    "warnings.filterwarnings('ignore')\n",
    "from statsmodels.stats.weightstats import ztest as ztest"
   ]
  },
  {
   "cell_type": "code",
   "execution_count": 3,
   "metadata": {},
   "outputs": [],
   "source": [
    "# Загрузим датасеты\n",
    "\n",
    "try:\n",
    "    final_ab_events = pd.read_csv('https://code.s3.yandex.net/datasets/final_ab_events.csv')\n",
    "    ab_project_marketing_events = pd.read_csv('https://code.s3.yandex.net/datasets/ab_project_marketing_events.csv')\n",
    "    final_ab_new_users = pd.read_csv('https://code.s3.yandex.net/datasets/final_ab_new_users.csv')\n",
    "    final_ab_participants = pd.read_csv('https://code.s3.yandex.net/datasets/final_ab_participants.csv')\n",
    "except:\n",
    "    final_ab_events = pd.read_csv('final_ab_events.csv')\n",
    "    ab_project_marketing_events = pd.read_csv('final_ab_marketing_events.csv')\n",
    "    final_ab_new_users = pd.read_csv('final_ab_new_users.csv')\n",
    "    final_ab_participants = pd.read_csv('final_ab_participants.csv')"
   ]
  },
  {
   "cell_type": "markdown",
   "metadata": {},
   "source": [
    "Проведем первичный анализ данных по каждому из датасетов:"
   ]
  },
  {
   "cell_type": "code",
   "execution_count": 4,
   "metadata": {},
   "outputs": [
    {
     "data": {
      "text/html": [
       "<div>\n",
       "<style scoped>\n",
       "    .dataframe tbody tr th:only-of-type {\n",
       "        vertical-align: middle;\n",
       "    }\n",
       "\n",
       "    .dataframe tbody tr th {\n",
       "        vertical-align: top;\n",
       "    }\n",
       "\n",
       "    .dataframe thead th {\n",
       "        text-align: right;\n",
       "    }\n",
       "</style>\n",
       "<table border=\"1\" class=\"dataframe\">\n",
       "  <thead>\n",
       "    <tr style=\"text-align: right;\">\n",
       "      <th></th>\n",
       "      <th>user_id</th>\n",
       "      <th>event_dt</th>\n",
       "      <th>event_name</th>\n",
       "      <th>details</th>\n",
       "    </tr>\n",
       "  </thead>\n",
       "  <tbody>\n",
       "    <tr>\n",
       "      <th>0</th>\n",
       "      <td>E1BDDCE0DAFA2679</td>\n",
       "      <td>2020-12-07 20:22:03</td>\n",
       "      <td>purchase</td>\n",
       "      <td>99.99</td>\n",
       "    </tr>\n",
       "    <tr>\n",
       "      <th>1</th>\n",
       "      <td>7B6452F081F49504</td>\n",
       "      <td>2020-12-07 09:22:53</td>\n",
       "      <td>purchase</td>\n",
       "      <td>9.99</td>\n",
       "    </tr>\n",
       "    <tr>\n",
       "      <th>2</th>\n",
       "      <td>9CD9F34546DF254C</td>\n",
       "      <td>2020-12-07 12:59:29</td>\n",
       "      <td>purchase</td>\n",
       "      <td>4.99</td>\n",
       "    </tr>\n",
       "    <tr>\n",
       "      <th>3</th>\n",
       "      <td>96F27A054B191457</td>\n",
       "      <td>2020-12-07 04:02:40</td>\n",
       "      <td>purchase</td>\n",
       "      <td>4.99</td>\n",
       "    </tr>\n",
       "    <tr>\n",
       "      <th>4</th>\n",
       "      <td>1FD7660FDF94CA1F</td>\n",
       "      <td>2020-12-07 10:15:09</td>\n",
       "      <td>purchase</td>\n",
       "      <td>4.99</td>\n",
       "    </tr>\n",
       "  </tbody>\n",
       "</table>\n",
       "</div>"
      ],
      "text/plain": [
       "            user_id             event_dt event_name  details\n",
       "0  E1BDDCE0DAFA2679  2020-12-07 20:22:03   purchase    99.99\n",
       "1  7B6452F081F49504  2020-12-07 09:22:53   purchase     9.99\n",
       "2  9CD9F34546DF254C  2020-12-07 12:59:29   purchase     4.99\n",
       "3  96F27A054B191457  2020-12-07 04:02:40   purchase     4.99\n",
       "4  1FD7660FDF94CA1F  2020-12-07 10:15:09   purchase     4.99"
      ]
     },
     "execution_count": 4,
     "metadata": {},
     "output_type": "execute_result"
    }
   ],
   "source": [
    "final_ab_events.head()"
   ]
  },
  {
   "cell_type": "code",
   "execution_count": 5,
   "metadata": {},
   "outputs": [
    {
     "data": {
      "text/html": [
       "<div>\n",
       "<style scoped>\n",
       "    .dataframe tbody tr th:only-of-type {\n",
       "        vertical-align: middle;\n",
       "    }\n",
       "\n",
       "    .dataframe tbody tr th {\n",
       "        vertical-align: top;\n",
       "    }\n",
       "\n",
       "    .dataframe thead th {\n",
       "        text-align: right;\n",
       "    }\n",
       "</style>\n",
       "<table border=\"1\" class=\"dataframe\">\n",
       "  <thead>\n",
       "    <tr style=\"text-align: right;\">\n",
       "      <th></th>\n",
       "      <th>name</th>\n",
       "      <th>regions</th>\n",
       "      <th>start_dt</th>\n",
       "      <th>finish_dt</th>\n",
       "    </tr>\n",
       "  </thead>\n",
       "  <tbody>\n",
       "    <tr>\n",
       "      <th>0</th>\n",
       "      <td>Christmas&amp;New Year Promo</td>\n",
       "      <td>EU, N.America</td>\n",
       "      <td>2020-12-25</td>\n",
       "      <td>2021-01-03</td>\n",
       "    </tr>\n",
       "    <tr>\n",
       "      <th>1</th>\n",
       "      <td>St. Valentine's Day Giveaway</td>\n",
       "      <td>EU, CIS, APAC, N.America</td>\n",
       "      <td>2020-02-14</td>\n",
       "      <td>2020-02-16</td>\n",
       "    </tr>\n",
       "    <tr>\n",
       "      <th>2</th>\n",
       "      <td>St. Patric's Day Promo</td>\n",
       "      <td>EU, N.America</td>\n",
       "      <td>2020-03-17</td>\n",
       "      <td>2020-03-19</td>\n",
       "    </tr>\n",
       "    <tr>\n",
       "      <th>3</th>\n",
       "      <td>Easter Promo</td>\n",
       "      <td>EU, CIS, APAC, N.America</td>\n",
       "      <td>2020-04-12</td>\n",
       "      <td>2020-04-19</td>\n",
       "    </tr>\n",
       "    <tr>\n",
       "      <th>4</th>\n",
       "      <td>4th of July Promo</td>\n",
       "      <td>N.America</td>\n",
       "      <td>2020-07-04</td>\n",
       "      <td>2020-07-11</td>\n",
       "    </tr>\n",
       "  </tbody>\n",
       "</table>\n",
       "</div>"
      ],
      "text/plain": [
       "                           name                   regions    start_dt  \\\n",
       "0      Christmas&New Year Promo             EU, N.America  2020-12-25   \n",
       "1  St. Valentine's Day Giveaway  EU, CIS, APAC, N.America  2020-02-14   \n",
       "2        St. Patric's Day Promo             EU, N.America  2020-03-17   \n",
       "3                  Easter Promo  EU, CIS, APAC, N.America  2020-04-12   \n",
       "4             4th of July Promo                 N.America  2020-07-04   \n",
       "\n",
       "    finish_dt  \n",
       "0  2021-01-03  \n",
       "1  2020-02-16  \n",
       "2  2020-03-19  \n",
       "3  2020-04-19  \n",
       "4  2020-07-11  "
      ]
     },
     "execution_count": 5,
     "metadata": {},
     "output_type": "execute_result"
    }
   ],
   "source": [
    "ab_project_marketing_events.head()"
   ]
  },
  {
   "cell_type": "code",
   "execution_count": 6,
   "metadata": {},
   "outputs": [
    {
     "data": {
      "text/html": [
       "<div>\n",
       "<style scoped>\n",
       "    .dataframe tbody tr th:only-of-type {\n",
       "        vertical-align: middle;\n",
       "    }\n",
       "\n",
       "    .dataframe tbody tr th {\n",
       "        vertical-align: top;\n",
       "    }\n",
       "\n",
       "    .dataframe thead th {\n",
       "        text-align: right;\n",
       "    }\n",
       "</style>\n",
       "<table border=\"1\" class=\"dataframe\">\n",
       "  <thead>\n",
       "    <tr style=\"text-align: right;\">\n",
       "      <th></th>\n",
       "      <th>user_id</th>\n",
       "      <th>first_date</th>\n",
       "      <th>region</th>\n",
       "      <th>device</th>\n",
       "    </tr>\n",
       "  </thead>\n",
       "  <tbody>\n",
       "    <tr>\n",
       "      <th>0</th>\n",
       "      <td>D72A72121175D8BE</td>\n",
       "      <td>2020-12-07</td>\n",
       "      <td>EU</td>\n",
       "      <td>PC</td>\n",
       "    </tr>\n",
       "    <tr>\n",
       "      <th>1</th>\n",
       "      <td>F1C668619DFE6E65</td>\n",
       "      <td>2020-12-07</td>\n",
       "      <td>N.America</td>\n",
       "      <td>Android</td>\n",
       "    </tr>\n",
       "    <tr>\n",
       "      <th>2</th>\n",
       "      <td>2E1BF1D4C37EA01F</td>\n",
       "      <td>2020-12-07</td>\n",
       "      <td>EU</td>\n",
       "      <td>PC</td>\n",
       "    </tr>\n",
       "    <tr>\n",
       "      <th>3</th>\n",
       "      <td>50734A22C0C63768</td>\n",
       "      <td>2020-12-07</td>\n",
       "      <td>EU</td>\n",
       "      <td>iPhone</td>\n",
       "    </tr>\n",
       "    <tr>\n",
       "      <th>4</th>\n",
       "      <td>E1BDDCE0DAFA2679</td>\n",
       "      <td>2020-12-07</td>\n",
       "      <td>N.America</td>\n",
       "      <td>iPhone</td>\n",
       "    </tr>\n",
       "  </tbody>\n",
       "</table>\n",
       "</div>"
      ],
      "text/plain": [
       "            user_id  first_date     region   device\n",
       "0  D72A72121175D8BE  2020-12-07         EU       PC\n",
       "1  F1C668619DFE6E65  2020-12-07  N.America  Android\n",
       "2  2E1BF1D4C37EA01F  2020-12-07         EU       PC\n",
       "3  50734A22C0C63768  2020-12-07         EU   iPhone\n",
       "4  E1BDDCE0DAFA2679  2020-12-07  N.America   iPhone"
      ]
     },
     "execution_count": 6,
     "metadata": {},
     "output_type": "execute_result"
    }
   ],
   "source": [
    "final_ab_new_users.head()"
   ]
  },
  {
   "cell_type": "code",
   "execution_count": 7,
   "metadata": {},
   "outputs": [
    {
     "data": {
      "text/html": [
       "<div>\n",
       "<style scoped>\n",
       "    .dataframe tbody tr th:only-of-type {\n",
       "        vertical-align: middle;\n",
       "    }\n",
       "\n",
       "    .dataframe tbody tr th {\n",
       "        vertical-align: top;\n",
       "    }\n",
       "\n",
       "    .dataframe thead th {\n",
       "        text-align: right;\n",
       "    }\n",
       "</style>\n",
       "<table border=\"1\" class=\"dataframe\">\n",
       "  <thead>\n",
       "    <tr style=\"text-align: right;\">\n",
       "      <th></th>\n",
       "      <th>user_id</th>\n",
       "      <th>group</th>\n",
       "      <th>ab_test</th>\n",
       "    </tr>\n",
       "  </thead>\n",
       "  <tbody>\n",
       "    <tr>\n",
       "      <th>0</th>\n",
       "      <td>D1ABA3E2887B6A73</td>\n",
       "      <td>A</td>\n",
       "      <td>recommender_system_test</td>\n",
       "    </tr>\n",
       "    <tr>\n",
       "      <th>1</th>\n",
       "      <td>A7A3664BD6242119</td>\n",
       "      <td>A</td>\n",
       "      <td>recommender_system_test</td>\n",
       "    </tr>\n",
       "    <tr>\n",
       "      <th>2</th>\n",
       "      <td>DABC14FDDFADD29E</td>\n",
       "      <td>A</td>\n",
       "      <td>recommender_system_test</td>\n",
       "    </tr>\n",
       "    <tr>\n",
       "      <th>3</th>\n",
       "      <td>04988C5DF189632E</td>\n",
       "      <td>A</td>\n",
       "      <td>recommender_system_test</td>\n",
       "    </tr>\n",
       "    <tr>\n",
       "      <th>4</th>\n",
       "      <td>482F14783456D21B</td>\n",
       "      <td>B</td>\n",
       "      <td>recommender_system_test</td>\n",
       "    </tr>\n",
       "  </tbody>\n",
       "</table>\n",
       "</div>"
      ],
      "text/plain": [
       "            user_id group                  ab_test\n",
       "0  D1ABA3E2887B6A73     A  recommender_system_test\n",
       "1  A7A3664BD6242119     A  recommender_system_test\n",
       "2  DABC14FDDFADD29E     A  recommender_system_test\n",
       "3  04988C5DF189632E     A  recommender_system_test\n",
       "4  482F14783456D21B     B  recommender_system_test"
      ]
     },
     "execution_count": 7,
     "metadata": {},
     "output_type": "execute_result"
    }
   ],
   "source": [
    "final_ab_participants.head()"
   ]
  },
  {
   "cell_type": "markdown",
   "metadata": {},
   "source": [
    "Мы загрузили данные всех датасетов, оценили первые 5 строк каждого датасета. Переходим к предобработке данных."
   ]
  },
  {
   "cell_type": "markdown",
   "metadata": {},
   "source": [
    "# Шаг 2. Предобработка данных"
   ]
  },
  {
   "cell_type": "markdown",
   "metadata": {},
   "source": [
    "# Оценим каждый датасеты с точки зрения типов данных в колонках, а также на наличие пропусков:"
   ]
  },
  {
   "cell_type": "code",
   "execution_count": 8,
   "metadata": {},
   "outputs": [
    {
     "name": "stdout",
     "output_type": "stream",
     "text": [
      "<class 'pandas.core.frame.DataFrame'>\n",
      "RangeIndex: 440317 entries, 0 to 440316\n",
      "Data columns (total 4 columns):\n",
      " #   Column      Non-Null Count   Dtype  \n",
      "---  ------      --------------   -----  \n",
      " 0   user_id     440317 non-null  object \n",
      " 1   event_dt    440317 non-null  object \n",
      " 2   event_name  440317 non-null  object \n",
      " 3   details     62740 non-null   float64\n",
      "dtypes: float64(1), object(3)\n",
      "memory usage: 13.4+ MB\n"
     ]
    }
   ],
   "source": [
    "final_ab_events.info()"
   ]
  },
  {
   "cell_type": "markdown",
   "metadata": {},
   "source": [
    "В датасете 4 колонки и 440317 строк. В колонке 'details' много пропусков, но судя по ее описанию, такое может быть (в дополнительных данных могут быть данные, а могут не быть). В колонке 'event_dt' содержатся данные по дате, но при этом они имеют тип данных object. Приведем колонку к типу данных 'datetime':"
   ]
  },
  {
   "cell_type": "code",
   "execution_count": 9,
   "metadata": {},
   "outputs": [],
   "source": [
    "final_ab_events['event_dt'] = pd.to_datetime(final_ab_events['event_dt'])"
   ]
  },
  {
   "cell_type": "markdown",
   "metadata": {},
   "source": [
    "Проверим результат:"
   ]
  },
  {
   "cell_type": "code",
   "execution_count": 10,
   "metadata": {},
   "outputs": [
    {
     "name": "stdout",
     "output_type": "stream",
     "text": [
      "<class 'pandas.core.frame.DataFrame'>\n",
      "RangeIndex: 440317 entries, 0 to 440316\n",
      "Data columns (total 4 columns):\n",
      " #   Column      Non-Null Count   Dtype         \n",
      "---  ------      --------------   -----         \n",
      " 0   user_id     440317 non-null  object        \n",
      " 1   event_dt    440317 non-null  datetime64[ns]\n",
      " 2   event_name  440317 non-null  object        \n",
      " 3   details     62740 non-null   float64       \n",
      "dtypes: datetime64[ns](1), float64(1), object(2)\n",
      "memory usage: 13.4+ MB\n"
     ]
    }
   ],
   "source": [
    "final_ab_events.info()"
   ]
  },
  {
   "cell_type": "code",
   "execution_count": 11,
   "metadata": {},
   "outputs": [
    {
     "name": "stdout",
     "output_type": "stream",
     "text": [
      "<class 'pandas.core.frame.DataFrame'>\n",
      "RangeIndex: 14 entries, 0 to 13\n",
      "Data columns (total 4 columns):\n",
      " #   Column     Non-Null Count  Dtype \n",
      "---  ------     --------------  ----- \n",
      " 0   name       14 non-null     object\n",
      " 1   regions    14 non-null     object\n",
      " 2   start_dt   14 non-null     object\n",
      " 3   finish_dt  14 non-null     object\n",
      "dtypes: object(4)\n",
      "memory usage: 576.0+ bytes\n"
     ]
    }
   ],
   "source": [
    "ab_project_marketing_events.info()"
   ]
  },
  {
   "cell_type": "markdown",
   "metadata": {},
   "source": [
    "В датасете 4 колонки и 14 строк. Пропусков нигде нет. В колонках 'start_dt' и 'finish_dt' содержатся данные по дате, но при этом они имеют тип данных object. Приведем колонки к типу данных 'datetime':"
   ]
  },
  {
   "cell_type": "code",
   "execution_count": 12,
   "metadata": {},
   "outputs": [],
   "source": [
    "ab_project_marketing_events['start_dt'] = pd.to_datetime(ab_project_marketing_events['start_dt'])\n",
    "ab_project_marketing_events['finish_dt'] = pd.to_datetime(ab_project_marketing_events['finish_dt'])"
   ]
  },
  {
   "cell_type": "markdown",
   "metadata": {},
   "source": [
    "Проверим результат:"
   ]
  },
  {
   "cell_type": "code",
   "execution_count": 13,
   "metadata": {},
   "outputs": [
    {
     "name": "stdout",
     "output_type": "stream",
     "text": [
      "<class 'pandas.core.frame.DataFrame'>\n",
      "RangeIndex: 14 entries, 0 to 13\n",
      "Data columns (total 4 columns):\n",
      " #   Column     Non-Null Count  Dtype         \n",
      "---  ------     --------------  -----         \n",
      " 0   name       14 non-null     object        \n",
      " 1   regions    14 non-null     object        \n",
      " 2   start_dt   14 non-null     datetime64[ns]\n",
      " 3   finish_dt  14 non-null     datetime64[ns]\n",
      "dtypes: datetime64[ns](2), object(2)\n",
      "memory usage: 576.0+ bytes\n"
     ]
    }
   ],
   "source": [
    "ab_project_marketing_events.info()"
   ]
  },
  {
   "cell_type": "code",
   "execution_count": 14,
   "metadata": {},
   "outputs": [
    {
     "name": "stdout",
     "output_type": "stream",
     "text": [
      "<class 'pandas.core.frame.DataFrame'>\n",
      "RangeIndex: 61733 entries, 0 to 61732\n",
      "Data columns (total 4 columns):\n",
      " #   Column      Non-Null Count  Dtype \n",
      "---  ------      --------------  ----- \n",
      " 0   user_id     61733 non-null  object\n",
      " 1   first_date  61733 non-null  object\n",
      " 2   region      61733 non-null  object\n",
      " 3   device      61733 non-null  object\n",
      "dtypes: object(4)\n",
      "memory usage: 1.9+ MB\n"
     ]
    }
   ],
   "source": [
    "final_ab_new_users.info()"
   ]
  },
  {
   "cell_type": "markdown",
   "metadata": {},
   "source": [
    "В датасете 4 колонки и 61733 строки. Пропусков нигде нет. В колонке 'first_date' содержатся данные по дате, но при этом они имеют тип данных object. Приведем колонку к типу данных 'datetime':"
   ]
  },
  {
   "cell_type": "code",
   "execution_count": 15,
   "metadata": {},
   "outputs": [],
   "source": [
    "final_ab_new_users['first_date'] = pd.to_datetime(final_ab_new_users['first_date'])"
   ]
  },
  {
   "cell_type": "markdown",
   "metadata": {},
   "source": [
    "Проверим результат:"
   ]
  },
  {
   "cell_type": "code",
   "execution_count": 16,
   "metadata": {},
   "outputs": [
    {
     "name": "stdout",
     "output_type": "stream",
     "text": [
      "<class 'pandas.core.frame.DataFrame'>\n",
      "RangeIndex: 61733 entries, 0 to 61732\n",
      "Data columns (total 4 columns):\n",
      " #   Column      Non-Null Count  Dtype         \n",
      "---  ------      --------------  -----         \n",
      " 0   user_id     61733 non-null  object        \n",
      " 1   first_date  61733 non-null  datetime64[ns]\n",
      " 2   region      61733 non-null  object        \n",
      " 3   device      61733 non-null  object        \n",
      "dtypes: datetime64[ns](1), object(3)\n",
      "memory usage: 1.9+ MB\n"
     ]
    }
   ],
   "source": [
    "final_ab_new_users.info()"
   ]
  },
  {
   "cell_type": "code",
   "execution_count": 17,
   "metadata": {},
   "outputs": [
    {
     "name": "stdout",
     "output_type": "stream",
     "text": [
      "<class 'pandas.core.frame.DataFrame'>\n",
      "RangeIndex: 18268 entries, 0 to 18267\n",
      "Data columns (total 3 columns):\n",
      " #   Column   Non-Null Count  Dtype \n",
      "---  ------   --------------  ----- \n",
      " 0   user_id  18268 non-null  object\n",
      " 1   group    18268 non-null  object\n",
      " 2   ab_test  18268 non-null  object\n",
      "dtypes: object(3)\n",
      "memory usage: 428.3+ KB\n"
     ]
    }
   ],
   "source": [
    "final_ab_participants.info()"
   ]
  },
  {
   "cell_type": "markdown",
   "metadata": {},
   "source": [
    "В датасете 3 колонки и 18268 строк. Пропусков нигде нет. Типы данных в колонках корректные."
   ]
  },
  {
   "cell_type": "markdown",
   "metadata": {},
   "source": [
    "# Оценим датасеты на наличие дубликатов:"
   ]
  },
  {
   "cell_type": "code",
   "execution_count": 18,
   "metadata": {},
   "outputs": [
    {
     "data": {
      "text/plain": [
       "0"
      ]
     },
     "execution_count": 18,
     "metadata": {},
     "output_type": "execute_result"
    }
   ],
   "source": [
    "final_ab_events.duplicated().sum()"
   ]
  },
  {
   "cell_type": "code",
   "execution_count": 19,
   "metadata": {},
   "outputs": [
    {
     "data": {
      "text/plain": [
       "0"
      ]
     },
     "execution_count": 19,
     "metadata": {},
     "output_type": "execute_result"
    }
   ],
   "source": [
    "ab_project_marketing_events.duplicated().sum()"
   ]
  },
  {
   "cell_type": "code",
   "execution_count": 20,
   "metadata": {},
   "outputs": [
    {
     "data": {
      "text/plain": [
       "0"
      ]
     },
     "execution_count": 20,
     "metadata": {},
     "output_type": "execute_result"
    }
   ],
   "source": [
    "final_ab_new_users.duplicated().sum()"
   ]
  },
  {
   "cell_type": "code",
   "execution_count": 21,
   "metadata": {},
   "outputs": [
    {
     "data": {
      "text/plain": [
       "0"
      ]
     },
     "execution_count": 21,
     "metadata": {},
     "output_type": "execute_result"
    }
   ],
   "source": [
    "final_ab_participants.duplicated().sum()"
   ]
  },
  {
   "cell_type": "markdown",
   "metadata": {},
   "source": [
    "Предобработка завершена, мы оценили:\n",
    "* размеры датасетов;\n",
    "* наличие пропусков (есть только в 'final_ab_events' в столбце 'details', что вполне объяснимо);\n",
    "* корректность типов данных столбцов (все столбцы с данными про даты привели к типу данных 'datetime');\n",
    "* наличие дублей (не обнаружены)."
   ]
  },
  {
   "cell_type": "markdown",
   "metadata": {},
   "source": [
    "# Оценим другие параметры датасета:"
   ]
  },
  {
   "cell_type": "code",
   "execution_count": 22,
   "metadata": {},
   "outputs": [
    {
     "data": {
      "text/html": [
       "<div>\n",
       "<style scoped>\n",
       "    .dataframe tbody tr th:only-of-type {\n",
       "        vertical-align: middle;\n",
       "    }\n",
       "\n",
       "    .dataframe tbody tr th {\n",
       "        vertical-align: top;\n",
       "    }\n",
       "\n",
       "    .dataframe thead th {\n",
       "        text-align: right;\n",
       "    }\n",
       "</style>\n",
       "<table border=\"1\" class=\"dataframe\">\n",
       "  <thead>\n",
       "    <tr style=\"text-align: right;\">\n",
       "      <th></th>\n",
       "      <th></th>\n",
       "      <th>user_id</th>\n",
       "    </tr>\n",
       "    <tr>\n",
       "      <th>ab_test</th>\n",
       "      <th>group</th>\n",
       "      <th></th>\n",
       "    </tr>\n",
       "  </thead>\n",
       "  <tbody>\n",
       "    <tr>\n",
       "      <th rowspan=\"2\" valign=\"top\">interface_eu_test</th>\n",
       "      <th>A</th>\n",
       "      <td>5831</td>\n",
       "    </tr>\n",
       "    <tr>\n",
       "      <th>B</th>\n",
       "      <td>5736</td>\n",
       "    </tr>\n",
       "    <tr>\n",
       "      <th rowspan=\"2\" valign=\"top\">recommender_system_test</th>\n",
       "      <th>A</th>\n",
       "      <td>3824</td>\n",
       "    </tr>\n",
       "    <tr>\n",
       "      <th>B</th>\n",
       "      <td>2877</td>\n",
       "    </tr>\n",
       "  </tbody>\n",
       "</table>\n",
       "</div>"
      ],
      "text/plain": [
       "                               user_id\n",
       "ab_test                 group         \n",
       "interface_eu_test       A         5831\n",
       "                        B         5736\n",
       "recommender_system_test A         3824\n",
       "                        B         2877"
      ]
     },
     "execution_count": 22,
     "metadata": {},
     "output_type": "execute_result"
    }
   ],
   "source": [
    "# Количество тестов в датасете:\n",
    "final_ab_participants.groupby(['ab_test', 'group']).agg({'user_id': 'nunique'})"
   ]
  },
  {
   "cell_type": "markdown",
   "metadata": {},
   "source": [
    "В датасете содержатся данные по 2 тестам: \"interface_eu_test\" и \"recommender_system_test\""
   ]
  },
  {
   "cell_type": "code",
   "execution_count": 23,
   "metadata": {},
   "outputs": [
    {
     "data": {
      "text/html": [
       "<div>\n",
       "<style scoped>\n",
       "    .dataframe tbody tr th:only-of-type {\n",
       "        vertical-align: middle;\n",
       "    }\n",
       "\n",
       "    .dataframe tbody tr th {\n",
       "        vertical-align: top;\n",
       "    }\n",
       "\n",
       "    .dataframe thead th {\n",
       "        text-align: right;\n",
       "    }\n",
       "</style>\n",
       "<table border=\"1\" class=\"dataframe\">\n",
       "  <thead>\n",
       "    <tr style=\"text-align: right;\">\n",
       "      <th></th>\n",
       "      <th>user_id</th>\n",
       "    </tr>\n",
       "    <tr>\n",
       "      <th>region</th>\n",
       "      <th></th>\n",
       "    </tr>\n",
       "  </thead>\n",
       "  <tbody>\n",
       "    <tr>\n",
       "      <th>APAC</th>\n",
       "      <td>3153</td>\n",
       "    </tr>\n",
       "    <tr>\n",
       "      <th>CIS</th>\n",
       "      <td>3155</td>\n",
       "    </tr>\n",
       "    <tr>\n",
       "      <th>EU</th>\n",
       "      <td>46270</td>\n",
       "    </tr>\n",
       "    <tr>\n",
       "      <th>N.America</th>\n",
       "      <td>9155</td>\n",
       "    </tr>\n",
       "  </tbody>\n",
       "</table>\n",
       "</div>"
      ],
      "text/plain": [
       "           user_id\n",
       "region            \n",
       "APAC          3153\n",
       "CIS           3155\n",
       "EU           46270\n",
       "N.America     9155"
      ]
     },
     "execution_count": 23,
     "metadata": {},
     "output_type": "execute_result"
    }
   ],
   "source": [
    "# Количество регионов в датасете:\n",
    "final_ab_new_users.groupby(['region']).agg({'user_id': 'nunique'})"
   ]
  },
  {
   "cell_type": "markdown",
   "metadata": {},
   "source": [
    "В датасете содержатся данные по 4 регионам: \"APAC\", \"CIS\", \"EU\" и \"N.America\""
   ]
  },
  {
   "cell_type": "code",
   "execution_count": 24,
   "metadata": {},
   "outputs": [
    {
     "data": {
      "text/html": [
       "<div>\n",
       "<style scoped>\n",
       "    .dataframe tbody tr th:only-of-type {\n",
       "        vertical-align: middle;\n",
       "    }\n",
       "\n",
       "    .dataframe tbody tr th {\n",
       "        vertical-align: top;\n",
       "    }\n",
       "\n",
       "    .dataframe thead th {\n",
       "        text-align: right;\n",
       "    }\n",
       "</style>\n",
       "<table border=\"1\" class=\"dataframe\">\n",
       "  <thead>\n",
       "    <tr style=\"text-align: right;\">\n",
       "      <th></th>\n",
       "      <th>user_id</th>\n",
       "    </tr>\n",
       "    <tr>\n",
       "      <th>device</th>\n",
       "      <th></th>\n",
       "    </tr>\n",
       "  </thead>\n",
       "  <tbody>\n",
       "    <tr>\n",
       "      <th>Android</th>\n",
       "      <td>27520</td>\n",
       "    </tr>\n",
       "    <tr>\n",
       "      <th>Mac</th>\n",
       "      <td>6084</td>\n",
       "    </tr>\n",
       "    <tr>\n",
       "      <th>PC</th>\n",
       "      <td>15599</td>\n",
       "    </tr>\n",
       "    <tr>\n",
       "      <th>iPhone</th>\n",
       "      <td>12530</td>\n",
       "    </tr>\n",
       "  </tbody>\n",
       "</table>\n",
       "</div>"
      ],
      "text/plain": [
       "         user_id\n",
       "device          \n",
       "Android    27520\n",
       "Mac         6084\n",
       "PC         15599\n",
       "iPhone     12530"
      ]
     },
     "execution_count": 24,
     "metadata": {},
     "output_type": "execute_result"
    }
   ],
   "source": [
    "# Количество регионов в устройств:\n",
    "final_ab_new_users.groupby(['device']).agg({'user_id': 'nunique'})"
   ]
  },
  {
   "cell_type": "markdown",
   "metadata": {},
   "source": [
    "В датасете содержатся данные по 4 устройствам: \"Android\", \"Mac\", \"PC\" и \"iPhone\""
   ]
  },
  {
   "cell_type": "markdown",
   "metadata": {},
   "source": [
    "# Шаг 3. Оценка корректности проведения теста"
   ]
  },
  {
   "cell_type": "markdown",
   "metadata": {},
   "source": [
    "# Проверим соответствие данных требованиям технического задания"
   ]
  },
  {
   "cell_type": "code",
   "execution_count": 25,
   "metadata": {},
   "outputs": [
    {
     "data": {
      "text/html": [
       "<div>\n",
       "<style scoped>\n",
       "    .dataframe tbody tr th:only-of-type {\n",
       "        vertical-align: middle;\n",
       "    }\n",
       "\n",
       "    .dataframe tbody tr th {\n",
       "        vertical-align: top;\n",
       "    }\n",
       "\n",
       "    .dataframe thead th {\n",
       "        text-align: right;\n",
       "    }\n",
       "</style>\n",
       "<table border=\"1\" class=\"dataframe\">\n",
       "  <thead>\n",
       "    <tr style=\"text-align: right;\">\n",
       "      <th></th>\n",
       "      <th>user_id</th>\n",
       "      <th>group</th>\n",
       "      <th>ab_test</th>\n",
       "    </tr>\n",
       "  </thead>\n",
       "  <tbody>\n",
       "    <tr>\n",
       "      <th>0</th>\n",
       "      <td>D1ABA3E2887B6A73</td>\n",
       "      <td>A</td>\n",
       "      <td>recommender_system_test</td>\n",
       "    </tr>\n",
       "    <tr>\n",
       "      <th>1</th>\n",
       "      <td>A7A3664BD6242119</td>\n",
       "      <td>A</td>\n",
       "      <td>recommender_system_test</td>\n",
       "    </tr>\n",
       "    <tr>\n",
       "      <th>2</th>\n",
       "      <td>DABC14FDDFADD29E</td>\n",
       "      <td>A</td>\n",
       "      <td>recommender_system_test</td>\n",
       "    </tr>\n",
       "    <tr>\n",
       "      <th>3</th>\n",
       "      <td>04988C5DF189632E</td>\n",
       "      <td>A</td>\n",
       "      <td>recommender_system_test</td>\n",
       "    </tr>\n",
       "    <tr>\n",
       "      <th>4</th>\n",
       "      <td>482F14783456D21B</td>\n",
       "      <td>B</td>\n",
       "      <td>recommender_system_test</td>\n",
       "    </tr>\n",
       "  </tbody>\n",
       "</table>\n",
       "</div>"
      ],
      "text/plain": [
       "            user_id group                  ab_test\n",
       "0  D1ABA3E2887B6A73     A  recommender_system_test\n",
       "1  A7A3664BD6242119     A  recommender_system_test\n",
       "2  DABC14FDDFADD29E     A  recommender_system_test\n",
       "3  04988C5DF189632E     A  recommender_system_test\n",
       "4  482F14783456D21B     B  recommender_system_test"
      ]
     },
     "execution_count": 25,
     "metadata": {},
     "output_type": "execute_result"
    }
   ],
   "source": [
    "final_ab_participants.head()"
   ]
  },
  {
   "cell_type": "markdown",
   "metadata": {},
   "source": [
    "Название теста - 'recommender_system_test' - все верно"
   ]
  },
  {
   "cell_type": "code",
   "execution_count": 26,
   "metadata": {},
   "outputs": [
    {
     "data": {
      "text/html": [
       "<div>\n",
       "<style scoped>\n",
       "    .dataframe tbody tr th:only-of-type {\n",
       "        vertical-align: middle;\n",
       "    }\n",
       "\n",
       "    .dataframe tbody tr th {\n",
       "        vertical-align: top;\n",
       "    }\n",
       "\n",
       "    .dataframe thead th {\n",
       "        text-align: right;\n",
       "    }\n",
       "</style>\n",
       "<table border=\"1\" class=\"dataframe\">\n",
       "  <thead>\n",
       "    <tr style=\"text-align: right;\">\n",
       "      <th></th>\n",
       "      <th></th>\n",
       "      <th>user_id</th>\n",
       "    </tr>\n",
       "    <tr>\n",
       "      <th>ab_test</th>\n",
       "      <th>group</th>\n",
       "      <th></th>\n",
       "    </tr>\n",
       "  </thead>\n",
       "  <tbody>\n",
       "    <tr>\n",
       "      <th rowspan=\"2\" valign=\"top\">interface_eu_test</th>\n",
       "      <th>A</th>\n",
       "      <td>5831</td>\n",
       "    </tr>\n",
       "    <tr>\n",
       "      <th>B</th>\n",
       "      <td>5736</td>\n",
       "    </tr>\n",
       "    <tr>\n",
       "      <th rowspan=\"2\" valign=\"top\">recommender_system_test</th>\n",
       "      <th>A</th>\n",
       "      <td>3824</td>\n",
       "    </tr>\n",
       "    <tr>\n",
       "      <th>B</th>\n",
       "      <td>2877</td>\n",
       "    </tr>\n",
       "  </tbody>\n",
       "</table>\n",
       "</div>"
      ],
      "text/plain": [
       "                               user_id\n",
       "ab_test                 group         \n",
       "interface_eu_test       A         5831\n",
       "                        B         5736\n",
       "recommender_system_test A         3824\n",
       "                        B         2877"
      ]
     },
     "execution_count": 26,
     "metadata": {},
     "output_type": "execute_result"
    }
   ],
   "source": [
    "final_ab_participants.groupby(['ab_test', 'group']).agg({'user_id': 'nunique'})"
   ]
  },
  {
   "cell_type": "markdown",
   "metadata": {},
   "source": [
    "Группы А и В в тесте присутствуют, это соответствует требования ТЗ. При этом в датасете есть и данные по другому тесту - 'interface_eu_test'. Посмотрим, есть ли между этими тестами пересечения по пользователям:"
   ]
  },
  {
   "cell_type": "code",
   "execution_count": 27,
   "metadata": {},
   "outputs": [
    {
     "data": {
      "text/plain": [
       "1602"
      ]
     },
     "execution_count": 27,
     "metadata": {},
     "output_type": "execute_result"
    }
   ],
   "source": [
    "users_for_tests = final_ab_participants.groupby('user_id').agg({'ab_test': 'nunique'}).sort_values(by = 'ab_test', ascending = False).reset_index()\n",
    "users_for_two_tests = users_for_tests.loc[users_for_tests['ab_test'] == 2]\n",
    "users_for_two_tests_final = users_for_two_tests['user_id']\n",
    "len(users_for_two_tests_final)"
   ]
  },
  {
   "cell_type": "markdown",
   "metadata": {},
   "source": [
    "В оба теста одновременно входят 1602 пользователя. Посмотрим, в каких группах есть пересечения:"
   ]
  },
  {
   "cell_type": "code",
   "execution_count": 28,
   "metadata": {},
   "outputs": [
    {
     "data": {
      "text/html": [
       "<div>\n",
       "<style scoped>\n",
       "    .dataframe tbody tr th:only-of-type {\n",
       "        vertical-align: middle;\n",
       "    }\n",
       "\n",
       "    .dataframe tbody tr th {\n",
       "        vertical-align: top;\n",
       "    }\n",
       "\n",
       "    .dataframe thead th {\n",
       "        text-align: right;\n",
       "    }\n",
       "</style>\n",
       "<table border=\"1\" class=\"dataframe\">\n",
       "  <thead>\n",
       "    <tr style=\"text-align: right;\">\n",
       "      <th></th>\n",
       "      <th></th>\n",
       "      <th>user_id</th>\n",
       "    </tr>\n",
       "    <tr>\n",
       "      <th>ab_test</th>\n",
       "      <th>group</th>\n",
       "      <th></th>\n",
       "    </tr>\n",
       "  </thead>\n",
       "  <tbody>\n",
       "    <tr>\n",
       "      <th rowspan=\"2\" valign=\"top\">interface_eu_test</th>\n",
       "      <th>A</th>\n",
       "      <td>819</td>\n",
       "    </tr>\n",
       "    <tr>\n",
       "      <th>B</th>\n",
       "      <td>783</td>\n",
       "    </tr>\n",
       "    <tr>\n",
       "      <th rowspan=\"2\" valign=\"top\">recommender_system_test</th>\n",
       "      <th>A</th>\n",
       "      <td>921</td>\n",
       "    </tr>\n",
       "    <tr>\n",
       "      <th>B</th>\n",
       "      <td>681</td>\n",
       "    </tr>\n",
       "  </tbody>\n",
       "</table>\n",
       "</div>"
      ],
      "text/plain": [
       "                               user_id\n",
       "ab_test                 group         \n",
       "interface_eu_test       A          819\n",
       "                        B          783\n",
       "recommender_system_test A          921\n",
       "                        B          681"
      ]
     },
     "execution_count": 28,
     "metadata": {},
     "output_type": "execute_result"
    }
   ],
   "source": [
    "users_for_two_tests_final = final_ab_participants.query('user_id in @users_for_two_tests_final').reset_index(drop=True)\n",
    "users_for_two_tests_final.groupby(['ab_test', 'group']).agg({'user_id': 'nunique'})"
   ]
  },
  {
   "cell_type": "markdown",
   "metadata": {},
   "source": [
    "Поскольку наличие одних и тех же пользователей в обоих группах могло внести в результаты теста искажения, мы вынуждены удалить таких пользователей. Оставим в датасете только данные по нашему тесту:"
   ]
  },
  {
   "cell_type": "code",
   "execution_count": 29,
   "metadata": {},
   "outputs": [],
   "source": [
    "final_ab_participants = final_ab_participants.query('ab_test == \"recommender_system_test\"')"
   ]
  },
  {
   "cell_type": "code",
   "execution_count": 30,
   "metadata": {},
   "outputs": [
    {
     "data": {
      "text/html": [
       "<div>\n",
       "<style scoped>\n",
       "    .dataframe tbody tr th:only-of-type {\n",
       "        vertical-align: middle;\n",
       "    }\n",
       "\n",
       "    .dataframe tbody tr th {\n",
       "        vertical-align: top;\n",
       "    }\n",
       "\n",
       "    .dataframe thead th {\n",
       "        text-align: right;\n",
       "    }\n",
       "</style>\n",
       "<table border=\"1\" class=\"dataframe\">\n",
       "  <thead>\n",
       "    <tr style=\"text-align: right;\">\n",
       "      <th></th>\n",
       "      <th>user_id</th>\n",
       "    </tr>\n",
       "    <tr>\n",
       "      <th>group</th>\n",
       "      <th></th>\n",
       "    </tr>\n",
       "  </thead>\n",
       "  <tbody>\n",
       "    <tr>\n",
       "      <th>A</th>\n",
       "      <td>3824</td>\n",
       "    </tr>\n",
       "    <tr>\n",
       "      <th>B</th>\n",
       "      <td>2877</td>\n",
       "    </tr>\n",
       "  </tbody>\n",
       "</table>\n",
       "</div>"
      ],
      "text/plain": [
       "       user_id\n",
       "group         \n",
       "A         3824\n",
       "B         2877"
      ]
     },
     "execution_count": 30,
     "metadata": {},
     "output_type": "execute_result"
    }
   ],
   "source": [
    "final_ab_participants.groupby('group').agg({'user_id': 'nunique'})"
   ]
  },
  {
   "cell_type": "markdown",
   "metadata": {},
   "source": [
    "В группе В почти на 1000 пользователей меньше, чем в группе А. Далее объединим нужны таблицы:"
   ]
  },
  {
   "cell_type": "code",
   "execution_count": 31,
   "metadata": {},
   "outputs": [],
   "source": [
    "final_users_test = final_ab_participants\n",
    "final_users_test = final_users_test.merge(final_ab_new_users, on='user_id')"
   ]
  },
  {
   "cell_type": "code",
   "execution_count": 32,
   "metadata": {},
   "outputs": [
    {
     "data": {
      "text/plain": [
       "6701"
      ]
     },
     "execution_count": 32,
     "metadata": {},
     "output_type": "execute_result"
    }
   ],
   "source": [
    "final_ab_participants['user_id'].nunique()"
   ]
  },
  {
   "cell_type": "markdown",
   "metadata": {},
   "source": [
    "Согласно ТЗ у нас ожидалось 6000 пользователей - участников теста, по этому параметру также все хорошо"
   ]
  },
  {
   "cell_type": "code",
   "execution_count": 33,
   "metadata": {},
   "outputs": [
    {
     "data": {
      "text/plain": [
       "Timestamp('2020-12-23 00:00:00')"
      ]
     },
     "execution_count": 33,
     "metadata": {},
     "output_type": "execute_result"
    }
   ],
   "source": [
    "final_ab_new_users['first_date'].max()"
   ]
  },
  {
   "cell_type": "markdown",
   "metadata": {},
   "source": [
    "В датасете есть данные вплоть до 23.12.2020. По условиям ТЗ данные должны быть ограничены 21.12.2020, обрежем лишнее:"
   ]
  },
  {
   "cell_type": "code",
   "execution_count": 34,
   "metadata": {},
   "outputs": [],
   "source": [
    "final_ab_new_users = final_ab_new_users[final_ab_new_users['first_date'] <= \"2020-12-21 00:00:00\"]"
   ]
  },
  {
   "cell_type": "markdown",
   "metadata": {},
   "source": [
    "Проверим изменения:"
   ]
  },
  {
   "cell_type": "code",
   "execution_count": 35,
   "metadata": {},
   "outputs": [
    {
     "data": {
      "text/plain": [
       "Timestamp('2020-12-07 00:00:00')"
      ]
     },
     "execution_count": 35,
     "metadata": {},
     "output_type": "execute_result"
    }
   ],
   "source": [
    "test_start = final_ab_new_users['first_date'].min()\n",
    "test_start"
   ]
  },
  {
   "cell_type": "code",
   "execution_count": 36,
   "metadata": {},
   "outputs": [
    {
     "data": {
      "text/plain": [
       "Timestamp('2020-12-21 00:00:00')"
      ]
     },
     "execution_count": 36,
     "metadata": {},
     "output_type": "execute_result"
    }
   ],
   "source": [
    "test_end = final_ab_new_users['first_date'].max()\n",
    "test_end"
   ]
  },
  {
   "cell_type": "code",
   "execution_count": 37,
   "metadata": {},
   "outputs": [
    {
     "name": "stdout",
     "output_type": "stream",
     "text": [
      "Дата начала набора новых пользователей: 2020-12-07 00:00:00\n",
      "Дата окончания набора новых пользователей: 2020-12-21 00:00:00\n"
     ]
    }
   ],
   "source": [
    "final_ab_new_users_participants = final_ab_new_users.merge(final_ab_participants, on='user_id', how='left')\n",
    "print('Дата начала набора новых пользователей:', final_ab_new_users_participants['first_date'].min())\n",
    "print('Дата окончания набора новых пользователей:', final_ab_new_users_participants['first_date'].max())"
   ]
  },
  {
   "cell_type": "markdown",
   "metadata": {},
   "source": [
    "С датами начала и окончания набора новых пользователей в датасете все в порядке"
   ]
  },
  {
   "cell_type": "markdown",
   "metadata": {},
   "source": [
    "Проверим процент новых пользователей из региона EU:"
   ]
  },
  {
   "cell_type": "code",
   "execution_count": 38,
   "metadata": {},
   "outputs": [
    {
     "data": {
      "text/plain": [
       "0.15"
      ]
     },
     "execution_count": 38,
     "metadata": {},
     "output_type": "execute_result"
    }
   ],
   "source": [
    "eu_test_users = final_ab_new_users.query('region==\"EU\"')\n",
    "eu_users = final_users_test.query('region == \"EU\" and first_date >= @test_start and first_date <= @test_end')\n",
    "eu_users.shape[0]/eu_test_users.shape[0]"
   ]
  },
  {
   "cell_type": "code",
   "execution_count": 39,
   "metadata": {},
   "outputs": [
    {
     "name": "stdout",
     "output_type": "stream",
     "text": [
      "Новых пользователей из региона EU: 15 %\n"
     ]
    }
   ],
   "source": [
    "print('Новых пользователей из региона EU:', \\\n",
    "      round(final_users_test[final_users_test['region'] == 'EU'].shape[0] / \\\n",
    "      final_ab_new_users[final_ab_new_users['region'] == 'EU'].shape[0] * 100),'%')"
   ]
  },
  {
   "cell_type": "markdown",
   "metadata": {},
   "source": [
    "Процент новых пользователей из региона EU соответствует ТЗ, все в порядке"
   ]
  },
  {
   "cell_type": "markdown",
   "metadata": {},
   "source": [
    "Проверим, проводились ли во время теста другие маркетинговые активности:"
   ]
  },
  {
   "cell_type": "code",
   "execution_count": 40,
   "metadata": {},
   "outputs": [
    {
     "data": {
      "text/html": [
       "<div>\n",
       "<style scoped>\n",
       "    .dataframe tbody tr th:only-of-type {\n",
       "        vertical-align: middle;\n",
       "    }\n",
       "\n",
       "    .dataframe tbody tr th {\n",
       "        vertical-align: top;\n",
       "    }\n",
       "\n",
       "    .dataframe thead th {\n",
       "        text-align: right;\n",
       "    }\n",
       "</style>\n",
       "<table border=\"1\" class=\"dataframe\">\n",
       "  <thead>\n",
       "    <tr style=\"text-align: right;\">\n",
       "      <th></th>\n",
       "      <th>name</th>\n",
       "      <th>regions</th>\n",
       "      <th>start_dt</th>\n",
       "      <th>finish_dt</th>\n",
       "    </tr>\n",
       "  </thead>\n",
       "  <tbody>\n",
       "    <tr>\n",
       "      <th>0</th>\n",
       "      <td>Christmas&amp;New Year Promo</td>\n",
       "      <td>EU, N.America</td>\n",
       "      <td>2020-12-25</td>\n",
       "      <td>2021-01-03</td>\n",
       "    </tr>\n",
       "    <tr>\n",
       "      <th>10</th>\n",
       "      <td>CIS New Year Gift Lottery</td>\n",
       "      <td>CIS</td>\n",
       "      <td>2020-12-30</td>\n",
       "      <td>2021-01-07</td>\n",
       "    </tr>\n",
       "  </tbody>\n",
       "</table>\n",
       "</div>"
      ],
      "text/plain": [
       "                         name        regions   start_dt  finish_dt\n",
       "0    Christmas&New Year Promo  EU, N.America 2020-12-25 2021-01-03\n",
       "10  CIS New Year Gift Lottery            CIS 2020-12-30 2021-01-07"
      ]
     },
     "execution_count": 40,
     "metadata": {},
     "output_type": "execute_result"
    }
   ],
   "source": [
    "ab_project_marketing_events.query('\"2020-12-07\" < start_dt < \"2021-01-03\"')"
   ]
  },
  {
   "cell_type": "markdown",
   "metadata": {},
   "source": [
    "Параллельно с нашим тестом шли еще 2 маркетинговые активности, но только \"Christmas&New Year Promo\" проводился в том числе в регионе EU. При этом это мероприятие началось после того, как мы взяли новых пользователей, поэтому на их набор оно повлиять не могло. Другой вопрос, что оно проводилось в то время, как шло наше исследование, то могло повлиять на его результаты."
   ]
  },
  {
   "cell_type": "markdown",
   "metadata": {},
   "source": [
    "Проверим корректность даты остановки теста:"
   ]
  },
  {
   "cell_type": "code",
   "execution_count": 41,
   "metadata": {},
   "outputs": [
    {
     "data": {
      "text/plain": [
       "datetime.date(2020, 12, 30)"
      ]
     },
     "execution_count": 41,
     "metadata": {},
     "output_type": "execute_result"
    }
   ],
   "source": [
    "final_users_test = final_users_test.merge(final_ab_events, on = 'user_id')\n",
    "events_by_day = final_users_test.groupby('event_dt')['event_name'].count().reset_index()\n",
    "events_by_day['date'] = events_by_day['event_dt'].dt.date\n",
    "events_by_day['date'].max()"
   ]
  },
  {
   "cell_type": "markdown",
   "metadata": {},
   "source": [
    "Последней датой, по которой доступны данные в датасете, является 30.12.2020. При этом по условиям ТЗ тест длился до 4 января включительно, т.е. налицо неполные данные в датасете с точки зрения ТЗ (пункта про дату окончания теста)."
   ]
  },
  {
   "cell_type": "markdown",
   "metadata": {},
   "source": [
    "Проверим, есть ли пользователи, которые одновремено попали в обе группы теста - А и В:"
   ]
  },
  {
   "cell_type": "code",
   "execution_count": 42,
   "metadata": {
    "scrolled": true
   },
   "outputs": [
    {
     "name": "stdout",
     "output_type": "stream",
     "text": [
      "Число пользователей, попавших в обе группы сразу =  0\n"
     ]
    }
   ],
   "source": [
    "group_a = final_ab_participants.query('group == \"A\"') \n",
    "group_b = final_ab_participants.query('group == \"B\"') \n",
    "\n",
    "group_a_b = list(np.intersect1d(group_a['user_id'], group_b['user_id']))\n",
    "print ('Число пользователей, попавших в обе группы сразу = ', len(group_a_b))"
   ]
  },
  {
   "cell_type": "markdown",
   "metadata": {},
   "source": [
    "Пользователей, которые одновремено попали в обе группы теста - А и В - не обраружено"
   ]
  },
  {
   "cell_type": "markdown",
   "metadata": {},
   "source": [
    "Отфильтруем пользователей, которые участвовали в тесте более 14 дней (т.е. с лайфтаймом более 14 дней):"
   ]
  },
  {
   "cell_type": "code",
   "execution_count": 43,
   "metadata": {},
   "outputs": [],
   "source": [
    "# добавим в табличку данные по лайфтайму\n",
    "final_users_test['lifetime'] = (final_users_test['event_dt'] - final_users_test['first_date']).dt.days\n",
    "# добавим фильтр\n",
    "final_users_test = final_users_test.query('lifetime < 14')"
   ]
  },
  {
   "cell_type": "markdown",
   "metadata": {},
   "source": [
    "Проверим полученный результат:"
   ]
  },
  {
   "cell_type": "code",
   "execution_count": 44,
   "metadata": {},
   "outputs": [
    {
     "data": {
      "text/plain": [
       "14"
      ]
     },
     "execution_count": 44,
     "metadata": {},
     "output_type": "execute_result"
    }
   ],
   "source": [
    "final_users_test['lifetime'].nunique()"
   ]
  },
  {
   "cell_type": "markdown",
   "metadata": {},
   "source": [
    "# Выводы по качеству исходных данных"
   ]
  },
  {
   "cell_type": "markdown",
   "metadata": {},
   "source": [
    "В этом разделе мы проверили соответствие данных в датасетах поставленному ТЗ. По результатам анализа были найдены следующие недочеты:\n",
    "* В датасете были обнаружены данные и по другому тесту - 'interface_eu_test’. Причем, пользователи в этом тесте частично пересекались с пользователями нашего теста, поэтому таких повторяющихся людей пришлось удалить, что уменьшило объем данных для исследования.\n",
    "* Выяснилось, что в группе В почти на 1000 пользователей меньше, чем в группе А. Неравномерность распределения пользователей по группам теста – это минус.\n",
    "* В датасете были найдены данные вплоть до 23.12.2020, хотя по условиям ТЗ данные должны быть ограничены 21.12.2020. Лишние данные обрезали.\n",
    "* Параллельно с нашим тестом шли еще 2 маркетинговые активности, причем \"Christmas&New Year Promo\" проводился в том числе в регионе EU. Хотя это мероприятие началось после того, как мы взяли новых пользователей, но оно проводилось в то время, как шло наше исследование, то могло повлиять на его результаты.\n",
    "* В датасете не хватает данных в период с 30 декабря по 4 января, т.е. мы не имеем доступа к данным за почти 6 полных дней.\n",
    "\n",
    "Как видно из перечисленных выше пунктов, недочетов в исходных данных слишком много."
   ]
  },
  {
   "cell_type": "markdown",
   "metadata": {},
   "source": [
    "# Шаг 4. Исследовательский анализ данных"
   ]
  },
  {
   "cell_type": "markdown",
   "metadata": {},
   "source": [
    "# Проверим, одинаково ли распределено количество событий на пользователя в выборке:"
   ]
  },
  {
   "cell_type": "code",
   "execution_count": 45,
   "metadata": {},
   "outputs": [
    {
     "name": "stdout",
     "output_type": "stream",
     "text": [
      "Среднее кол-во событий на пользователя группы A равно 7.0\n",
      "\n",
      "Среднее кол-во событий на пользователя группы B равно 5.0\n",
      "\n"
     ]
    }
   ],
   "source": [
    "events_by_users = final_users_test.groupby(['group', 'user_id'], as_index=False).agg({'user_id': 'nunique','event_name':'count'})\n",
    "\n",
    "for i in ['A', 'B']:\n",
    "    print('Среднее кол-во событий на пользователя группы {} равно {}\\n'.format(\n",
    "        i,\n",
    "        events_by_users.query('group == @i')['event_name'].mean().round()\n",
    "    ))"
   ]
  },
  {
   "cell_type": "markdown",
   "metadata": {},
   "source": [
    "В среднем пользователи из группы А делают на 2 события больше, чем пользователи группы Б. Визуализируем эти данные:"
   ]
  },
  {
   "cell_type": "code",
   "execution_count": 46,
   "metadata": {},
   "outputs": [
    {
     "data": {
      "image/png": "[encoded data removed]",
      "text/plain": [
       "<Figure size 1440x720 with 1 Axes>"
      ]
     },
     "metadata": {},
     "output_type": "display_data"
    }
   ],
   "source": [
    "plt.figure(figsize = (20, 10))\n",
    "sns.histplot(data=events_by_users, x='event_name', hue='group', multiple='dodge')\n",
    "plt.title('Количество событий на пользователя')\n",
    "plt.xlabel('Количество событий')\n",
    "plt.ylabel('Количество пользователей')\n",
    "plt.show()"
   ]
  },
  {
   "cell_type": "markdown",
   "metadata": {},
   "source": [
    "# Проверим распределение событий и пользователей по дням:"
   ]
  },
  {
   "cell_type": "code",
   "execution_count": 47,
   "metadata": {
    "scrolled": true
   },
   "outputs": [
    {
     "data": {
      "text/html": [
       "<div>\n",
       "<style scoped>\n",
       "    .dataframe tbody tr th:only-of-type {\n",
       "        vertical-align: middle;\n",
       "    }\n",
       "\n",
       "    .dataframe tbody tr th {\n",
       "        vertical-align: top;\n",
       "    }\n",
       "\n",
       "    .dataframe thead th {\n",
       "        text-align: right;\n",
       "    }\n",
       "</style>\n",
       "<table border=\"1\" class=\"dataframe\">\n",
       "  <thead>\n",
       "    <tr style=\"text-align: right;\">\n",
       "      <th></th>\n",
       "      <th>event_dt</th>\n",
       "      <th>group</th>\n",
       "      <th>events_count</th>\n",
       "    </tr>\n",
       "  </thead>\n",
       "  <tbody>\n",
       "    <tr>\n",
       "      <th>0</th>\n",
       "      <td>2020-12-07</td>\n",
       "      <td>A</td>\n",
       "      <td>331</td>\n",
       "    </tr>\n",
       "    <tr>\n",
       "      <th>1</th>\n",
       "      <td>2020-12-07</td>\n",
       "      <td>B</td>\n",
       "      <td>378</td>\n",
       "    </tr>\n",
       "    <tr>\n",
       "      <th>2</th>\n",
       "      <td>2020-12-08</td>\n",
       "      <td>A</td>\n",
       "      <td>341</td>\n",
       "    </tr>\n",
       "    <tr>\n",
       "      <th>3</th>\n",
       "      <td>2020-12-08</td>\n",
       "      <td>B</td>\n",
       "      <td>252</td>\n",
       "    </tr>\n",
       "    <tr>\n",
       "      <th>4</th>\n",
       "      <td>2020-12-09</td>\n",
       "      <td>A</td>\n",
       "      <td>385</td>\n",
       "    </tr>\n",
       "  </tbody>\n",
       "</table>\n",
       "</div>"
      ],
      "text/plain": [
       "     event_dt group  events_count\n",
       "0  2020-12-07     A           331\n",
       "1  2020-12-07     B           378\n",
       "2  2020-12-08     A           341\n",
       "3  2020-12-08     B           252\n",
       "4  2020-12-09     A           385"
      ]
     },
     "execution_count": 47,
     "metadata": {},
     "output_type": "execute_result"
    }
   ],
   "source": [
    "final_users_test['event_dt'] = final_users_test['event_dt'].dt.date\n",
    "events_by_date = (final_users_test.groupby(['event_dt', 'group'], as_index=False)['user_id'].count().rename(columns={'user_id':'events_count'}))\n",
    "events_by_date.head()"
   ]
  },
  {
   "cell_type": "markdown",
   "metadata": {},
   "source": [
    "Визуализируем полученные данные:"
   ]
  },
  {
   "cell_type": "code",
   "execution_count": 48,
   "metadata": {},
   "outputs": [
    {
     "data": {
      "image/png": "[encoded data removed]"
     },
     "metadata": {},
     "output_type": "display_data"
    }
   ],
   "source": [
    "fig = px.bar(events_by_date, x='event_dt', y='events_count', color='group', \n",
    "             title='Распределение событий по дням в двух группах', \n",
    "             color_discrete_sequence=['#0081B4', '#FF884B'])\n",
    "fig.update_xaxes(title_text='Дата')\n",
    "fig.update_yaxes(title_text='Количество событий')\n",
    "\n",
    "fig.show(\"png\")"
   ]
  },
  {
   "cell_type": "markdown",
   "metadata": {},
   "source": [
    "Тест запустили 7 декабря, 14 декабря пошел резкий рост числа событий с выходом на пик 21 декабря. Далее пошло их снижение вплоть до 30 декабря. Сам тест длился до 4 января, но данные по нему либо утеряны, либо событий не было в этот период. Во втором случае есть вероятность, что 30 декабря тоже было больше событий, но на этот день также пришлась часть потерь данных."
   ]
  },
  {
   "cell_type": "markdown",
   "metadata": {},
   "source": [
    "# Проверим, как меняется конверсия в воронке в выборках на разных этапах"
   ]
  },
  {
   "cell_type": "code",
   "execution_count": 49,
   "metadata": {},
   "outputs": [
    {
     "data": {
      "text/html": [
       "<div>\n",
       "<style scoped>\n",
       "    .dataframe tbody tr th:only-of-type {\n",
       "        vertical-align: middle;\n",
       "    }\n",
       "\n",
       "    .dataframe tbody tr th {\n",
       "        vertical-align: top;\n",
       "    }\n",
       "\n",
       "    .dataframe thead th {\n",
       "        text-align: right;\n",
       "    }\n",
       "</style>\n",
       "<table border=\"1\" class=\"dataframe\">\n",
       "  <thead>\n",
       "    <tr style=\"text-align: right;\">\n",
       "      <th></th>\n",
       "      <th>event</th>\n",
       "      <th>user_id_count</th>\n",
       "      <th>user_id_unique</th>\n",
       "      <th>event_per_user</th>\n",
       "    </tr>\n",
       "  </thead>\n",
       "  <tbody>\n",
       "    <tr>\n",
       "      <th>0</th>\n",
       "      <td>login</td>\n",
       "      <td>10794</td>\n",
       "      <td>3674</td>\n",
       "      <td>2.937942</td>\n",
       "    </tr>\n",
       "    <tr>\n",
       "      <th>2</th>\n",
       "      <td>product_page</td>\n",
       "      <td>6684</td>\n",
       "      <td>2303</td>\n",
       "      <td>2.902301</td>\n",
       "    </tr>\n",
       "    <tr>\n",
       "      <th>3</th>\n",
       "      <td>purchase</td>\n",
       "      <td>3232</td>\n",
       "      <td>1128</td>\n",
       "      <td>2.865248</td>\n",
       "    </tr>\n",
       "    <tr>\n",
       "      <th>1</th>\n",
       "      <td>product_cart</td>\n",
       "      <td>3146</td>\n",
       "      <td>1079</td>\n",
       "      <td>2.915663</td>\n",
       "    </tr>\n",
       "  </tbody>\n",
       "</table>\n",
       "</div>"
      ],
      "text/plain": [
       "          event  user_id_count  user_id_unique  event_per_user\n",
       "0         login          10794            3674        2.937942\n",
       "2  product_page           6684            2303        2.902301\n",
       "3      purchase           3232            1128        2.865248\n",
       "1  product_cart           3146            1079        2.915663"
      ]
     },
     "execution_count": 49,
     "metadata": {},
     "output_type": "execute_result"
    }
   ],
   "source": [
    "event_conv = final_users_test.groupby(['event_name']).agg({'user_id':['count', 'nunique']}).reset_index()\n",
    "event_conv.columns = ['event', 'user_id_count', 'user_id_unique']\n",
    "event_conv = event_conv.sort_values('user_id_count', ascending=False)\n",
    "event_conv['event_per_user'] = event_conv['user_id_count'] / event_conv['user_id_unique']\n",
    "event_conv"
   ]
  },
  {
   "cell_type": "markdown",
   "metadata": {},
   "source": [
    "Воронка делится на 4 этапа:\n",
    "* login - пользователь попадает на сайт\n",
    "* product_page - посмотрел попадает на товарную карточку\n",
    "* product_cart - добавил товар в корзину\n",
    "* purchase - оплатил покупку"
   ]
  },
  {
   "cell_type": "markdown",
   "metadata": {},
   "source": [
    "Напишем функции для будущей визуализации воронки конверсий по группам А и В:"
   ]
  },
  {
   "cell_type": "code",
   "execution_count": 50,
   "metadata": {},
   "outputs": [],
   "source": [
    "funnel_A = final_users_test[final_users_test['group']==\"A\"].groupby('event_name').agg({'event_name':'count', 'user_id':'nunique'})\n",
    "funnel_A.columns = ['event_count','user_count']\n",
    "funnel_A = funnel_A.sort_values(by = 'event_count', ascending = False).reset_index().reindex([0,1,3,2])\n",
    "\n",
    "funnel_B = final_users_test[final_users_test['group']==\"B\"].groupby('event_name').agg({'event_name':'count', 'user_id':'nunique'})\n",
    "funnel_B.columns = ['event_count','user_count']\n",
    "funnel_B = funnel_B.sort_values(by = 'event_count', ascending = False).reset_index()"
   ]
  },
  {
   "cell_type": "markdown",
   "metadata": {},
   "source": [
    "Визуализируем полученные данные:"
   ]
  },
  {
   "cell_type": "code",
   "execution_count": 51,
   "metadata": {},
   "outputs": [
    {
     "data": {
      "image/png": "[encoded data removed]"
     },
     "metadata": {},
     "output_type": "display_data"
    }
   ],
   "source": [
    "fig = go.Figure()\n",
    "\n",
    "fig.add_trace(go.Funnel(\n",
    "    name = 'A',\n",
    "    y = funnel_A['event_name'],\n",
    "    x = funnel_A['user_count'],\n",
    "    opacity = 0.85, marker = {\"color\": [\"#3C79F5\", \"#3C79F5\", \"#3C79F5\", \"#3C79F5\"],\n",
    "    \"line\": {\"width\": [6, 4, 3, 2, 1], \"color\": [\"black\", \"black\", \"black\", \"black\"]}},\n",
    "    textinfo = \"value+percent initial\"))\n",
    "\n",
    "fig.add_trace(go.Funnel(\n",
    "    name = 'B',\n",
    "    orientation = \"h\",\n",
    "    y = funnel_B['event_name'],\n",
    "    x = funnel_B['user_count'],\n",
    "    opacity = 0.85, marker = {\"color\": [\"#FF884B\", \"#FF884B\", \"#FF884B\", \"#FF884B\"],\n",
    "    \"line\": {\"width\": [6, 4, 4, 2, 1], \"color\": [\"black\", \"black\", \"black\", \"black\"]}},\n",
    "    textposition = \"inside\",\n",
    "    textinfo = \"value+percent initial\"))\n",
    "\n",
    "fig.update_layout(title_text = 'Воронка конверсии событий по группам А и В', width=1000, height=800)\n",
    "fig.show(\"png\")"
   ]
  },
  {
   "cell_type": "markdown",
   "metadata": {},
   "source": [
    "По воронке видно следующее:\n",
    "\n",
    "Группа А:\n",
    "\n",
    "* Из 100% пришедших на сайт 65% перешли на товарную карточку;\n",
    "* 32% совершили оплату покупки;\n",
    "* 30% добавили товар в корзину.\n",
    "\n",
    "Группа В:\n",
    "\n",
    "* Из 100% пришедших на сайт 56% перешли на товарную карточку;\n",
    "* 28% совершили оплату покупки;\n",
    "* 28% добавили товар в корзину.\n",
    "\n",
    "Получается, что показатели группы А лучше, чем у группы В на каждом из этапов воронки. \n",
    "\n",
    "Необычно выглядит то, что у группы А добавивших товар в корзину меньше, чем оплативших его. Это может быть объяснено тем, что на сайте есть функция \"Купить в 1 клик\", когда для покупки товара не требуется опускать его в корзину."
   ]
  },
  {
   "cell_type": "markdown",
   "metadata": {},
   "source": [
    "# Особенности данных, которые нужно учесть, прежде чем приступать к A/B-тестированию"
   ]
  },
  {
   "cell_type": "markdown",
   "metadata": {},
   "source": [
    "* В датасете были также данные по другому тесту - 'interface_eu_test', мы их убрали.\n",
    "* Параллельно с нашим тестом в регионе EU шло еще одно маркетинговое мероприятие - \"Christmas&New Year Promo\". Оно началось после того, как мы взяли новых пользователей, поэтому на их набор не повлияло. При этом оно проводилось в то время, как шло наше исследование, это могло повлиять на его результаты.\n",
    "* В группе В оказалось почти на 1000 пользователей меньше, чем в группе А.\n",
    "* В среднем кол-во событий на пользователя группы A было на 1 больше, чем кол-во событий на пользователя группы B.\n",
    "* В датасете нет данных с 30-го декабря (частично) и по 4 января (включительно). Это может быть связано как с потерей данных, так и с отсутствием событий в эти дни (все-таки праздники). Первое вероятнее."
   ]
  },
  {
   "cell_type": "markdown",
   "metadata": {},
   "source": [
    "# Шаг 5. A/B-тестирование"
   ]
  },
  {
   "cell_type": "code",
   "execution_count": 52,
   "metadata": {},
   "outputs": [
    {
     "data": {
      "text/html": [
       "<div>\n",
       "<style scoped>\n",
       "    .dataframe tbody tr th:only-of-type {\n",
       "        vertical-align: middle;\n",
       "    }\n",
       "\n",
       "    .dataframe tbody tr th {\n",
       "        vertical-align: top;\n",
       "    }\n",
       "\n",
       "    .dataframe thead th {\n",
       "        text-align: right;\n",
       "    }\n",
       "</style>\n",
       "<table border=\"1\" class=\"dataframe\">\n",
       "  <thead>\n",
       "    <tr style=\"text-align: right;\">\n",
       "      <th></th>\n",
       "      <th>user_id</th>\n",
       "      <th>group</th>\n",
       "      <th>ab_test</th>\n",
       "      <th>first_date</th>\n",
       "      <th>region</th>\n",
       "      <th>device</th>\n",
       "      <th>event_dt</th>\n",
       "      <th>event_name</th>\n",
       "      <th>details</th>\n",
       "      <th>lifetime</th>\n",
       "    </tr>\n",
       "  </thead>\n",
       "  <tbody>\n",
       "    <tr>\n",
       "      <th>0</th>\n",
       "      <td>D1ABA3E2887B6A73</td>\n",
       "      <td>A</td>\n",
       "      <td>recommender_system_test</td>\n",
       "      <td>2020-12-07</td>\n",
       "      <td>EU</td>\n",
       "      <td>PC</td>\n",
       "      <td>2020-12-07</td>\n",
       "      <td>purchase</td>\n",
       "      <td>99.99</td>\n",
       "      <td>0</td>\n",
       "    </tr>\n",
       "    <tr>\n",
       "      <th>2</th>\n",
       "      <td>D1ABA3E2887B6A73</td>\n",
       "      <td>A</td>\n",
       "      <td>recommender_system_test</td>\n",
       "      <td>2020-12-07</td>\n",
       "      <td>EU</td>\n",
       "      <td>PC</td>\n",
       "      <td>2020-12-07</td>\n",
       "      <td>product_cart</td>\n",
       "      <td>NaN</td>\n",
       "      <td>0</td>\n",
       "    </tr>\n",
       "    <tr>\n",
       "      <th>4</th>\n",
       "      <td>D1ABA3E2887B6A73</td>\n",
       "      <td>A</td>\n",
       "      <td>recommender_system_test</td>\n",
       "      <td>2020-12-07</td>\n",
       "      <td>EU</td>\n",
       "      <td>PC</td>\n",
       "      <td>2020-12-07</td>\n",
       "      <td>product_page</td>\n",
       "      <td>NaN</td>\n",
       "      <td>0</td>\n",
       "    </tr>\n",
       "    <tr>\n",
       "      <th>6</th>\n",
       "      <td>D1ABA3E2887B6A73</td>\n",
       "      <td>A</td>\n",
       "      <td>recommender_system_test</td>\n",
       "      <td>2020-12-07</td>\n",
       "      <td>EU</td>\n",
       "      <td>PC</td>\n",
       "      <td>2020-12-07</td>\n",
       "      <td>login</td>\n",
       "      <td>NaN</td>\n",
       "      <td>0</td>\n",
       "    </tr>\n",
       "    <tr>\n",
       "      <th>8</th>\n",
       "      <td>A7A3664BD6242119</td>\n",
       "      <td>A</td>\n",
       "      <td>recommender_system_test</td>\n",
       "      <td>2020-12-20</td>\n",
       "      <td>EU</td>\n",
       "      <td>iPhone</td>\n",
       "      <td>2020-12-20</td>\n",
       "      <td>product_page</td>\n",
       "      <td>NaN</td>\n",
       "      <td>0</td>\n",
       "    </tr>\n",
       "  </tbody>\n",
       "</table>\n",
       "</div>"
      ],
      "text/plain": [
       "            user_id group                  ab_test first_date region  device  \\\n",
       "0  D1ABA3E2887B6A73     A  recommender_system_test 2020-12-07     EU      PC   \n",
       "2  D1ABA3E2887B6A73     A  recommender_system_test 2020-12-07     EU      PC   \n",
       "4  D1ABA3E2887B6A73     A  recommender_system_test 2020-12-07     EU      PC   \n",
       "6  D1ABA3E2887B6A73     A  recommender_system_test 2020-12-07     EU      PC   \n",
       "8  A7A3664BD6242119     A  recommender_system_test 2020-12-20     EU  iPhone   \n",
       "\n",
       "     event_dt    event_name  details  lifetime  \n",
       "0  2020-12-07      purchase    99.99         0  \n",
       "2  2020-12-07  product_cart      NaN         0  \n",
       "4  2020-12-07  product_page      NaN         0  \n",
       "6  2020-12-07         login      NaN         0  \n",
       "8  2020-12-20  product_page      NaN         0  "
      ]
     },
     "execution_count": 52,
     "metadata": {},
     "output_type": "execute_result"
    }
   ],
   "source": [
    "final_users_test.head()"
   ]
  },
  {
   "cell_type": "code",
   "execution_count": 53,
   "metadata": {},
   "outputs": [],
   "source": [
    "# заменим тип данных в event_dt снова на 'datetime'\n",
    "final_users_test['event_dt'] = pd.to_datetime(final_users_test['event_dt'])"
   ]
  },
  {
   "cell_type": "code",
   "execution_count": 54,
   "metadata": {},
   "outputs": [
    {
     "data": {
      "text/html": [
       "<div>\n",
       "<style scoped>\n",
       "    .dataframe tbody tr th:only-of-type {\n",
       "        vertical-align: middle;\n",
       "    }\n",
       "\n",
       "    .dataframe tbody tr th {\n",
       "        vertical-align: top;\n",
       "    }\n",
       "\n",
       "    .dataframe thead th {\n",
       "        text-align: right;\n",
       "    }\n",
       "</style>\n",
       "<table border=\"1\" class=\"dataframe\">\n",
       "  <thead>\n",
       "    <tr style=\"text-align: right;\">\n",
       "      <th></th>\n",
       "      <th>lifetime</th>\n",
       "      <th>group</th>\n",
       "      <th>event_name</th>\n",
       "      <th>events_count</th>\n",
       "    </tr>\n",
       "  </thead>\n",
       "  <tbody>\n",
       "    <tr>\n",
       "      <th>0</th>\n",
       "      <td>0</td>\n",
       "      <td>A</td>\n",
       "      <td>login</td>\n",
       "      <td>2738</td>\n",
       "    </tr>\n",
       "    <tr>\n",
       "      <th>1</th>\n",
       "      <td>0</td>\n",
       "      <td>A</td>\n",
       "      <td>product_cart</td>\n",
       "      <td>823</td>\n",
       "    </tr>\n",
       "    <tr>\n",
       "      <th>2</th>\n",
       "      <td>0</td>\n",
       "      <td>A</td>\n",
       "      <td>product_page</td>\n",
       "      <td>1777</td>\n",
       "    </tr>\n",
       "    <tr>\n",
       "      <th>3</th>\n",
       "      <td>0</td>\n",
       "      <td>A</td>\n",
       "      <td>purchase</td>\n",
       "      <td>869</td>\n",
       "    </tr>\n",
       "    <tr>\n",
       "      <th>4</th>\n",
       "      <td>0</td>\n",
       "      <td>B</td>\n",
       "      <td>login</td>\n",
       "      <td>911</td>\n",
       "    </tr>\n",
       "  </tbody>\n",
       "</table>\n",
       "</div>"
      ],
      "text/plain": [
       "   lifetime group    event_name  events_count\n",
       "0         0     A         login          2738\n",
       "1         0     A  product_cart           823\n",
       "2         0     A  product_page          1777\n",
       "3         0     A      purchase           869\n",
       "4         0     B         login           911"
      ]
     },
     "execution_count": 54,
     "metadata": {},
     "output_type": "execute_result"
    }
   ],
   "source": [
    "conversion = (final_users_test.groupby(['lifetime', 'group', 'event_name'], as_index=False)['user_id'].count()\n",
    "                  .rename(columns={'user_id':'events_count'}))\n",
    "conversion.head()"
   ]
  },
  {
   "cell_type": "markdown",
   "metadata": {},
   "source": [
    "Создадим датасет с событиями 'product_page':"
   ]
  },
  {
   "cell_type": "code",
   "execution_count": 55,
   "metadata": {},
   "outputs": [],
   "source": [
    "product_pages = conversion.query('event_name == \"product_page\"')\n",
    "product_pages['events_cumsum'] = product_pages.groupby('group')['events_count'].cumsum()\n",
    "a_product_pages = round((product_pages.iloc[-2]['events_cumsum'] - product_pages.iloc[0]['events_cumsum']) \n",
    "                        / product_pages.iloc[0]['events_cumsum'], 3) \n",
    "b_product_pages = round((product_pages.iloc[-1]['events_cumsum'] - product_pages.iloc[1]['events_cumsum']) \n",
    "                        / product_pages.iloc[1]['events_cumsum'], 3)"
   ]
  },
  {
   "cell_type": "markdown",
   "metadata": {},
   "source": [
    "Создадим датасет с событиями 'product_cart':"
   ]
  },
  {
   "cell_type": "code",
   "execution_count": 56,
   "metadata": {},
   "outputs": [],
   "source": [
    "product_carts = conversion.query('event_name == \"product_cart\"')\n",
    "product_carts['events_cumsum'] = product_carts.groupby('group')['events_count'].cumsum()\n",
    "a_product_carts = round((product_carts.iloc[-2]['events_cumsum'] - product_carts.iloc[0]['events_cumsum']) \n",
    "                        / product_carts.iloc[0]['events_cumsum'], 3) \n",
    "b_product_carts = round((product_carts.iloc[-1]['events_cumsum'] - product_carts.iloc[1]['events_cumsum']) \n",
    "                        / product_carts.iloc[1]['events_cumsum'], 3)"
   ]
  },
  {
   "cell_type": "markdown",
   "metadata": {},
   "source": [
    "Создадим датасет с событиями 'purchases':"
   ]
  },
  {
   "cell_type": "code",
   "execution_count": 57,
   "metadata": {},
   "outputs": [],
   "source": [
    "purchases = conversion.query('event_name == \"purchase\"')\n",
    "purchases['events_cumsum'] = purchases.groupby('group')['events_count'].cumsum()\n",
    "a_purchases = round((purchases.iloc[-2]['events_cumsum'] - purchases.iloc[0]['events_cumsum']) \n",
    "                     / purchases.iloc[0]['events_cumsum'], 3) \n",
    "b_purchases = round((purchases.iloc[-1]['events_cumsum'] - purchases.iloc[1]['events_cumsum']) \n",
    "                    / purchases.iloc[1]['events_cumsum'], 3)"
   ]
  },
  {
   "cell_type": "markdown",
   "metadata": {},
   "source": [
    "Оценим полученные результаты:"
   ]
  },
  {
   "cell_type": "code",
   "execution_count": 58,
   "metadata": {},
   "outputs": [
    {
     "name": "stdout",
     "output_type": "stream",
     "text": [
      "Группа А - переход на товарную страницу: 2.023\n",
      "Группа B - переход на товарную страницу: 1.575\n",
      "\n",
      "---------------------------------------------------------------------------------------------------------\n",
      "Группа A - добавление товара в корзину: 2.032\n",
      "Группа B - добавление товара в корзину: 1.604\n",
      "\n",
      "---------------------------------------------------------------------------------------------------------\n",
      "Группа А - оплата товара: 1.99\n",
      "Группа B - оплата товара: 1.506\n"
     ]
    }
   ],
   "source": [
    "print(\"Группа А - переход на товарную страницу:\", a_product_pages)\n",
    "print(\"Группа B - переход на товарную страницу:\", b_product_pages, end='\\n\\n')\n",
    "print('---------------------------------------------------------------------------------------------------------')\n",
    "print(\"Группа A - добавление товара в корзину:\", a_product_carts)\n",
    "print(\"Группа B - добавление товара в корзину:\", b_product_carts, end='\\n\\n')\n",
    "print('---------------------------------------------------------------------------------------------------------')\n",
    "print(\"Группа А - оплата товара:\", a_purchases)\n",
    "print(\"Группа B - оплата товара:\", b_purchases)"
   ]
  },
  {
   "cell_type": "markdown",
   "metadata": {},
   "source": [
    "Выводы:\n",
    "\n",
    "Переход на товарную страницу, динамика за 2 недели с дня регистрации пользователя:\n",
    "\n",
    "* Группа А - рост на 102,3%\n",
    "* Группа B - рост на 57,5%\n",
    "\n",
    "Добавление товара в корзину, динамика за 2 недели с дня регистрации пользователя:\n",
    "\n",
    "* Группа А - рост на 103,2%\n",
    "* Группа B - рост на 60,4%\n",
    "\n",
    "Оплата товара, динамика за 2 недели с дня регистрации пользователя:\n",
    "\n",
    "* Группа А - рост на 99 %\n",
    "* Группа B - рост на 50,6%"
   ]
  },
  {
   "cell_type": "markdown",
   "metadata": {},
   "source": [
    "# Проверка статистической разницы долей z-критерием"
   ]
  },
  {
   "cell_type": "markdown",
   "metadata": {},
   "source": [
    "Сравним пропорции основных метрик: 'product_page', 'product_cart' и 'purchase' с помощью z-критерия.\n",
    "\n",
    "H0: Доли значений метрик в группах равны.\n",
    "\n",
    "H1: Доли значений метрик в группах не равны.\n",
    "\n",
    "Критический уровень значимости (альфа) будем рассчитывать с помощью поправки Бонферрони, т.к. будем проводить множественные тесты на одинаковом наборе данных (без сбора новых наблюдений). Возьмем альфа = 0.05, а с поправкой альфа = 0.05 / 3 = 0.016.\n",
    "\n",
    "Поскольку число пользователей в разных группах отличается, будем проверять z-критерием количество событий на одного пользователя, чтобы компенсировать эту разницу."
   ]
  },
  {
   "cell_type": "code",
   "execution_count": 59,
   "metadata": {},
   "outputs": [],
   "source": [
    "# таблица по lifetime, group, + количество событий\n",
    "users_count = (final_users_test.groupby(['lifetime','group'], as_index=False)['user_id'].nunique()\n",
    "               .rename(columns={'user_id':'users_count'}))\n",
    "\n",
    "# события product_page\n",
    "product_pages = product_pages.merge(users_count, on=['lifetime', 'group'])\n",
    "product_pages['event_by_user'] = product_pages['events_count'] / product_pages['users_count']\n",
    "\n",
    "# события product_cart\n",
    "product_carts = product_carts.merge(users_count, on=['lifetime', 'group'])\n",
    "product_carts['event_by_user'] = product_carts['events_count'] / product_carts['users_count']\n",
    "\n",
    "# события purchase\n",
    "purchases = purchases.merge(users_count, on=['lifetime', 'group'])\n",
    "purchases['event_by_user'] = purchases['events_count'] / purchases['users_count']"
   ]
  },
  {
   "cell_type": "markdown",
   "metadata": {},
   "source": [
    "Оценим средние значения метрик:"
   ]
  },
  {
   "cell_type": "code",
   "execution_count": 60,
   "metadata": {},
   "outputs": [
    {
     "name": "stdout",
     "output_type": "stream",
     "text": [
      "Тип события product_pages\n"
     ]
    },
    {
     "data": {
      "text/plain": [
       "group\n",
       "A    0.643813\n",
       "B    0.525895\n",
       "Name: event_by_user, dtype: float64"
      ]
     },
     "metadata": {},
     "output_type": "display_data"
    },
    {
     "name": "stdout",
     "output_type": "stream",
     "text": [
      "Тип события product_carts\n"
     ]
    },
    {
     "data": {
      "text/plain": [
       "group\n",
       "A    0.295753\n",
       "B    0.256690\n",
       "Name: event_by_user, dtype: float64"
      ]
     },
     "metadata": {},
     "output_type": "display_data"
    },
    {
     "name": "stdout",
     "output_type": "stream",
     "text": [
      "Тип события purchases\n"
     ]
    },
    {
     "data": {
      "text/plain": [
       "group\n",
       "A    0.308745\n",
       "B    0.248406\n",
       "Name: event_by_user, dtype: float64"
      ]
     },
     "metadata": {},
     "output_type": "display_data"
    }
   ],
   "source": [
    "print('Тип события product_pages')\n",
    "display(product_pages.groupby('group')['event_by_user'].mean())\n",
    "print('Тип события product_carts')\n",
    "display(product_carts.groupby('group')['event_by_user'].mean())\n",
    "print('Тип события purchases')\n",
    "display(purchases.groupby('group')['event_by_user'].mean())"
   ]
  },
  {
   "cell_type": "markdown",
   "metadata": {},
   "source": [
    "Напишем функцию для расчета z-теста:"
   ]
  },
  {
   "cell_type": "code",
   "execution_count": 61,
   "metadata": {},
   "outputs": [],
   "source": [
    "def func_z_test(event):\n",
    "    z_test = ztest(event.query('group == \"A\"')['event_by_user'], \n",
    "                   event.query('group == \"B\"')['event_by_user'], value=0)[1]\n",
    "    print(\"p-value:\", z_test)"
   ]
  },
  {
   "cell_type": "code",
   "execution_count": 62,
   "metadata": {},
   "outputs": [
    {
     "name": "stdout",
     "output_type": "stream",
     "text": [
      "p-value: 2.32898544796704e-13\n"
     ]
    }
   ],
   "source": [
    "func_z_test(product_pages)"
   ]
  },
  {
   "cell_type": "code",
   "execution_count": 63,
   "metadata": {},
   "outputs": [
    {
     "name": "stdout",
     "output_type": "stream",
     "text": [
      "p-value: 0.008374594187157861\n"
     ]
    }
   ],
   "source": [
    "func_z_test(product_carts)"
   ]
  },
  {
   "cell_type": "code",
   "execution_count": 64,
   "metadata": {},
   "outputs": [
    {
     "name": "stdout",
     "output_type": "stream",
     "text": [
      "p-value: 1.455949693254727e-06\n"
     ]
    }
   ],
   "source": [
    "func_z_test(purchases)"
   ]
  },
  {
   "cell_type": "markdown",
   "metadata": {},
   "source": [
    "Выводы:\n",
    "\n",
    "Для двух метрик ('product_pages' и 'purchases') p-value больше альфы, поэтому в этих случаях отвергаем нулевую гипотезу: между долями есть значимая разница.\n",
    "\n",
    "В случае с метрикой 'product_carts' p-value меньше альфы, поэтому в этом случае не отвергаем нулевую гипотезу: между долями нет значимой разницы."
   ]
  },
  {
   "cell_type": "markdown",
   "metadata": {},
   "source": [
    "# Результаты тестирования и выводы"
   ]
  },
  {
   "cell_type": "markdown",
   "metadata": {},
   "source": [
    "Тестирование проведено некорректно, поскольку:\n",
    "* Многие пользователи попали еще в один тест - 'interface_eu_test'.\n",
    "* Параллельно с нашим тестом в регионе EU шло еще одно маркетинговое мероприятие - \"Christmas&New Year Promo\", что могло повлиять на его результаты.\n",
    "* Пользователи в группах были распределены неравномерно: в группе В оказалось почти на 1000 пользователей меньше, чем в группе А.\n",
    "* В датасете отсутствовали данные с 30-го декабря (частично) и по 4 января (включительно). Это, скорее всего, связано с потерей данных.\n",
    "\n",
    "Все эти факторы однозначно отрицательно повлияли на результаты AB-тестирования, поэтому выводы из него использовать нельзя. Рекомендуется учесть эти моменты и провести еще одно AB-тестирование, но уже с корректными вводными данными."
   ]
  }
 ],
 "metadata": {
  "ExecuteTimeLog": [
   {
    "duration": 11,
    "start_time": "2023-05-17T14:17:17.548Z"
   },
   {
    "duration": 1665,
    "start_time": "2023-05-17T14:25:30.066Z"
   },
   {
    "duration": 1596,
    "start_time": "2023-05-17T14:25:38.637Z"
   },
   {
    "duration": 17,
    "start_time": "2023-05-17T14:26:09.239Z"
   },
   {
    "duration": 13,
    "start_time": "2023-05-17T14:26:19.746Z"
   },
   {
    "duration": 10,
    "start_time": "2023-05-17T14:26:28.553Z"
   },
   {
    "duration": 8,
    "start_time": "2023-05-17T14:26:35.746Z"
   },
   {
    "duration": 69,
    "start_time": "2023-05-17T14:27:21.482Z"
   },
   {
    "duration": 107,
    "start_time": "2023-05-17T14:27:57.504Z"
   },
   {
    "duration": 362,
    "start_time": "2023-05-17T14:28:04.700Z"
   },
   {
    "duration": 53,
    "start_time": "2023-05-17T14:28:19.894Z"
   },
   {
    "duration": 26,
    "start_time": "2023-05-17T14:28:38.214Z"
   },
   {
    "duration": 4,
    "start_time": "2023-05-17T14:29:00.482Z"
   },
   {
    "duration": 11,
    "start_time": "2023-05-17T14:29:36.538Z"
   },
   {
    "duration": 1315,
    "start_time": "2023-05-17T14:29:47.383Z"
   },
   {
    "duration": 1192,
    "start_time": "2023-05-17T14:29:48.700Z"
   },
   {
    "duration": 12,
    "start_time": "2023-05-17T14:29:49.894Z"
   },
   {
    "duration": 24,
    "start_time": "2023-05-17T14:29:49.908Z"
   },
   {
    "duration": 25,
    "start_time": "2023-05-17T14:29:49.941Z"
   },
   {
    "duration": 13,
    "start_time": "2023-05-17T14:29:49.968Z"
   },
   {
    "duration": 78,
    "start_time": "2023-05-17T14:29:49.982Z"
   },
   {
    "duration": 107,
    "start_time": "2023-05-17T14:29:50.061Z"
   },
   {
    "duration": 39,
    "start_time": "2023-05-17T14:29:50.169Z"
   },
   {
    "duration": 46,
    "start_time": "2023-05-17T14:29:50.209Z"
   },
   {
    "duration": 7,
    "start_time": "2023-05-17T14:29:50.257Z"
   },
   {
    "duration": 12,
    "start_time": "2023-05-17T14:30:32.534Z"
   },
   {
    "duration": 22,
    "start_time": "2023-05-17T14:30:48.549Z"
   },
   {
    "duration": 17,
    "start_time": "2023-05-17T14:31:11.942Z"
   },
   {
    "duration": 21,
    "start_time": "2023-05-17T14:31:36.002Z"
   },
   {
    "duration": 12,
    "start_time": "2023-05-17T14:35:03.766Z"
   },
   {
    "duration": 182,
    "start_time": "2023-05-17T14:36:37.402Z"
   },
   {
    "duration": 7,
    "start_time": "2023-05-17T14:36:44.942Z"
   },
   {
    "duration": 35,
    "start_time": "2023-05-17T14:36:52.090Z"
   },
   {
    "duration": 13,
    "start_time": "2023-05-17T14:38:21.621Z"
   },
   {
    "duration": 350,
    "start_time": "2023-05-17T14:39:21.542Z"
   },
   {
    "duration": 8,
    "start_time": "2023-05-17T14:39:39.401Z"
   },
   {
    "duration": 16,
    "start_time": "2023-05-17T14:40:20.578Z"
   },
   {
    "duration": 37,
    "start_time": "2023-05-17T14:40:52.334Z"
   },
   {
    "duration": 20,
    "start_time": "2023-05-17T14:41:21.038Z"
   },
   {
    "duration": 5,
    "start_time": "2023-05-17T14:42:03.578Z"
   },
   {
    "duration": 13,
    "start_time": "2023-05-17T14:42:13.122Z"
   },
   {
    "duration": 278,
    "start_time": "2023-05-17T14:42:41.874Z"
   },
   {
    "duration": 225,
    "start_time": "2023-05-17T14:42:48.214Z"
   },
   {
    "duration": 6,
    "start_time": "2023-05-17T14:43:05.182Z"
   },
   {
    "duration": 5,
    "start_time": "2023-05-17T14:43:32.802Z"
   },
   {
    "duration": 8,
    "start_time": "2023-05-17T14:44:03.882Z"
   },
   {
    "duration": 11,
    "start_time": "2023-05-17T14:44:24.017Z"
   },
   {
    "duration": 18,
    "start_time": "2023-05-17T14:44:31.613Z"
   },
   {
    "duration": 38,
    "start_time": "2023-05-17T14:45:27.774Z"
   },
   {
    "duration": 15,
    "start_time": "2023-05-17T14:46:10.438Z"
   },
   {
    "duration": 166,
    "start_time": "2023-05-17T15:16:09.099Z"
   },
   {
    "duration": 35,
    "start_time": "2023-05-17T15:16:36.516Z"
   },
   {
    "duration": 45,
    "start_time": "2023-05-17T19:05:33.255Z"
   },
   {
    "duration": 1442,
    "start_time": "2023-05-17T19:05:44.354Z"
   },
   {
    "duration": 1403,
    "start_time": "2023-05-17T19:05:45.799Z"
   },
   {
    "duration": 25,
    "start_time": "2023-05-17T19:05:47.204Z"
   },
   {
    "duration": 12,
    "start_time": "2023-05-17T19:05:47.231Z"
   },
   {
    "duration": 9,
    "start_time": "2023-05-17T19:05:47.245Z"
   },
   {
    "duration": 7,
    "start_time": "2023-05-17T19:05:47.256Z"
   },
   {
    "duration": 50,
    "start_time": "2023-05-17T19:05:47.264Z"
   },
   {
    "duration": 104,
    "start_time": "2023-05-17T19:05:47.316Z"
   },
   {
    "duration": 62,
    "start_time": "2023-05-17T19:05:47.422Z"
   },
   {
    "duration": 8,
    "start_time": "2023-05-17T19:05:47.486Z"
   },
   {
    "duration": 31,
    "start_time": "2023-05-17T19:05:47.495Z"
   },
   {
    "duration": 25,
    "start_time": "2023-05-17T19:05:47.529Z"
   },
   {
    "duration": 16,
    "start_time": "2023-05-17T19:05:47.556Z"
   },
   {
    "duration": 10,
    "start_time": "2023-05-17T19:05:47.574Z"
   },
   {
    "duration": 32,
    "start_time": "2023-05-17T19:05:47.585Z"
   },
   {
    "duration": 12,
    "start_time": "2023-05-17T19:05:47.622Z"
   },
   {
    "duration": 182,
    "start_time": "2023-05-17T19:05:47.636Z"
   },
   {
    "duration": 18,
    "start_time": "2023-05-17T19:05:47.824Z"
   },
   {
    "duration": 32,
    "start_time": "2023-05-17T19:05:47.850Z"
   },
   {
    "duration": 8,
    "start_time": "2023-05-17T19:05:47.884Z"
   },
   {
    "duration": 41,
    "start_time": "2023-05-17T19:05:47.894Z"
   },
   {
    "duration": 19,
    "start_time": "2023-05-17T19:05:47.944Z"
   },
   {
    "duration": 24,
    "start_time": "2023-05-17T19:05:47.964Z"
   },
   {
    "duration": 13,
    "start_time": "2023-05-17T19:05:47.989Z"
   },
   {
    "duration": 15,
    "start_time": "2023-05-17T19:05:48.003Z"
   },
   {
    "duration": 25,
    "start_time": "2023-05-17T19:05:48.019Z"
   },
   {
    "duration": 301,
    "start_time": "2023-05-17T19:05:48.046Z"
   },
   {
    "duration": 6,
    "start_time": "2023-05-17T19:05:48.351Z"
   },
   {
    "duration": 12,
    "start_time": "2023-05-17T19:05:48.358Z"
   },
   {
    "duration": 24,
    "start_time": "2023-05-17T19:05:48.371Z"
   },
   {
    "duration": 4,
    "start_time": "2023-05-17T19:05:48.397Z"
   },
   {
    "duration": 13,
    "start_time": "2023-05-17T19:05:48.402Z"
   },
   {
    "duration": 38,
    "start_time": "2023-05-17T19:05:48.421Z"
   },
   {
    "duration": 11,
    "start_time": "2023-05-17T19:05:48.462Z"
   },
   {
    "duration": 23,
    "start_time": "2023-05-17T19:05:48.475Z"
   },
   {
    "duration": 71,
    "start_time": "2023-05-17T19:06:18.395Z"
   },
   {
    "duration": 16,
    "start_time": "2023-05-17T19:06:54.982Z"
   },
   {
    "duration": 54,
    "start_time": "2023-05-17T19:09:36.394Z"
   },
   {
    "duration": 18,
    "start_time": "2023-05-17T19:09:58.281Z"
   },
   {
    "duration": 224,
    "start_time": "2023-05-17T19:12:16.273Z"
   },
   {
    "duration": 6,
    "start_time": "2023-05-17T19:12:19.049Z"
   },
   {
    "duration": 145,
    "start_time": "2023-05-17T19:12:25.351Z"
   },
   {
    "duration": 1340,
    "start_time": "2023-05-17T19:12:40.283Z"
   },
   {
    "duration": 3047,
    "start_time": "2023-05-17T19:12:41.632Z"
   },
   {
    "duration": 13,
    "start_time": "2023-05-17T19:12:44.681Z"
   },
   {
    "duration": 7,
    "start_time": "2023-05-17T19:12:44.695Z"
   },
   {
    "duration": 14,
    "start_time": "2023-05-17T19:12:44.705Z"
   },
   {
    "duration": 12,
    "start_time": "2023-05-17T19:12:44.733Z"
   },
   {
    "duration": 69,
    "start_time": "2023-05-17T19:12:44.748Z"
   },
   {
    "duration": 108,
    "start_time": "2023-05-17T19:12:44.818Z"
   },
   {
    "duration": 59,
    "start_time": "2023-05-17T19:12:44.928Z"
   },
   {
    "duration": 8,
    "start_time": "2023-05-17T19:12:44.989Z"
   },
   {
    "duration": 42,
    "start_time": "2023-05-17T19:12:44.998Z"
   },
   {
    "duration": 20,
    "start_time": "2023-05-17T19:12:45.042Z"
   },
   {
    "duration": 15,
    "start_time": "2023-05-17T19:12:45.064Z"
   },
   {
    "duration": 10,
    "start_time": "2023-05-17T19:12:45.082Z"
   },
   {
    "duration": 25,
    "start_time": "2023-05-17T19:12:45.094Z"
   },
   {
    "duration": 25,
    "start_time": "2023-05-17T19:12:45.121Z"
   },
   {
    "duration": 180,
    "start_time": "2023-05-17T19:12:45.157Z"
   },
   {
    "duration": 21,
    "start_time": "2023-05-17T19:12:45.338Z"
   },
   {
    "duration": 40,
    "start_time": "2023-05-17T19:12:45.360Z"
   },
   {
    "duration": 9,
    "start_time": "2023-05-17T19:12:45.401Z"
   },
   {
    "duration": 17,
    "start_time": "2023-05-17T19:12:45.411Z"
   },
   {
    "duration": 22,
    "start_time": "2023-05-17T19:12:45.429Z"
   },
   {
    "duration": 39,
    "start_time": "2023-05-17T19:12:45.453Z"
   },
   {
    "duration": 31,
    "start_time": "2023-05-17T19:12:45.494Z"
   },
   {
    "duration": 6,
    "start_time": "2023-05-17T19:12:45.527Z"
   },
   {
    "duration": 20,
    "start_time": "2023-05-17T19:12:45.534Z"
   },
   {
    "duration": 313,
    "start_time": "2023-05-17T19:12:45.555Z"
   },
   {
    "duration": 0,
    "start_time": "2023-05-17T19:12:45.870Z"
   },
   {
    "duration": 0,
    "start_time": "2023-05-17T19:12:45.871Z"
   },
   {
    "duration": 0,
    "start_time": "2023-05-17T19:12:45.872Z"
   },
   {
    "duration": 0,
    "start_time": "2023-05-17T19:12:45.873Z"
   },
   {
    "duration": 0,
    "start_time": "2023-05-17T19:12:45.874Z"
   },
   {
    "duration": 0,
    "start_time": "2023-05-17T19:12:45.875Z"
   },
   {
    "duration": 0,
    "start_time": "2023-05-17T19:12:45.876Z"
   },
   {
    "duration": 0,
    "start_time": "2023-05-17T19:12:45.877Z"
   },
   {
    "duration": 0,
    "start_time": "2023-05-17T19:12:45.878Z"
   },
   {
    "duration": 334,
    "start_time": "2023-05-17T19:14:46.762Z"
   },
   {
    "duration": 1829,
    "start_time": "2023-05-17T19:14:57.292Z"
   },
   {
    "duration": 1936,
    "start_time": "2023-05-17T19:14:59.131Z"
   },
   {
    "duration": 16,
    "start_time": "2023-05-17T19:15:01.079Z"
   },
   {
    "duration": 44,
    "start_time": "2023-05-17T19:15:01.099Z"
   },
   {
    "duration": 45,
    "start_time": "2023-05-17T19:15:01.151Z"
   },
   {
    "duration": 54,
    "start_time": "2023-05-17T19:15:01.198Z"
   },
   {
    "duration": 103,
    "start_time": "2023-05-17T19:15:01.253Z"
   },
   {
    "duration": 134,
    "start_time": "2023-05-17T19:15:01.358Z"
   },
   {
    "duration": 86,
    "start_time": "2023-05-17T19:15:01.493Z"
   },
   {
    "duration": 17,
    "start_time": "2023-05-17T19:15:01.584Z"
   },
   {
    "duration": 71,
    "start_time": "2023-05-17T19:15:01.604Z"
   },
   {
    "duration": 38,
    "start_time": "2023-05-17T19:15:01.677Z"
   },
   {
    "duration": 70,
    "start_time": "2023-05-17T19:15:01.717Z"
   },
   {
    "duration": 19,
    "start_time": "2023-05-17T19:15:01.790Z"
   },
   {
    "duration": 28,
    "start_time": "2023-05-17T19:15:01.814Z"
   },
   {
    "duration": 38,
    "start_time": "2023-05-17T19:15:01.847Z"
   },
   {
    "duration": 289,
    "start_time": "2023-05-17T19:15:01.892Z"
   },
   {
    "duration": 7,
    "start_time": "2023-05-17T19:15:02.182Z"
   },
   {
    "duration": 64,
    "start_time": "2023-05-17T19:15:02.191Z"
   },
   {
    "duration": 11,
    "start_time": "2023-05-17T19:15:02.260Z"
   },
   {
    "duration": 7,
    "start_time": "2023-05-17T19:15:02.273Z"
   },
   {
    "duration": 15,
    "start_time": "2023-05-17T19:15:02.281Z"
   },
   {
    "duration": 63,
    "start_time": "2023-05-17T19:15:02.298Z"
   },
   {
    "duration": 18,
    "start_time": "2023-05-17T19:15:02.365Z"
   },
   {
    "duration": 6,
    "start_time": "2023-05-17T19:15:02.385Z"
   },
   {
    "duration": 11,
    "start_time": "2023-05-17T19:15:02.392Z"
   },
   {
    "duration": 415,
    "start_time": "2023-05-17T19:15:02.405Z"
   },
   {
    "duration": 0,
    "start_time": "2023-05-17T19:15:02.822Z"
   },
   {
    "duration": 0,
    "start_time": "2023-05-17T19:15:02.824Z"
   },
   {
    "duration": 0,
    "start_time": "2023-05-17T19:15:02.825Z"
   },
   {
    "duration": 0,
    "start_time": "2023-05-17T19:15:02.826Z"
   },
   {
    "duration": 0,
    "start_time": "2023-05-17T19:15:02.828Z"
   },
   {
    "duration": 0,
    "start_time": "2023-05-17T19:15:02.829Z"
   },
   {
    "duration": 0,
    "start_time": "2023-05-17T19:15:02.831Z"
   },
   {
    "duration": 0,
    "start_time": "2023-05-17T19:15:02.832Z"
   },
   {
    "duration": 0,
    "start_time": "2023-05-17T19:15:02.833Z"
   },
   {
    "duration": 1196,
    "start_time": "2023-05-17T19:15:54.900Z"
   },
   {
    "duration": 1266,
    "start_time": "2023-05-17T19:16:04.947Z"
   },
   {
    "duration": 1404,
    "start_time": "2023-05-17T19:16:06.217Z"
   },
   {
    "duration": 15,
    "start_time": "2023-05-17T19:16:07.623Z"
   },
   {
    "duration": 15,
    "start_time": "2023-05-17T19:16:07.640Z"
   },
   {
    "duration": 12,
    "start_time": "2023-05-17T19:16:07.663Z"
   },
   {
    "duration": 10,
    "start_time": "2023-05-17T19:16:07.677Z"
   },
   {
    "duration": 76,
    "start_time": "2023-05-17T19:16:07.689Z"
   },
   {
    "duration": 132,
    "start_time": "2023-05-17T19:16:07.766Z"
   },
   {
    "duration": 59,
    "start_time": "2023-05-17T19:16:07.900Z"
   },
   {
    "duration": 13,
    "start_time": "2023-05-17T19:16:07.966Z"
   },
   {
    "duration": 8,
    "start_time": "2023-05-17T19:16:07.981Z"
   },
   {
    "duration": 25,
    "start_time": "2023-05-17T19:16:07.991Z"
   },
   {
    "duration": 38,
    "start_time": "2023-05-17T19:16:08.021Z"
   },
   {
    "duration": 13,
    "start_time": "2023-05-17T19:16:08.063Z"
   },
   {
    "duration": 17,
    "start_time": "2023-05-17T19:16:08.078Z"
   },
   {
    "duration": 30,
    "start_time": "2023-05-17T19:16:08.097Z"
   },
   {
    "duration": 239,
    "start_time": "2023-05-17T19:16:08.129Z"
   },
   {
    "duration": 5,
    "start_time": "2023-05-17T19:16:08.372Z"
   },
   {
    "duration": 47,
    "start_time": "2023-05-17T19:16:08.379Z"
   },
   {
    "duration": 13,
    "start_time": "2023-05-17T19:16:08.431Z"
   },
   {
    "duration": 13,
    "start_time": "2023-05-17T19:16:08.450Z"
   },
   {
    "duration": 22,
    "start_time": "2023-05-17T19:16:08.467Z"
   },
   {
    "duration": 32,
    "start_time": "2023-05-17T19:16:08.491Z"
   },
   {
    "duration": 19,
    "start_time": "2023-05-17T19:16:08.525Z"
   },
   {
    "duration": 5,
    "start_time": "2023-05-17T19:16:08.548Z"
   },
   {
    "duration": 47,
    "start_time": "2023-05-17T19:16:08.555Z"
   },
   {
    "duration": 1074,
    "start_time": "2023-05-17T19:16:08.604Z"
   },
   {
    "duration": 5,
    "start_time": "2023-05-17T19:16:09.680Z"
   },
   {
    "duration": 8,
    "start_time": "2023-05-17T19:16:09.687Z"
   },
   {
    "duration": 8,
    "start_time": "2023-05-17T19:16:09.711Z"
   },
   {
    "duration": 19,
    "start_time": "2023-05-17T19:16:09.721Z"
   },
   {
    "duration": 8,
    "start_time": "2023-05-17T19:16:09.742Z"
   },
   {
    "duration": 1122,
    "start_time": "2023-05-17T19:16:09.751Z"
   },
   {
    "duration": 511,
    "start_time": "2023-05-17T19:16:10.874Z"
   },
   {
    "duration": 11,
    "start_time": "2023-05-17T19:16:11.387Z"
   },
   {
    "duration": 141,
    "start_time": "2023-05-17T19:16:11.399Z"
   },
   {
    "duration": 27,
    "start_time": "2023-05-17T19:17:14.020Z"
   },
   {
    "duration": 444,
    "start_time": "2023-05-17T19:17:56.048Z"
   },
   {
    "duration": 443,
    "start_time": "2023-05-17T19:18:06.614Z"
   },
   {
    "duration": 326,
    "start_time": "2023-05-17T19:19:36.391Z"
   },
   {
    "duration": 1260,
    "start_time": "2023-05-17T19:19:44.323Z"
   },
   {
    "duration": 2293,
    "start_time": "2023-05-17T19:19:45.585Z"
   },
   {
    "duration": 11,
    "start_time": "2023-05-17T19:19:47.880Z"
   },
   {
    "duration": 7,
    "start_time": "2023-05-17T19:19:47.893Z"
   },
   {
    "duration": 39,
    "start_time": "2023-05-17T19:19:47.902Z"
   },
   {
    "duration": 14,
    "start_time": "2023-05-17T19:19:47.945Z"
   },
   {
    "duration": 56,
    "start_time": "2023-05-17T19:19:47.963Z"
   },
   {
    "duration": 107,
    "start_time": "2023-05-17T19:19:48.027Z"
   },
   {
    "duration": 52,
    "start_time": "2023-05-17T19:19:48.138Z"
   },
   {
    "duration": 20,
    "start_time": "2023-05-17T19:19:48.192Z"
   },
   {
    "duration": 15,
    "start_time": "2023-05-17T19:19:48.225Z"
   },
   {
    "duration": 14,
    "start_time": "2023-05-17T19:19:48.242Z"
   },
   {
    "duration": 29,
    "start_time": "2023-05-17T19:19:48.259Z"
   },
   {
    "duration": 22,
    "start_time": "2023-05-17T19:19:48.292Z"
   },
   {
    "duration": 31,
    "start_time": "2023-05-17T19:19:48.316Z"
   },
   {
    "duration": 25,
    "start_time": "2023-05-17T19:19:48.350Z"
   },
   {
    "duration": 226,
    "start_time": "2023-05-17T19:19:48.377Z"
   },
   {
    "duration": 15,
    "start_time": "2023-05-17T19:19:48.605Z"
   },
   {
    "duration": 96,
    "start_time": "2023-05-17T19:19:48.623Z"
   },
   {
    "duration": 14,
    "start_time": "2023-05-17T19:19:48.720Z"
   },
   {
    "duration": 23,
    "start_time": "2023-05-17T19:19:48.736Z"
   },
   {
    "duration": 38,
    "start_time": "2023-05-17T19:19:48.761Z"
   },
   {
    "duration": 56,
    "start_time": "2023-05-17T19:19:48.801Z"
   },
   {
    "duration": 20,
    "start_time": "2023-05-17T19:19:48.859Z"
   },
   {
    "duration": 6,
    "start_time": "2023-05-17T19:19:48.881Z"
   },
   {
    "duration": 23,
    "start_time": "2023-05-17T19:19:48.889Z"
   },
   {
    "duration": 393,
    "start_time": "2023-05-17T19:19:48.914Z"
   },
   {
    "duration": 7,
    "start_time": "2023-05-17T19:19:49.309Z"
   },
   {
    "duration": 18,
    "start_time": "2023-05-17T19:19:49.320Z"
   },
   {
    "duration": 19,
    "start_time": "2023-05-17T19:19:49.340Z"
   },
   {
    "duration": 6,
    "start_time": "2023-05-17T19:19:49.363Z"
   },
   {
    "duration": 15,
    "start_time": "2023-05-17T19:19:49.371Z"
   },
   {
    "duration": 23,
    "start_time": "2023-05-17T19:19:49.388Z"
   },
   {
    "duration": 37,
    "start_time": "2023-05-17T19:19:49.420Z"
   },
   {
    "duration": 14,
    "start_time": "2023-05-17T19:19:49.459Z"
   },
   {
    "duration": 44,
    "start_time": "2023-05-17T19:19:49.475Z"
   },
   {
    "duration": 54,
    "start_time": "2023-05-17T19:24:13.497Z"
   },
   {
    "duration": 1303,
    "start_time": "2023-05-17T19:24:22.245Z"
   },
   {
    "duration": 1326,
    "start_time": "2023-05-17T19:24:23.551Z"
   },
   {
    "duration": 12,
    "start_time": "2023-05-17T19:24:24.879Z"
   },
   {
    "duration": 7,
    "start_time": "2023-05-17T19:24:24.892Z"
   },
   {
    "duration": 36,
    "start_time": "2023-05-17T19:24:24.901Z"
   },
   {
    "duration": 7,
    "start_time": "2023-05-17T19:24:24.944Z"
   },
   {
    "duration": 68,
    "start_time": "2023-05-17T19:24:24.952Z"
   },
   {
    "duration": 107,
    "start_time": "2023-05-17T19:24:25.027Z"
   },
   {
    "duration": 42,
    "start_time": "2023-05-17T19:24:25.142Z"
   },
   {
    "duration": 9,
    "start_time": "2023-05-17T19:24:25.186Z"
   },
   {
    "duration": 5,
    "start_time": "2023-05-17T19:24:25.196Z"
   },
   {
    "duration": 22,
    "start_time": "2023-05-17T19:24:25.203Z"
   },
   {
    "duration": 34,
    "start_time": "2023-05-17T19:24:25.227Z"
   },
   {
    "duration": 14,
    "start_time": "2023-05-17T19:24:25.264Z"
   },
   {
    "duration": 14,
    "start_time": "2023-05-17T19:24:25.280Z"
   },
   {
    "duration": 13,
    "start_time": "2023-05-17T19:24:25.296Z"
   },
   {
    "duration": 207,
    "start_time": "2023-05-17T19:24:25.318Z"
   },
   {
    "duration": 7,
    "start_time": "2023-05-17T19:24:25.530Z"
   },
   {
    "duration": 31,
    "start_time": "2023-05-17T19:24:25.539Z"
   },
   {
    "duration": 8,
    "start_time": "2023-05-17T19:24:25.571Z"
   },
   {
    "duration": 23,
    "start_time": "2023-05-17T19:24:25.580Z"
   },
   {
    "duration": 39,
    "start_time": "2023-05-17T19:24:25.605Z"
   },
   {
    "duration": 28,
    "start_time": "2023-05-17T19:24:25.645Z"
   },
   {
    "duration": 14,
    "start_time": "2023-05-17T19:24:25.674Z"
   },
   {
    "duration": 5,
    "start_time": "2023-05-17T19:24:25.689Z"
   },
   {
    "duration": 21,
    "start_time": "2023-05-17T19:24:25.695Z"
   },
   {
    "duration": 113,
    "start_time": "2023-05-17T19:24:25.717Z"
   },
   {
    "duration": 0,
    "start_time": "2023-05-17T19:24:25.832Z"
   },
   {
    "duration": 0,
    "start_time": "2023-05-17T19:24:25.833Z"
   },
   {
    "duration": 0,
    "start_time": "2023-05-17T19:24:25.834Z"
   },
   {
    "duration": 0,
    "start_time": "2023-05-17T19:24:25.835Z"
   },
   {
    "duration": 0,
    "start_time": "2023-05-17T19:24:25.836Z"
   },
   {
    "duration": 0,
    "start_time": "2023-05-17T19:24:25.837Z"
   },
   {
    "duration": 0,
    "start_time": "2023-05-17T19:24:25.838Z"
   },
   {
    "duration": 0,
    "start_time": "2023-05-17T19:24:25.839Z"
   },
   {
    "duration": 0,
    "start_time": "2023-05-17T19:24:25.840Z"
   },
   {
    "duration": 39,
    "start_time": "2023-05-17T19:25:27.881Z"
   },
   {
    "duration": 1218,
    "start_time": "2023-05-17T19:25:35.755Z"
   },
   {
    "duration": 4017,
    "start_time": "2023-05-17T19:25:36.976Z"
   },
   {
    "duration": 21,
    "start_time": "2023-05-17T19:25:40.995Z"
   },
   {
    "duration": 13,
    "start_time": "2023-05-17T19:25:41.017Z"
   },
   {
    "duration": 20,
    "start_time": "2023-05-17T19:25:41.033Z"
   },
   {
    "duration": 9,
    "start_time": "2023-05-17T19:25:41.057Z"
   },
   {
    "duration": 60,
    "start_time": "2023-05-17T19:25:41.068Z"
   },
   {
    "duration": 99,
    "start_time": "2023-05-17T19:25:41.132Z"
   },
   {
    "duration": 49,
    "start_time": "2023-05-17T19:25:41.239Z"
   },
   {
    "duration": 11,
    "start_time": "2023-05-17T19:25:41.290Z"
   },
   {
    "duration": 22,
    "start_time": "2023-05-17T19:25:41.302Z"
   },
   {
    "duration": 15,
    "start_time": "2023-05-17T19:25:41.333Z"
   },
   {
    "duration": 17,
    "start_time": "2023-05-17T19:25:41.350Z"
   },
   {
    "duration": 11,
    "start_time": "2023-05-17T19:25:41.369Z"
   },
   {
    "duration": 13,
    "start_time": "2023-05-17T19:25:41.381Z"
   },
   {
    "duration": 16,
    "start_time": "2023-05-17T19:25:41.396Z"
   },
   {
    "duration": 200,
    "start_time": "2023-05-17T19:25:41.414Z"
   },
   {
    "duration": 15,
    "start_time": "2023-05-17T19:25:41.615Z"
   },
   {
    "duration": 34,
    "start_time": "2023-05-17T19:25:41.637Z"
   },
   {
    "duration": 11,
    "start_time": "2023-05-17T19:25:41.673Z"
   },
   {
    "duration": 8,
    "start_time": "2023-05-17T19:25:41.685Z"
   },
   {
    "duration": 36,
    "start_time": "2023-05-17T19:25:41.694Z"
   },
   {
    "duration": 35,
    "start_time": "2023-05-17T19:25:41.732Z"
   },
   {
    "duration": 13,
    "start_time": "2023-05-17T19:25:41.769Z"
   },
   {
    "duration": 5,
    "start_time": "2023-05-17T19:25:41.783Z"
   },
   {
    "duration": 34,
    "start_time": "2023-05-17T19:25:41.789Z"
   },
   {
    "duration": 64,
    "start_time": "2023-05-17T19:25:41.825Z"
   },
   {
    "duration": 11,
    "start_time": "2023-05-17T19:25:41.891Z"
   },
   {
    "duration": 26,
    "start_time": "2023-05-17T19:25:41.904Z"
   },
   {
    "duration": 11,
    "start_time": "2023-05-17T19:25:41.934Z"
   },
   {
    "duration": 6,
    "start_time": "2023-05-17T19:25:41.946Z"
   },
   {
    "duration": 6,
    "start_time": "2023-05-17T19:25:41.954Z"
   },
   {
    "duration": 14,
    "start_time": "2023-05-17T19:25:41.962Z"
   },
   {
    "duration": 10,
    "start_time": "2023-05-17T19:25:41.978Z"
   },
   {
    "duration": 10,
    "start_time": "2023-05-17T19:25:41.989Z"
   },
   {
    "duration": 134,
    "start_time": "2023-05-17T19:25:42.001Z"
   },
   {
    "duration": 1270,
    "start_time": "2023-05-17T19:27:55.394Z"
   },
   {
    "duration": 1358,
    "start_time": "2023-05-17T19:27:56.667Z"
   },
   {
    "duration": 20,
    "start_time": "2023-05-17T19:27:58.029Z"
   },
   {
    "duration": 8,
    "start_time": "2023-05-17T19:27:58.052Z"
   },
   {
    "duration": 9,
    "start_time": "2023-05-17T19:27:58.062Z"
   },
   {
    "duration": 15,
    "start_time": "2023-05-17T19:27:58.073Z"
   },
   {
    "duration": 78,
    "start_time": "2023-05-17T19:27:58.090Z"
   },
   {
    "duration": 105,
    "start_time": "2023-05-17T19:27:58.170Z"
   },
   {
    "duration": 66,
    "start_time": "2023-05-17T19:27:58.277Z"
   },
   {
    "duration": 11,
    "start_time": "2023-05-17T19:27:58.346Z"
   },
   {
    "duration": 7,
    "start_time": "2023-05-17T19:27:58.359Z"
   },
   {
    "duration": 11,
    "start_time": "2023-05-17T19:27:58.368Z"
   },
   {
    "duration": 35,
    "start_time": "2023-05-17T19:27:58.380Z"
   },
   {
    "duration": 20,
    "start_time": "2023-05-17T19:27:58.425Z"
   },
   {
    "duration": 16,
    "start_time": "2023-05-17T19:27:58.448Z"
   },
   {
    "duration": 11,
    "start_time": "2023-05-17T19:27:58.465Z"
   },
   {
    "duration": 196,
    "start_time": "2023-05-17T19:27:58.478Z"
   },
   {
    "duration": 5,
    "start_time": "2023-05-17T19:27:58.676Z"
   },
   {
    "duration": 53,
    "start_time": "2023-05-17T19:27:58.682Z"
   },
   {
    "duration": 13,
    "start_time": "2023-05-17T19:27:58.736Z"
   },
   {
    "duration": 8,
    "start_time": "2023-05-17T19:27:58.751Z"
   },
   {
    "duration": 15,
    "start_time": "2023-05-17T19:27:58.761Z"
   },
   {
    "duration": 60,
    "start_time": "2023-05-17T19:27:58.778Z"
   },
   {
    "duration": 17,
    "start_time": "2023-05-17T19:27:58.839Z"
   },
   {
    "duration": 12,
    "start_time": "2023-05-17T19:27:58.857Z"
   },
   {
    "duration": 48,
    "start_time": "2023-05-17T19:27:58.871Z"
   },
   {
    "duration": 22,
    "start_time": "2023-05-17T19:27:58.928Z"
   },
   {
    "duration": 5,
    "start_time": "2023-05-17T19:27:58.955Z"
   },
   {
    "duration": 25,
    "start_time": "2023-05-17T19:27:58.962Z"
   },
   {
    "duration": 9,
    "start_time": "2023-05-17T19:27:58.989Z"
   },
   {
    "duration": 21,
    "start_time": "2023-05-17T19:27:59.000Z"
   },
   {
    "duration": 35,
    "start_time": "2023-05-17T19:27:59.023Z"
   },
   {
    "duration": 15,
    "start_time": "2023-05-17T19:27:59.060Z"
   },
   {
    "duration": 17,
    "start_time": "2023-05-17T19:27:59.077Z"
   },
   {
    "duration": 160,
    "start_time": "2023-05-17T19:27:59.097Z"
   },
   {
    "duration": 1193,
    "start_time": "2023-05-17T19:29:17.855Z"
   },
   {
    "duration": 3145,
    "start_time": "2023-05-17T19:29:19.050Z"
   },
   {
    "duration": 16,
    "start_time": "2023-05-17T19:29:22.197Z"
   },
   {
    "duration": 20,
    "start_time": "2023-05-17T19:29:22.219Z"
   },
   {
    "duration": 8,
    "start_time": "2023-05-17T19:29:22.244Z"
   },
   {
    "duration": 19,
    "start_time": "2023-05-17T19:29:22.254Z"
   },
   {
    "duration": 78,
    "start_time": "2023-05-17T19:29:22.275Z"
   },
   {
    "duration": 94,
    "start_time": "2023-05-17T19:29:22.355Z"
   },
   {
    "duration": 69,
    "start_time": "2023-05-17T19:29:22.451Z"
   },
   {
    "duration": 22,
    "start_time": "2023-05-17T19:29:22.528Z"
   },
   {
    "duration": 8,
    "start_time": "2023-05-17T19:29:22.552Z"
   },
   {
    "duration": 13,
    "start_time": "2023-05-17T19:29:22.562Z"
   },
   {
    "duration": 23,
    "start_time": "2023-05-17T19:29:22.577Z"
   },
   {
    "duration": 22,
    "start_time": "2023-05-17T19:29:22.604Z"
   },
   {
    "duration": 34,
    "start_time": "2023-05-17T19:29:22.627Z"
   },
   {
    "duration": 14,
    "start_time": "2023-05-17T19:29:22.663Z"
   },
   {
    "duration": 237,
    "start_time": "2023-05-17T19:29:22.679Z"
   },
   {
    "duration": 10,
    "start_time": "2023-05-17T19:29:22.918Z"
   },
   {
    "duration": 38,
    "start_time": "2023-05-17T19:29:22.931Z"
   },
   {
    "duration": 12,
    "start_time": "2023-05-17T19:29:22.970Z"
   },
   {
    "duration": 11,
    "start_time": "2023-05-17T19:29:22.984Z"
   },
   {
    "duration": 19,
    "start_time": "2023-05-17T19:29:23.012Z"
   },
   {
    "duration": 42,
    "start_time": "2023-05-17T19:29:23.037Z"
   },
   {
    "duration": 14,
    "start_time": "2023-05-17T19:29:23.080Z"
   },
   {
    "duration": 5,
    "start_time": "2023-05-17T19:29:23.096Z"
   },
   {
    "duration": 44,
    "start_time": "2023-05-17T19:29:23.102Z"
   },
   {
    "duration": 27,
    "start_time": "2023-05-17T19:29:23.149Z"
   },
   {
    "duration": 6,
    "start_time": "2023-05-17T19:29:23.178Z"
   },
   {
    "duration": 6,
    "start_time": "2023-05-17T19:29:23.185Z"
   },
   {
    "duration": 27,
    "start_time": "2023-05-17T19:29:23.192Z"
   },
   {
    "duration": 7,
    "start_time": "2023-05-17T19:29:23.225Z"
   },
   {
    "duration": 5,
    "start_time": "2023-05-17T19:29:23.243Z"
   },
   {
    "duration": 25,
    "start_time": "2023-05-17T19:29:23.250Z"
   },
   {
    "duration": 12,
    "start_time": "2023-05-17T19:29:23.277Z"
   },
   {
    "duration": 11,
    "start_time": "2023-05-17T19:29:23.290Z"
   },
   {
    "duration": 123,
    "start_time": "2023-05-17T19:29:23.302Z"
   },
   {
    "duration": 8,
    "start_time": "2023-05-17T19:30:27.635Z"
   },
   {
    "duration": 10,
    "start_time": "2023-05-17T19:30:30.566Z"
   },
   {
    "duration": 1156,
    "start_time": "2023-05-17T19:30:40.931Z"
   },
   {
    "duration": 1332,
    "start_time": "2023-05-17T19:30:42.089Z"
   },
   {
    "duration": 16,
    "start_time": "2023-05-17T19:30:43.426Z"
   },
   {
    "duration": 25,
    "start_time": "2023-05-17T19:30:43.446Z"
   },
   {
    "duration": 10,
    "start_time": "2023-05-17T19:30:43.474Z"
   },
   {
    "duration": 56,
    "start_time": "2023-05-17T19:30:43.485Z"
   },
   {
    "duration": 51,
    "start_time": "2023-05-17T19:30:43.545Z"
   },
   {
    "duration": 97,
    "start_time": "2023-05-17T19:30:43.598Z"
   },
   {
    "duration": 59,
    "start_time": "2023-05-17T19:30:43.697Z"
   },
   {
    "duration": 9,
    "start_time": "2023-05-17T19:30:43.757Z"
   },
   {
    "duration": 9,
    "start_time": "2023-05-17T19:30:43.767Z"
   },
   {
    "duration": 11,
    "start_time": "2023-05-17T19:30:43.778Z"
   },
   {
    "duration": 32,
    "start_time": "2023-05-17T19:30:43.809Z"
   },
   {
    "duration": 12,
    "start_time": "2023-05-17T19:30:43.844Z"
   },
   {
    "duration": 17,
    "start_time": "2023-05-17T19:30:43.857Z"
   },
   {
    "duration": 21,
    "start_time": "2023-05-17T19:30:43.877Z"
   },
   {
    "duration": 192,
    "start_time": "2023-05-17T19:30:43.899Z"
   },
   {
    "duration": 5,
    "start_time": "2023-05-17T19:30:44.093Z"
   },
   {
    "duration": 49,
    "start_time": "2023-05-17T19:30:44.100Z"
   },
   {
    "duration": 8,
    "start_time": "2023-05-17T19:30:44.151Z"
   },
   {
    "duration": 13,
    "start_time": "2023-05-17T19:30:44.160Z"
   },
   {
    "duration": 15,
    "start_time": "2023-05-17T19:30:44.175Z"
   },
   {
    "duration": 48,
    "start_time": "2023-05-17T19:30:44.191Z"
   },
   {
    "duration": 19,
    "start_time": "2023-05-17T19:30:44.250Z"
   },
   {
    "duration": 7,
    "start_time": "2023-05-17T19:30:44.271Z"
   },
   {
    "duration": 19,
    "start_time": "2023-05-17T19:30:44.280Z"
   },
   {
    "duration": 42,
    "start_time": "2023-05-17T19:30:44.300Z"
   },
   {
    "duration": 12,
    "start_time": "2023-05-17T19:30:44.343Z"
   },
   {
    "duration": 5,
    "start_time": "2023-05-17T19:30:44.357Z"
   },
   {
    "duration": 8,
    "start_time": "2023-05-17T19:30:44.364Z"
   },
   {
    "duration": 5,
    "start_time": "2023-05-17T19:30:44.373Z"
   },
   {
    "duration": 9,
    "start_time": "2023-05-17T19:30:44.380Z"
   },
   {
    "duration": 38,
    "start_time": "2023-05-17T19:30:44.391Z"
   },
   {
    "duration": 15,
    "start_time": "2023-05-17T19:30:44.436Z"
   },
   {
    "duration": 10,
    "start_time": "2023-05-17T19:30:44.454Z"
   },
   {
    "duration": 106,
    "start_time": "2023-05-17T19:30:44.466Z"
   },
   {
    "duration": 24,
    "start_time": "2023-05-17T19:31:10.846Z"
   },
   {
    "duration": 1241,
    "start_time": "2023-05-17T19:31:16.631Z"
   },
   {
    "duration": 1714,
    "start_time": "2023-05-17T19:31:17.874Z"
   },
   {
    "duration": 13,
    "start_time": "2023-05-17T19:31:19.589Z"
   },
   {
    "duration": 15,
    "start_time": "2023-05-17T19:31:19.604Z"
   },
   {
    "duration": 13,
    "start_time": "2023-05-17T19:31:19.626Z"
   },
   {
    "duration": 13,
    "start_time": "2023-05-17T19:31:19.641Z"
   },
   {
    "duration": 66,
    "start_time": "2023-05-17T19:31:19.656Z"
   },
   {
    "duration": 86,
    "start_time": "2023-05-17T19:31:19.726Z"
   },
   {
    "duration": 53,
    "start_time": "2023-05-17T19:31:19.814Z"
   },
   {
    "duration": 8,
    "start_time": "2023-05-17T19:31:19.869Z"
   },
   {
    "duration": 4,
    "start_time": "2023-05-17T19:31:19.879Z"
   },
   {
    "duration": 11,
    "start_time": "2023-05-17T19:31:19.885Z"
   },
   {
    "duration": 46,
    "start_time": "2023-05-17T19:31:19.897Z"
   },
   {
    "duration": 10,
    "start_time": "2023-05-17T19:31:19.949Z"
   },
   {
    "duration": 19,
    "start_time": "2023-05-17T19:31:19.960Z"
   },
   {
    "duration": 11,
    "start_time": "2023-05-17T19:31:19.980Z"
   },
   {
    "duration": 183,
    "start_time": "2023-05-17T19:31:19.992Z"
   },
   {
    "duration": 5,
    "start_time": "2023-05-17T19:31:20.176Z"
   },
   {
    "duration": 49,
    "start_time": "2023-05-17T19:31:20.182Z"
   },
   {
    "duration": 16,
    "start_time": "2023-05-17T19:31:20.233Z"
   },
   {
    "duration": 8,
    "start_time": "2023-05-17T19:31:20.250Z"
   },
   {
    "duration": 20,
    "start_time": "2023-05-17T19:31:20.259Z"
   },
   {
    "duration": 44,
    "start_time": "2023-05-17T19:31:20.280Z"
   },
   {
    "duration": 16,
    "start_time": "2023-05-17T19:31:20.325Z"
   },
   {
    "duration": 8,
    "start_time": "2023-05-17T19:31:20.347Z"
   },
   {
    "duration": 14,
    "start_time": "2023-05-17T19:31:20.356Z"
   },
   {
    "duration": 32,
    "start_time": "2023-05-17T19:31:20.372Z"
   },
   {
    "duration": 18,
    "start_time": "2023-05-17T19:31:20.406Z"
   },
   {
    "duration": 9,
    "start_time": "2023-05-17T19:31:20.426Z"
   },
   {
    "duration": 16,
    "start_time": "2023-05-17T19:31:20.437Z"
   },
   {
    "duration": 14,
    "start_time": "2023-05-17T19:31:20.454Z"
   },
   {
    "duration": 5,
    "start_time": "2023-05-17T19:31:20.470Z"
   },
   {
    "duration": 14,
    "start_time": "2023-05-17T19:31:20.476Z"
   },
   {
    "duration": 10,
    "start_time": "2023-05-17T19:31:20.492Z"
   },
   {
    "duration": 29,
    "start_time": "2023-05-17T19:31:20.503Z"
   },
   {
    "duration": 130,
    "start_time": "2023-05-17T19:31:20.534Z"
   },
   {
    "duration": 143,
    "start_time": "2023-05-17T19:32:30.729Z"
   },
   {
    "duration": 28,
    "start_time": "2023-05-17T19:32:34.723Z"
   },
   {
    "duration": 55,
    "start_time": "2023-05-17T19:55:30.720Z"
   },
   {
    "duration": 21,
    "start_time": "2023-05-17T19:56:54.654Z"
   },
   {
    "duration": 24,
    "start_time": "2023-05-17T19:58:18.327Z"
   },
   {
    "duration": 14,
    "start_time": "2023-05-17T19:58:46.988Z"
   },
   {
    "duration": 29,
    "start_time": "2023-05-17T19:59:28.330Z"
   },
   {
    "duration": 11,
    "start_time": "2023-05-17T20:00:48.536Z"
   },
   {
    "duration": 13,
    "start_time": "2023-05-17T20:03:24.034Z"
   },
   {
    "duration": 1248,
    "start_time": "2023-05-17T20:03:46.702Z"
   },
   {
    "duration": 9,
    "start_time": "2023-05-17T20:05:06.044Z"
   },
   {
    "duration": 9,
    "start_time": "2023-05-17T20:05:47.585Z"
   },
   {
    "duration": 1464,
    "start_time": "2023-05-17T20:06:06.802Z"
   },
   {
    "duration": 16,
    "start_time": "2023-05-17T20:06:25.120Z"
   },
   {
    "duration": 14,
    "start_time": "2023-05-17T20:06:38.702Z"
   },
   {
    "duration": 272,
    "start_time": "2023-05-17T20:08:23.578Z"
   },
   {
    "duration": 17,
    "start_time": "2023-05-17T20:08:49.015Z"
   },
   {
    "duration": 18,
    "start_time": "2023-05-17T20:09:16.727Z"
   },
   {
    "duration": 1333,
    "start_time": "2023-05-17T20:09:27.334Z"
   },
   {
    "duration": 1521,
    "start_time": "2023-05-17T20:09:28.669Z"
   },
   {
    "duration": 14,
    "start_time": "2023-05-17T20:09:30.191Z"
   },
   {
    "duration": 32,
    "start_time": "2023-05-17T20:09:30.216Z"
   },
   {
    "duration": 35,
    "start_time": "2023-05-17T20:09:30.250Z"
   },
   {
    "duration": 46,
    "start_time": "2023-05-17T20:09:30.287Z"
   },
   {
    "duration": 124,
    "start_time": "2023-05-17T20:09:30.335Z"
   },
   {
    "duration": 115,
    "start_time": "2023-05-17T20:09:30.461Z"
   },
   {
    "duration": 92,
    "start_time": "2023-05-17T20:09:30.578Z"
   },
   {
    "duration": 10,
    "start_time": "2023-05-17T20:09:30.672Z"
   },
   {
    "duration": 82,
    "start_time": "2023-05-17T20:09:30.684Z"
   },
   {
    "duration": 70,
    "start_time": "2023-05-17T20:09:30.768Z"
   },
   {
    "duration": 50,
    "start_time": "2023-05-17T20:09:30.839Z"
   },
   {
    "duration": 44,
    "start_time": "2023-05-17T20:09:30.892Z"
   },
   {
    "duration": 42,
    "start_time": "2023-05-17T20:09:30.938Z"
   },
   {
    "duration": 52,
    "start_time": "2023-05-17T20:09:30.982Z"
   },
   {
    "duration": 221,
    "start_time": "2023-05-17T20:09:31.036Z"
   },
   {
    "duration": 6,
    "start_time": "2023-05-17T20:09:31.259Z"
   },
   {
    "duration": 77,
    "start_time": "2023-05-17T20:09:31.267Z"
   },
   {
    "duration": 12,
    "start_time": "2023-05-17T20:09:31.347Z"
   },
   {
    "duration": 14,
    "start_time": "2023-05-17T20:09:31.360Z"
   },
   {
    "duration": 61,
    "start_time": "2023-05-17T20:09:31.376Z"
   },
   {
    "duration": 32,
    "start_time": "2023-05-17T20:09:31.446Z"
   },
   {
    "duration": 16,
    "start_time": "2023-05-17T20:09:31.480Z"
   },
   {
    "duration": 5,
    "start_time": "2023-05-17T20:09:31.498Z"
   },
   {
    "duration": 43,
    "start_time": "2023-05-17T20:09:31.507Z"
   },
   {
    "duration": 53,
    "start_time": "2023-05-17T20:09:31.552Z"
   },
   {
    "duration": 9,
    "start_time": "2023-05-17T20:09:31.607Z"
   },
   {
    "duration": 24,
    "start_time": "2023-05-17T20:09:31.617Z"
   },
   {
    "duration": 25,
    "start_time": "2023-05-17T20:09:31.645Z"
   },
   {
    "duration": 16,
    "start_time": "2023-05-17T20:09:31.672Z"
   },
   {
    "duration": 37,
    "start_time": "2023-05-17T20:09:31.690Z"
   },
   {
    "duration": 25,
    "start_time": "2023-05-17T20:09:31.730Z"
   },
   {
    "duration": 11,
    "start_time": "2023-05-17T20:09:31.757Z"
   },
   {
    "duration": 14,
    "start_time": "2023-05-17T20:09:31.770Z"
   },
   {
    "duration": 154,
    "start_time": "2023-05-17T20:09:31.785Z"
   },
   {
    "duration": 26,
    "start_time": "2023-05-17T20:09:31.940Z"
   },
   {
    "duration": 280,
    "start_time": "2023-05-17T20:09:31.968Z"
   },
   {
    "duration": 10,
    "start_time": "2023-05-17T20:09:32.250Z"
   },
   {
    "duration": 117,
    "start_time": "2023-05-17T20:09:32.262Z"
   },
   {
    "duration": 7,
    "start_time": "2023-05-17T20:09:58.798Z"
   },
   {
    "duration": 10,
    "start_time": "2023-05-17T20:15:10.664Z"
   },
   {
    "duration": 36,
    "start_time": "2023-05-17T20:17:18.319Z"
   },
   {
    "duration": 40,
    "start_time": "2023-05-17T20:18:38.494Z"
   },
   {
    "duration": 437,
    "start_time": "2023-05-17T20:20:24.054Z"
   },
   {
    "duration": 10864,
    "start_time": "2023-05-17T20:21:06.616Z"
   },
   {
    "duration": 2734,
    "start_time": "2023-05-17T20:21:25.834Z"
   },
   {
    "duration": 1401,
    "start_time": "2023-05-17T20:21:28.570Z"
   },
   {
    "duration": 1460,
    "start_time": "2023-05-17T20:21:29.977Z"
   },
   {
    "duration": 22,
    "start_time": "2023-05-17T20:21:31.440Z"
   },
   {
    "duration": 16,
    "start_time": "2023-05-17T20:21:31.468Z"
   },
   {
    "duration": 11,
    "start_time": "2023-05-17T20:21:31.486Z"
   },
   {
    "duration": 32,
    "start_time": "2023-05-17T20:21:31.499Z"
   },
   {
    "duration": 81,
    "start_time": "2023-05-17T20:21:31.536Z"
   },
   {
    "duration": 138,
    "start_time": "2023-05-17T20:21:31.618Z"
   },
   {
    "duration": 53,
    "start_time": "2023-05-17T20:21:31.762Z"
   },
   {
    "duration": 10,
    "start_time": "2023-05-17T20:21:31.818Z"
   },
   {
    "duration": 18,
    "start_time": "2023-05-17T20:21:31.829Z"
   },
   {
    "duration": 21,
    "start_time": "2023-05-17T20:21:31.849Z"
   },
   {
    "duration": 15,
    "start_time": "2023-05-17T20:21:31.877Z"
   },
   {
    "duration": 10,
    "start_time": "2023-05-17T20:21:31.894Z"
   },
   {
    "duration": 33,
    "start_time": "2023-05-17T20:21:31.907Z"
   },
   {
    "duration": 17,
    "start_time": "2023-05-17T20:21:31.942Z"
   },
   {
    "duration": 184,
    "start_time": "2023-05-17T20:21:31.961Z"
   },
   {
    "duration": 6,
    "start_time": "2023-05-17T20:21:32.146Z"
   },
   {
    "duration": 44,
    "start_time": "2023-05-17T20:21:32.154Z"
   },
   {
    "duration": 24,
    "start_time": "2023-05-17T20:21:32.199Z"
   },
   {
    "duration": 24,
    "start_time": "2023-05-17T20:21:32.227Z"
   },
   {
    "duration": 21,
    "start_time": "2023-05-17T20:21:32.257Z"
   },
   {
    "duration": 25,
    "start_time": "2023-05-17T20:21:32.280Z"
   },
   {
    "duration": 16,
    "start_time": "2023-05-17T20:21:32.308Z"
   },
   {
    "duration": 5,
    "start_time": "2023-05-17T20:21:32.326Z"
   },
   {
    "duration": 9,
    "start_time": "2023-05-17T20:21:32.332Z"
   },
   {
    "duration": 43,
    "start_time": "2023-05-17T20:21:32.344Z"
   },
   {
    "duration": 10,
    "start_time": "2023-05-17T20:21:32.389Z"
   },
   {
    "duration": 15,
    "start_time": "2023-05-17T20:21:32.432Z"
   },
   {
    "duration": 7,
    "start_time": "2023-05-17T20:21:32.452Z"
   },
   {
    "duration": 13,
    "start_time": "2023-05-17T20:21:32.465Z"
   },
   {
    "duration": 8,
    "start_time": "2023-05-17T20:21:32.479Z"
   },
   {
    "duration": 36,
    "start_time": "2023-05-17T20:21:32.491Z"
   },
   {
    "duration": 23,
    "start_time": "2023-05-17T20:21:32.537Z"
   },
   {
    "duration": 14,
    "start_time": "2023-05-17T20:21:32.565Z"
   },
   {
    "duration": 154,
    "start_time": "2023-05-17T20:21:32.581Z"
   },
   {
    "duration": 44,
    "start_time": "2023-05-17T20:21:32.736Z"
   },
   {
    "duration": 27,
    "start_time": "2023-05-17T20:21:32.782Z"
   },
   {
    "duration": 1386,
    "start_time": "2023-05-17T20:21:32.811Z"
   },
   {
    "duration": 199,
    "start_time": "2023-05-17T20:24:17.899Z"
   },
   {
    "duration": 34,
    "start_time": "2023-05-17T20:24:37.901Z"
   },
   {
    "duration": 3289,
    "start_time": "2023-05-17T20:24:52.242Z"
   },
   {
    "duration": 1644,
    "start_time": "2023-05-17T20:24:55.534Z"
   },
   {
    "duration": 1418,
    "start_time": "2023-05-17T20:24:57.180Z"
   },
   {
    "duration": 37,
    "start_time": "2023-05-17T20:24:58.601Z"
   },
   {
    "duration": 30,
    "start_time": "2023-05-17T20:24:58.646Z"
   },
   {
    "duration": 11,
    "start_time": "2023-05-17T20:24:58.678Z"
   },
   {
    "duration": 10,
    "start_time": "2023-05-17T20:24:58.691Z"
   },
   {
    "duration": 100,
    "start_time": "2023-05-17T20:24:58.703Z"
   },
   {
    "duration": 137,
    "start_time": "2023-05-17T20:24:58.805Z"
   },
   {
    "duration": 66,
    "start_time": "2023-05-17T20:24:58.947Z"
   },
   {
    "duration": 13,
    "start_time": "2023-05-17T20:24:59.018Z"
   },
   {
    "duration": 8,
    "start_time": "2023-05-17T20:24:59.034Z"
   },
   {
    "duration": 16,
    "start_time": "2023-05-17T20:24:59.057Z"
   },
   {
    "duration": 26,
    "start_time": "2023-05-17T20:24:59.075Z"
   },
   {
    "duration": 23,
    "start_time": "2023-05-17T20:24:59.103Z"
   },
   {
    "duration": 30,
    "start_time": "2023-05-17T20:24:59.131Z"
   },
   {
    "duration": 18,
    "start_time": "2023-05-17T20:24:59.162Z"
   },
   {
    "duration": 238,
    "start_time": "2023-05-17T20:24:59.181Z"
   },
   {
    "duration": 14,
    "start_time": "2023-05-17T20:24:59.429Z"
   },
   {
    "duration": 40,
    "start_time": "2023-05-17T20:24:59.447Z"
   },
   {
    "duration": 14,
    "start_time": "2023-05-17T20:24:59.489Z"
   },
   {
    "duration": 10,
    "start_time": "2023-05-17T20:24:59.505Z"
   },
   {
    "duration": 31,
    "start_time": "2023-05-17T20:24:59.516Z"
   },
   {
    "duration": 45,
    "start_time": "2023-05-17T20:24:59.550Z"
   },
   {
    "duration": 20,
    "start_time": "2023-05-17T20:24:59.602Z"
   },
   {
    "duration": 9,
    "start_time": "2023-05-17T20:24:59.627Z"
   },
   {
    "duration": 17,
    "start_time": "2023-05-17T20:24:59.641Z"
   },
   {
    "duration": 48,
    "start_time": "2023-05-17T20:24:59.661Z"
   },
   {
    "duration": 11,
    "start_time": "2023-05-17T20:24:59.711Z"
   },
   {
    "duration": 6,
    "start_time": "2023-05-17T20:24:59.724Z"
   },
   {
    "duration": 20,
    "start_time": "2023-05-17T20:24:59.731Z"
   },
   {
    "duration": 8,
    "start_time": "2023-05-17T20:24:59.759Z"
   },
   {
    "duration": 9,
    "start_time": "2023-05-17T20:24:59.769Z"
   },
   {
    "duration": 23,
    "start_time": "2023-05-17T20:24:59.780Z"
   },
   {
    "duration": 15,
    "start_time": "2023-05-17T20:24:59.807Z"
   },
   {
    "duration": 15,
    "start_time": "2023-05-17T20:24:59.830Z"
   },
   {
    "duration": 154,
    "start_time": "2023-05-17T20:24:59.846Z"
   },
   {
    "duration": 49,
    "start_time": "2023-05-17T20:25:00.002Z"
   },
   {
    "duration": 43,
    "start_time": "2023-05-17T20:25:00.055Z"
   },
   {
    "duration": 1519,
    "start_time": "2023-05-17T20:25:00.100Z"
   },
   {
    "duration": 179,
    "start_time": "2023-05-17T20:28:15.144Z"
   },
   {
    "duration": 21,
    "start_time": "2023-05-17T20:28:49.406Z"
   },
   {
    "duration": 12,
    "start_time": "2023-05-17T20:29:46.786Z"
   },
   {
    "duration": 21,
    "start_time": "2023-05-17T20:30:09.494Z"
   },
   {
    "duration": 20,
    "start_time": "2023-05-17T20:30:25.626Z"
   },
   {
    "duration": 1270,
    "start_time": "2023-05-17T20:30:52.844Z"
   },
   {
    "duration": 71,
    "start_time": "2023-05-17T20:31:06.826Z"
   },
   {
    "duration": 13,
    "start_time": "2023-05-17T20:32:11.247Z"
   },
   {
    "duration": 14,
    "start_time": "2023-05-17T20:32:46.990Z"
   },
   {
    "duration": 25,
    "start_time": "2023-05-17T20:35:42.335Z"
   },
   {
    "duration": 31,
    "start_time": "2023-05-17T20:44:06.457Z"
   },
   {
    "duration": 53,
    "start_time": "2023-05-17T20:44:16.932Z"
   },
   {
    "duration": 26,
    "start_time": "2023-05-17T20:44:24.728Z"
   },
   {
    "duration": 22,
    "start_time": "2023-05-17T20:45:13.834Z"
   },
   {
    "duration": 80,
    "start_time": "2023-05-17T20:48:48.506Z"
   },
   {
    "duration": 18,
    "start_time": "2023-05-17T20:50:07.026Z"
   },
   {
    "duration": 16,
    "start_time": "2023-05-17T20:50:19.545Z"
   },
   {
    "duration": 15,
    "start_time": "2023-05-17T20:50:33.273Z"
   },
   {
    "duration": 8,
    "start_time": "2023-05-17T21:13:21.796Z"
   },
   {
    "duration": 15,
    "start_time": "2023-05-17T21:13:36.949Z"
   },
   {
    "duration": 2314,
    "start_time": "2023-05-17T21:13:46.643Z"
   },
   {
    "duration": 1215,
    "start_time": "2023-05-17T21:13:48.960Z"
   },
   {
    "duration": 1410,
    "start_time": "2023-05-17T21:13:50.176Z"
   },
   {
    "duration": 12,
    "start_time": "2023-05-17T21:13:51.587Z"
   },
   {
    "duration": 16,
    "start_time": "2023-05-17T21:13:51.601Z"
   },
   {
    "duration": 12,
    "start_time": "2023-05-17T21:13:51.619Z"
   },
   {
    "duration": 21,
    "start_time": "2023-05-17T21:13:51.632Z"
   },
   {
    "duration": 53,
    "start_time": "2023-05-17T21:13:51.655Z"
   },
   {
    "duration": 104,
    "start_time": "2023-05-17T21:13:51.710Z"
   },
   {
    "duration": 53,
    "start_time": "2023-05-17T21:13:51.815Z"
   },
   {
    "duration": 10,
    "start_time": "2023-05-17T21:13:51.870Z"
   },
   {
    "duration": 11,
    "start_time": "2023-05-17T21:13:51.881Z"
   },
   {
    "duration": 28,
    "start_time": "2023-05-17T21:13:51.894Z"
   },
   {
    "duration": 21,
    "start_time": "2023-05-17T21:13:51.930Z"
   },
   {
    "duration": 12,
    "start_time": "2023-05-17T21:13:51.953Z"
   },
   {
    "duration": 14,
    "start_time": "2023-05-17T21:13:51.967Z"
   },
   {
    "duration": 16,
    "start_time": "2023-05-17T21:13:51.983Z"
   },
   {
    "duration": 197,
    "start_time": "2023-05-17T21:13:52.001Z"
   },
   {
    "duration": 14,
    "start_time": "2023-05-17T21:13:52.200Z"
   },
   {
    "duration": 51,
    "start_time": "2023-05-17T21:13:52.215Z"
   },
   {
    "duration": 9,
    "start_time": "2023-05-17T21:13:52.267Z"
   },
   {
    "duration": 8,
    "start_time": "2023-05-17T21:13:52.277Z"
   },
   {
    "duration": 23,
    "start_time": "2023-05-17T21:13:52.286Z"
   },
   {
    "duration": 36,
    "start_time": "2023-05-17T21:13:52.318Z"
   },
   {
    "duration": 13,
    "start_time": "2023-05-17T21:13:52.356Z"
   },
   {
    "duration": 14,
    "start_time": "2023-05-17T21:13:52.370Z"
   },
   {
    "duration": 10,
    "start_time": "2023-05-17T21:13:52.386Z"
   },
   {
    "duration": 60,
    "start_time": "2023-05-17T21:13:52.398Z"
   },
   {
    "duration": 7,
    "start_time": "2023-05-17T21:13:52.460Z"
   },
   {
    "duration": 28,
    "start_time": "2023-05-17T21:13:52.469Z"
   },
   {
    "duration": 10,
    "start_time": "2023-05-17T21:13:52.499Z"
   },
   {
    "duration": 29,
    "start_time": "2023-05-17T21:13:52.510Z"
   },
   {
    "duration": 19,
    "start_time": "2023-05-17T21:13:52.541Z"
   },
   {
    "duration": 17,
    "start_time": "2023-05-17T21:13:52.561Z"
   },
   {
    "duration": 10,
    "start_time": "2023-05-17T21:13:52.580Z"
   },
   {
    "duration": 16,
    "start_time": "2023-05-17T21:13:52.592Z"
   },
   {
    "duration": 159,
    "start_time": "2023-05-17T21:13:52.609Z"
   },
   {
    "duration": 25,
    "start_time": "2023-05-17T21:13:52.770Z"
   },
   {
    "duration": 48,
    "start_time": "2023-05-17T21:13:52.797Z"
   },
   {
    "duration": 710,
    "start_time": "2023-05-17T21:13:52.849Z"
   },
   {
    "duration": 67,
    "start_time": "2023-05-17T21:13:53.563Z"
   },
   {
    "duration": 15,
    "start_time": "2023-05-17T21:13:53.639Z"
   },
   {
    "duration": 14,
    "start_time": "2023-05-17T21:13:53.656Z"
   },
   {
    "duration": 13,
    "start_time": "2023-05-17T21:13:53.672Z"
   },
   {
    "duration": 13,
    "start_time": "2023-05-17T21:14:31.438Z"
   },
   {
    "duration": 125,
    "start_time": "2023-05-17T21:15:10.812Z"
   },
   {
    "duration": 4,
    "start_time": "2023-05-17T21:17:38.700Z"
   },
   {
    "duration": 30,
    "start_time": "2023-05-17T21:17:41.804Z"
   },
   {
    "duration": 14,
    "start_time": "2023-05-17T21:19:11.239Z"
   },
   {
    "duration": 83,
    "start_time": "2023-05-17T21:19:16.004Z"
   },
   {
    "duration": 8,
    "start_time": "2023-05-17T21:19:24.876Z"
   },
   {
    "duration": 8,
    "start_time": "2023-05-17T21:20:19.137Z"
   },
   {
    "duration": 7,
    "start_time": "2023-05-17T21:20:47.376Z"
   },
   {
    "duration": 9,
    "start_time": "2023-05-17T21:21:54.925Z"
   },
   {
    "duration": 33,
    "start_time": "2023-05-17T21:34:04.596Z"
   },
   {
    "duration": 28,
    "start_time": "2023-05-17T21:34:56.393Z"
   },
   {
    "duration": 3,
    "start_time": "2023-05-17T21:36:14.141Z"
   },
   {
    "duration": 8,
    "start_time": "2023-05-17T21:36:37.482Z"
   },
   {
    "duration": 3,
    "start_time": "2023-05-17T21:37:07.396Z"
   },
   {
    "duration": 12,
    "start_time": "2023-05-17T21:37:08.947Z"
   },
   {
    "duration": 2383,
    "start_time": "2023-05-17T21:38:47.300Z"
   },
   {
    "duration": 1240,
    "start_time": "2023-05-17T21:38:49.685Z"
   },
   {
    "duration": 1956,
    "start_time": "2023-05-17T21:38:50.928Z"
   },
   {
    "duration": 11,
    "start_time": "2023-05-17T21:38:52.886Z"
   },
   {
    "duration": 20,
    "start_time": "2023-05-17T21:38:52.899Z"
   },
   {
    "duration": 19,
    "start_time": "2023-05-17T21:38:52.926Z"
   },
   {
    "duration": 9,
    "start_time": "2023-05-17T21:38:52.947Z"
   },
   {
    "duration": 75,
    "start_time": "2023-05-17T21:38:52.958Z"
   },
   {
    "duration": 88,
    "start_time": "2023-05-17T21:38:53.034Z"
   },
   {
    "duration": 52,
    "start_time": "2023-05-17T21:38:53.126Z"
   },
   {
    "duration": 9,
    "start_time": "2023-05-17T21:38:53.179Z"
   },
   {
    "duration": 5,
    "start_time": "2023-05-17T21:38:53.189Z"
   },
   {
    "duration": 15,
    "start_time": "2023-05-17T21:38:53.208Z"
   },
   {
    "duration": 26,
    "start_time": "2023-05-17T21:38:53.225Z"
   },
   {
    "duration": 11,
    "start_time": "2023-05-17T21:38:53.253Z"
   },
   {
    "duration": 16,
    "start_time": "2023-05-17T21:38:53.266Z"
   },
   {
    "duration": 49,
    "start_time": "2023-05-17T21:38:53.283Z"
   },
   {
    "duration": 237,
    "start_time": "2023-05-17T21:38:53.335Z"
   },
   {
    "duration": 6,
    "start_time": "2023-05-17T21:38:53.573Z"
   },
   {
    "duration": 51,
    "start_time": "2023-05-17T21:38:53.581Z"
   },
   {
    "duration": 12,
    "start_time": "2023-05-17T21:38:53.637Z"
   },
   {
    "duration": 8,
    "start_time": "2023-05-17T21:38:53.651Z"
   },
   {
    "duration": 15,
    "start_time": "2023-05-17T21:38:53.661Z"
   },
   {
    "duration": 71,
    "start_time": "2023-05-17T21:38:53.678Z"
   },
   {
    "duration": 15,
    "start_time": "2023-05-17T21:38:53.750Z"
   },
   {
    "duration": 6,
    "start_time": "2023-05-17T21:38:53.766Z"
   },
   {
    "duration": 14,
    "start_time": "2023-05-17T21:38:53.774Z"
   },
   {
    "duration": 57,
    "start_time": "2023-05-17T21:38:53.791Z"
   },
   {
    "duration": 7,
    "start_time": "2023-05-17T21:38:53.850Z"
   },
   {
    "duration": 12,
    "start_time": "2023-05-17T21:38:53.859Z"
   },
   {
    "duration": 8,
    "start_time": "2023-05-17T21:38:53.874Z"
   },
   {
    "duration": 5,
    "start_time": "2023-05-17T21:38:53.885Z"
   },
   {
    "duration": 13,
    "start_time": "2023-05-17T21:38:53.908Z"
   },
   {
    "duration": 24,
    "start_time": "2023-05-17T21:38:53.923Z"
   },
   {
    "duration": 13,
    "start_time": "2023-05-17T21:38:53.950Z"
   },
   {
    "duration": 13,
    "start_time": "2023-05-17T21:38:53.968Z"
   },
   {
    "duration": 165,
    "start_time": "2023-05-17T21:38:53.982Z"
   },
   {
    "duration": 24,
    "start_time": "2023-05-17T21:38:54.148Z"
   },
   {
    "duration": 13,
    "start_time": "2023-05-17T21:38:54.174Z"
   },
   {
    "duration": 790,
    "start_time": "2023-05-17T21:38:54.207Z"
   },
   {
    "duration": 40,
    "start_time": "2023-05-17T21:38:54.999Z"
   },
   {
    "duration": 11,
    "start_time": "2023-05-17T21:38:55.047Z"
   },
   {
    "duration": 11,
    "start_time": "2023-05-17T21:38:55.060Z"
   },
   {
    "duration": 26,
    "start_time": "2023-05-17T21:38:55.113Z"
   },
   {
    "duration": 7,
    "start_time": "2023-05-17T21:38:55.141Z"
   },
   {
    "duration": 28,
    "start_time": "2023-05-17T21:38:55.150Z"
   },
   {
    "duration": 9,
    "start_time": "2023-05-17T21:38:55.180Z"
   },
   {
    "duration": 22,
    "start_time": "2023-05-17T21:38:55.191Z"
   },
   {
    "duration": 20,
    "start_time": "2023-05-17T21:38:55.214Z"
   },
   {
    "duration": 6,
    "start_time": "2023-05-17T21:38:55.241Z"
   },
   {
    "duration": 23,
    "start_time": "2023-05-17T21:38:55.249Z"
   },
   {
    "duration": 45,
    "start_time": "2023-05-17T21:38:55.274Z"
   },
   {
    "duration": 4,
    "start_time": "2023-05-17T21:38:55.320Z"
   },
   {
    "duration": 121,
    "start_time": "2023-05-17T21:38:55.325Z"
   },
   {
    "duration": 12,
    "start_time": "2023-05-17T21:41:53.889Z"
   },
   {
    "duration": 2367,
    "start_time": "2023-05-17T21:42:00.902Z"
   },
   {
    "duration": 1143,
    "start_time": "2023-05-17T21:42:03.270Z"
   },
   {
    "duration": 1465,
    "start_time": "2023-05-17T21:42:04.422Z"
   },
   {
    "duration": 12,
    "start_time": "2023-05-17T21:42:05.889Z"
   },
   {
    "duration": 14,
    "start_time": "2023-05-17T21:42:05.903Z"
   },
   {
    "duration": 11,
    "start_time": "2023-05-17T21:42:05.918Z"
   },
   {
    "duration": 12,
    "start_time": "2023-05-17T21:42:05.930Z"
   },
   {
    "duration": 51,
    "start_time": "2023-05-17T21:42:05.944Z"
   },
   {
    "duration": 99,
    "start_time": "2023-05-17T21:42:05.996Z"
   },
   {
    "duration": 58,
    "start_time": "2023-05-17T21:42:06.097Z"
   },
   {
    "duration": 8,
    "start_time": "2023-05-17T21:42:06.157Z"
   },
   {
    "duration": 13,
    "start_time": "2023-05-17T21:42:06.166Z"
   },
   {
    "duration": 10,
    "start_time": "2023-05-17T21:42:06.180Z"
   },
   {
    "duration": 29,
    "start_time": "2023-05-17T21:42:06.208Z"
   },
   {
    "duration": 11,
    "start_time": "2023-05-17T21:42:06.239Z"
   },
   {
    "duration": 14,
    "start_time": "2023-05-17T21:42:06.251Z"
   },
   {
    "duration": 13,
    "start_time": "2023-05-17T21:42:06.266Z"
   },
   {
    "duration": 219,
    "start_time": "2023-05-17T21:42:06.281Z"
   },
   {
    "duration": 10,
    "start_time": "2023-05-17T21:42:06.502Z"
   },
   {
    "duration": 35,
    "start_time": "2023-05-17T21:42:06.514Z"
   },
   {
    "duration": 9,
    "start_time": "2023-05-17T21:42:06.550Z"
   },
   {
    "duration": 9,
    "start_time": "2023-05-17T21:42:06.560Z"
   },
   {
    "duration": 44,
    "start_time": "2023-05-17T21:42:06.570Z"
   },
   {
    "duration": 37,
    "start_time": "2023-05-17T21:42:06.616Z"
   },
   {
    "duration": 14,
    "start_time": "2023-05-17T21:42:06.654Z"
   },
   {
    "duration": 4,
    "start_time": "2023-05-17T21:42:06.670Z"
   },
   {
    "duration": 18,
    "start_time": "2023-05-17T21:42:06.675Z"
   },
   {
    "duration": 46,
    "start_time": "2023-05-17T21:42:06.697Z"
   },
   {
    "duration": 5,
    "start_time": "2023-05-17T21:42:06.745Z"
   },
   {
    "duration": 5,
    "start_time": "2023-05-17T21:42:06.751Z"
   },
   {
    "duration": 6,
    "start_time": "2023-05-17T21:42:06.757Z"
   },
   {
    "duration": 4,
    "start_time": "2023-05-17T21:42:06.764Z"
   },
   {
    "duration": 6,
    "start_time": "2023-05-17T21:42:06.770Z"
   },
   {
    "duration": 39,
    "start_time": "2023-05-17T21:42:06.777Z"
   },
   {
    "duration": 16,
    "start_time": "2023-05-17T21:42:06.823Z"
   },
   {
    "duration": 11,
    "start_time": "2023-05-17T21:42:06.842Z"
   },
   {
    "duration": 130,
    "start_time": "2023-05-17T21:42:06.854Z"
   },
   {
    "duration": 30,
    "start_time": "2023-05-17T21:42:06.985Z"
   },
   {
    "duration": 22,
    "start_time": "2023-05-17T21:42:07.017Z"
   },
   {
    "duration": 585,
    "start_time": "2023-05-17T21:42:07.041Z"
   },
   {
    "duration": 22,
    "start_time": "2023-05-17T21:42:07.627Z"
   },
   {
    "duration": 12,
    "start_time": "2023-05-17T21:42:07.650Z"
   },
   {
    "duration": 59,
    "start_time": "2023-05-17T21:42:07.663Z"
   },
   {
    "duration": 25,
    "start_time": "2023-05-17T21:42:07.724Z"
   },
   {
    "duration": 6,
    "start_time": "2023-05-17T21:42:07.751Z"
   },
   {
    "duration": 27,
    "start_time": "2023-05-17T21:42:07.758Z"
   },
   {
    "duration": 34,
    "start_time": "2023-05-17T21:42:07.787Z"
   },
   {
    "duration": 11,
    "start_time": "2023-05-17T21:42:07.822Z"
   },
   {
    "duration": 9,
    "start_time": "2023-05-17T21:42:07.835Z"
   },
   {
    "duration": 8,
    "start_time": "2023-05-17T21:42:07.846Z"
   },
   {
    "duration": 23,
    "start_time": "2023-05-17T21:42:07.855Z"
   },
   {
    "duration": 40,
    "start_time": "2023-05-17T21:42:07.879Z"
   },
   {
    "duration": 3,
    "start_time": "2023-05-17T21:42:07.921Z"
   },
   {
    "duration": 15,
    "start_time": "2023-05-17T21:42:07.928Z"
   },
   {
    "duration": 11,
    "start_time": "2023-05-17T21:42:30.178Z"
   },
   {
    "duration": 7,
    "start_time": "2023-05-17T21:42:33.482Z"
   },
   {
    "duration": 10,
    "start_time": "2023-05-17T21:42:41.115Z"
   },
   {
    "duration": 2474,
    "start_time": "2023-05-17T22:32:26.127Z"
   },
   {
    "duration": 1286,
    "start_time": "2023-05-17T22:32:28.604Z"
   },
   {
    "duration": 2097,
    "start_time": "2023-05-17T22:32:29.892Z"
   },
   {
    "duration": 13,
    "start_time": "2023-05-17T22:32:31.991Z"
   },
   {
    "duration": 27,
    "start_time": "2023-05-17T22:32:32.006Z"
   },
   {
    "duration": 27,
    "start_time": "2023-05-17T22:32:32.038Z"
   },
   {
    "duration": 7,
    "start_time": "2023-05-17T22:32:32.073Z"
   },
   {
    "duration": 78,
    "start_time": "2023-05-17T22:32:32.081Z"
   },
   {
    "duration": 117,
    "start_time": "2023-05-17T22:32:32.160Z"
   },
   {
    "duration": 47,
    "start_time": "2023-05-17T22:32:32.278Z"
   },
   {
    "duration": 20,
    "start_time": "2023-05-17T22:32:32.331Z"
   },
   {
    "duration": 6,
    "start_time": "2023-05-17T22:32:32.356Z"
   },
   {
    "duration": 11,
    "start_time": "2023-05-17T22:32:32.366Z"
   },
   {
    "duration": 19,
    "start_time": "2023-05-17T22:32:32.380Z"
   },
   {
    "duration": 34,
    "start_time": "2023-05-17T22:32:32.402Z"
   },
   {
    "duration": 24,
    "start_time": "2023-05-17T22:32:32.441Z"
   },
   {
    "duration": 15,
    "start_time": "2023-05-17T22:32:32.470Z"
   },
   {
    "duration": 242,
    "start_time": "2023-05-17T22:32:32.487Z"
   },
   {
    "duration": 9,
    "start_time": "2023-05-17T22:32:32.736Z"
   },
   {
    "duration": 34,
    "start_time": "2023-05-17T22:32:32.746Z"
   },
   {
    "duration": 9,
    "start_time": "2023-05-17T22:32:32.782Z"
   },
   {
    "duration": 15,
    "start_time": "2023-05-17T22:32:32.793Z"
   },
   {
    "duration": 46,
    "start_time": "2023-05-17T22:32:32.820Z"
   },
   {
    "duration": 24,
    "start_time": "2023-05-17T22:32:32.868Z"
   },
   {
    "duration": 19,
    "start_time": "2023-05-17T22:32:32.894Z"
   },
   {
    "duration": 9,
    "start_time": "2023-05-17T22:32:32.914Z"
   },
   {
    "duration": 24,
    "start_time": "2023-05-17T22:32:32.930Z"
   },
   {
    "duration": 37,
    "start_time": "2023-05-17T22:32:32.956Z"
   },
   {
    "duration": 5,
    "start_time": "2023-05-17T22:32:32.995Z"
   },
   {
    "duration": 7,
    "start_time": "2023-05-17T22:32:33.002Z"
   },
   {
    "duration": 12,
    "start_time": "2023-05-17T22:32:33.010Z"
   },
   {
    "duration": 20,
    "start_time": "2023-05-17T22:32:33.024Z"
   },
   {
    "duration": 12,
    "start_time": "2023-05-17T22:32:33.046Z"
   },
   {
    "duration": 15,
    "start_time": "2023-05-17T22:32:33.069Z"
   },
   {
    "duration": 10,
    "start_time": "2023-05-17T22:32:33.085Z"
   },
   {
    "duration": 20,
    "start_time": "2023-05-17T22:32:33.097Z"
   },
   {
    "duration": 189,
    "start_time": "2023-05-17T22:32:33.126Z"
   },
   {
    "duration": 38,
    "start_time": "2023-05-17T22:32:33.330Z"
   },
   {
    "duration": 14,
    "start_time": "2023-05-17T22:32:33.373Z"
   },
   {
    "duration": 728,
    "start_time": "2023-05-17T22:32:33.389Z"
   },
   {
    "duration": 25,
    "start_time": "2023-05-17T22:32:34.121Z"
   },
   {
    "duration": 17,
    "start_time": "2023-05-17T22:32:34.148Z"
   },
   {
    "duration": 11,
    "start_time": "2023-05-17T22:32:34.172Z"
   },
   {
    "duration": 20,
    "start_time": "2023-05-17T22:32:34.219Z"
   },
   {
    "duration": 6,
    "start_time": "2023-05-17T22:32:34.245Z"
   },
   {
    "duration": 37,
    "start_time": "2023-05-17T22:32:34.253Z"
   },
   {
    "duration": 16,
    "start_time": "2023-05-17T22:32:34.292Z"
   },
   {
    "duration": 40,
    "start_time": "2023-05-17T22:32:34.310Z"
   },
   {
    "duration": 10,
    "start_time": "2023-05-17T22:32:34.362Z"
   },
   {
    "duration": 15,
    "start_time": "2023-05-17T22:32:34.374Z"
   },
   {
    "duration": 33,
    "start_time": "2023-05-17T22:32:34.391Z"
   },
   {
    "duration": 27,
    "start_time": "2023-05-17T22:32:34.425Z"
   },
   {
    "duration": 6,
    "start_time": "2023-05-17T22:32:34.456Z"
   },
   {
    "duration": 26,
    "start_time": "2023-05-17T22:32:34.464Z"
   },
   {
    "duration": 10,
    "start_time": "2023-05-17T22:32:34.492Z"
   },
   {
    "duration": 14,
    "start_time": "2023-05-17T22:32:34.504Z"
   },
   {
    "duration": 513,
    "start_time": "2023-05-17T22:39:42.399Z"
   },
   {
    "duration": 4,
    "start_time": "2023-05-17T22:40:41.065Z"
   },
   {
    "duration": 2485,
    "start_time": "2023-05-17T22:40:48.246Z"
   },
   {
    "duration": 1171,
    "start_time": "2023-05-17T22:40:50.733Z"
   },
   {
    "duration": 1487,
    "start_time": "2023-05-17T22:40:51.906Z"
   },
   {
    "duration": 25,
    "start_time": "2023-05-17T22:40:53.394Z"
   },
   {
    "duration": 14,
    "start_time": "2023-05-17T22:40:53.421Z"
   },
   {
    "duration": 9,
    "start_time": "2023-05-17T22:40:53.438Z"
   },
   {
    "duration": 13,
    "start_time": "2023-05-17T22:40:53.449Z"
   },
   {
    "duration": 56,
    "start_time": "2023-05-17T22:40:53.465Z"
   },
   {
    "duration": 93,
    "start_time": "2023-05-17T22:40:53.522Z"
   },
   {
    "duration": 72,
    "start_time": "2023-05-17T22:40:53.619Z"
   },
   {
    "duration": 31,
    "start_time": "2023-05-17T22:40:53.693Z"
   },
   {
    "duration": 44,
    "start_time": "2023-05-17T22:40:53.732Z"
   },
   {
    "duration": 23,
    "start_time": "2023-05-17T22:40:53.777Z"
   },
   {
    "duration": 38,
    "start_time": "2023-05-17T22:40:53.803Z"
   },
   {
    "duration": 24,
    "start_time": "2023-05-17T22:40:53.848Z"
   },
   {
    "duration": 17,
    "start_time": "2023-05-17T22:40:53.875Z"
   },
   {
    "duration": 22,
    "start_time": "2023-05-17T22:40:53.893Z"
   },
   {
    "duration": 205,
    "start_time": "2023-05-17T22:40:53.920Z"
   },
   {
    "duration": 6,
    "start_time": "2023-05-17T22:40:54.126Z"
   },
   {
    "duration": 36,
    "start_time": "2023-05-17T22:40:54.133Z"
   },
   {
    "duration": 8,
    "start_time": "2023-05-17T22:40:54.170Z"
   },
   {
    "duration": 6,
    "start_time": "2023-05-17T22:40:54.179Z"
   },
   {
    "duration": 61,
    "start_time": "2023-05-17T22:40:54.187Z"
   },
   {
    "duration": 38,
    "start_time": "2023-05-17T22:40:54.250Z"
   },
   {
    "duration": 16,
    "start_time": "2023-05-17T22:40:54.289Z"
   },
   {
    "duration": 9,
    "start_time": "2023-05-17T22:40:54.312Z"
   },
   {
    "duration": 16,
    "start_time": "2023-05-17T22:40:54.325Z"
   },
   {
    "duration": 41,
    "start_time": "2023-05-17T22:40:54.344Z"
   },
   {
    "duration": 5,
    "start_time": "2023-05-17T22:40:54.387Z"
   },
   {
    "duration": 6,
    "start_time": "2023-05-17T22:40:54.393Z"
   },
   {
    "duration": 14,
    "start_time": "2023-05-17T22:40:54.400Z"
   },
   {
    "duration": 22,
    "start_time": "2023-05-17T22:40:54.416Z"
   },
   {
    "duration": 5,
    "start_time": "2023-05-17T22:40:54.443Z"
   },
   {
    "duration": 17,
    "start_time": "2023-05-17T22:40:54.451Z"
   },
   {
    "duration": 10,
    "start_time": "2023-05-17T22:40:54.469Z"
   },
   {
    "duration": 11,
    "start_time": "2023-05-17T22:40:54.480Z"
   },
   {
    "duration": 126,
    "start_time": "2023-05-17T22:40:54.492Z"
   },
   {
    "duration": 36,
    "start_time": "2023-05-17T22:40:54.619Z"
   },
   {
    "duration": 13,
    "start_time": "2023-05-17T22:40:54.657Z"
   },
   {
    "duration": 652,
    "start_time": "2023-05-17T22:40:54.672Z"
   },
   {
    "duration": 23,
    "start_time": "2023-05-17T22:40:55.328Z"
   },
   {
    "duration": 22,
    "start_time": "2023-05-17T22:40:55.352Z"
   },
   {
    "duration": 68,
    "start_time": "2023-05-17T22:40:55.375Z"
   },
   {
    "duration": 17,
    "start_time": "2023-05-17T22:40:55.449Z"
   },
   {
    "duration": 5,
    "start_time": "2023-05-17T22:40:55.467Z"
   },
   {
    "duration": 32,
    "start_time": "2023-05-17T22:40:55.473Z"
   },
   {
    "duration": 12,
    "start_time": "2023-05-17T22:40:55.508Z"
   },
   {
    "duration": 11,
    "start_time": "2023-05-17T22:40:55.523Z"
   },
   {
    "duration": 15,
    "start_time": "2023-05-17T22:40:55.539Z"
   },
   {
    "duration": 14,
    "start_time": "2023-05-17T22:40:55.556Z"
   },
   {
    "duration": 28,
    "start_time": "2023-05-17T22:40:55.571Z"
   },
   {
    "duration": 18,
    "start_time": "2023-05-17T22:40:55.601Z"
   },
   {
    "duration": 3,
    "start_time": "2023-05-17T22:40:55.623Z"
   },
   {
    "duration": 25,
    "start_time": "2023-05-17T22:40:55.631Z"
   },
   {
    "duration": 9,
    "start_time": "2023-05-17T22:40:55.659Z"
   },
   {
    "duration": 7,
    "start_time": "2023-05-17T22:40:55.670Z"
   },
   {
    "duration": 449,
    "start_time": "2023-05-17T22:41:16.587Z"
   },
   {
    "duration": 445,
    "start_time": "2023-05-17T22:41:25.588Z"
   },
   {
    "duration": 439,
    "start_time": "2023-05-17T22:42:04.764Z"
   },
   {
    "duration": 50,
    "start_time": "2023-05-17T22:43:31.812Z"
   },
   {
    "duration": 2276,
    "start_time": "2023-05-17T22:43:43.067Z"
   },
   {
    "duration": 1225,
    "start_time": "2023-05-17T22:43:45.344Z"
   },
   {
    "duration": 1347,
    "start_time": "2023-05-17T22:43:46.572Z"
   },
   {
    "duration": 15,
    "start_time": "2023-05-17T22:43:47.921Z"
   },
   {
    "duration": 21,
    "start_time": "2023-05-17T22:43:47.937Z"
   },
   {
    "duration": 7,
    "start_time": "2023-05-17T22:43:47.962Z"
   },
   {
    "duration": 9,
    "start_time": "2023-05-17T22:43:47.971Z"
   },
   {
    "duration": 71,
    "start_time": "2023-05-17T22:43:47.981Z"
   },
   {
    "duration": 92,
    "start_time": "2023-05-17T22:43:48.054Z"
   },
   {
    "duration": 41,
    "start_time": "2023-05-17T22:43:48.148Z"
   },
   {
    "duration": 29,
    "start_time": "2023-05-17T22:43:48.190Z"
   },
   {
    "duration": 7,
    "start_time": "2023-05-17T22:43:48.224Z"
   },
   {
    "duration": 19,
    "start_time": "2023-05-17T22:43:48.232Z"
   },
   {
    "duration": 18,
    "start_time": "2023-05-17T22:43:48.252Z"
   },
   {
    "duration": 11,
    "start_time": "2023-05-17T22:43:48.272Z"
   },
   {
    "duration": 12,
    "start_time": "2023-05-17T22:43:48.285Z"
   },
   {
    "duration": 18,
    "start_time": "2023-05-17T22:43:48.298Z"
   },
   {
    "duration": 186,
    "start_time": "2023-05-17T22:43:48.318Z"
   },
   {
    "duration": 29,
    "start_time": "2023-05-17T22:43:48.512Z"
   },
   {
    "duration": 30,
    "start_time": "2023-05-17T22:43:48.550Z"
   },
   {
    "duration": 8,
    "start_time": "2023-05-17T22:43:48.582Z"
   },
   {
    "duration": 26,
    "start_time": "2023-05-17T22:43:48.591Z"
   },
   {
    "duration": 22,
    "start_time": "2023-05-17T22:43:48.622Z"
   },
   {
    "duration": 28,
    "start_time": "2023-05-17T22:43:48.652Z"
   },
   {
    "duration": 12,
    "start_time": "2023-05-17T22:43:48.682Z"
   },
   {
    "duration": 4,
    "start_time": "2023-05-17T22:43:48.695Z"
   },
   {
    "duration": 27,
    "start_time": "2023-05-17T22:43:48.700Z"
   },
   {
    "duration": 35,
    "start_time": "2023-05-17T22:43:48.741Z"
   },
   {
    "duration": 5,
    "start_time": "2023-05-17T22:43:48.778Z"
   },
   {
    "duration": 6,
    "start_time": "2023-05-17T22:43:48.784Z"
   },
   {
    "duration": 6,
    "start_time": "2023-05-17T22:43:48.792Z"
   },
   {
    "duration": 4,
    "start_time": "2023-05-17T22:43:48.799Z"
   },
   {
    "duration": 10,
    "start_time": "2023-05-17T22:43:48.804Z"
   },
   {
    "duration": 23,
    "start_time": "2023-05-17T22:43:48.826Z"
   },
   {
    "duration": 15,
    "start_time": "2023-05-17T22:43:48.850Z"
   },
   {
    "duration": 10,
    "start_time": "2023-05-17T22:43:48.866Z"
   },
   {
    "duration": 121,
    "start_time": "2023-05-17T22:43:48.877Z"
   },
   {
    "duration": 29,
    "start_time": "2023-05-17T22:43:49.000Z"
   },
   {
    "duration": 120,
    "start_time": "2023-05-17T22:43:49.030Z"
   },
   {
    "duration": 0,
    "start_time": "2023-05-17T22:43:49.151Z"
   },
   {
    "duration": 0,
    "start_time": "2023-05-17T22:43:49.152Z"
   },
   {
    "duration": 0,
    "start_time": "2023-05-17T22:43:49.153Z"
   },
   {
    "duration": 0,
    "start_time": "2023-05-17T22:43:49.154Z"
   },
   {
    "duration": 0,
    "start_time": "2023-05-17T22:43:49.156Z"
   },
   {
    "duration": 0,
    "start_time": "2023-05-17T22:43:49.157Z"
   },
   {
    "duration": 0,
    "start_time": "2023-05-17T22:43:49.158Z"
   },
   {
    "duration": 0,
    "start_time": "2023-05-17T22:43:49.159Z"
   },
   {
    "duration": 0,
    "start_time": "2023-05-17T22:43:49.160Z"
   },
   {
    "duration": 0,
    "start_time": "2023-05-17T22:43:49.161Z"
   },
   {
    "duration": 0,
    "start_time": "2023-05-17T22:43:49.161Z"
   },
   {
    "duration": 0,
    "start_time": "2023-05-17T22:43:49.163Z"
   },
   {
    "duration": 0,
    "start_time": "2023-05-17T22:43:49.164Z"
   },
   {
    "duration": 0,
    "start_time": "2023-05-17T22:43:49.165Z"
   },
   {
    "duration": 0,
    "start_time": "2023-05-17T22:43:49.166Z"
   },
   {
    "duration": 0,
    "start_time": "2023-05-17T22:43:49.167Z"
   },
   {
    "duration": 0,
    "start_time": "2023-05-17T22:43:49.168Z"
   },
   {
    "duration": 24,
    "start_time": "2023-05-17T22:44:17.354Z"
   },
   {
    "duration": 634,
    "start_time": "2023-05-17T22:44:20.458Z"
   },
   {
    "duration": 2589,
    "start_time": "2023-05-17T22:44:33.387Z"
   },
   {
    "duration": 1311,
    "start_time": "2023-05-17T22:44:35.978Z"
   },
   {
    "duration": 1609,
    "start_time": "2023-05-17T22:44:37.291Z"
   },
   {
    "duration": 13,
    "start_time": "2023-05-17T22:44:38.901Z"
   },
   {
    "duration": 21,
    "start_time": "2023-05-17T22:44:38.920Z"
   },
   {
    "duration": 8,
    "start_time": "2023-05-17T22:44:38.953Z"
   },
   {
    "duration": 10,
    "start_time": "2023-05-17T22:44:38.963Z"
   },
   {
    "duration": 62,
    "start_time": "2023-05-17T22:44:38.975Z"
   },
   {
    "duration": 111,
    "start_time": "2023-05-17T22:44:39.039Z"
   },
   {
    "duration": 42,
    "start_time": "2023-05-17T22:44:39.152Z"
   },
   {
    "duration": 9,
    "start_time": "2023-05-17T22:44:39.196Z"
   },
   {
    "duration": 13,
    "start_time": "2023-05-17T22:44:39.216Z"
   },
   {
    "duration": 21,
    "start_time": "2023-05-17T22:44:39.233Z"
   },
   {
    "duration": 17,
    "start_time": "2023-05-17T22:44:39.257Z"
   },
   {
    "duration": 10,
    "start_time": "2023-05-17T22:44:39.275Z"
   },
   {
    "duration": 13,
    "start_time": "2023-05-17T22:44:39.286Z"
   },
   {
    "duration": 44,
    "start_time": "2023-05-17T22:44:39.300Z"
   },
   {
    "duration": 200,
    "start_time": "2023-05-17T22:44:39.350Z"
   },
   {
    "duration": 8,
    "start_time": "2023-05-17T22:44:39.551Z"
   },
   {
    "duration": 24,
    "start_time": "2023-05-17T22:44:39.563Z"
   },
   {
    "duration": 9,
    "start_time": "2023-05-17T22:44:39.589Z"
   },
   {
    "duration": 28,
    "start_time": "2023-05-17T22:44:39.599Z"
   },
   {
    "duration": 20,
    "start_time": "2023-05-17T22:44:39.640Z"
   },
   {
    "duration": 28,
    "start_time": "2023-05-17T22:44:39.661Z"
   },
   {
    "duration": 15,
    "start_time": "2023-05-17T22:44:39.690Z"
   },
   {
    "duration": 29,
    "start_time": "2023-05-17T22:44:39.706Z"
   },
   {
    "duration": 13,
    "start_time": "2023-05-17T22:44:39.745Z"
   },
   {
    "duration": 25,
    "start_time": "2023-05-17T22:44:39.760Z"
   },
   {
    "duration": 5,
    "start_time": "2023-05-17T22:44:39.786Z"
   },
   {
    "duration": 4,
    "start_time": "2023-05-17T22:44:39.793Z"
   },
   {
    "duration": 7,
    "start_time": "2023-05-17T22:44:39.798Z"
   },
   {
    "duration": 5,
    "start_time": "2023-05-17T22:44:39.814Z"
   },
   {
    "duration": 22,
    "start_time": "2023-05-17T22:44:39.821Z"
   },
   {
    "duration": 22,
    "start_time": "2023-05-17T22:44:39.846Z"
   },
   {
    "duration": 9,
    "start_time": "2023-05-17T22:44:39.869Z"
   },
   {
    "duration": 9,
    "start_time": "2023-05-17T22:44:39.880Z"
   },
   {
    "duration": 136,
    "start_time": "2023-05-17T22:44:39.890Z"
   },
   {
    "duration": 28,
    "start_time": "2023-05-17T22:44:40.036Z"
   },
   {
    "duration": 20,
    "start_time": "2023-05-17T22:44:40.066Z"
   },
   {
    "duration": 627,
    "start_time": "2023-05-17T22:44:40.088Z"
   },
   {
    "duration": 28,
    "start_time": "2023-05-17T22:44:40.730Z"
   },
   {
    "duration": 48,
    "start_time": "2023-05-17T22:44:40.759Z"
   },
   {
    "duration": 18,
    "start_time": "2023-05-17T22:44:40.816Z"
   },
   {
    "duration": 20,
    "start_time": "2023-05-17T22:44:40.836Z"
   },
   {
    "duration": 6,
    "start_time": "2023-05-17T22:44:40.857Z"
   },
   {
    "duration": 19,
    "start_time": "2023-05-17T22:44:40.866Z"
   },
   {
    "duration": 8,
    "start_time": "2023-05-17T22:44:40.886Z"
   },
   {
    "duration": 44,
    "start_time": "2023-05-17T22:44:40.895Z"
   },
   {
    "duration": 11,
    "start_time": "2023-05-17T22:44:40.947Z"
   },
   {
    "duration": 5,
    "start_time": "2023-05-17T22:44:40.960Z"
   },
   {
    "duration": 19,
    "start_time": "2023-05-17T22:44:40.966Z"
   },
   {
    "duration": 12,
    "start_time": "2023-05-17T22:44:40.987Z"
   },
   {
    "duration": 3,
    "start_time": "2023-05-17T22:44:41.000Z"
   },
   {
    "duration": 21,
    "start_time": "2023-05-17T22:44:41.004Z"
   },
   {
    "duration": 30,
    "start_time": "2023-05-17T22:44:41.026Z"
   },
   {
    "duration": 8,
    "start_time": "2023-05-17T22:44:41.058Z"
   },
   {
    "duration": 127,
    "start_time": "2023-05-17T22:46:24.101Z"
   },
   {
    "duration": 13,
    "start_time": "2023-05-17T22:46:44.287Z"
   },
   {
    "duration": 11,
    "start_time": "2023-05-17T22:46:50.584Z"
   },
   {
    "duration": 11,
    "start_time": "2023-05-17T22:47:05.875Z"
   },
   {
    "duration": 24,
    "start_time": "2023-05-17T22:47:15.244Z"
   },
   {
    "duration": 28,
    "start_time": "2023-05-17T22:48:04.741Z"
   },
   {
    "duration": 477,
    "start_time": "2023-05-17T22:48:09.303Z"
   },
   {
    "duration": 2379,
    "start_time": "2023-05-17T22:48:22.598Z"
   },
   {
    "duration": 1144,
    "start_time": "2023-05-17T22:48:24.978Z"
   },
   {
    "duration": 1256,
    "start_time": "2023-05-17T22:48:26.129Z"
   },
   {
    "duration": 11,
    "start_time": "2023-05-17T22:48:27.387Z"
   },
   {
    "duration": 18,
    "start_time": "2023-05-17T22:48:27.400Z"
   },
   {
    "duration": 16,
    "start_time": "2023-05-17T22:48:27.425Z"
   },
   {
    "duration": 14,
    "start_time": "2023-05-17T22:48:27.446Z"
   },
   {
    "duration": 58,
    "start_time": "2023-05-17T22:48:27.461Z"
   },
   {
    "duration": 102,
    "start_time": "2023-05-17T22:48:27.531Z"
   },
   {
    "duration": 49,
    "start_time": "2023-05-17T22:48:27.637Z"
   },
   {
    "duration": 8,
    "start_time": "2023-05-17T22:48:27.688Z"
   },
   {
    "duration": 26,
    "start_time": "2023-05-17T22:48:27.697Z"
   },
   {
    "duration": 15,
    "start_time": "2023-05-17T22:48:27.737Z"
   },
   {
    "duration": 17,
    "start_time": "2023-05-17T22:48:27.754Z"
   },
   {
    "duration": 10,
    "start_time": "2023-05-17T22:48:27.772Z"
   },
   {
    "duration": 14,
    "start_time": "2023-05-17T22:48:27.784Z"
   },
   {
    "duration": 24,
    "start_time": "2023-05-17T22:48:27.799Z"
   },
   {
    "duration": 198,
    "start_time": "2023-05-17T22:48:27.829Z"
   },
   {
    "duration": 9,
    "start_time": "2023-05-17T22:48:28.030Z"
   },
   {
    "duration": 35,
    "start_time": "2023-05-17T22:48:28.042Z"
   },
   {
    "duration": 9,
    "start_time": "2023-05-17T22:48:28.079Z"
   },
   {
    "duration": 7,
    "start_time": "2023-05-17T22:48:28.090Z"
   },
   {
    "duration": 33,
    "start_time": "2023-05-17T22:48:28.098Z"
   },
   {
    "duration": 35,
    "start_time": "2023-05-17T22:48:28.132Z"
   },
   {
    "duration": 27,
    "start_time": "2023-05-17T22:48:28.169Z"
   },
   {
    "duration": 4,
    "start_time": "2023-05-17T22:48:28.197Z"
   },
   {
    "duration": 21,
    "start_time": "2023-05-17T22:48:28.202Z"
   },
   {
    "duration": 34,
    "start_time": "2023-05-17T22:48:28.237Z"
   },
   {
    "duration": 5,
    "start_time": "2023-05-17T22:48:28.273Z"
   },
   {
    "duration": 4,
    "start_time": "2023-05-17T22:48:28.279Z"
   },
   {
    "duration": 6,
    "start_time": "2023-05-17T22:48:28.284Z"
   },
   {
    "duration": 3,
    "start_time": "2023-05-17T22:48:28.291Z"
   },
   {
    "duration": 24,
    "start_time": "2023-05-17T22:48:28.296Z"
   },
   {
    "duration": 29,
    "start_time": "2023-05-17T22:48:28.321Z"
   },
   {
    "duration": 13,
    "start_time": "2023-05-17T22:48:28.352Z"
   },
   {
    "duration": 11,
    "start_time": "2023-05-17T22:48:28.366Z"
   },
   {
    "duration": 127,
    "start_time": "2023-05-17T22:48:28.379Z"
   },
   {
    "duration": 26,
    "start_time": "2023-05-17T22:48:28.508Z"
   },
   {
    "duration": 33,
    "start_time": "2023-05-17T22:48:28.535Z"
   },
   {
    "duration": 668,
    "start_time": "2023-05-17T22:48:28.570Z"
   },
   {
    "duration": 27,
    "start_time": "2023-05-17T22:48:29.240Z"
   },
   {
    "duration": 58,
    "start_time": "2023-05-17T22:48:29.269Z"
   },
   {
    "duration": 23,
    "start_time": "2023-05-17T22:48:29.337Z"
   },
   {
    "duration": 11,
    "start_time": "2023-05-17T22:48:29.362Z"
   },
   {
    "duration": 4,
    "start_time": "2023-05-17T22:48:29.375Z"
   },
   {
    "duration": 33,
    "start_time": "2023-05-17T22:48:29.380Z"
   },
   {
    "duration": 11,
    "start_time": "2023-05-17T22:48:29.414Z"
   },
   {
    "duration": 14,
    "start_time": "2023-05-17T22:48:29.426Z"
   },
   {
    "duration": 9,
    "start_time": "2023-05-17T22:48:29.442Z"
   },
   {
    "duration": 7,
    "start_time": "2023-05-17T22:48:29.454Z"
   },
   {
    "duration": 21,
    "start_time": "2023-05-17T22:48:29.462Z"
   },
   {
    "duration": 29,
    "start_time": "2023-05-17T22:48:29.485Z"
   },
   {
    "duration": 4,
    "start_time": "2023-05-17T22:48:29.515Z"
   },
   {
    "duration": 20,
    "start_time": "2023-05-17T22:48:29.521Z"
   },
   {
    "duration": 15,
    "start_time": "2023-05-17T22:48:29.544Z"
   },
   {
    "duration": 8,
    "start_time": "2023-05-17T22:48:29.561Z"
   },
   {
    "duration": 1268,
    "start_time": "2023-05-17T22:51:26.653Z"
   },
   {
    "duration": 27,
    "start_time": "2023-05-17T22:51:52.932Z"
   },
   {
    "duration": 18,
    "start_time": "2023-05-17T22:52:20.354Z"
   },
   {
    "duration": 43,
    "start_time": "2023-05-17T22:52:45.095Z"
   },
   {
    "duration": 2194,
    "start_time": "2023-05-17T22:53:02.244Z"
   },
   {
    "duration": 1137,
    "start_time": "2023-05-17T22:53:04.440Z"
   },
   {
    "duration": 1211,
    "start_time": "2023-05-17T22:53:05.578Z"
   },
   {
    "duration": 11,
    "start_time": "2023-05-17T22:53:06.790Z"
   },
   {
    "duration": 16,
    "start_time": "2023-05-17T22:53:06.803Z"
   },
   {
    "duration": 12,
    "start_time": "2023-05-17T22:53:06.821Z"
   },
   {
    "duration": 6,
    "start_time": "2023-05-17T22:53:06.835Z"
   },
   {
    "duration": 50,
    "start_time": "2023-05-17T22:53:06.842Z"
   },
   {
    "duration": 102,
    "start_time": "2023-05-17T22:53:06.894Z"
   },
   {
    "duration": 59,
    "start_time": "2023-05-17T22:53:06.997Z"
   },
   {
    "duration": 8,
    "start_time": "2023-05-17T22:53:07.058Z"
   },
   {
    "duration": 6,
    "start_time": "2023-05-17T22:53:07.067Z"
   },
   {
    "duration": 9,
    "start_time": "2023-05-17T22:53:07.075Z"
   },
   {
    "duration": 40,
    "start_time": "2023-05-17T22:53:07.086Z"
   },
   {
    "duration": 17,
    "start_time": "2023-05-17T22:53:07.133Z"
   },
   {
    "duration": 14,
    "start_time": "2023-05-17T22:53:07.151Z"
   },
   {
    "duration": 10,
    "start_time": "2023-05-17T22:53:07.166Z"
   },
   {
    "duration": 179,
    "start_time": "2023-05-17T22:53:07.178Z"
   },
   {
    "duration": 5,
    "start_time": "2023-05-17T22:53:07.358Z"
   },
   {
    "duration": 28,
    "start_time": "2023-05-17T22:53:07.365Z"
   },
   {
    "duration": 17,
    "start_time": "2023-05-17T22:53:07.395Z"
   },
   {
    "duration": 13,
    "start_time": "2023-05-17T22:53:07.413Z"
   },
   {
    "duration": 19,
    "start_time": "2023-05-17T22:53:07.433Z"
   },
   {
    "duration": 24,
    "start_time": "2023-05-17T22:53:07.454Z"
   },
   {
    "duration": 12,
    "start_time": "2023-05-17T22:53:07.479Z"
   },
   {
    "duration": 27,
    "start_time": "2023-05-17T22:53:07.492Z"
   },
   {
    "duration": 23,
    "start_time": "2023-05-17T22:53:07.528Z"
   },
   {
    "duration": 31,
    "start_time": "2023-05-17T22:53:07.552Z"
   },
   {
    "duration": 5,
    "start_time": "2023-05-17T22:53:07.584Z"
   },
   {
    "duration": 5,
    "start_time": "2023-05-17T22:53:07.590Z"
   },
   {
    "duration": 6,
    "start_time": "2023-05-17T22:53:07.596Z"
   },
   {
    "duration": 23,
    "start_time": "2023-05-17T22:53:07.603Z"
   },
   {
    "duration": 16,
    "start_time": "2023-05-17T22:53:07.631Z"
   },
   {
    "duration": 13,
    "start_time": "2023-05-17T22:53:07.648Z"
   },
   {
    "duration": 11,
    "start_time": "2023-05-17T22:53:07.662Z"
   },
   {
    "duration": 10,
    "start_time": "2023-05-17T22:53:07.675Z"
   },
   {
    "duration": 127,
    "start_time": "2023-05-17T22:53:07.686Z"
   },
   {
    "duration": 34,
    "start_time": "2023-05-17T22:53:07.824Z"
   },
   {
    "duration": 103,
    "start_time": "2023-05-17T22:53:07.859Z"
   },
   {
    "duration": 0,
    "start_time": "2023-05-17T22:53:07.964Z"
   },
   {
    "duration": 0,
    "start_time": "2023-05-17T22:53:07.965Z"
   },
   {
    "duration": 0,
    "start_time": "2023-05-17T22:53:07.966Z"
   },
   {
    "duration": 0,
    "start_time": "2023-05-17T22:53:07.967Z"
   },
   {
    "duration": 0,
    "start_time": "2023-05-17T22:53:07.968Z"
   },
   {
    "duration": 0,
    "start_time": "2023-05-17T22:53:07.969Z"
   },
   {
    "duration": 0,
    "start_time": "2023-05-17T22:53:07.971Z"
   },
   {
    "duration": 0,
    "start_time": "2023-05-17T22:53:07.972Z"
   },
   {
    "duration": 0,
    "start_time": "2023-05-17T22:53:07.973Z"
   },
   {
    "duration": 0,
    "start_time": "2023-05-17T22:53:07.974Z"
   },
   {
    "duration": 0,
    "start_time": "2023-05-17T22:53:07.975Z"
   },
   {
    "duration": 0,
    "start_time": "2023-05-17T22:53:07.976Z"
   },
   {
    "duration": 0,
    "start_time": "2023-05-17T22:53:07.977Z"
   },
   {
    "duration": 0,
    "start_time": "2023-05-17T22:53:07.978Z"
   },
   {
    "duration": 0,
    "start_time": "2023-05-17T22:53:07.979Z"
   },
   {
    "duration": 0,
    "start_time": "2023-05-17T22:53:08.011Z"
   },
   {
    "duration": 0,
    "start_time": "2023-05-17T22:53:08.012Z"
   },
   {
    "duration": 21,
    "start_time": "2023-05-17T22:53:43.960Z"
   },
   {
    "duration": 2303,
    "start_time": "2023-05-17T22:53:50.336Z"
   },
   {
    "duration": 1153,
    "start_time": "2023-05-17T22:53:52.641Z"
   },
   {
    "duration": 1191,
    "start_time": "2023-05-17T22:53:53.796Z"
   },
   {
    "duration": 12,
    "start_time": "2023-05-17T22:53:54.989Z"
   },
   {
    "duration": 10,
    "start_time": "2023-05-17T22:53:55.003Z"
   },
   {
    "duration": 31,
    "start_time": "2023-05-17T22:53:55.015Z"
   },
   {
    "duration": 34,
    "start_time": "2023-05-17T22:53:55.047Z"
   },
   {
    "duration": 94,
    "start_time": "2023-05-17T22:53:55.082Z"
   },
   {
    "duration": 107,
    "start_time": "2023-05-17T22:53:55.178Z"
   },
   {
    "duration": 64,
    "start_time": "2023-05-17T22:53:55.286Z"
   },
   {
    "duration": 8,
    "start_time": "2023-05-17T22:53:55.352Z"
   },
   {
    "duration": 5,
    "start_time": "2023-05-17T22:53:55.362Z"
   },
   {
    "duration": 9,
    "start_time": "2023-05-17T22:53:55.369Z"
   },
   {
    "duration": 43,
    "start_time": "2023-05-17T22:53:55.381Z"
   },
   {
    "duration": 12,
    "start_time": "2023-05-17T22:53:55.428Z"
   },
   {
    "duration": 16,
    "start_time": "2023-05-17T22:53:55.442Z"
   },
   {
    "duration": 11,
    "start_time": "2023-05-17T22:53:55.459Z"
   },
   {
    "duration": 179,
    "start_time": "2023-05-17T22:53:55.471Z"
   },
   {
    "duration": 4,
    "start_time": "2023-05-17T22:53:55.652Z"
   },
   {
    "duration": 27,
    "start_time": "2023-05-17T22:53:55.657Z"
   },
   {
    "duration": 35,
    "start_time": "2023-05-17T22:53:55.685Z"
   },
   {
    "duration": 12,
    "start_time": "2023-05-17T22:53:55.721Z"
   },
   {
    "duration": 17,
    "start_time": "2023-05-17T22:53:55.735Z"
   },
   {
    "duration": 25,
    "start_time": "2023-05-17T22:53:55.753Z"
   },
   {
    "duration": 12,
    "start_time": "2023-05-17T22:53:55.779Z"
   },
   {
    "duration": 19,
    "start_time": "2023-05-17T22:53:55.793Z"
   },
   {
    "duration": 12,
    "start_time": "2023-05-17T22:53:55.815Z"
   },
   {
    "duration": 33,
    "start_time": "2023-05-17T22:53:55.828Z"
   },
   {
    "duration": 5,
    "start_time": "2023-05-17T22:53:55.862Z"
   },
   {
    "duration": 5,
    "start_time": "2023-05-17T22:53:55.868Z"
   },
   {
    "duration": 6,
    "start_time": "2023-05-17T22:53:55.874Z"
   },
   {
    "duration": 6,
    "start_time": "2023-05-17T22:53:55.906Z"
   },
   {
    "duration": 15,
    "start_time": "2023-05-17T22:53:55.914Z"
   },
   {
    "duration": 21,
    "start_time": "2023-05-17T22:53:55.930Z"
   },
   {
    "duration": 9,
    "start_time": "2023-05-17T22:53:55.953Z"
   },
   {
    "duration": 10,
    "start_time": "2023-05-17T22:53:55.963Z"
   },
   {
    "duration": 148,
    "start_time": "2023-05-17T22:53:55.974Z"
   },
   {
    "duration": 31,
    "start_time": "2023-05-17T22:53:56.124Z"
   },
   {
    "duration": 17,
    "start_time": "2023-05-17T22:53:56.156Z"
   },
   {
    "duration": 643,
    "start_time": "2023-05-17T22:53:56.174Z"
   },
   {
    "duration": 23,
    "start_time": "2023-05-17T22:53:56.822Z"
   },
   {
    "duration": 12,
    "start_time": "2023-05-17T22:53:56.850Z"
   },
   {
    "duration": 54,
    "start_time": "2023-05-17T22:53:56.863Z"
   },
   {
    "duration": 29,
    "start_time": "2023-05-17T22:53:56.918Z"
   },
   {
    "duration": 5,
    "start_time": "2023-05-17T22:53:56.949Z"
   },
   {
    "duration": 16,
    "start_time": "2023-05-17T22:53:56.955Z"
   },
   {
    "duration": 8,
    "start_time": "2023-05-17T22:53:56.973Z"
   },
   {
    "duration": 36,
    "start_time": "2023-05-17T22:53:56.983Z"
   },
   {
    "duration": 16,
    "start_time": "2023-05-17T22:53:57.020Z"
   },
   {
    "duration": 5,
    "start_time": "2023-05-17T22:53:57.040Z"
   },
   {
    "duration": 32,
    "start_time": "2023-05-17T22:53:57.046Z"
   },
   {
    "duration": 12,
    "start_time": "2023-05-17T22:53:57.079Z"
   },
   {
    "duration": 4,
    "start_time": "2023-05-17T22:53:57.092Z"
   },
   {
    "duration": 39,
    "start_time": "2023-05-17T22:53:57.098Z"
   },
   {
    "duration": 11,
    "start_time": "2023-05-17T22:53:57.145Z"
   },
   {
    "duration": 8,
    "start_time": "2023-05-17T22:53:57.158Z"
   },
   {
    "duration": 438,
    "start_time": "2023-05-17T22:54:16.497Z"
   },
   {
    "duration": 2389,
    "start_time": "2023-05-17T22:54:41.474Z"
   },
   {
    "duration": 1181,
    "start_time": "2023-05-17T22:54:43.866Z"
   },
   {
    "duration": 1325,
    "start_time": "2023-05-17T22:54:45.053Z"
   },
   {
    "duration": 10,
    "start_time": "2023-05-17T22:54:46.381Z"
   },
   {
    "duration": 8,
    "start_time": "2023-05-17T22:54:46.393Z"
   },
   {
    "duration": 26,
    "start_time": "2023-05-17T22:54:46.403Z"
   },
   {
    "duration": 16,
    "start_time": "2023-05-17T22:54:46.440Z"
   },
   {
    "duration": 57,
    "start_time": "2023-05-17T22:54:46.458Z"
   },
   {
    "duration": 104,
    "start_time": "2023-05-17T22:54:46.520Z"
   },
   {
    "duration": 50,
    "start_time": "2023-05-17T22:54:46.632Z"
   },
   {
    "duration": 8,
    "start_time": "2023-05-17T22:54:46.683Z"
   },
   {
    "duration": 19,
    "start_time": "2023-05-17T22:54:46.693Z"
   },
   {
    "duration": 22,
    "start_time": "2023-05-17T22:54:46.713Z"
   },
   {
    "duration": 26,
    "start_time": "2023-05-17T22:54:46.739Z"
   },
   {
    "duration": 10,
    "start_time": "2023-05-17T22:54:46.766Z"
   },
   {
    "duration": 13,
    "start_time": "2023-05-17T22:54:46.778Z"
   },
   {
    "duration": 10,
    "start_time": "2023-05-17T22:54:46.792Z"
   },
   {
    "duration": 200,
    "start_time": "2023-05-17T22:54:46.803Z"
   },
   {
    "duration": 7,
    "start_time": "2023-05-17T22:54:47.005Z"
   },
   {
    "duration": 33,
    "start_time": "2023-05-17T22:54:47.013Z"
   },
   {
    "duration": 10,
    "start_time": "2023-05-17T22:54:47.048Z"
   },
   {
    "duration": 7,
    "start_time": "2023-05-17T22:54:47.063Z"
   },
   {
    "duration": 16,
    "start_time": "2023-05-17T22:54:47.071Z"
   },
   {
    "duration": 49,
    "start_time": "2023-05-17T22:54:47.106Z"
   },
   {
    "duration": 14,
    "start_time": "2023-05-17T22:54:47.157Z"
   },
   {
    "duration": 4,
    "start_time": "2023-05-17T22:54:47.172Z"
   },
   {
    "duration": 11,
    "start_time": "2023-05-17T22:54:47.177Z"
   },
   {
    "duration": 45,
    "start_time": "2023-05-17T22:54:47.191Z"
   },
   {
    "duration": 16,
    "start_time": "2023-05-17T22:54:47.246Z"
   },
   {
    "duration": 4,
    "start_time": "2023-05-17T22:54:47.264Z"
   },
   {
    "duration": 15,
    "start_time": "2023-05-17T22:54:47.269Z"
   },
   {
    "duration": 16,
    "start_time": "2023-05-17T22:54:47.285Z"
   },
   {
    "duration": 7,
    "start_time": "2023-05-17T22:54:47.302Z"
   },
   {
    "duration": 45,
    "start_time": "2023-05-17T22:54:47.310Z"
   },
   {
    "duration": 10,
    "start_time": "2023-05-17T22:54:47.359Z"
   },
   {
    "duration": 10,
    "start_time": "2023-05-17T22:54:47.370Z"
   },
   {
    "duration": 134,
    "start_time": "2023-05-17T22:54:47.382Z"
   },
   {
    "duration": 31,
    "start_time": "2023-05-17T22:54:47.524Z"
   },
   {
    "duration": 17,
    "start_time": "2023-05-17T22:54:47.558Z"
   },
   {
    "duration": 630,
    "start_time": "2023-05-17T22:54:47.576Z"
   },
   {
    "duration": 23,
    "start_time": "2023-05-17T22:54:48.209Z"
   },
   {
    "duration": 29,
    "start_time": "2023-05-17T22:54:48.234Z"
   },
   {
    "duration": 46,
    "start_time": "2023-05-17T22:54:48.265Z"
   },
   {
    "duration": 21,
    "start_time": "2023-05-17T22:54:48.313Z"
   },
   {
    "duration": 7,
    "start_time": "2023-05-17T22:54:48.335Z"
   },
   {
    "duration": 24,
    "start_time": "2023-05-17T22:54:48.343Z"
   },
   {
    "duration": 8,
    "start_time": "2023-05-17T22:54:48.368Z"
   },
   {
    "duration": 8,
    "start_time": "2023-05-17T22:54:48.378Z"
   },
   {
    "duration": 37,
    "start_time": "2023-05-17T22:54:48.387Z"
   },
   {
    "duration": 5,
    "start_time": "2023-05-17T22:54:48.425Z"
   },
   {
    "duration": 31,
    "start_time": "2023-05-17T22:54:48.432Z"
   },
   {
    "duration": 14,
    "start_time": "2023-05-17T22:54:48.465Z"
   },
   {
    "duration": 3,
    "start_time": "2023-05-17T22:54:48.480Z"
   },
   {
    "duration": 28,
    "start_time": "2023-05-17T22:54:48.484Z"
   },
   {
    "duration": 8,
    "start_time": "2023-05-17T22:54:48.514Z"
   },
   {
    "duration": 10,
    "start_time": "2023-05-17T22:54:48.524Z"
   },
   {
    "duration": 407,
    "start_time": "2023-05-17T22:56:55.677Z"
   },
   {
    "duration": 2193,
    "start_time": "2023-05-17T22:57:15.849Z"
   },
   {
    "duration": 1147,
    "start_time": "2023-05-17T22:57:18.046Z"
   },
   {
    "duration": 1306,
    "start_time": "2023-05-17T22:57:19.194Z"
   },
   {
    "duration": 26,
    "start_time": "2023-05-17T22:57:20.502Z"
   },
   {
    "duration": 16,
    "start_time": "2023-05-17T22:57:20.532Z"
   },
   {
    "duration": 12,
    "start_time": "2023-05-17T22:57:20.549Z"
   },
   {
    "duration": 11,
    "start_time": "2023-05-17T22:57:20.563Z"
   },
   {
    "duration": 78,
    "start_time": "2023-05-17T22:57:20.576Z"
   },
   {
    "duration": 95,
    "start_time": "2023-05-17T22:57:20.655Z"
   },
   {
    "duration": 37,
    "start_time": "2023-05-17T22:57:20.753Z"
   },
   {
    "duration": 41,
    "start_time": "2023-05-17T22:57:20.792Z"
   },
   {
    "duration": 5,
    "start_time": "2023-05-17T22:57:20.835Z"
   },
   {
    "duration": 19,
    "start_time": "2023-05-17T22:57:20.842Z"
   },
   {
    "duration": 27,
    "start_time": "2023-05-17T22:57:20.862Z"
   },
   {
    "duration": 23,
    "start_time": "2023-05-17T22:57:20.891Z"
   },
   {
    "duration": 39,
    "start_time": "2023-05-17T22:57:20.916Z"
   },
   {
    "duration": 15,
    "start_time": "2023-05-17T22:57:20.956Z"
   },
   {
    "duration": 177,
    "start_time": "2023-05-17T22:57:20.972Z"
   },
   {
    "duration": 4,
    "start_time": "2023-05-17T22:57:21.151Z"
   },
   {
    "duration": 35,
    "start_time": "2023-05-17T22:57:21.156Z"
   },
   {
    "duration": 8,
    "start_time": "2023-05-17T22:57:21.192Z"
   },
   {
    "duration": 27,
    "start_time": "2023-05-17T22:57:21.201Z"
   },
   {
    "duration": 22,
    "start_time": "2023-05-17T22:57:21.235Z"
   },
   {
    "duration": 23,
    "start_time": "2023-05-17T22:57:21.258Z"
   },
   {
    "duration": 13,
    "start_time": "2023-05-17T22:57:21.282Z"
   },
   {
    "duration": 8,
    "start_time": "2023-05-17T22:57:21.296Z"
   },
   {
    "duration": 25,
    "start_time": "2023-05-17T22:57:21.306Z"
   },
   {
    "duration": 31,
    "start_time": "2023-05-17T22:57:21.336Z"
   },
   {
    "duration": 16,
    "start_time": "2023-05-17T22:57:21.369Z"
   },
   {
    "duration": 36,
    "start_time": "2023-05-17T22:57:21.386Z"
   },
   {
    "duration": 20,
    "start_time": "2023-05-17T22:57:21.430Z"
   },
   {
    "duration": 6,
    "start_time": "2023-05-17T22:57:21.451Z"
   },
   {
    "duration": 4,
    "start_time": "2023-05-17T22:57:21.458Z"
   },
   {
    "duration": 17,
    "start_time": "2023-05-17T22:57:21.463Z"
   },
   {
    "duration": 9,
    "start_time": "2023-05-17T22:57:21.482Z"
   },
   {
    "duration": 13,
    "start_time": "2023-05-17T22:57:21.492Z"
   },
   {
    "duration": 134,
    "start_time": "2023-05-17T22:57:21.514Z"
   },
   {
    "duration": 21,
    "start_time": "2023-05-17T22:57:21.650Z"
   },
   {
    "duration": 16,
    "start_time": "2023-05-17T22:57:21.672Z"
   },
   {
    "duration": 604,
    "start_time": "2023-05-17T22:57:21.689Z"
   },
   {
    "duration": 28,
    "start_time": "2023-05-17T22:57:22.295Z"
   },
   {
    "duration": 20,
    "start_time": "2023-05-17T22:57:22.329Z"
   },
   {
    "duration": 10,
    "start_time": "2023-05-17T22:57:22.351Z"
   },
   {
    "duration": 19,
    "start_time": "2023-05-17T22:57:22.362Z"
   },
   {
    "duration": 47,
    "start_time": "2023-05-17T22:57:22.383Z"
   },
   {
    "duration": 28,
    "start_time": "2023-05-17T22:57:22.432Z"
   },
   {
    "duration": 10,
    "start_time": "2023-05-17T22:57:22.462Z"
   },
   {
    "duration": 14,
    "start_time": "2023-05-17T22:57:22.474Z"
   },
   {
    "duration": 28,
    "start_time": "2023-05-17T22:57:22.490Z"
   },
   {
    "duration": 11,
    "start_time": "2023-05-17T22:57:22.521Z"
   },
   {
    "duration": 42,
    "start_time": "2023-05-17T22:57:22.533Z"
   },
   {
    "duration": 15,
    "start_time": "2023-05-17T22:57:22.577Z"
   },
   {
    "duration": 3,
    "start_time": "2023-05-17T22:57:22.593Z"
   },
   {
    "duration": 27,
    "start_time": "2023-05-17T22:57:22.598Z"
   },
   {
    "duration": 21,
    "start_time": "2023-05-17T22:57:22.627Z"
   },
   {
    "duration": 8,
    "start_time": "2023-05-17T22:57:22.660Z"
   },
   {
    "duration": 7613,
    "start_time": "2023-05-17T23:22:50.693Z"
   },
   {
    "duration": 1314,
    "start_time": "2023-05-17T23:22:58.309Z"
   },
   {
    "duration": 1662,
    "start_time": "2023-05-17T23:22:59.625Z"
   },
   {
    "duration": 13,
    "start_time": "2023-05-17T23:23:01.290Z"
   },
   {
    "duration": 38,
    "start_time": "2023-05-17T23:23:01.305Z"
   },
   {
    "duration": 47,
    "start_time": "2023-05-17T23:23:01.345Z"
   },
   {
    "duration": 63,
    "start_time": "2023-05-17T23:23:01.393Z"
   },
   {
    "duration": 110,
    "start_time": "2023-05-17T23:23:01.458Z"
   },
   {
    "duration": 93,
    "start_time": "2023-05-17T23:23:01.570Z"
   },
   {
    "duration": 87,
    "start_time": "2023-05-17T23:23:01.674Z"
   },
   {
    "duration": 32,
    "start_time": "2023-05-17T23:23:01.763Z"
   },
   {
    "duration": 48,
    "start_time": "2023-05-17T23:23:01.797Z"
   },
   {
    "duration": 78,
    "start_time": "2023-05-17T23:23:01.847Z"
   },
   {
    "duration": 51,
    "start_time": "2023-05-17T23:23:01.927Z"
   },
   {
    "duration": 57,
    "start_time": "2023-05-17T23:23:01.980Z"
   },
   {
    "duration": 34,
    "start_time": "2023-05-17T23:23:02.039Z"
   },
   {
    "duration": 36,
    "start_time": "2023-05-17T23:23:02.075Z"
   },
   {
    "duration": 253,
    "start_time": "2023-05-17T23:23:02.113Z"
   },
   {
    "duration": 7,
    "start_time": "2023-05-17T23:23:02.367Z"
   },
   {
    "duration": 62,
    "start_time": "2023-05-17T23:23:02.376Z"
   },
   {
    "duration": 11,
    "start_time": "2023-05-17T23:23:02.440Z"
   },
   {
    "duration": 24,
    "start_time": "2023-05-17T23:23:02.453Z"
   },
   {
    "duration": 35,
    "start_time": "2023-05-17T23:23:02.479Z"
   },
   {
    "duration": 30,
    "start_time": "2023-05-17T23:23:02.515Z"
   },
   {
    "duration": 25,
    "start_time": "2023-05-17T23:23:02.547Z"
   },
   {
    "duration": 6,
    "start_time": "2023-05-17T23:23:02.574Z"
   },
   {
    "duration": 19,
    "start_time": "2023-05-17T23:23:02.582Z"
   },
   {
    "duration": 42,
    "start_time": "2023-05-17T23:23:02.605Z"
   },
   {
    "duration": 6,
    "start_time": "2023-05-17T23:23:02.649Z"
   },
   {
    "duration": 5,
    "start_time": "2023-05-17T23:23:02.672Z"
   },
   {
    "duration": 26,
    "start_time": "2023-05-17T23:23:02.679Z"
   },
   {
    "duration": 22,
    "start_time": "2023-05-17T23:23:02.707Z"
   },
   {
    "duration": 19,
    "start_time": "2023-05-17T23:23:02.731Z"
   },
   {
    "duration": 26,
    "start_time": "2023-05-17T23:23:02.751Z"
   },
   {
    "duration": 13,
    "start_time": "2023-05-17T23:23:02.778Z"
   },
   {
    "duration": 24,
    "start_time": "2023-05-17T23:23:02.793Z"
   },
   {
    "duration": 173,
    "start_time": "2023-05-17T23:23:02.819Z"
   },
   {
    "duration": 26,
    "start_time": "2023-05-17T23:23:02.994Z"
   },
   {
    "duration": 22,
    "start_time": "2023-05-17T23:23:03.021Z"
   },
   {
    "duration": 1086,
    "start_time": "2023-05-17T23:23:03.044Z"
   },
   {
    "duration": 45,
    "start_time": "2023-05-17T23:23:04.132Z"
   },
   {
    "duration": 14,
    "start_time": "2023-05-17T23:23:04.179Z"
   },
   {
    "duration": 13,
    "start_time": "2023-05-17T23:23:04.195Z"
   },
   {
    "duration": 19,
    "start_time": "2023-05-17T23:23:04.210Z"
   },
   {
    "duration": 49,
    "start_time": "2023-05-17T23:23:04.231Z"
   },
   {
    "duration": 22,
    "start_time": "2023-05-17T23:23:04.283Z"
   },
   {
    "duration": 15,
    "start_time": "2023-05-17T23:23:04.306Z"
   },
   {
    "duration": 11,
    "start_time": "2023-05-17T23:23:04.322Z"
   },
   {
    "duration": 15,
    "start_time": "2023-05-17T23:23:04.335Z"
   },
   {
    "duration": 21,
    "start_time": "2023-05-17T23:23:04.352Z"
   },
   {
    "duration": 26,
    "start_time": "2023-05-17T23:23:04.375Z"
   },
   {
    "duration": 16,
    "start_time": "2023-05-17T23:23:04.403Z"
   },
   {
    "duration": 7,
    "start_time": "2023-05-17T23:23:04.421Z"
   },
   {
    "duration": 44,
    "start_time": "2023-05-17T23:23:04.429Z"
   },
   {
    "duration": 17,
    "start_time": "2023-05-17T23:23:04.476Z"
   },
   {
    "duration": 16,
    "start_time": "2023-05-17T23:23:04.496Z"
   },
   {
    "duration": 21,
    "start_time": "2023-05-17T23:25:45.427Z"
   },
   {
    "duration": 117,
    "start_time": "2023-05-17T23:28:18.984Z"
   },
   {
    "duration": 56,
    "start_time": "2023-05-18T13:32:32.679Z"
   },
   {
    "duration": 69,
    "start_time": "2023-05-18T13:40:05.767Z"
   },
   {
    "duration": 12848,
    "start_time": "2023-05-18T13:40:41.193Z"
   },
   {
    "duration": 1995,
    "start_time": "2023-05-18T13:40:54.044Z"
   },
   {
    "duration": 1819,
    "start_time": "2023-05-18T13:40:56.041Z"
   },
   {
    "duration": 23,
    "start_time": "2023-05-18T13:40:57.868Z"
   },
   {
    "duration": 9,
    "start_time": "2023-05-18T13:40:57.896Z"
   },
   {
    "duration": 11,
    "start_time": "2023-05-18T13:40:57.907Z"
   },
   {
    "duration": 8,
    "start_time": "2023-05-18T13:40:57.921Z"
   },
   {
    "duration": 131,
    "start_time": "2023-05-18T13:40:57.933Z"
   },
   {
    "duration": 175,
    "start_time": "2023-05-18T13:40:58.070Z"
   },
   {
    "duration": 86,
    "start_time": "2023-05-18T13:40:58.257Z"
   },
   {
    "duration": 21,
    "start_time": "2023-05-18T13:40:58.349Z"
   },
   {
    "duration": 10,
    "start_time": "2023-05-18T13:40:58.377Z"
   },
   {
    "duration": 28,
    "start_time": "2023-05-18T13:40:58.398Z"
   },
   {
    "duration": 37,
    "start_time": "2023-05-18T13:40:58.432Z"
   },
   {
    "duration": 34,
    "start_time": "2023-05-18T13:40:58.476Z"
   },
   {
    "duration": 36,
    "start_time": "2023-05-18T13:40:58.522Z"
   },
   {
    "duration": 21,
    "start_time": "2023-05-18T13:40:58.567Z"
   },
   {
    "duration": 278,
    "start_time": "2023-05-18T13:40:58.594Z"
   },
   {
    "duration": 11,
    "start_time": "2023-05-18T13:40:58.879Z"
   },
   {
    "duration": 51,
    "start_time": "2023-05-18T13:40:58.897Z"
   },
   {
    "duration": 22,
    "start_time": "2023-05-18T13:40:58.955Z"
   },
   {
    "duration": 25,
    "start_time": "2023-05-18T13:40:58.979Z"
   },
   {
    "duration": 15,
    "start_time": "2023-05-18T13:40:59.011Z"
   },
   {
    "duration": 39,
    "start_time": "2023-05-18T13:40:59.032Z"
   },
   {
    "duration": 87,
    "start_time": "2023-05-18T13:40:59.079Z"
   },
   {
    "duration": 30,
    "start_time": "2023-05-18T13:40:59.172Z"
   },
   {
    "duration": 13,
    "start_time": "2023-05-18T13:40:59.213Z"
   },
   {
    "duration": 23,
    "start_time": "2023-05-18T13:40:59.240Z"
   },
   {
    "duration": 68,
    "start_time": "2023-05-18T13:40:59.270Z"
   },
   {
    "duration": 16,
    "start_time": "2023-05-18T13:40:59.341Z"
   },
   {
    "duration": 12,
    "start_time": "2023-05-18T13:40:59.366Z"
   },
   {
    "duration": 16,
    "start_time": "2023-05-18T13:40:59.386Z"
   },
   {
    "duration": 14,
    "start_time": "2023-05-18T13:40:59.410Z"
   },
   {
    "duration": 9,
    "start_time": "2023-05-18T13:40:59.432Z"
   },
   {
    "duration": 50,
    "start_time": "2023-05-18T13:40:59.443Z"
   },
   {
    "duration": 26,
    "start_time": "2023-05-18T13:40:59.495Z"
   },
   {
    "duration": 20,
    "start_time": "2023-05-18T13:40:59.527Z"
   },
   {
    "duration": 225,
    "start_time": "2023-05-18T13:40:59.558Z"
   },
   {
    "duration": 41,
    "start_time": "2023-05-18T13:40:59.791Z"
   },
   {
    "duration": 37,
    "start_time": "2023-05-18T13:40:59.840Z"
   },
   {
    "duration": 1369,
    "start_time": "2023-05-18T13:40:59.884Z"
   },
   {
    "duration": 72,
    "start_time": "2023-05-18T13:41:01.256Z"
   },
   {
    "duration": 43,
    "start_time": "2023-05-18T13:41:01.330Z"
   },
   {
    "duration": 39,
    "start_time": "2023-05-18T13:41:01.376Z"
   },
   {
    "duration": 25,
    "start_time": "2023-05-18T13:41:01.417Z"
   },
   {
    "duration": 19,
    "start_time": "2023-05-18T13:41:01.449Z"
   },
   {
    "duration": 44,
    "start_time": "2023-05-18T13:41:01.477Z"
   },
   {
    "duration": 20,
    "start_time": "2023-05-18T13:41:01.527Z"
   },
   {
    "duration": 26,
    "start_time": "2023-05-18T13:41:01.556Z"
   },
   {
    "duration": 23,
    "start_time": "2023-05-18T13:41:01.598Z"
   },
   {
    "duration": 57,
    "start_time": "2023-05-18T13:41:01.628Z"
   },
   {
    "duration": 68,
    "start_time": "2023-05-18T13:41:01.692Z"
   },
   {
    "duration": 36,
    "start_time": "2023-05-18T13:41:01.764Z"
   },
   {
    "duration": 11,
    "start_time": "2023-05-18T13:41:01.803Z"
   },
   {
    "duration": 59,
    "start_time": "2023-05-18T13:41:01.816Z"
   },
   {
    "duration": 33,
    "start_time": "2023-05-18T13:41:01.877Z"
   },
   {
    "duration": 47,
    "start_time": "2023-05-18T13:41:01.913Z"
   },
   {
    "duration": 172,
    "start_time": "2023-05-18T13:44:45.900Z"
   },
   {
    "duration": 3598,
    "start_time": "2023-05-18T13:45:03.944Z"
   },
   {
    "duration": 1764,
    "start_time": "2023-05-18T13:45:07.545Z"
   },
   {
    "duration": 1989,
    "start_time": "2023-05-18T13:45:09.314Z"
   },
   {
    "duration": 66,
    "start_time": "2023-05-18T13:45:11.340Z"
   },
   {
    "duration": 38,
    "start_time": "2023-05-18T13:45:11.420Z"
   },
   {
    "duration": 38,
    "start_time": "2023-05-18T13:45:11.464Z"
   },
   {
    "duration": 86,
    "start_time": "2023-05-18T13:45:11.524Z"
   },
   {
    "duration": 157,
    "start_time": "2023-05-18T13:45:11.629Z"
   },
   {
    "duration": 244,
    "start_time": "2023-05-18T13:45:11.788Z"
   },
   {
    "duration": 89,
    "start_time": "2023-05-18T13:45:12.056Z"
   },
   {
    "duration": 19,
    "start_time": "2023-05-18T13:45:12.152Z"
   },
   {
    "duration": 15,
    "start_time": "2023-05-18T13:45:12.177Z"
   },
   {
    "duration": 26,
    "start_time": "2023-05-18T13:45:12.200Z"
   },
   {
    "duration": 37,
    "start_time": "2023-05-18T13:45:12.233Z"
   },
   {
    "duration": 23,
    "start_time": "2023-05-18T13:45:12.279Z"
   },
   {
    "duration": 57,
    "start_time": "2023-05-18T13:45:12.312Z"
   },
   {
    "duration": 36,
    "start_time": "2023-05-18T13:45:12.378Z"
   },
   {
    "duration": 363,
    "start_time": "2023-05-18T13:45:12.416Z"
   },
   {
    "duration": 23,
    "start_time": "2023-05-18T13:45:12.784Z"
   },
   {
    "duration": 57,
    "start_time": "2023-05-18T13:45:12.812Z"
   },
   {
    "duration": 22,
    "start_time": "2023-05-18T13:45:12.876Z"
   },
   {
    "duration": 60,
    "start_time": "2023-05-18T13:45:12.907Z"
   },
   {
    "duration": 248,
    "start_time": "2023-05-18T13:45:12.974Z"
   },
   {
    "duration": 0,
    "start_time": "2023-05-18T13:45:13.233Z"
   },
   {
    "duration": 0,
    "start_time": "2023-05-18T13:45:13.239Z"
   },
   {
    "duration": 0,
    "start_time": "2023-05-18T13:45:13.246Z"
   },
   {
    "duration": 0,
    "start_time": "2023-05-18T13:45:13.255Z"
   },
   {
    "duration": 0,
    "start_time": "2023-05-18T13:45:13.261Z"
   },
   {
    "duration": 0,
    "start_time": "2023-05-18T13:45:13.270Z"
   },
   {
    "duration": 0,
    "start_time": "2023-05-18T13:45:13.272Z"
   },
   {
    "duration": 0,
    "start_time": "2023-05-18T13:45:13.285Z"
   },
   {
    "duration": 0,
    "start_time": "2023-05-18T13:45:13.287Z"
   },
   {
    "duration": 0,
    "start_time": "2023-05-18T13:45:13.288Z"
   },
   {
    "duration": 0,
    "start_time": "2023-05-18T13:45:13.293Z"
   },
   {
    "duration": 0,
    "start_time": "2023-05-18T13:45:13.294Z"
   },
   {
    "duration": 0,
    "start_time": "2023-05-18T13:45:13.296Z"
   },
   {
    "duration": 0,
    "start_time": "2023-05-18T13:45:13.302Z"
   },
   {
    "duration": 0,
    "start_time": "2023-05-18T13:45:13.315Z"
   },
   {
    "duration": 0,
    "start_time": "2023-05-18T13:45:13.317Z"
   },
   {
    "duration": 0,
    "start_time": "2023-05-18T13:45:13.319Z"
   },
   {
    "duration": 0,
    "start_time": "2023-05-18T13:45:13.320Z"
   },
   {
    "duration": 0,
    "start_time": "2023-05-18T13:45:13.322Z"
   },
   {
    "duration": 0,
    "start_time": "2023-05-18T13:45:13.323Z"
   },
   {
    "duration": 0,
    "start_time": "2023-05-18T13:45:13.339Z"
   },
   {
    "duration": 0,
    "start_time": "2023-05-18T13:45:13.340Z"
   },
   {
    "duration": 0,
    "start_time": "2023-05-18T13:45:13.342Z"
   },
   {
    "duration": 0,
    "start_time": "2023-05-18T13:45:13.343Z"
   },
   {
    "duration": 1,
    "start_time": "2023-05-18T13:45:13.350Z"
   },
   {
    "duration": 0,
    "start_time": "2023-05-18T13:45:13.351Z"
   },
   {
    "duration": 0,
    "start_time": "2023-05-18T13:45:13.353Z"
   },
   {
    "duration": 0,
    "start_time": "2023-05-18T13:45:13.354Z"
   },
   {
    "duration": 0,
    "start_time": "2023-05-18T13:45:13.355Z"
   },
   {
    "duration": 0,
    "start_time": "2023-05-18T13:45:13.356Z"
   },
   {
    "duration": 0,
    "start_time": "2023-05-18T13:45:13.357Z"
   },
   {
    "duration": 0,
    "start_time": "2023-05-18T13:45:13.367Z"
   },
   {
    "duration": 0,
    "start_time": "2023-05-18T13:45:13.368Z"
   },
   {
    "duration": 0,
    "start_time": "2023-05-18T13:45:13.369Z"
   },
   {
    "duration": 0,
    "start_time": "2023-05-18T13:45:13.371Z"
   },
   {
    "duration": 48,
    "start_time": "2023-05-18T13:45:27.311Z"
   },
   {
    "duration": 48,
    "start_time": "2023-05-18T13:45:55.991Z"
   },
   {
    "duration": 32,
    "start_time": "2023-05-18T13:50:49.007Z"
   },
   {
    "duration": 119,
    "start_time": "2023-05-18T13:51:55.613Z"
   },
   {
    "duration": 3811,
    "start_time": "2023-05-18T14:00:13.677Z"
   },
   {
    "duration": 1723,
    "start_time": "2023-05-18T14:00:17.492Z"
   },
   {
    "duration": 1939,
    "start_time": "2023-05-18T14:00:19.217Z"
   },
   {
    "duration": 20,
    "start_time": "2023-05-18T14:00:21.158Z"
   },
   {
    "duration": 15,
    "start_time": "2023-05-18T14:00:21.185Z"
   },
   {
    "duration": 13,
    "start_time": "2023-05-18T14:00:21.203Z"
   },
   {
    "duration": 12,
    "start_time": "2023-05-18T14:00:21.219Z"
   },
   {
    "duration": 126,
    "start_time": "2023-05-18T14:00:21.234Z"
   },
   {
    "duration": 143,
    "start_time": "2023-05-18T14:00:21.366Z"
   },
   {
    "duration": 74,
    "start_time": "2023-05-18T14:00:21.511Z"
   },
   {
    "duration": 16,
    "start_time": "2023-05-18T14:00:21.588Z"
   },
   {
    "duration": 7,
    "start_time": "2023-05-18T14:00:21.607Z"
   },
   {
    "duration": 18,
    "start_time": "2023-05-18T14:00:21.616Z"
   },
   {
    "duration": 29,
    "start_time": "2023-05-18T14:00:21.650Z"
   },
   {
    "duration": 22,
    "start_time": "2023-05-18T14:00:21.683Z"
   },
   {
    "duration": 44,
    "start_time": "2023-05-18T14:00:21.708Z"
   },
   {
    "duration": 19,
    "start_time": "2023-05-18T14:00:21.759Z"
   },
   {
    "duration": 320,
    "start_time": "2023-05-18T14:00:21.780Z"
   },
   {
    "duration": 9,
    "start_time": "2023-05-18T14:00:22.104Z"
   },
   {
    "duration": 69,
    "start_time": "2023-05-18T14:00:22.116Z"
   },
   {
    "duration": 19,
    "start_time": "2023-05-18T14:00:22.188Z"
   },
   {
    "duration": 24,
    "start_time": "2023-05-18T14:00:22.210Z"
   },
   {
    "duration": 47,
    "start_time": "2023-05-18T14:00:22.237Z"
   },
   {
    "duration": 36,
    "start_time": "2023-05-18T14:00:22.287Z"
   },
   {
    "duration": 11,
    "start_time": "2023-05-18T14:00:22.326Z"
   },
   {
    "duration": 23,
    "start_time": "2023-05-18T14:00:22.353Z"
   },
   {
    "duration": 51,
    "start_time": "2023-05-18T14:00:22.378Z"
   },
   {
    "duration": 48,
    "start_time": "2023-05-18T14:00:22.431Z"
   },
   {
    "duration": 8,
    "start_time": "2023-05-18T14:00:22.485Z"
   },
   {
    "duration": 46,
    "start_time": "2023-05-18T14:00:22.496Z"
   },
   {
    "duration": 62,
    "start_time": "2023-05-18T14:00:22.545Z"
   },
   {
    "duration": 8,
    "start_time": "2023-05-18T14:00:22.609Z"
   },
   {
    "duration": 15,
    "start_time": "2023-05-18T14:00:22.619Z"
   },
   {
    "duration": 23,
    "start_time": "2023-05-18T14:00:22.636Z"
   },
   {
    "duration": 6,
    "start_time": "2023-05-18T14:00:22.661Z"
   },
   {
    "duration": 10,
    "start_time": "2023-05-18T14:00:22.669Z"
   },
   {
    "duration": 22,
    "start_time": "2023-05-18T14:00:22.682Z"
   },
   {
    "duration": 13,
    "start_time": "2023-05-18T14:00:22.708Z"
   },
   {
    "duration": 14,
    "start_time": "2023-05-18T14:00:22.723Z"
   },
   {
    "duration": 198,
    "start_time": "2023-05-18T14:00:22.739Z"
   },
   {
    "duration": 39,
    "start_time": "2023-05-18T14:00:22.943Z"
   },
   {
    "duration": 33,
    "start_time": "2023-05-18T14:00:22.988Z"
   },
   {
    "duration": 975,
    "start_time": "2023-05-18T14:00:23.024Z"
   },
   {
    "duration": 56,
    "start_time": "2023-05-18T14:00:24.002Z"
   },
   {
    "duration": 32,
    "start_time": "2023-05-18T14:00:24.061Z"
   },
   {
    "duration": 29,
    "start_time": "2023-05-18T14:00:24.101Z"
   },
   {
    "duration": 28,
    "start_time": "2023-05-18T14:00:24.133Z"
   },
   {
    "duration": 14,
    "start_time": "2023-05-18T14:00:24.163Z"
   },
   {
    "duration": 27,
    "start_time": "2023-05-18T14:00:24.180Z"
   },
   {
    "duration": 17,
    "start_time": "2023-05-18T14:00:24.208Z"
   },
   {
    "duration": 15,
    "start_time": "2023-05-18T14:00:24.226Z"
   },
   {
    "duration": 16,
    "start_time": "2023-05-18T14:00:24.252Z"
   },
   {
    "duration": 11,
    "start_time": "2023-05-18T14:00:24.271Z"
   },
   {
    "duration": 35,
    "start_time": "2023-05-18T14:00:24.284Z"
   },
   {
    "duration": 31,
    "start_time": "2023-05-18T14:00:24.324Z"
   },
   {
    "duration": 4,
    "start_time": "2023-05-18T14:00:24.360Z"
   },
   {
    "duration": 25,
    "start_time": "2023-05-18T14:00:24.370Z"
   },
   {
    "duration": 15,
    "start_time": "2023-05-18T14:00:24.401Z"
   },
   {
    "duration": 14,
    "start_time": "2023-05-18T14:00:24.418Z"
   },
   {
    "duration": 81,
    "start_time": "2023-05-18T14:22:22.567Z"
   },
   {
    "duration": 23,
    "start_time": "2023-05-18T14:39:22.711Z"
   },
   {
    "duration": 25,
    "start_time": "2023-05-18T14:39:35.678Z"
   },
   {
    "duration": 55,
    "start_time": "2023-05-18T17:38:01.850Z"
   },
   {
    "duration": 8334,
    "start_time": "2023-05-18T17:38:11.302Z"
   },
   {
    "duration": 1464,
    "start_time": "2023-05-18T17:38:19.639Z"
   },
   {
    "duration": 1554,
    "start_time": "2023-05-18T17:38:21.105Z"
   },
   {
    "duration": 14,
    "start_time": "2023-05-18T17:38:22.661Z"
   },
   {
    "duration": 11,
    "start_time": "2023-05-18T17:38:22.678Z"
   },
   {
    "duration": 15,
    "start_time": "2023-05-18T17:38:22.691Z"
   },
   {
    "duration": 16,
    "start_time": "2023-05-18T17:38:22.708Z"
   },
   {
    "duration": 92,
    "start_time": "2023-05-18T17:38:22.727Z"
   },
   {
    "duration": 91,
    "start_time": "2023-05-18T17:38:22.821Z"
   },
   {
    "duration": 62,
    "start_time": "2023-05-18T17:38:22.914Z"
   },
   {
    "duration": 12,
    "start_time": "2023-05-18T17:38:22.979Z"
   },
   {
    "duration": 11,
    "start_time": "2023-05-18T17:38:22.993Z"
   },
   {
    "duration": 48,
    "start_time": "2023-05-18T17:38:23.006Z"
   },
   {
    "duration": 17,
    "start_time": "2023-05-18T17:38:23.058Z"
   },
   {
    "duration": 12,
    "start_time": "2023-05-18T17:38:23.077Z"
   },
   {
    "duration": 17,
    "start_time": "2023-05-18T17:38:23.090Z"
   },
   {
    "duration": 28,
    "start_time": "2023-05-18T17:38:23.109Z"
   },
   {
    "duration": 223,
    "start_time": "2023-05-18T17:38:23.139Z"
   },
   {
    "duration": 5,
    "start_time": "2023-05-18T17:38:23.364Z"
   },
   {
    "duration": 36,
    "start_time": "2023-05-18T17:38:23.371Z"
   },
   {
    "duration": 35,
    "start_time": "2023-05-18T17:38:23.409Z"
   },
   {
    "duration": 24,
    "start_time": "2023-05-18T17:38:23.446Z"
   },
   {
    "duration": 32,
    "start_time": "2023-05-18T17:38:23.472Z"
   },
   {
    "duration": 37,
    "start_time": "2023-05-18T17:38:23.526Z"
   },
   {
    "duration": 9,
    "start_time": "2023-05-18T17:38:23.565Z"
   },
   {
    "duration": 18,
    "start_time": "2023-05-18T17:38:23.576Z"
   },
   {
    "duration": 63,
    "start_time": "2023-05-18T17:38:23.596Z"
   },
   {
    "duration": 17,
    "start_time": "2023-05-18T17:38:23.661Z"
   },
   {
    "duration": 6,
    "start_time": "2023-05-18T17:38:23.680Z"
   },
   {
    "duration": 41,
    "start_time": "2023-05-18T17:38:23.689Z"
   },
   {
    "duration": 58,
    "start_time": "2023-05-18T17:38:23.732Z"
   },
   {
    "duration": 13,
    "start_time": "2023-05-18T17:38:23.793Z"
   },
   {
    "duration": 13,
    "start_time": "2023-05-18T17:38:23.808Z"
   },
   {
    "duration": 53,
    "start_time": "2023-05-18T17:38:23.826Z"
   },
   {
    "duration": 15,
    "start_time": "2023-05-18T17:38:23.881Z"
   },
   {
    "duration": 10,
    "start_time": "2023-05-18T17:38:23.898Z"
   },
   {
    "duration": 44,
    "start_time": "2023-05-18T17:38:23.910Z"
   },
   {
    "duration": 16,
    "start_time": "2023-05-18T17:38:23.957Z"
   },
   {
    "duration": 14,
    "start_time": "2023-05-18T17:38:23.975Z"
   },
   {
    "duration": 36,
    "start_time": "2023-05-18T17:38:23.991Z"
   },
   {
    "duration": 37,
    "start_time": "2023-05-18T17:38:24.037Z"
   },
   {
    "duration": 143,
    "start_time": "2023-05-18T17:38:24.076Z"
   },
   {
    "duration": 39,
    "start_time": "2023-05-18T17:38:24.220Z"
   },
   {
    "duration": 22,
    "start_time": "2023-05-18T17:38:24.261Z"
   },
   {
    "duration": 754,
    "start_time": "2023-05-18T17:38:24.286Z"
   },
   {
    "duration": 26,
    "start_time": "2023-05-18T17:38:25.046Z"
   },
   {
    "duration": 76,
    "start_time": "2023-05-18T17:38:25.075Z"
   },
   {
    "duration": 35,
    "start_time": "2023-05-18T17:38:25.154Z"
   },
   {
    "duration": 24,
    "start_time": "2023-05-18T17:38:25.191Z"
   },
   {
    "duration": 19,
    "start_time": "2023-05-18T17:38:25.218Z"
   },
   {
    "duration": 40,
    "start_time": "2023-05-18T17:38:25.239Z"
   },
   {
    "duration": 16,
    "start_time": "2023-05-18T17:38:25.281Z"
   },
   {
    "duration": 40,
    "start_time": "2023-05-18T17:38:25.300Z"
   },
   {
    "duration": 23,
    "start_time": "2023-05-18T17:38:25.343Z"
   },
   {
    "duration": 29,
    "start_time": "2023-05-18T17:38:25.381Z"
   },
   {
    "duration": 40,
    "start_time": "2023-05-18T17:38:25.412Z"
   },
   {
    "duration": 17,
    "start_time": "2023-05-18T17:38:25.454Z"
   },
   {
    "duration": 5,
    "start_time": "2023-05-18T17:38:25.473Z"
   },
   {
    "duration": 34,
    "start_time": "2023-05-18T17:38:25.479Z"
   },
   {
    "duration": 14,
    "start_time": "2023-05-18T17:38:25.515Z"
   },
   {
    "duration": 43,
    "start_time": "2023-05-18T17:38:25.530Z"
   },
   {
    "duration": 20,
    "start_time": "2023-05-18T17:39:26.891Z"
   },
   {
    "duration": 19,
    "start_time": "2023-05-18T17:39:42.396Z"
   },
   {
    "duration": 20,
    "start_time": "2023-05-18T17:39:48.292Z"
   },
   {
    "duration": 25,
    "start_time": "2023-05-18T17:40:11.721Z"
   },
   {
    "duration": 29,
    "start_time": "2023-05-18T17:40:30.723Z"
   },
   {
    "duration": 83,
    "start_time": "2023-05-18T17:41:04.542Z"
   },
   {
    "duration": 6,
    "start_time": "2023-05-18T17:47:58.744Z"
   },
   {
    "duration": 2552,
    "start_time": "2023-05-18T17:48:21.038Z"
   },
   {
    "duration": 1211,
    "start_time": "2023-05-18T17:48:23.592Z"
   },
   {
    "duration": 1172,
    "start_time": "2023-05-18T17:48:24.805Z"
   },
   {
    "duration": 14,
    "start_time": "2023-05-18T17:48:25.979Z"
   },
   {
    "duration": 9,
    "start_time": "2023-05-18T17:48:25.994Z"
   },
   {
    "duration": 10,
    "start_time": "2023-05-18T17:48:26.004Z"
   },
   {
    "duration": 8,
    "start_time": "2023-05-18T17:48:26.015Z"
   },
   {
    "duration": 77,
    "start_time": "2023-05-18T17:48:26.025Z"
   },
   {
    "duration": 88,
    "start_time": "2023-05-18T17:48:26.103Z"
   },
   {
    "duration": 64,
    "start_time": "2023-05-18T17:48:26.193Z"
   },
   {
    "duration": 10,
    "start_time": "2023-05-18T17:48:26.258Z"
   },
   {
    "duration": 5,
    "start_time": "2023-05-18T17:48:26.269Z"
   },
   {
    "duration": 12,
    "start_time": "2023-05-18T17:48:26.276Z"
   },
   {
    "duration": 47,
    "start_time": "2023-05-18T17:48:26.289Z"
   },
   {
    "duration": 11,
    "start_time": "2023-05-18T17:48:26.338Z"
   },
   {
    "duration": 15,
    "start_time": "2023-05-18T17:48:26.350Z"
   },
   {
    "duration": 10,
    "start_time": "2023-05-18T17:48:26.367Z"
   },
   {
    "duration": 199,
    "start_time": "2023-05-18T17:48:26.378Z"
   },
   {
    "duration": 5,
    "start_time": "2023-05-18T17:48:26.579Z"
   },
   {
    "duration": 53,
    "start_time": "2023-05-18T17:48:26.585Z"
   },
   {
    "duration": 13,
    "start_time": "2023-05-18T17:48:26.640Z"
   },
   {
    "duration": 20,
    "start_time": "2023-05-18T17:48:26.655Z"
   },
   {
    "duration": 54,
    "start_time": "2023-05-18T17:48:26.677Z"
   },
   {
    "duration": 63,
    "start_time": "2023-05-18T17:48:26.734Z"
   },
   {
    "duration": 18,
    "start_time": "2023-05-18T17:48:26.799Z"
   },
   {
    "duration": 34,
    "start_time": "2023-05-18T17:48:26.818Z"
   },
   {
    "duration": 30,
    "start_time": "2023-05-18T17:48:26.854Z"
   },
   {
    "duration": 18,
    "start_time": "2023-05-18T17:48:26.889Z"
   },
   {
    "duration": 19,
    "start_time": "2023-05-18T17:48:26.912Z"
   },
   {
    "duration": 33,
    "start_time": "2023-05-18T17:48:26.932Z"
   },
   {
    "duration": 29,
    "start_time": "2023-05-18T17:48:26.967Z"
   },
   {
    "duration": 6,
    "start_time": "2023-05-18T17:48:26.998Z"
   },
   {
    "duration": 34,
    "start_time": "2023-05-18T17:48:27.006Z"
   },
   {
    "duration": 9,
    "start_time": "2023-05-18T17:48:27.042Z"
   },
   {
    "duration": 4,
    "start_time": "2023-05-18T17:48:27.053Z"
   },
   {
    "duration": 11,
    "start_time": "2023-05-18T17:48:27.059Z"
   },
   {
    "duration": 40,
    "start_time": "2023-05-18T17:48:27.071Z"
   },
   {
    "duration": 20,
    "start_time": "2023-05-18T17:48:27.112Z"
   },
   {
    "duration": 13,
    "start_time": "2023-05-18T17:48:27.135Z"
   },
   {
    "duration": 40,
    "start_time": "2023-05-18T17:48:27.149Z"
   },
   {
    "duration": 126,
    "start_time": "2023-05-18T17:48:27.191Z"
   },
   {
    "duration": 0,
    "start_time": "2023-05-18T17:48:27.319Z"
   },
   {
    "duration": 0,
    "start_time": "2023-05-18T17:48:27.320Z"
   },
   {
    "duration": 0,
    "start_time": "2023-05-18T17:48:27.321Z"
   },
   {
    "duration": 0,
    "start_time": "2023-05-18T17:48:27.324Z"
   },
   {
    "duration": 0,
    "start_time": "2023-05-18T17:48:27.325Z"
   },
   {
    "duration": 0,
    "start_time": "2023-05-18T17:48:27.326Z"
   },
   {
    "duration": 0,
    "start_time": "2023-05-18T17:48:27.326Z"
   },
   {
    "duration": 0,
    "start_time": "2023-05-18T17:48:27.327Z"
   },
   {
    "duration": 0,
    "start_time": "2023-05-18T17:48:27.330Z"
   },
   {
    "duration": 0,
    "start_time": "2023-05-18T17:48:27.331Z"
   },
   {
    "duration": 0,
    "start_time": "2023-05-18T17:48:27.332Z"
   },
   {
    "duration": 0,
    "start_time": "2023-05-18T17:48:27.334Z"
   },
   {
    "duration": 0,
    "start_time": "2023-05-18T17:48:27.334Z"
   },
   {
    "duration": 0,
    "start_time": "2023-05-18T17:48:27.343Z"
   },
   {
    "duration": 0,
    "start_time": "2023-05-18T17:48:27.344Z"
   },
   {
    "duration": 0,
    "start_time": "2023-05-18T17:48:27.345Z"
   },
   {
    "duration": 0,
    "start_time": "2023-05-18T17:48:27.346Z"
   },
   {
    "duration": 0,
    "start_time": "2023-05-18T17:48:27.349Z"
   },
   {
    "duration": 0,
    "start_time": "2023-05-18T17:48:27.350Z"
   },
   {
    "duration": 0,
    "start_time": "2023-05-18T17:48:27.351Z"
   },
   {
    "duration": 0,
    "start_time": "2023-05-18T17:48:27.352Z"
   },
   {
    "duration": 0,
    "start_time": "2023-05-18T17:48:27.353Z"
   },
   {
    "duration": 8,
    "start_time": "2023-05-18T17:49:51.802Z"
   },
   {
    "duration": 11,
    "start_time": "2023-05-18T17:50:26.210Z"
   },
   {
    "duration": 13,
    "start_time": "2023-05-18T17:50:37.481Z"
   },
   {
    "duration": 3129,
    "start_time": "2023-05-18T17:50:47.603Z"
   },
   {
    "duration": 1506,
    "start_time": "2023-05-18T17:50:50.735Z"
   },
   {
    "duration": 1324,
    "start_time": "2023-05-18T17:50:52.253Z"
   },
   {
    "duration": 13,
    "start_time": "2023-05-18T17:50:53.579Z"
   },
   {
    "duration": 79,
    "start_time": "2023-05-18T17:50:53.594Z"
   },
   {
    "duration": 11,
    "start_time": "2023-05-18T17:50:53.675Z"
   },
   {
    "duration": 15,
    "start_time": "2023-05-18T17:50:53.688Z"
   },
   {
    "duration": 128,
    "start_time": "2023-05-18T17:50:53.704Z"
   },
   {
    "duration": 132,
    "start_time": "2023-05-18T17:50:53.834Z"
   },
   {
    "duration": 88,
    "start_time": "2023-05-18T17:50:53.970Z"
   },
   {
    "duration": 13,
    "start_time": "2023-05-18T17:50:54.060Z"
   },
   {
    "duration": 8,
    "start_time": "2023-05-18T17:50:54.074Z"
   },
   {
    "duration": 31,
    "start_time": "2023-05-18T17:50:54.083Z"
   },
   {
    "duration": 36,
    "start_time": "2023-05-18T17:50:54.116Z"
   },
   {
    "duration": 26,
    "start_time": "2023-05-18T17:50:54.153Z"
   },
   {
    "duration": 18,
    "start_time": "2023-05-18T17:50:54.181Z"
   },
   {
    "duration": 11,
    "start_time": "2023-05-18T17:50:54.200Z"
   },
   {
    "duration": 214,
    "start_time": "2023-05-18T17:50:54.212Z"
   },
   {
    "duration": 7,
    "start_time": "2023-05-18T17:50:54.429Z"
   },
   {
    "duration": 55,
    "start_time": "2023-05-18T17:50:54.439Z"
   },
   {
    "duration": 9,
    "start_time": "2023-05-18T17:50:54.496Z"
   },
   {
    "duration": 15,
    "start_time": "2023-05-18T17:50:54.506Z"
   },
   {
    "duration": 49,
    "start_time": "2023-05-18T17:50:54.524Z"
   },
   {
    "duration": 26,
    "start_time": "2023-05-18T17:50:54.575Z"
   },
   {
    "duration": 8,
    "start_time": "2023-05-18T17:50:54.603Z"
   },
   {
    "duration": 23,
    "start_time": "2023-05-18T17:50:54.624Z"
   },
   {
    "duration": 60,
    "start_time": "2023-05-18T17:50:54.649Z"
   },
   {
    "duration": 22,
    "start_time": "2023-05-18T17:50:54.714Z"
   },
   {
    "duration": 50,
    "start_time": "2023-05-18T17:50:54.737Z"
   },
   {
    "duration": 23,
    "start_time": "2023-05-18T17:50:54.792Z"
   },
   {
    "duration": 94,
    "start_time": "2023-05-18T17:50:54.817Z"
   },
   {
    "duration": 6,
    "start_time": "2023-05-18T17:50:54.913Z"
   },
   {
    "duration": 48,
    "start_time": "2023-05-18T17:50:54.921Z"
   },
   {
    "duration": 13,
    "start_time": "2023-05-18T17:50:54.971Z"
   },
   {
    "duration": 14,
    "start_time": "2023-05-18T17:50:54.986Z"
   },
   {
    "duration": 28,
    "start_time": "2023-05-18T17:50:55.002Z"
   },
   {
    "duration": 95,
    "start_time": "2023-05-18T17:50:55.033Z"
   },
   {
    "duration": 29,
    "start_time": "2023-05-18T17:50:55.137Z"
   },
   {
    "duration": 14,
    "start_time": "2023-05-18T17:50:55.169Z"
   },
   {
    "duration": 11,
    "start_time": "2023-05-18T17:50:55.184Z"
   },
   {
    "duration": 132,
    "start_time": "2023-05-18T17:50:55.197Z"
   },
   {
    "duration": 0,
    "start_time": "2023-05-18T17:50:55.330Z"
   },
   {
    "duration": 0,
    "start_time": "2023-05-18T17:50:55.332Z"
   },
   {
    "duration": 0,
    "start_time": "2023-05-18T17:50:55.335Z"
   },
   {
    "duration": 0,
    "start_time": "2023-05-18T17:50:55.336Z"
   },
   {
    "duration": 0,
    "start_time": "2023-05-18T17:50:55.337Z"
   },
   {
    "duration": 0,
    "start_time": "2023-05-18T17:50:55.338Z"
   },
   {
    "duration": 0,
    "start_time": "2023-05-18T17:50:55.339Z"
   },
   {
    "duration": 0,
    "start_time": "2023-05-18T17:50:55.340Z"
   },
   {
    "duration": 0,
    "start_time": "2023-05-18T17:50:55.341Z"
   },
   {
    "duration": 0,
    "start_time": "2023-05-18T17:50:55.342Z"
   },
   {
    "duration": 0,
    "start_time": "2023-05-18T17:50:55.343Z"
   },
   {
    "duration": 0,
    "start_time": "2023-05-18T17:50:55.344Z"
   },
   {
    "duration": 0,
    "start_time": "2023-05-18T17:50:55.346Z"
   },
   {
    "duration": 0,
    "start_time": "2023-05-18T17:50:55.346Z"
   },
   {
    "duration": 0,
    "start_time": "2023-05-18T17:50:55.349Z"
   },
   {
    "duration": 0,
    "start_time": "2023-05-18T17:50:55.350Z"
   },
   {
    "duration": 0,
    "start_time": "2023-05-18T17:50:55.351Z"
   },
   {
    "duration": 0,
    "start_time": "2023-05-18T17:50:55.353Z"
   },
   {
    "duration": 0,
    "start_time": "2023-05-18T17:50:55.354Z"
   },
   {
    "duration": 0,
    "start_time": "2023-05-18T17:50:55.355Z"
   },
   {
    "duration": 0,
    "start_time": "2023-05-18T17:50:55.356Z"
   },
   {
    "duration": 0,
    "start_time": "2023-05-18T17:50:55.357Z"
   },
   {
    "duration": 167,
    "start_time": "2023-05-18T17:52:22.699Z"
   },
   {
    "duration": 154,
    "start_time": "2023-05-18T17:52:43.652Z"
   },
   {
    "duration": 2768,
    "start_time": "2023-05-18T17:52:55.480Z"
   },
   {
    "duration": 1257,
    "start_time": "2023-05-18T17:52:58.250Z"
   },
   {
    "duration": 1104,
    "start_time": "2023-05-18T17:52:59.509Z"
   },
   {
    "duration": 14,
    "start_time": "2023-05-18T17:53:00.615Z"
   },
   {
    "duration": 41,
    "start_time": "2023-05-18T17:53:00.638Z"
   },
   {
    "duration": 42,
    "start_time": "2023-05-18T17:53:00.681Z"
   },
   {
    "duration": 39,
    "start_time": "2023-05-18T17:53:00.727Z"
   },
   {
    "duration": 100,
    "start_time": "2023-05-18T17:53:00.768Z"
   },
   {
    "duration": 136,
    "start_time": "2023-05-18T17:53:00.870Z"
   },
   {
    "duration": 91,
    "start_time": "2023-05-18T17:53:01.008Z"
   },
   {
    "duration": 21,
    "start_time": "2023-05-18T17:53:01.102Z"
   },
   {
    "duration": 86,
    "start_time": "2023-05-18T17:53:01.125Z"
   },
   {
    "duration": 76,
    "start_time": "2023-05-18T17:53:01.214Z"
   },
   {
    "duration": 85,
    "start_time": "2023-05-18T17:53:01.294Z"
   },
   {
    "duration": 46,
    "start_time": "2023-05-18T17:53:01.380Z"
   },
   {
    "duration": 52,
    "start_time": "2023-05-18T17:53:01.432Z"
   },
   {
    "duration": 74,
    "start_time": "2023-05-18T17:53:01.485Z"
   },
   {
    "duration": 259,
    "start_time": "2023-05-18T17:53:01.561Z"
   },
   {
    "duration": 8,
    "start_time": "2023-05-18T17:53:01.822Z"
   },
   {
    "duration": 96,
    "start_time": "2023-05-18T17:53:01.832Z"
   },
   {
    "duration": 44,
    "start_time": "2023-05-18T17:53:01.930Z"
   },
   {
    "duration": 70,
    "start_time": "2023-05-18T17:53:01.976Z"
   },
   {
    "duration": 48,
    "start_time": "2023-05-18T17:53:02.048Z"
   },
   {
    "duration": 25,
    "start_time": "2023-05-18T17:53:02.097Z"
   },
   {
    "duration": 34,
    "start_time": "2023-05-18T17:53:02.123Z"
   },
   {
    "duration": 32,
    "start_time": "2023-05-18T17:53:02.158Z"
   },
   {
    "duration": 46,
    "start_time": "2023-05-18T17:53:02.192Z"
   },
   {
    "duration": 18,
    "start_time": "2023-05-18T17:53:02.243Z"
   },
   {
    "duration": 25,
    "start_time": "2023-05-18T17:53:02.263Z"
   },
   {
    "duration": 30,
    "start_time": "2023-05-18T17:53:02.290Z"
   },
   {
    "duration": 55,
    "start_time": "2023-05-18T17:53:02.322Z"
   },
   {
    "duration": 6,
    "start_time": "2023-05-18T17:53:02.378Z"
   },
   {
    "duration": 6,
    "start_time": "2023-05-18T17:53:02.386Z"
   },
   {
    "duration": 9,
    "start_time": "2023-05-18T17:53:02.393Z"
   },
   {
    "duration": 6,
    "start_time": "2023-05-18T17:53:02.405Z"
   },
   {
    "duration": 12,
    "start_time": "2023-05-18T17:53:02.413Z"
   },
   {
    "duration": 51,
    "start_time": "2023-05-18T17:53:02.426Z"
   },
   {
    "duration": 13,
    "start_time": "2023-05-18T17:53:02.479Z"
   },
   {
    "duration": 11,
    "start_time": "2023-05-18T17:53:02.494Z"
   },
   {
    "duration": 34,
    "start_time": "2023-05-18T17:53:02.507Z"
   },
   {
    "duration": 142,
    "start_time": "2023-05-18T17:53:02.545Z"
   },
   {
    "duration": 16,
    "start_time": "2023-05-18T17:53:02.689Z"
   },
   {
    "duration": 26,
    "start_time": "2023-05-18T17:53:02.706Z"
   },
   {
    "duration": 26,
    "start_time": "2023-05-18T17:53:02.740Z"
   },
   {
    "duration": 19,
    "start_time": "2023-05-18T17:53:02.767Z"
   },
   {
    "duration": 16,
    "start_time": "2023-05-18T17:53:02.788Z"
   },
   {
    "duration": 608,
    "start_time": "2023-05-18T17:53:02.806Z"
   },
   {
    "duration": 29,
    "start_time": "2023-05-18T17:53:03.425Z"
   },
   {
    "duration": 15,
    "start_time": "2023-05-18T17:53:03.456Z"
   },
   {
    "duration": 69,
    "start_time": "2023-05-18T17:53:03.473Z"
   },
   {
    "duration": 23,
    "start_time": "2023-05-18T17:53:03.545Z"
   },
   {
    "duration": 39,
    "start_time": "2023-05-18T17:53:03.570Z"
   },
   {
    "duration": 9,
    "start_time": "2023-05-18T17:53:03.611Z"
   },
   {
    "duration": 30,
    "start_time": "2023-05-18T17:53:03.624Z"
   },
   {
    "duration": 16,
    "start_time": "2023-05-18T17:53:03.656Z"
   },
   {
    "duration": 9,
    "start_time": "2023-05-18T17:53:03.674Z"
   },
   {
    "duration": 52,
    "start_time": "2023-05-18T17:53:03.684Z"
   },
   {
    "duration": 18,
    "start_time": "2023-05-18T17:53:03.741Z"
   },
   {
    "duration": 8,
    "start_time": "2023-05-18T17:53:03.761Z"
   },
   {
    "duration": 24,
    "start_time": "2023-05-18T17:53:03.771Z"
   },
   {
    "duration": 24,
    "start_time": "2023-05-18T17:53:03.797Z"
   },
   {
    "duration": 56,
    "start_time": "2023-05-18T17:53:03.823Z"
   },
   {
    "duration": 31,
    "start_time": "2023-05-18T17:54:20.049Z"
   },
   {
    "duration": 5,
    "start_time": "2023-05-18T17:54:58.101Z"
   },
   {
    "duration": 6,
    "start_time": "2023-05-18T17:55:15.571Z"
   },
   {
    "duration": 11,
    "start_time": "2023-05-18T17:55:58.853Z"
   },
   {
    "duration": 2806,
    "start_time": "2023-05-18T17:56:29.480Z"
   },
   {
    "duration": 1282,
    "start_time": "2023-05-18T17:56:32.289Z"
   },
   {
    "duration": 1281,
    "start_time": "2023-05-18T17:56:33.573Z"
   },
   {
    "duration": 15,
    "start_time": "2023-05-18T17:56:34.859Z"
   },
   {
    "duration": 29,
    "start_time": "2023-05-18T17:56:34.877Z"
   },
   {
    "duration": 39,
    "start_time": "2023-05-18T17:56:34.909Z"
   },
   {
    "duration": 24,
    "start_time": "2023-05-18T17:56:34.950Z"
   },
   {
    "duration": 177,
    "start_time": "2023-05-18T17:56:34.977Z"
   },
   {
    "duration": 95,
    "start_time": "2023-05-18T17:56:35.156Z"
   },
   {
    "duration": 88,
    "start_time": "2023-05-18T17:56:35.254Z"
   },
   {
    "duration": 14,
    "start_time": "2023-05-18T17:56:35.344Z"
   },
   {
    "duration": 14,
    "start_time": "2023-05-18T17:56:35.360Z"
   },
   {
    "duration": 29,
    "start_time": "2023-05-18T17:56:35.375Z"
   },
   {
    "duration": 68,
    "start_time": "2023-05-18T17:56:35.406Z"
   },
   {
    "duration": 22,
    "start_time": "2023-05-18T17:56:35.477Z"
   },
   {
    "duration": 63,
    "start_time": "2023-05-18T17:56:35.502Z"
   },
   {
    "duration": 17,
    "start_time": "2023-05-18T17:56:35.568Z"
   },
   {
    "duration": 265,
    "start_time": "2023-05-18T17:56:35.587Z"
   },
   {
    "duration": 7,
    "start_time": "2023-05-18T17:56:35.854Z"
   },
   {
    "duration": 44,
    "start_time": "2023-05-18T17:56:35.862Z"
   },
   {
    "duration": 29,
    "start_time": "2023-05-18T17:56:35.908Z"
   },
   {
    "duration": 23,
    "start_time": "2023-05-18T17:56:35.943Z"
   },
   {
    "duration": 45,
    "start_time": "2023-05-18T17:56:35.968Z"
   },
   {
    "duration": 41,
    "start_time": "2023-05-18T17:56:36.015Z"
   },
   {
    "duration": 13,
    "start_time": "2023-05-18T17:56:36.057Z"
   },
   {
    "duration": 67,
    "start_time": "2023-05-18T17:56:36.071Z"
   },
   {
    "duration": 51,
    "start_time": "2023-05-18T17:56:36.141Z"
   },
   {
    "duration": 20,
    "start_time": "2023-05-18T17:56:36.195Z"
   },
   {
    "duration": 7,
    "start_time": "2023-05-18T17:56:36.217Z"
   },
   {
    "duration": 30,
    "start_time": "2023-05-18T17:56:36.229Z"
   },
   {
    "duration": 82,
    "start_time": "2023-05-18T17:56:36.261Z"
   },
   {
    "duration": 19,
    "start_time": "2023-05-18T17:56:36.346Z"
   },
   {
    "duration": 26,
    "start_time": "2023-05-18T17:56:36.367Z"
   },
   {
    "duration": 51,
    "start_time": "2023-05-18T17:56:36.395Z"
   },
   {
    "duration": 22,
    "start_time": "2023-05-18T17:56:36.447Z"
   },
   {
    "duration": 13,
    "start_time": "2023-05-18T17:56:36.470Z"
   },
   {
    "duration": 58,
    "start_time": "2023-05-18T17:56:36.485Z"
   },
   {
    "duration": 36,
    "start_time": "2023-05-18T17:56:36.546Z"
   },
   {
    "duration": 68,
    "start_time": "2023-05-18T17:56:36.584Z"
   },
   {
    "duration": 22,
    "start_time": "2023-05-18T17:56:36.654Z"
   },
   {
    "duration": 159,
    "start_time": "2023-05-18T17:56:36.678Z"
   },
   {
    "duration": 15,
    "start_time": "2023-05-18T17:56:36.844Z"
   },
   {
    "duration": 23,
    "start_time": "2023-05-18T17:56:36.860Z"
   },
   {
    "duration": 64,
    "start_time": "2023-05-18T17:56:36.885Z"
   },
   {
    "duration": 46,
    "start_time": "2023-05-18T17:56:36.951Z"
   },
   {
    "duration": 20,
    "start_time": "2023-05-18T17:56:36.999Z"
   },
   {
    "duration": 51,
    "start_time": "2023-05-18T17:56:37.021Z"
   },
   {
    "duration": 705,
    "start_time": "2023-05-18T17:56:37.074Z"
   },
   {
    "duration": 53,
    "start_time": "2023-05-18T17:56:37.782Z"
   },
   {
    "duration": 21,
    "start_time": "2023-05-18T17:56:37.841Z"
   },
   {
    "duration": 50,
    "start_time": "2023-05-18T17:56:37.864Z"
   },
   {
    "duration": 73,
    "start_time": "2023-05-18T17:56:37.917Z"
   },
   {
    "duration": 35,
    "start_time": "2023-05-18T17:56:37.991Z"
   },
   {
    "duration": 37,
    "start_time": "2023-05-18T17:56:38.029Z"
   },
   {
    "duration": 28,
    "start_time": "2023-05-18T17:56:38.068Z"
   },
   {
    "duration": 72,
    "start_time": "2023-05-18T17:56:38.098Z"
   },
   {
    "duration": 83,
    "start_time": "2023-05-18T17:56:38.172Z"
   },
   {
    "duration": 58,
    "start_time": "2023-05-18T17:56:38.257Z"
   },
   {
    "duration": 57,
    "start_time": "2023-05-18T17:56:38.317Z"
   },
   {
    "duration": 28,
    "start_time": "2023-05-18T17:56:38.376Z"
   },
   {
    "duration": 58,
    "start_time": "2023-05-18T17:56:38.406Z"
   },
   {
    "duration": 23,
    "start_time": "2023-05-18T17:56:38.465Z"
   },
   {
    "duration": 26,
    "start_time": "2023-05-18T17:56:38.490Z"
   },
   {
    "duration": 8,
    "start_time": "2023-05-18T18:12:15.999Z"
   },
   {
    "duration": 121,
    "start_time": "2023-05-18T18:15:00.755Z"
   },
   {
    "duration": 3376,
    "start_time": "2023-05-18T18:15:16.022Z"
   },
   {
    "duration": 1294,
    "start_time": "2023-05-18T18:15:19.400Z"
   },
   {
    "duration": 1385,
    "start_time": "2023-05-18T18:15:20.695Z"
   },
   {
    "duration": 14,
    "start_time": "2023-05-18T18:15:22.082Z"
   },
   {
    "duration": 9,
    "start_time": "2023-05-18T18:15:22.097Z"
   },
   {
    "duration": 11,
    "start_time": "2023-05-18T18:15:22.108Z"
   },
   {
    "duration": 22,
    "start_time": "2023-05-18T18:15:22.121Z"
   },
   {
    "duration": 71,
    "start_time": "2023-05-18T18:15:22.145Z"
   },
   {
    "duration": 93,
    "start_time": "2023-05-18T18:15:22.217Z"
   },
   {
    "duration": 62,
    "start_time": "2023-05-18T18:15:22.313Z"
   },
   {
    "duration": 9,
    "start_time": "2023-05-18T18:15:22.377Z"
   },
   {
    "duration": 11,
    "start_time": "2023-05-18T18:15:22.388Z"
   },
   {
    "duration": 36,
    "start_time": "2023-05-18T18:15:22.400Z"
   },
   {
    "duration": 27,
    "start_time": "2023-05-18T18:15:22.437Z"
   },
   {
    "duration": 16,
    "start_time": "2023-05-18T18:15:22.466Z"
   },
   {
    "duration": 16,
    "start_time": "2023-05-18T18:15:22.484Z"
   },
   {
    "duration": 11,
    "start_time": "2023-05-18T18:15:22.502Z"
   },
   {
    "duration": 195,
    "start_time": "2023-05-18T18:15:22.515Z"
   },
   {
    "duration": 19,
    "start_time": "2023-05-18T18:15:22.712Z"
   },
   {
    "duration": 43,
    "start_time": "2023-05-18T18:15:22.738Z"
   },
   {
    "duration": 9,
    "start_time": "2023-05-18T18:15:22.783Z"
   },
   {
    "duration": 15,
    "start_time": "2023-05-18T18:15:22.794Z"
   },
   {
    "duration": 45,
    "start_time": "2023-05-18T18:15:22.811Z"
   },
   {
    "duration": 30,
    "start_time": "2023-05-18T18:15:22.858Z"
   },
   {
    "duration": 7,
    "start_time": "2023-05-18T18:15:22.890Z"
   },
   {
    "duration": 46,
    "start_time": "2023-05-18T18:15:22.899Z"
   },
   {
    "duration": 31,
    "start_time": "2023-05-18T18:15:22.946Z"
   },
   {
    "duration": 16,
    "start_time": "2023-05-18T18:15:22.982Z"
   },
   {
    "duration": 38,
    "start_time": "2023-05-18T18:15:23.000Z"
   },
   {
    "duration": 20,
    "start_time": "2023-05-18T18:15:23.039Z"
   },
   {
    "duration": 29,
    "start_time": "2023-05-18T18:15:23.061Z"
   },
   {
    "duration": 6,
    "start_time": "2023-05-18T18:15:23.092Z"
   },
   {
    "duration": 5,
    "start_time": "2023-05-18T18:15:23.100Z"
   },
   {
    "duration": 28,
    "start_time": "2023-05-18T18:15:23.107Z"
   },
   {
    "duration": 6,
    "start_time": "2023-05-18T18:15:23.138Z"
   },
   {
    "duration": 8,
    "start_time": "2023-05-18T18:15:23.146Z"
   },
   {
    "duration": 36,
    "start_time": "2023-05-18T18:15:23.155Z"
   },
   {
    "duration": 14,
    "start_time": "2023-05-18T18:15:23.193Z"
   },
   {
    "duration": 31,
    "start_time": "2023-05-18T18:15:23.208Z"
   },
   {
    "duration": 27,
    "start_time": "2023-05-18T18:15:23.241Z"
   },
   {
    "duration": 181,
    "start_time": "2023-05-18T18:15:23.270Z"
   },
   {
    "duration": 15,
    "start_time": "2023-05-18T18:15:23.453Z"
   },
   {
    "duration": 14,
    "start_time": "2023-05-18T18:15:23.469Z"
   },
   {
    "duration": 5,
    "start_time": "2023-05-18T18:15:23.485Z"
   },
   {
    "duration": 55,
    "start_time": "2023-05-18T18:15:23.492Z"
   },
   {
    "duration": 128,
    "start_time": "2023-05-18T18:15:23.550Z"
   },
   {
    "duration": 0,
    "start_time": "2023-05-18T18:15:23.681Z"
   },
   {
    "duration": 0,
    "start_time": "2023-05-18T18:15:23.682Z"
   },
   {
    "duration": 0,
    "start_time": "2023-05-18T18:15:23.684Z"
   },
   {
    "duration": 0,
    "start_time": "2023-05-18T18:15:23.686Z"
   },
   {
    "duration": 0,
    "start_time": "2023-05-18T18:15:23.687Z"
   },
   {
    "duration": 0,
    "start_time": "2023-05-18T18:15:23.688Z"
   },
   {
    "duration": 0,
    "start_time": "2023-05-18T18:15:23.689Z"
   },
   {
    "duration": 0,
    "start_time": "2023-05-18T18:15:23.690Z"
   },
   {
    "duration": 0,
    "start_time": "2023-05-18T18:15:23.691Z"
   },
   {
    "duration": 0,
    "start_time": "2023-05-18T18:15:23.692Z"
   },
   {
    "duration": 0,
    "start_time": "2023-05-18T18:15:23.694Z"
   },
   {
    "duration": 0,
    "start_time": "2023-05-18T18:15:23.695Z"
   },
   {
    "duration": 0,
    "start_time": "2023-05-18T18:15:23.728Z"
   },
   {
    "duration": 0,
    "start_time": "2023-05-18T18:15:23.731Z"
   },
   {
    "duration": 0,
    "start_time": "2023-05-18T18:15:23.734Z"
   },
   {
    "duration": 0,
    "start_time": "2023-05-18T18:15:23.735Z"
   },
   {
    "duration": 0,
    "start_time": "2023-05-18T18:15:23.736Z"
   },
   {
    "duration": 10,
    "start_time": "2023-05-18T18:16:11.291Z"
   },
   {
    "duration": 8,
    "start_time": "2023-05-18T18:17:33.258Z"
   },
   {
    "duration": 420,
    "start_time": "2023-05-18T18:18:19.306Z"
   },
   {
    "duration": 551,
    "start_time": "2023-05-18T18:19:33.458Z"
   },
   {
    "duration": 435,
    "start_time": "2023-05-18T18:19:39.594Z"
   },
   {
    "duration": 10,
    "start_time": "2023-05-18T18:21:16.182Z"
   },
   {
    "duration": 8,
    "start_time": "2023-05-18T18:21:26.009Z"
   },
   {
    "duration": 21,
    "start_time": "2023-05-18T18:55:24.866Z"
   },
   {
    "duration": 10,
    "start_time": "2023-05-18T18:55:49.304Z"
   },
   {
    "duration": 30,
    "start_time": "2023-05-18T18:57:12.186Z"
   },
   {
    "duration": 8,
    "start_time": "2023-05-18T18:57:17.590Z"
   },
   {
    "duration": 18,
    "start_time": "2023-05-18T18:58:14.972Z"
   },
   {
    "duration": 19,
    "start_time": "2023-05-18T18:58:37.425Z"
   },
   {
    "duration": 2462,
    "start_time": "2023-05-18T18:58:48.199Z"
   },
   {
    "duration": 1264,
    "start_time": "2023-05-18T18:58:50.664Z"
   },
   {
    "duration": 1412,
    "start_time": "2023-05-18T18:58:51.931Z"
   },
   {
    "duration": 14,
    "start_time": "2023-05-18T18:58:53.345Z"
   },
   {
    "duration": 27,
    "start_time": "2023-05-18T18:58:53.361Z"
   },
   {
    "duration": 66,
    "start_time": "2023-05-18T18:58:53.390Z"
   },
   {
    "duration": 18,
    "start_time": "2023-05-18T18:58:53.458Z"
   },
   {
    "duration": 91,
    "start_time": "2023-05-18T18:58:53.478Z"
   },
   {
    "duration": 98,
    "start_time": "2023-05-18T18:58:53.571Z"
   },
   {
    "duration": 102,
    "start_time": "2023-05-18T18:58:53.671Z"
   },
   {
    "duration": 13,
    "start_time": "2023-05-18T18:58:53.775Z"
   },
   {
    "duration": 49,
    "start_time": "2023-05-18T18:58:53.790Z"
   },
   {
    "duration": 76,
    "start_time": "2023-05-18T18:58:53.842Z"
   },
   {
    "duration": 42,
    "start_time": "2023-05-18T18:58:53.922Z"
   },
   {
    "duration": 30,
    "start_time": "2023-05-18T18:58:53.965Z"
   },
   {
    "duration": 30,
    "start_time": "2023-05-18T18:58:53.997Z"
   },
   {
    "duration": 32,
    "start_time": "2023-05-18T18:58:54.029Z"
   },
   {
    "duration": 224,
    "start_time": "2023-05-18T18:58:54.062Z"
   },
   {
    "duration": 5,
    "start_time": "2023-05-18T18:58:54.288Z"
   },
   {
    "duration": 47,
    "start_time": "2023-05-18T18:58:54.295Z"
   },
   {
    "duration": 14,
    "start_time": "2023-05-18T18:58:54.344Z"
   },
   {
    "duration": 19,
    "start_time": "2023-05-18T18:58:54.359Z"
   },
   {
    "duration": 61,
    "start_time": "2023-05-18T18:58:54.380Z"
   },
   {
    "duration": 40,
    "start_time": "2023-05-18T18:58:54.444Z"
   },
   {
    "duration": 9,
    "start_time": "2023-05-18T18:58:54.486Z"
   },
   {
    "duration": 28,
    "start_time": "2023-05-18T18:58:54.497Z"
   },
   {
    "duration": 36,
    "start_time": "2023-05-18T18:58:54.530Z"
   },
   {
    "duration": 16,
    "start_time": "2023-05-18T18:58:54.568Z"
   },
   {
    "duration": 6,
    "start_time": "2023-05-18T18:58:54.586Z"
   },
   {
    "duration": 44,
    "start_time": "2023-05-18T18:58:54.594Z"
   },
   {
    "duration": 29,
    "start_time": "2023-05-18T18:58:54.640Z"
   },
   {
    "duration": 7,
    "start_time": "2023-05-18T18:58:54.671Z"
   },
   {
    "duration": 7,
    "start_time": "2023-05-18T18:58:54.679Z"
   },
   {
    "duration": 11,
    "start_time": "2023-05-18T18:58:54.688Z"
   },
   {
    "duration": 10,
    "start_time": "2023-05-18T18:58:54.701Z"
   },
   {
    "duration": 11,
    "start_time": "2023-05-18T18:58:54.728Z"
   },
   {
    "duration": 60,
    "start_time": "2023-05-18T18:58:54.746Z"
   },
   {
    "duration": 19,
    "start_time": "2023-05-18T18:58:54.808Z"
   },
   {
    "duration": 36,
    "start_time": "2023-05-18T18:58:54.831Z"
   },
   {
    "duration": 22,
    "start_time": "2023-05-18T18:58:54.869Z"
   },
   {
    "duration": 209,
    "start_time": "2023-05-18T18:58:54.897Z"
   },
   {
    "duration": 21,
    "start_time": "2023-05-18T18:58:55.108Z"
   },
   {
    "duration": 17,
    "start_time": "2023-05-18T18:58:55.132Z"
   },
   {
    "duration": 8,
    "start_time": "2023-05-18T18:58:55.151Z"
   },
   {
    "duration": 44,
    "start_time": "2023-05-18T18:58:55.161Z"
   },
   {
    "duration": 26,
    "start_time": "2023-05-18T18:58:55.207Z"
   },
   {
    "duration": 11,
    "start_time": "2023-05-18T18:58:55.239Z"
   },
   {
    "duration": 421,
    "start_time": "2023-05-18T18:58:55.252Z"
   },
   {
    "duration": 8,
    "start_time": "2023-05-18T18:58:55.674Z"
   },
   {
    "duration": 625,
    "start_time": "2023-05-18T18:58:55.683Z"
   },
   {
    "duration": 36,
    "start_time": "2023-05-18T18:58:56.310Z"
   },
   {
    "duration": 14,
    "start_time": "2023-05-18T18:58:56.349Z"
   },
   {
    "duration": 14,
    "start_time": "2023-05-18T18:58:56.365Z"
   },
   {
    "duration": 48,
    "start_time": "2023-05-18T18:58:56.381Z"
   },
   {
    "duration": 37,
    "start_time": "2023-05-18T18:58:56.431Z"
   },
   {
    "duration": 21,
    "start_time": "2023-05-18T18:58:56.470Z"
   },
   {
    "duration": 12,
    "start_time": "2023-05-18T18:58:56.493Z"
   },
   {
    "duration": 22,
    "start_time": "2023-05-18T18:58:56.507Z"
   },
   {
    "duration": 20,
    "start_time": "2023-05-18T18:58:56.531Z"
   },
   {
    "duration": 25,
    "start_time": "2023-05-18T18:58:56.553Z"
   },
   {
    "duration": 15,
    "start_time": "2023-05-18T18:58:56.579Z"
   },
   {
    "duration": 4,
    "start_time": "2023-05-18T18:58:56.595Z"
   },
   {
    "duration": 24,
    "start_time": "2023-05-18T18:58:56.601Z"
   },
   {
    "duration": 15,
    "start_time": "2023-05-18T18:58:56.636Z"
   },
   {
    "duration": 9,
    "start_time": "2023-05-18T18:58:56.653Z"
   },
   {
    "duration": 1533,
    "start_time": "2023-05-18T18:59:09.820Z"
   },
   {
    "duration": 14,
    "start_time": "2023-05-18T18:59:16.497Z"
   },
   {
    "duration": 24,
    "start_time": "2023-05-18T18:59:22.690Z"
   },
   {
    "duration": 2800,
    "start_time": "2023-05-18T18:59:29.776Z"
   },
   {
    "duration": 1307,
    "start_time": "2023-05-18T18:59:32.580Z"
   },
   {
    "duration": 1312,
    "start_time": "2023-05-18T18:59:33.889Z"
   },
   {
    "duration": 13,
    "start_time": "2023-05-18T18:59:35.204Z"
   },
   {
    "duration": 24,
    "start_time": "2023-05-18T18:59:35.219Z"
   },
   {
    "duration": 14,
    "start_time": "2023-05-18T18:59:35.244Z"
   },
   {
    "duration": 14,
    "start_time": "2023-05-18T18:59:35.260Z"
   },
   {
    "duration": 103,
    "start_time": "2023-05-18T18:59:35.276Z"
   },
   {
    "duration": 101,
    "start_time": "2023-05-18T18:59:35.381Z"
   },
   {
    "duration": 73,
    "start_time": "2023-05-18T18:59:35.484Z"
   },
   {
    "duration": 10,
    "start_time": "2023-05-18T18:59:35.559Z"
   },
   {
    "duration": 16,
    "start_time": "2023-05-18T18:59:35.572Z"
   },
   {
    "duration": 46,
    "start_time": "2023-05-18T18:59:35.590Z"
   },
   {
    "duration": 40,
    "start_time": "2023-05-18T18:59:35.643Z"
   },
   {
    "duration": 25,
    "start_time": "2023-05-18T18:59:35.685Z"
   },
   {
    "duration": 27,
    "start_time": "2023-05-18T18:59:35.712Z"
   },
   {
    "duration": 32,
    "start_time": "2023-05-18T18:59:35.741Z"
   },
   {
    "duration": 220,
    "start_time": "2023-05-18T18:59:35.775Z"
   },
   {
    "duration": 7,
    "start_time": "2023-05-18T18:59:35.997Z"
   },
   {
    "duration": 58,
    "start_time": "2023-05-18T18:59:36.006Z"
   },
   {
    "duration": 14,
    "start_time": "2023-05-18T18:59:36.066Z"
   },
   {
    "duration": 47,
    "start_time": "2023-05-18T18:59:36.083Z"
   },
   {
    "duration": 37,
    "start_time": "2023-05-18T18:59:36.132Z"
   },
   {
    "duration": 55,
    "start_time": "2023-05-18T18:59:36.171Z"
   },
   {
    "duration": 10,
    "start_time": "2023-05-18T18:59:36.233Z"
   },
   {
    "duration": 23,
    "start_time": "2023-05-18T18:59:36.245Z"
   },
   {
    "duration": 29,
    "start_time": "2023-05-18T18:59:36.270Z"
   },
   {
    "duration": 43,
    "start_time": "2023-05-18T18:59:36.301Z"
   },
   {
    "duration": 9,
    "start_time": "2023-05-18T18:59:36.346Z"
   },
   {
    "duration": 13,
    "start_time": "2023-05-18T18:59:36.357Z"
   },
   {
    "duration": 28,
    "start_time": "2023-05-18T18:59:36.372Z"
   },
   {
    "duration": 5,
    "start_time": "2023-05-18T18:59:36.402Z"
   },
   {
    "duration": 16,
    "start_time": "2023-05-18T18:59:36.425Z"
   },
   {
    "duration": 15,
    "start_time": "2023-05-18T18:59:36.442Z"
   },
   {
    "duration": 9,
    "start_time": "2023-05-18T18:59:36.459Z"
   },
   {
    "duration": 10,
    "start_time": "2023-05-18T18:59:36.469Z"
   },
   {
    "duration": 36,
    "start_time": "2023-05-18T18:59:36.481Z"
   },
   {
    "duration": 28,
    "start_time": "2023-05-18T18:59:36.519Z"
   },
   {
    "duration": 22,
    "start_time": "2023-05-18T18:59:36.549Z"
   },
   {
    "duration": 15,
    "start_time": "2023-05-18T18:59:36.573Z"
   },
   {
    "duration": 157,
    "start_time": "2023-05-18T18:59:36.593Z"
   },
   {
    "duration": 15,
    "start_time": "2023-05-18T18:59:36.752Z"
   },
   {
    "duration": 11,
    "start_time": "2023-05-18T18:59:36.769Z"
   },
   {
    "duration": 5,
    "start_time": "2023-05-18T18:59:36.782Z"
   },
   {
    "duration": 63,
    "start_time": "2023-05-18T18:59:36.789Z"
   },
   {
    "duration": 7,
    "start_time": "2023-05-18T18:59:36.854Z"
   },
   {
    "duration": 9,
    "start_time": "2023-05-18T18:59:36.863Z"
   },
   {
    "duration": 468,
    "start_time": "2023-05-18T18:59:36.874Z"
   },
   {
    "duration": 9,
    "start_time": "2023-05-18T18:59:37.344Z"
   },
   {
    "duration": 749,
    "start_time": "2023-05-18T18:59:37.355Z"
   },
   {
    "duration": 29,
    "start_time": "2023-05-18T18:59:38.106Z"
   },
   {
    "duration": 33,
    "start_time": "2023-05-18T18:59:38.137Z"
   },
   {
    "duration": 13,
    "start_time": "2023-05-18T18:59:38.172Z"
   },
   {
    "duration": 54,
    "start_time": "2023-05-18T18:59:38.187Z"
   },
   {
    "duration": 34,
    "start_time": "2023-05-18T18:59:38.244Z"
   },
   {
    "duration": 14,
    "start_time": "2023-05-18T18:59:38.280Z"
   },
   {
    "duration": 12,
    "start_time": "2023-05-18T18:59:38.296Z"
   },
   {
    "duration": 52,
    "start_time": "2023-05-18T18:59:38.309Z"
   },
   {
    "duration": 15,
    "start_time": "2023-05-18T18:59:38.363Z"
   },
   {
    "duration": 28,
    "start_time": "2023-05-18T18:59:38.380Z"
   },
   {
    "duration": 24,
    "start_time": "2023-05-18T18:59:38.409Z"
   },
   {
    "duration": 19,
    "start_time": "2023-05-18T18:59:38.435Z"
   },
   {
    "duration": 23,
    "start_time": "2023-05-18T18:59:38.456Z"
   },
   {
    "duration": 25,
    "start_time": "2023-05-18T18:59:38.481Z"
   },
   {
    "duration": 54,
    "start_time": "2023-05-18T18:59:38.508Z"
   },
   {
    "duration": 25,
    "start_time": "2023-05-18T19:10:36.183Z"
   },
   {
    "duration": 20,
    "start_time": "2023-05-18T19:13:18.854Z"
   },
   {
    "duration": 129,
    "start_time": "2023-05-18T19:13:55.721Z"
   },
   {
    "duration": 12,
    "start_time": "2023-05-18T19:14:16.945Z"
   },
   {
    "duration": 1590,
    "start_time": "2023-05-18T19:14:37.220Z"
   },
   {
    "duration": 22,
    "start_time": "2023-05-18T19:14:49.822Z"
   },
   {
    "duration": 14,
    "start_time": "2023-05-18T19:19:32.674Z"
   },
   {
    "duration": 489,
    "start_time": "2023-05-18T19:19:50.259Z"
   },
   {
    "duration": 404,
    "start_time": "2023-05-18T19:20:35.899Z"
   },
   {
    "duration": 17,
    "start_time": "2023-05-18T19:25:44.718Z"
   },
   {
    "duration": 2632,
    "start_time": "2023-05-18T19:28:56.253Z"
   },
   {
    "duration": 1311,
    "start_time": "2023-05-18T19:28:58.887Z"
   },
   {
    "duration": 1160,
    "start_time": "2023-05-18T19:29:00.200Z"
   },
   {
    "duration": 13,
    "start_time": "2023-05-18T19:29:01.363Z"
   },
   {
    "duration": 32,
    "start_time": "2023-05-18T19:29:01.378Z"
   },
   {
    "duration": 49,
    "start_time": "2023-05-18T19:29:01.411Z"
   },
   {
    "duration": 35,
    "start_time": "2023-05-18T19:29:01.462Z"
   },
   {
    "duration": 108,
    "start_time": "2023-05-18T19:29:01.499Z"
   },
   {
    "duration": 92,
    "start_time": "2023-05-18T19:29:01.608Z"
   },
   {
    "duration": 112,
    "start_time": "2023-05-18T19:29:01.703Z"
   },
   {
    "duration": 16,
    "start_time": "2023-05-18T19:29:01.817Z"
   },
   {
    "duration": 57,
    "start_time": "2023-05-18T19:29:01.835Z"
   },
   {
    "duration": 52,
    "start_time": "2023-05-18T19:29:01.894Z"
   },
   {
    "duration": 69,
    "start_time": "2023-05-18T19:29:01.948Z"
   },
   {
    "duration": 43,
    "start_time": "2023-05-18T19:29:02.019Z"
   },
   {
    "duration": 50,
    "start_time": "2023-05-18T19:29:02.064Z"
   },
   {
    "duration": 41,
    "start_time": "2023-05-18T19:29:02.116Z"
   },
   {
    "duration": 257,
    "start_time": "2023-05-18T19:29:02.159Z"
   },
   {
    "duration": 24,
    "start_time": "2023-05-18T19:29:02.418Z"
   },
   {
    "duration": 58,
    "start_time": "2023-05-18T19:29:02.444Z"
   },
   {
    "duration": 14,
    "start_time": "2023-05-18T19:29:02.504Z"
   },
   {
    "duration": 37,
    "start_time": "2023-05-18T19:29:02.520Z"
   },
   {
    "duration": 36,
    "start_time": "2023-05-18T19:29:02.559Z"
   },
   {
    "duration": 30,
    "start_time": "2023-05-18T19:29:02.596Z"
   },
   {
    "duration": 23,
    "start_time": "2023-05-18T19:29:02.632Z"
   },
   {
    "duration": 36,
    "start_time": "2023-05-18T19:29:02.657Z"
   },
   {
    "duration": 50,
    "start_time": "2023-05-18T19:29:02.695Z"
   },
   {
    "duration": 19,
    "start_time": "2023-05-18T19:29:02.749Z"
   },
   {
    "duration": 12,
    "start_time": "2023-05-18T19:29:02.770Z"
   },
   {
    "duration": 21,
    "start_time": "2023-05-18T19:29:02.784Z"
   },
   {
    "duration": 64,
    "start_time": "2023-05-18T19:29:02.807Z"
   },
   {
    "duration": 5,
    "start_time": "2023-05-18T19:29:02.874Z"
   },
   {
    "duration": 19,
    "start_time": "2023-05-18T19:29:02.881Z"
   },
   {
    "duration": 38,
    "start_time": "2023-05-18T19:29:02.902Z"
   },
   {
    "duration": 19,
    "start_time": "2023-05-18T19:29:02.942Z"
   },
   {
    "duration": 25,
    "start_time": "2023-05-18T19:29:02.963Z"
   },
   {
    "duration": 102,
    "start_time": "2023-05-18T19:29:02.990Z"
   },
   {
    "duration": 24,
    "start_time": "2023-05-18T19:29:03.094Z"
   },
   {
    "duration": 35,
    "start_time": "2023-05-18T19:29:03.119Z"
   },
   {
    "duration": 28,
    "start_time": "2023-05-18T19:29:03.156Z"
   },
   {
    "duration": 235,
    "start_time": "2023-05-18T19:29:03.187Z"
   },
   {
    "duration": 21,
    "start_time": "2023-05-18T19:29:03.425Z"
   },
   {
    "duration": 37,
    "start_time": "2023-05-18T19:29:03.448Z"
   },
   {
    "duration": 8,
    "start_time": "2023-05-18T19:29:03.487Z"
   },
   {
    "duration": 44,
    "start_time": "2023-05-18T19:29:03.498Z"
   },
   {
    "duration": 452,
    "start_time": "2023-05-18T19:29:03.544Z"
   },
   {
    "duration": 15,
    "start_time": "2023-05-18T19:29:03.997Z"
   },
   {
    "duration": 2784,
    "start_time": "2023-05-18T19:30:41.368Z"
   },
   {
    "duration": 1450,
    "start_time": "2023-05-18T19:30:44.156Z"
   },
   {
    "duration": 1177,
    "start_time": "2023-05-18T19:30:45.608Z"
   },
   {
    "duration": 14,
    "start_time": "2023-05-18T19:30:46.787Z"
   },
   {
    "duration": 12,
    "start_time": "2023-05-18T19:30:46.803Z"
   },
   {
    "duration": 17,
    "start_time": "2023-05-18T19:30:46.817Z"
   },
   {
    "duration": 20,
    "start_time": "2023-05-18T19:30:46.835Z"
   },
   {
    "duration": 68,
    "start_time": "2023-05-18T19:30:46.856Z"
   },
   {
    "duration": 105,
    "start_time": "2023-05-18T19:30:46.931Z"
   },
   {
    "duration": 56,
    "start_time": "2023-05-18T19:30:47.043Z"
   },
   {
    "duration": 10,
    "start_time": "2023-05-18T19:30:47.101Z"
   },
   {
    "duration": 21,
    "start_time": "2023-05-18T19:30:47.113Z"
   },
   {
    "duration": 16,
    "start_time": "2023-05-18T19:30:47.139Z"
   },
   {
    "duration": 27,
    "start_time": "2023-05-18T19:30:47.157Z"
   },
   {
    "duration": 18,
    "start_time": "2023-05-18T19:30:47.187Z"
   },
   {
    "duration": 35,
    "start_time": "2023-05-18T19:30:47.208Z"
   },
   {
    "duration": 17,
    "start_time": "2023-05-18T19:30:47.246Z"
   },
   {
    "duration": 205,
    "start_time": "2023-05-18T19:30:47.265Z"
   },
   {
    "duration": 5,
    "start_time": "2023-05-18T19:30:47.472Z"
   },
   {
    "duration": 51,
    "start_time": "2023-05-18T19:30:47.479Z"
   },
   {
    "duration": 17,
    "start_time": "2023-05-18T19:30:47.531Z"
   },
   {
    "duration": 30,
    "start_time": "2023-05-18T19:30:47.550Z"
   },
   {
    "duration": 34,
    "start_time": "2023-05-18T19:30:47.582Z"
   },
   {
    "duration": 52,
    "start_time": "2023-05-18T19:30:47.617Z"
   },
   {
    "duration": 12,
    "start_time": "2023-05-18T19:30:47.671Z"
   },
   {
    "duration": 25,
    "start_time": "2023-05-18T19:30:47.685Z"
   },
   {
    "duration": 49,
    "start_time": "2023-05-18T19:30:47.711Z"
   },
   {
    "duration": 17,
    "start_time": "2023-05-18T19:30:47.764Z"
   },
   {
    "duration": 10,
    "start_time": "2023-05-18T19:30:47.784Z"
   },
   {
    "duration": 37,
    "start_time": "2023-05-18T19:30:47.795Z"
   },
   {
    "duration": 46,
    "start_time": "2023-05-18T19:30:47.833Z"
   },
   {
    "duration": 8,
    "start_time": "2023-05-18T19:30:47.881Z"
   },
   {
    "duration": 9,
    "start_time": "2023-05-18T19:30:47.891Z"
   },
   {
    "duration": 26,
    "start_time": "2023-05-18T19:30:47.903Z"
   },
   {
    "duration": 20,
    "start_time": "2023-05-18T19:30:47.934Z"
   },
   {
    "duration": 14,
    "start_time": "2023-05-18T19:30:47.956Z"
   },
   {
    "duration": 66,
    "start_time": "2023-05-18T19:30:47.972Z"
   },
   {
    "duration": 16,
    "start_time": "2023-05-18T19:30:48.041Z"
   },
   {
    "duration": 20,
    "start_time": "2023-05-18T19:30:48.059Z"
   },
   {
    "duration": 28,
    "start_time": "2023-05-18T19:30:48.080Z"
   },
   {
    "duration": 176,
    "start_time": "2023-05-18T19:30:48.110Z"
   },
   {
    "duration": 21,
    "start_time": "2023-05-18T19:30:48.288Z"
   },
   {
    "duration": 33,
    "start_time": "2023-05-18T19:30:48.311Z"
   },
   {
    "duration": 19,
    "start_time": "2023-05-18T19:30:48.346Z"
   },
   {
    "duration": 34,
    "start_time": "2023-05-18T19:30:48.367Z"
   },
   {
    "duration": 447,
    "start_time": "2023-05-18T19:30:48.403Z"
   },
   {
    "duration": 14,
    "start_time": "2023-05-18T19:30:48.852Z"
   },
   {
    "duration": 14,
    "start_time": "2023-05-18T19:30:48.868Z"
   },
   {
    "duration": 2809,
    "start_time": "2023-05-18T19:32:08.461Z"
   },
   {
    "duration": 1276,
    "start_time": "2023-05-18T19:32:11.273Z"
   },
   {
    "duration": 1326,
    "start_time": "2023-05-18T19:32:12.551Z"
   },
   {
    "duration": 19,
    "start_time": "2023-05-18T19:32:13.880Z"
   },
   {
    "duration": 8,
    "start_time": "2023-05-18T19:32:13.902Z"
   },
   {
    "duration": 10,
    "start_time": "2023-05-18T19:32:13.913Z"
   },
   {
    "duration": 31,
    "start_time": "2023-05-18T19:32:13.926Z"
   },
   {
    "duration": 82,
    "start_time": "2023-05-18T19:32:13.959Z"
   },
   {
    "duration": 91,
    "start_time": "2023-05-18T19:32:14.045Z"
   },
   {
    "duration": 57,
    "start_time": "2023-05-18T19:32:14.139Z"
   },
   {
    "duration": 9,
    "start_time": "2023-05-18T19:32:14.198Z"
   },
   {
    "duration": 11,
    "start_time": "2023-05-18T19:32:14.229Z"
   },
   {
    "duration": 13,
    "start_time": "2023-05-18T19:32:14.244Z"
   },
   {
    "duration": 51,
    "start_time": "2023-05-18T19:32:14.258Z"
   },
   {
    "duration": 12,
    "start_time": "2023-05-18T19:32:14.311Z"
   },
   {
    "duration": 29,
    "start_time": "2023-05-18T19:32:14.331Z"
   },
   {
    "duration": 13,
    "start_time": "2023-05-18T19:32:14.361Z"
   },
   {
    "duration": 211,
    "start_time": "2023-05-18T19:32:14.376Z"
   },
   {
    "duration": 8,
    "start_time": "2023-05-18T19:32:14.589Z"
   },
   {
    "duration": 61,
    "start_time": "2023-05-18T19:32:14.599Z"
   },
   {
    "duration": 13,
    "start_time": "2023-05-18T19:32:14.662Z"
   },
   {
    "duration": 31,
    "start_time": "2023-05-18T19:32:14.677Z"
   },
   {
    "duration": 43,
    "start_time": "2023-05-18T19:32:14.710Z"
   },
   {
    "duration": 27,
    "start_time": "2023-05-18T19:32:14.755Z"
   },
   {
    "duration": 8,
    "start_time": "2023-05-18T19:32:14.783Z"
   },
   {
    "duration": 42,
    "start_time": "2023-05-18T19:32:14.793Z"
   },
   {
    "duration": 45,
    "start_time": "2023-05-18T19:32:14.838Z"
   },
   {
    "duration": 15,
    "start_time": "2023-05-18T19:32:14.887Z"
   },
   {
    "duration": 30,
    "start_time": "2023-05-18T19:32:14.904Z"
   },
   {
    "duration": 34,
    "start_time": "2023-05-18T19:32:14.935Z"
   },
   {
    "duration": 55,
    "start_time": "2023-05-18T19:32:14.971Z"
   },
   {
    "duration": 19,
    "start_time": "2023-05-18T19:32:15.033Z"
   },
   {
    "duration": 33,
    "start_time": "2023-05-18T19:32:15.054Z"
   },
   {
    "duration": 74,
    "start_time": "2023-05-18T19:32:15.089Z"
   },
   {
    "duration": 20,
    "start_time": "2023-05-18T19:32:15.165Z"
   },
   {
    "duration": 15,
    "start_time": "2023-05-18T19:32:15.187Z"
   },
   {
    "duration": 65,
    "start_time": "2023-05-18T19:32:15.205Z"
   },
   {
    "duration": 17,
    "start_time": "2023-05-18T19:32:15.273Z"
   },
   {
    "duration": 30,
    "start_time": "2023-05-18T19:32:15.292Z"
   },
   {
    "duration": 31,
    "start_time": "2023-05-18T19:32:15.324Z"
   },
   {
    "duration": 165,
    "start_time": "2023-05-18T19:32:15.358Z"
   },
   {
    "duration": 24,
    "start_time": "2023-05-18T19:32:15.524Z"
   },
   {
    "duration": 14,
    "start_time": "2023-05-18T19:32:15.550Z"
   },
   {
    "duration": 40,
    "start_time": "2023-05-18T19:32:15.567Z"
   },
   {
    "duration": 57,
    "start_time": "2023-05-18T19:32:15.609Z"
   },
   {
    "duration": 418,
    "start_time": "2023-05-18T19:32:15.668Z"
   },
   {
    "duration": 15,
    "start_time": "2023-05-18T19:32:16.088Z"
   },
   {
    "duration": 30,
    "start_time": "2023-05-18T19:32:16.105Z"
   },
   {
    "duration": 2672,
    "start_time": "2023-05-18T19:36:59.848Z"
   },
   {
    "duration": 1322,
    "start_time": "2023-05-18T19:37:02.523Z"
   },
   {
    "duration": 1236,
    "start_time": "2023-05-18T19:37:03.847Z"
   },
   {
    "duration": 14,
    "start_time": "2023-05-18T19:37:05.086Z"
   },
   {
    "duration": 10,
    "start_time": "2023-05-18T19:37:05.102Z"
   },
   {
    "duration": 17,
    "start_time": "2023-05-18T19:37:05.114Z"
   },
   {
    "duration": 25,
    "start_time": "2023-05-18T19:37:05.135Z"
   },
   {
    "duration": 79,
    "start_time": "2023-05-18T19:37:05.162Z"
   },
   {
    "duration": 126,
    "start_time": "2023-05-18T19:37:05.245Z"
   },
   {
    "duration": 55,
    "start_time": "2023-05-18T19:37:05.376Z"
   },
   {
    "duration": 15,
    "start_time": "2023-05-18T19:37:05.433Z"
   },
   {
    "duration": 21,
    "start_time": "2023-05-18T19:37:05.450Z"
   },
   {
    "duration": 33,
    "start_time": "2023-05-18T19:37:05.473Z"
   },
   {
    "duration": 142,
    "start_time": "2023-05-18T19:37:05.508Z"
   },
   {
    "duration": 20,
    "start_time": "2023-05-18T19:37:05.652Z"
   },
   {
    "duration": 27,
    "start_time": "2023-05-18T19:37:05.673Z"
   },
   {
    "duration": 19,
    "start_time": "2023-05-18T19:37:05.703Z"
   },
   {
    "duration": 229,
    "start_time": "2023-05-18T19:37:05.724Z"
   },
   {
    "duration": 6,
    "start_time": "2023-05-18T19:37:05.955Z"
   },
   {
    "duration": 39,
    "start_time": "2023-05-18T19:37:05.963Z"
   },
   {
    "duration": 30,
    "start_time": "2023-05-18T19:37:06.004Z"
   },
   {
    "duration": 21,
    "start_time": "2023-05-18T19:37:06.036Z"
   },
   {
    "duration": 28,
    "start_time": "2023-05-18T19:37:06.059Z"
   },
   {
    "duration": 61,
    "start_time": "2023-05-18T19:37:06.088Z"
   },
   {
    "duration": 10,
    "start_time": "2023-05-18T19:37:06.151Z"
   },
   {
    "duration": 30,
    "start_time": "2023-05-18T19:37:06.164Z"
   },
   {
    "duration": 62,
    "start_time": "2023-05-18T19:37:06.196Z"
   },
   {
    "duration": 17,
    "start_time": "2023-05-18T19:37:06.263Z"
   },
   {
    "duration": 5,
    "start_time": "2023-05-18T19:37:06.282Z"
   },
   {
    "duration": 48,
    "start_time": "2023-05-18T19:37:06.289Z"
   },
   {
    "duration": 49,
    "start_time": "2023-05-18T19:37:06.339Z"
   },
   {
    "duration": 8,
    "start_time": "2023-05-18T19:37:06.390Z"
   },
   {
    "duration": 6,
    "start_time": "2023-05-18T19:37:06.400Z"
   },
   {
    "duration": 20,
    "start_time": "2023-05-18T19:37:06.408Z"
   },
   {
    "duration": 11,
    "start_time": "2023-05-18T19:37:06.435Z"
   },
   {
    "duration": 8,
    "start_time": "2023-05-18T19:37:06.449Z"
   },
   {
    "duration": 39,
    "start_time": "2023-05-18T19:37:06.459Z"
   },
   {
    "duration": 14,
    "start_time": "2023-05-18T19:37:06.499Z"
   },
   {
    "duration": 19,
    "start_time": "2023-05-18T19:37:06.527Z"
   },
   {
    "duration": 19,
    "start_time": "2023-05-18T19:37:06.548Z"
   },
   {
    "duration": 165,
    "start_time": "2023-05-18T19:37:06.570Z"
   },
   {
    "duration": 25,
    "start_time": "2023-05-18T19:37:06.737Z"
   },
   {
    "duration": 13,
    "start_time": "2023-05-18T19:37:06.764Z"
   },
   {
    "duration": 7,
    "start_time": "2023-05-18T19:37:06.779Z"
   },
   {
    "duration": 56,
    "start_time": "2023-05-18T19:37:06.787Z"
   },
   {
    "duration": 426,
    "start_time": "2023-05-18T19:37:06.845Z"
   },
   {
    "duration": 17,
    "start_time": "2023-05-18T19:37:07.273Z"
   },
   {
    "duration": 9,
    "start_time": "2023-05-18T19:37:07.293Z"
   },
   {
    "duration": 49,
    "start_time": "2023-05-18T19:37:07.304Z"
   },
   {
    "duration": 18,
    "start_time": "2023-05-18T19:37:07.354Z"
   },
   {
    "duration": 2713,
    "start_time": "2023-05-18T19:42:25.525Z"
   },
   {
    "duration": 1373,
    "start_time": "2023-05-18T19:42:28.241Z"
   },
   {
    "duration": 1179,
    "start_time": "2023-05-18T19:42:29.615Z"
   },
   {
    "duration": 17,
    "start_time": "2023-05-18T19:42:30.797Z"
   },
   {
    "duration": 43,
    "start_time": "2023-05-18T19:42:30.816Z"
   },
   {
    "duration": 33,
    "start_time": "2023-05-18T19:42:30.861Z"
   },
   {
    "duration": 52,
    "start_time": "2023-05-18T19:42:30.895Z"
   },
   {
    "duration": 121,
    "start_time": "2023-05-18T19:42:30.949Z"
   },
   {
    "duration": 132,
    "start_time": "2023-05-18T19:42:31.073Z"
   },
   {
    "duration": 105,
    "start_time": "2023-05-18T19:42:31.209Z"
   },
   {
    "duration": 18,
    "start_time": "2023-05-18T19:42:31.317Z"
   },
   {
    "duration": 39,
    "start_time": "2023-05-18T19:42:31.339Z"
   },
   {
    "duration": 31,
    "start_time": "2023-05-18T19:42:31.380Z"
   },
   {
    "duration": 66,
    "start_time": "2023-05-18T19:42:31.413Z"
   },
   {
    "duration": 27,
    "start_time": "2023-05-18T19:42:31.481Z"
   },
   {
    "duration": 52,
    "start_time": "2023-05-18T19:42:31.510Z"
   },
   {
    "duration": 31,
    "start_time": "2023-05-18T19:42:31.564Z"
   },
   {
    "duration": 248,
    "start_time": "2023-05-18T19:42:31.597Z"
   },
   {
    "duration": 7,
    "start_time": "2023-05-18T19:42:31.848Z"
   },
   {
    "duration": 64,
    "start_time": "2023-05-18T19:42:31.857Z"
   },
   {
    "duration": 14,
    "start_time": "2023-05-18T19:42:31.923Z"
   },
   {
    "duration": 46,
    "start_time": "2023-05-18T19:42:31.939Z"
   },
   {
    "duration": 45,
    "start_time": "2023-05-18T19:42:31.986Z"
   },
   {
    "duration": 54,
    "start_time": "2023-05-18T19:42:32.034Z"
   },
   {
    "duration": 10,
    "start_time": "2023-05-18T19:42:32.090Z"
   },
   {
    "duration": 26,
    "start_time": "2023-05-18T19:42:32.101Z"
   },
   {
    "duration": 45,
    "start_time": "2023-05-18T19:42:32.136Z"
   },
   {
    "duration": 18,
    "start_time": "2023-05-18T19:42:32.186Z"
   },
   {
    "duration": 26,
    "start_time": "2023-05-18T19:42:32.206Z"
   },
   {
    "duration": 29,
    "start_time": "2023-05-18T19:42:32.242Z"
   },
   {
    "duration": 46,
    "start_time": "2023-05-18T19:42:32.273Z"
   },
   {
    "duration": 8,
    "start_time": "2023-05-18T19:42:32.322Z"
   },
   {
    "duration": 26,
    "start_time": "2023-05-18T19:42:32.332Z"
   },
   {
    "duration": 27,
    "start_time": "2023-05-18T19:42:32.360Z"
   },
   {
    "duration": 7,
    "start_time": "2023-05-18T19:42:32.389Z"
   },
   {
    "duration": 10,
    "start_time": "2023-05-18T19:42:32.398Z"
   },
   {
    "duration": 53,
    "start_time": "2023-05-18T19:42:32.410Z"
   },
   {
    "duration": 18,
    "start_time": "2023-05-18T19:42:32.465Z"
   },
   {
    "duration": 20,
    "start_time": "2023-05-18T19:42:32.485Z"
   },
   {
    "duration": 38,
    "start_time": "2023-05-18T19:42:32.507Z"
   },
   {
    "duration": 153,
    "start_time": "2023-05-18T19:42:32.547Z"
   },
   {
    "duration": 35,
    "start_time": "2023-05-18T19:42:32.702Z"
   },
   {
    "duration": 29,
    "start_time": "2023-05-18T19:42:32.738Z"
   },
   {
    "duration": 6,
    "start_time": "2023-05-18T19:42:32.769Z"
   },
   {
    "duration": 41,
    "start_time": "2023-05-18T19:42:32.777Z"
   },
   {
    "duration": 444,
    "start_time": "2023-05-18T19:42:32.820Z"
   },
   {
    "duration": 17,
    "start_time": "2023-05-18T19:42:33.266Z"
   },
   {
    "duration": 74,
    "start_time": "2023-05-18T19:42:33.285Z"
   },
   {
    "duration": 87,
    "start_time": "2023-05-18T19:42:33.361Z"
   },
   {
    "duration": 0,
    "start_time": "2023-05-18T19:42:33.450Z"
   },
   {
    "duration": 0,
    "start_time": "2023-05-18T19:42:33.451Z"
   },
   {
    "duration": 0,
    "start_time": "2023-05-18T19:42:33.452Z"
   },
   {
    "duration": 0,
    "start_time": "2023-05-18T19:42:33.454Z"
   },
   {
    "duration": 0,
    "start_time": "2023-05-18T19:42:33.455Z"
   },
   {
    "duration": 0,
    "start_time": "2023-05-18T19:42:33.456Z"
   },
   {
    "duration": 0,
    "start_time": "2023-05-18T19:42:33.457Z"
   },
   {
    "duration": 0,
    "start_time": "2023-05-18T19:42:33.458Z"
   },
   {
    "duration": 0,
    "start_time": "2023-05-18T19:42:33.459Z"
   },
   {
    "duration": 0,
    "start_time": "2023-05-18T19:42:33.460Z"
   },
   {
    "duration": 1,
    "start_time": "2023-05-18T19:42:33.461Z"
   },
   {
    "duration": 0,
    "start_time": "2023-05-18T19:42:33.463Z"
   },
   {
    "duration": 0,
    "start_time": "2023-05-18T19:42:33.464Z"
   },
   {
    "duration": 0,
    "start_time": "2023-05-18T19:42:33.465Z"
   },
   {
    "duration": 0,
    "start_time": "2023-05-18T19:42:33.467Z"
   },
   {
    "duration": 0,
    "start_time": "2023-05-18T19:42:33.468Z"
   },
   {
    "duration": 0,
    "start_time": "2023-05-18T19:42:33.470Z"
   },
   {
    "duration": 0,
    "start_time": "2023-05-18T19:42:33.471Z"
   },
   {
    "duration": 0,
    "start_time": "2023-05-18T19:42:33.473Z"
   },
   {
    "duration": 94,
    "start_time": "2023-05-18T19:42:57.586Z"
   },
   {
    "duration": 77,
    "start_time": "2023-05-18T19:43:46.540Z"
   },
   {
    "duration": 1443,
    "start_time": "2023-05-18T19:44:28.500Z"
   },
   {
    "duration": 1291,
    "start_time": "2023-05-18T19:44:39.251Z"
   },
   {
    "duration": 2785,
    "start_time": "2023-05-18T19:44:53.850Z"
   },
   {
    "duration": 1468,
    "start_time": "2023-05-18T19:44:56.638Z"
   },
   {
    "duration": 1338,
    "start_time": "2023-05-18T19:44:58.107Z"
   },
   {
    "duration": 14,
    "start_time": "2023-05-18T19:44:59.447Z"
   },
   {
    "duration": 10,
    "start_time": "2023-05-18T19:44:59.463Z"
   },
   {
    "duration": 28,
    "start_time": "2023-05-18T19:44:59.474Z"
   },
   {
    "duration": 30,
    "start_time": "2023-05-18T19:44:59.504Z"
   },
   {
    "duration": 123,
    "start_time": "2023-05-18T19:44:59.536Z"
   },
   {
    "duration": 110,
    "start_time": "2023-05-18T19:44:59.661Z"
   },
   {
    "duration": 64,
    "start_time": "2023-05-18T19:44:59.773Z"
   },
   {
    "duration": 12,
    "start_time": "2023-05-18T19:44:59.841Z"
   },
   {
    "duration": 8,
    "start_time": "2023-05-18T19:44:59.855Z"
   },
   {
    "duration": 15,
    "start_time": "2023-05-18T19:44:59.865Z"
   },
   {
    "duration": 22,
    "start_time": "2023-05-18T19:44:59.883Z"
   },
   {
    "duration": 38,
    "start_time": "2023-05-18T19:44:59.907Z"
   },
   {
    "duration": 18,
    "start_time": "2023-05-18T19:44:59.947Z"
   },
   {
    "duration": 14,
    "start_time": "2023-05-18T19:44:59.967Z"
   },
   {
    "duration": 257,
    "start_time": "2023-05-18T19:44:59.983Z"
   },
   {
    "duration": 6,
    "start_time": "2023-05-18T19:45:00.242Z"
   },
   {
    "duration": 80,
    "start_time": "2023-05-18T19:45:00.251Z"
   },
   {
    "duration": 15,
    "start_time": "2023-05-18T19:45:00.335Z"
   },
   {
    "duration": 53,
    "start_time": "2023-05-18T19:45:00.352Z"
   },
   {
    "duration": 78,
    "start_time": "2023-05-18T19:45:00.406Z"
   },
   {
    "duration": 46,
    "start_time": "2023-05-18T19:45:00.486Z"
   },
   {
    "duration": 34,
    "start_time": "2023-05-18T19:45:00.537Z"
   },
   {
    "duration": 55,
    "start_time": "2023-05-18T19:45:00.573Z"
   },
   {
    "duration": 98,
    "start_time": "2023-05-18T19:45:00.630Z"
   },
   {
    "duration": 39,
    "start_time": "2023-05-18T19:45:00.733Z"
   },
   {
    "duration": 32,
    "start_time": "2023-05-18T19:45:00.775Z"
   },
   {
    "duration": 59,
    "start_time": "2023-05-18T19:45:00.809Z"
   },
   {
    "duration": 117,
    "start_time": "2023-05-18T19:45:00.870Z"
   },
   {
    "duration": 50,
    "start_time": "2023-05-18T19:45:00.989Z"
   },
   {
    "duration": 53,
    "start_time": "2023-05-18T19:45:01.041Z"
   },
   {
    "duration": 62,
    "start_time": "2023-05-18T19:45:01.096Z"
   },
   {
    "duration": 37,
    "start_time": "2023-05-18T19:45:01.161Z"
   },
   {
    "duration": 15,
    "start_time": "2023-05-18T19:45:01.200Z"
   },
   {
    "duration": 128,
    "start_time": "2023-05-18T19:45:01.218Z"
   },
   {
    "duration": 106,
    "start_time": "2023-05-18T19:45:01.349Z"
   },
   {
    "duration": 33,
    "start_time": "2023-05-18T19:45:01.457Z"
   },
   {
    "duration": 42,
    "start_time": "2023-05-18T19:45:01.493Z"
   },
   {
    "duration": 306,
    "start_time": "2023-05-18T19:45:01.541Z"
   },
   {
    "duration": 25,
    "start_time": "2023-05-18T19:45:01.849Z"
   },
   {
    "duration": 43,
    "start_time": "2023-05-18T19:45:01.876Z"
   },
   {
    "duration": 81,
    "start_time": "2023-05-18T19:45:01.922Z"
   },
   {
    "duration": 115,
    "start_time": "2023-05-18T19:45:02.005Z"
   },
   {
    "duration": 456,
    "start_time": "2023-05-18T19:45:02.122Z"
   },
   {
    "duration": 16,
    "start_time": "2023-05-18T19:45:02.580Z"
   },
   {
    "duration": 9,
    "start_time": "2023-05-18T19:45:02.598Z"
   },
   {
    "duration": 2414,
    "start_time": "2023-05-18T19:45:02.625Z"
   },
   {
    "duration": 0,
    "start_time": "2023-05-18T19:45:05.042Z"
   },
   {
    "duration": 0,
    "start_time": "2023-05-18T19:45:05.043Z"
   },
   {
    "duration": 0,
    "start_time": "2023-05-18T19:45:05.044Z"
   },
   {
    "duration": 0,
    "start_time": "2023-05-18T19:45:05.045Z"
   },
   {
    "duration": 0,
    "start_time": "2023-05-18T19:45:05.048Z"
   },
   {
    "duration": 0,
    "start_time": "2023-05-18T19:45:05.049Z"
   },
   {
    "duration": 0,
    "start_time": "2023-05-18T19:45:05.051Z"
   },
   {
    "duration": 0,
    "start_time": "2023-05-18T19:45:05.052Z"
   },
   {
    "duration": 0,
    "start_time": "2023-05-18T19:45:05.053Z"
   },
   {
    "duration": 0,
    "start_time": "2023-05-18T19:45:05.054Z"
   },
   {
    "duration": 0,
    "start_time": "2023-05-18T19:45:05.055Z"
   },
   {
    "duration": 0,
    "start_time": "2023-05-18T19:45:05.056Z"
   },
   {
    "duration": 0,
    "start_time": "2023-05-18T19:45:05.058Z"
   },
   {
    "duration": 0,
    "start_time": "2023-05-18T19:45:05.059Z"
   },
   {
    "duration": 0,
    "start_time": "2023-05-18T19:45:05.060Z"
   },
   {
    "duration": 0,
    "start_time": "2023-05-18T19:45:05.061Z"
   },
   {
    "duration": 0,
    "start_time": "2023-05-18T19:45:05.063Z"
   },
   {
    "duration": 0,
    "start_time": "2023-05-18T19:45:05.064Z"
   },
   {
    "duration": 0,
    "start_time": "2023-05-18T19:45:05.065Z"
   },
   {
    "duration": 1342,
    "start_time": "2023-05-18T19:45:21.954Z"
   },
   {
    "duration": 1347,
    "start_time": "2023-05-18T19:47:55.247Z"
   },
   {
    "duration": 13,
    "start_time": "2023-05-18T19:48:06.552Z"
   },
   {
    "duration": 13,
    "start_time": "2023-05-18T19:48:09.023Z"
   },
   {
    "duration": 2527,
    "start_time": "2023-05-18T19:49:26.054Z"
   },
   {
    "duration": 1260,
    "start_time": "2023-05-18T19:49:28.584Z"
   },
   {
    "duration": 1296,
    "start_time": "2023-05-18T19:49:29.845Z"
   },
   {
    "duration": 17,
    "start_time": "2023-05-18T19:49:31.147Z"
   },
   {
    "duration": 43,
    "start_time": "2023-05-18T19:49:31.167Z"
   },
   {
    "duration": 54,
    "start_time": "2023-05-18T19:49:31.213Z"
   },
   {
    "duration": 38,
    "start_time": "2023-05-18T19:49:31.268Z"
   },
   {
    "duration": 134,
    "start_time": "2023-05-18T19:49:31.308Z"
   },
   {
    "duration": 99,
    "start_time": "2023-05-18T19:49:31.444Z"
   },
   {
    "duration": 120,
    "start_time": "2023-05-18T19:49:31.545Z"
   },
   {
    "duration": 12,
    "start_time": "2023-05-18T19:49:31.668Z"
   },
   {
    "duration": 27,
    "start_time": "2023-05-18T19:49:31.682Z"
   },
   {
    "duration": 53,
    "start_time": "2023-05-18T19:49:31.711Z"
   },
   {
    "duration": 60,
    "start_time": "2023-05-18T19:49:31.768Z"
   },
   {
    "duration": 33,
    "start_time": "2023-05-18T19:49:31.831Z"
   },
   {
    "duration": 43,
    "start_time": "2023-05-18T19:49:31.866Z"
   },
   {
    "duration": 37,
    "start_time": "2023-05-18T19:49:31.911Z"
   },
   {
    "duration": 221,
    "start_time": "2023-05-18T19:49:31.963Z"
   },
   {
    "duration": 6,
    "start_time": "2023-05-18T19:49:32.186Z"
   },
   {
    "duration": 57,
    "start_time": "2023-05-18T19:49:32.194Z"
   },
   {
    "duration": 13,
    "start_time": "2023-05-18T19:49:32.254Z"
   },
   {
    "duration": 16,
    "start_time": "2023-05-18T19:49:32.269Z"
   },
   {
    "duration": 59,
    "start_time": "2023-05-18T19:49:32.286Z"
   },
   {
    "duration": 27,
    "start_time": "2023-05-18T19:49:32.346Z"
   },
   {
    "duration": 21,
    "start_time": "2023-05-18T19:49:32.376Z"
   },
   {
    "duration": 71,
    "start_time": "2023-05-18T19:49:32.399Z"
   },
   {
    "duration": 36,
    "start_time": "2023-05-18T19:49:32.472Z"
   },
   {
    "duration": 19,
    "start_time": "2023-05-18T19:49:32.509Z"
   },
   {
    "duration": 16,
    "start_time": "2023-05-18T19:49:32.530Z"
   },
   {
    "duration": 20,
    "start_time": "2023-05-18T19:49:32.547Z"
   },
   {
    "duration": 35,
    "start_time": "2023-05-18T19:49:32.569Z"
   },
   {
    "duration": 6,
    "start_time": "2023-05-18T19:49:32.606Z"
   },
   {
    "duration": 35,
    "start_time": "2023-05-18T19:49:32.614Z"
   },
   {
    "duration": 11,
    "start_time": "2023-05-18T19:49:32.650Z"
   },
   {
    "duration": 7,
    "start_time": "2023-05-18T19:49:32.663Z"
   },
   {
    "duration": 13,
    "start_time": "2023-05-18T19:49:32.672Z"
   },
   {
    "duration": 66,
    "start_time": "2023-05-18T19:49:32.687Z"
   },
   {
    "duration": 18,
    "start_time": "2023-05-18T19:49:32.755Z"
   },
   {
    "duration": 14,
    "start_time": "2023-05-18T19:49:32.775Z"
   },
   {
    "duration": 12,
    "start_time": "2023-05-18T19:49:32.791Z"
   },
   {
    "duration": 179,
    "start_time": "2023-05-18T19:49:32.840Z"
   },
   {
    "duration": 31,
    "start_time": "2023-05-18T19:49:33.023Z"
   },
   {
    "duration": 45,
    "start_time": "2023-05-18T19:49:33.056Z"
   },
   {
    "duration": 12,
    "start_time": "2023-05-18T19:49:33.103Z"
   },
   {
    "duration": 70,
    "start_time": "2023-05-18T19:49:33.117Z"
   },
   {
    "duration": 412,
    "start_time": "2023-05-18T19:49:33.189Z"
   },
   {
    "duration": 38,
    "start_time": "2023-05-18T19:49:33.604Z"
   },
   {
    "duration": 15,
    "start_time": "2023-05-18T19:49:33.645Z"
   },
   {
    "duration": 18,
    "start_time": "2023-05-18T19:49:33.662Z"
   },
   {
    "duration": 51,
    "start_time": "2023-05-18T19:49:33.682Z"
   },
   {
    "duration": 113347,
    "start_time": "2023-05-18T19:49:33.735Z"
   },
   {
    "duration": 10,
    "start_time": "2023-05-18T19:51:27.084Z"
   },
   {
    "duration": 2655,
    "start_time": "2023-05-18T19:51:30.796Z"
   },
   {
    "duration": 1262,
    "start_time": "2023-05-18T19:51:33.453Z"
   },
   {
    "duration": 1102,
    "start_time": "2023-05-18T19:51:34.717Z"
   },
   {
    "duration": 29,
    "start_time": "2023-05-18T19:51:35.821Z"
   },
   {
    "duration": 11,
    "start_time": "2023-05-18T19:51:35.852Z"
   },
   {
    "duration": 22,
    "start_time": "2023-05-18T19:51:35.865Z"
   },
   {
    "duration": 12,
    "start_time": "2023-05-18T19:51:35.888Z"
   },
   {
    "duration": 92,
    "start_time": "2023-05-18T19:51:35.902Z"
   },
   {
    "duration": 108,
    "start_time": "2023-05-18T19:51:35.996Z"
   },
   {
    "duration": 82,
    "start_time": "2023-05-18T19:51:36.106Z"
   },
   {
    "duration": 10,
    "start_time": "2023-05-18T19:51:36.190Z"
   },
   {
    "duration": 34,
    "start_time": "2023-05-18T19:51:36.201Z"
   },
   {
    "duration": 33,
    "start_time": "2023-05-18T19:51:36.237Z"
   },
   {
    "duration": 59,
    "start_time": "2023-05-18T19:51:36.275Z"
   },
   {
    "duration": 40,
    "start_time": "2023-05-18T19:51:36.335Z"
   },
   {
    "duration": 45,
    "start_time": "2023-05-18T19:51:36.377Z"
   },
   {
    "duration": 20,
    "start_time": "2023-05-18T19:51:36.430Z"
   },
   {
    "duration": 217,
    "start_time": "2023-05-18T19:51:36.452Z"
   },
   {
    "duration": 6,
    "start_time": "2023-05-18T19:51:36.672Z"
   },
   {
    "duration": 56,
    "start_time": "2023-05-18T19:51:36.680Z"
   },
   {
    "duration": 15,
    "start_time": "2023-05-18T19:51:36.740Z"
   },
   {
    "duration": 17,
    "start_time": "2023-05-18T19:51:36.757Z"
   },
   {
    "duration": 35,
    "start_time": "2023-05-18T19:51:36.776Z"
   },
   {
    "duration": 31,
    "start_time": "2023-05-18T19:51:36.835Z"
   },
   {
    "duration": 8,
    "start_time": "2023-05-18T19:51:36.867Z"
   },
   {
    "duration": 29,
    "start_time": "2023-05-18T19:51:36.877Z"
   },
   {
    "duration": 48,
    "start_time": "2023-05-18T19:51:36.908Z"
   },
   {
    "duration": 17,
    "start_time": "2023-05-18T19:51:36.958Z"
   },
   {
    "duration": 6,
    "start_time": "2023-05-18T19:51:36.977Z"
   },
   {
    "duration": 23,
    "start_time": "2023-05-18T19:51:36.984Z"
   },
   {
    "duration": 62,
    "start_time": "2023-05-18T19:51:37.010Z"
   },
   {
    "duration": 25,
    "start_time": "2023-05-18T19:51:37.074Z"
   },
   {
    "duration": 10,
    "start_time": "2023-05-18T19:51:37.100Z"
   },
   {
    "duration": 29,
    "start_time": "2023-05-18T19:51:37.113Z"
   },
   {
    "duration": 10,
    "start_time": "2023-05-18T19:51:37.146Z"
   },
   {
    "duration": 19,
    "start_time": "2023-05-18T19:51:37.158Z"
   },
   {
    "duration": 43,
    "start_time": "2023-05-18T19:51:37.178Z"
   },
   {
    "duration": 22,
    "start_time": "2023-05-18T19:51:37.222Z"
   },
   {
    "duration": 17,
    "start_time": "2023-05-18T19:51:37.247Z"
   },
   {
    "duration": 13,
    "start_time": "2023-05-18T19:51:37.266Z"
   },
   {
    "duration": 170,
    "start_time": "2023-05-18T19:51:37.284Z"
   },
   {
    "duration": 18,
    "start_time": "2023-05-18T19:51:37.455Z"
   },
   {
    "duration": 20,
    "start_time": "2023-05-18T19:51:37.475Z"
   },
   {
    "duration": 8,
    "start_time": "2023-05-18T19:51:37.497Z"
   },
   {
    "duration": 70,
    "start_time": "2023-05-18T19:51:37.506Z"
   },
   {
    "duration": 476,
    "start_time": "2023-05-18T19:51:37.578Z"
   },
   {
    "duration": 15,
    "start_time": "2023-05-18T19:51:38.056Z"
   },
   {
    "duration": 8,
    "start_time": "2023-05-18T19:51:38.073Z"
   },
   {
    "duration": 18,
    "start_time": "2023-05-18T19:51:38.082Z"
   },
   {
    "duration": 32,
    "start_time": "2023-05-18T19:51:38.102Z"
   },
   {
    "duration": 116973,
    "start_time": "2023-05-18T19:51:38.136Z"
   },
   {
    "duration": 8,
    "start_time": "2023-05-18T19:53:35.111Z"
   },
   {
    "duration": 2789,
    "start_time": "2023-05-18T19:53:38.954Z"
   },
   {
    "duration": 1335,
    "start_time": "2023-05-18T19:53:41.745Z"
   },
   {
    "duration": 1163,
    "start_time": "2023-05-18T19:53:43.082Z"
   },
   {
    "duration": 14,
    "start_time": "2023-05-18T19:53:44.247Z"
   },
   {
    "duration": 9,
    "start_time": "2023-05-18T19:53:44.263Z"
   },
   {
    "duration": 13,
    "start_time": "2023-05-18T19:53:44.274Z"
   },
   {
    "duration": 9,
    "start_time": "2023-05-18T19:53:44.289Z"
   },
   {
    "duration": 96,
    "start_time": "2023-05-18T19:53:44.300Z"
   },
   {
    "duration": 100,
    "start_time": "2023-05-18T19:53:44.398Z"
   },
   {
    "duration": 73,
    "start_time": "2023-05-18T19:53:44.500Z"
   },
   {
    "duration": 10,
    "start_time": "2023-05-18T19:53:44.574Z"
   },
   {
    "duration": 7,
    "start_time": "2023-05-18T19:53:44.585Z"
   },
   {
    "duration": 31,
    "start_time": "2023-05-18T19:53:44.593Z"
   },
   {
    "duration": 30,
    "start_time": "2023-05-18T19:53:44.631Z"
   },
   {
    "duration": 11,
    "start_time": "2023-05-18T19:53:44.663Z"
   },
   {
    "duration": 14,
    "start_time": "2023-05-18T19:53:44.676Z"
   },
   {
    "duration": 11,
    "start_time": "2023-05-18T19:53:44.691Z"
   },
   {
    "duration": 243,
    "start_time": "2023-05-18T19:53:44.703Z"
   },
   {
    "duration": 10,
    "start_time": "2023-05-18T19:53:44.952Z"
   },
   {
    "duration": 37,
    "start_time": "2023-05-18T19:53:44.965Z"
   },
   {
    "duration": 10,
    "start_time": "2023-05-18T19:53:45.004Z"
   },
   {
    "duration": 64,
    "start_time": "2023-05-18T19:53:45.016Z"
   },
   {
    "duration": 54,
    "start_time": "2023-05-18T19:53:45.082Z"
   },
   {
    "duration": 45,
    "start_time": "2023-05-18T19:53:45.138Z"
   },
   {
    "duration": 6,
    "start_time": "2023-05-18T19:53:45.185Z"
   },
   {
    "duration": 32,
    "start_time": "2023-05-18T19:53:45.193Z"
   },
   {
    "duration": 52,
    "start_time": "2023-05-18T19:53:45.234Z"
   },
   {
    "duration": 20,
    "start_time": "2023-05-18T19:53:45.290Z"
   },
   {
    "duration": 55,
    "start_time": "2023-05-18T19:53:45.312Z"
   },
   {
    "duration": 34,
    "start_time": "2023-05-18T19:53:45.369Z"
   },
   {
    "duration": 53,
    "start_time": "2023-05-18T19:53:45.405Z"
   },
   {
    "duration": 12,
    "start_time": "2023-05-18T19:53:45.460Z"
   },
   {
    "duration": 25,
    "start_time": "2023-05-18T19:53:45.474Z"
   },
   {
    "duration": 61,
    "start_time": "2023-05-18T19:53:45.500Z"
   },
   {
    "duration": 22,
    "start_time": "2023-05-18T19:53:45.563Z"
   },
   {
    "duration": 18,
    "start_time": "2023-05-18T19:53:45.587Z"
   },
   {
    "duration": 81,
    "start_time": "2023-05-18T19:53:45.607Z"
   },
   {
    "duration": 13,
    "start_time": "2023-05-18T19:53:45.690Z"
   },
   {
    "duration": 29,
    "start_time": "2023-05-18T19:53:45.705Z"
   },
   {
    "duration": 47,
    "start_time": "2023-05-18T19:53:45.735Z"
   },
   {
    "duration": 180,
    "start_time": "2023-05-18T19:53:45.784Z"
   },
   {
    "duration": 15,
    "start_time": "2023-05-18T19:53:45.965Z"
   },
   {
    "duration": 12,
    "start_time": "2023-05-18T19:53:45.982Z"
   },
   {
    "duration": 5,
    "start_time": "2023-05-18T19:53:45.996Z"
   },
   {
    "duration": 43,
    "start_time": "2023-05-18T19:53:46.024Z"
   },
   {
    "duration": 473,
    "start_time": "2023-05-18T19:53:46.069Z"
   },
   {
    "duration": 18,
    "start_time": "2023-05-18T19:53:46.547Z"
   },
   {
    "duration": 44,
    "start_time": "2023-05-18T19:53:46.566Z"
   },
   {
    "duration": 74,
    "start_time": "2023-05-18T19:53:46.612Z"
   },
   {
    "duration": 31,
    "start_time": "2023-05-18T19:53:46.688Z"
   },
   {
    "duration": 30,
    "start_time": "2023-05-18T19:53:46.721Z"
   },
   {
    "duration": 2940,
    "start_time": "2023-05-18T19:55:11.911Z"
   },
   {
    "duration": 1275,
    "start_time": "2023-05-18T19:55:14.856Z"
   },
   {
    "duration": 1162,
    "start_time": "2023-05-18T19:55:16.142Z"
   },
   {
    "duration": 11,
    "start_time": "2023-05-18T19:55:17.307Z"
   },
   {
    "duration": 45,
    "start_time": "2023-05-18T19:55:17.319Z"
   },
   {
    "duration": 29,
    "start_time": "2023-05-18T19:55:17.366Z"
   },
   {
    "duration": 25,
    "start_time": "2023-05-18T19:55:17.397Z"
   },
   {
    "duration": 118,
    "start_time": "2023-05-18T19:55:17.423Z"
   },
   {
    "duration": 84,
    "start_time": "2023-05-18T19:55:17.542Z"
   },
   {
    "duration": 75,
    "start_time": "2023-05-18T19:55:17.633Z"
   },
   {
    "duration": 9,
    "start_time": "2023-05-18T19:55:17.710Z"
   },
   {
    "duration": 51,
    "start_time": "2023-05-18T19:55:17.721Z"
   },
   {
    "duration": 26,
    "start_time": "2023-05-18T19:55:17.774Z"
   },
   {
    "duration": 49,
    "start_time": "2023-05-18T19:55:17.802Z"
   },
   {
    "duration": 39,
    "start_time": "2023-05-18T19:55:17.854Z"
   },
   {
    "duration": 17,
    "start_time": "2023-05-18T19:55:17.895Z"
   },
   {
    "duration": 71,
    "start_time": "2023-05-18T19:55:17.913Z"
   },
   {
    "duration": 280,
    "start_time": "2023-05-18T19:55:17.986Z"
   },
   {
    "duration": 7,
    "start_time": "2023-05-18T19:55:18.268Z"
   },
   {
    "duration": 60,
    "start_time": "2023-05-18T19:55:18.277Z"
   },
   {
    "duration": 24,
    "start_time": "2023-05-18T19:55:18.346Z"
   },
   {
    "duration": 23,
    "start_time": "2023-05-18T19:55:18.371Z"
   },
   {
    "duration": 49,
    "start_time": "2023-05-18T19:55:18.396Z"
   },
   {
    "duration": 67,
    "start_time": "2023-05-18T19:55:18.447Z"
   },
   {
    "duration": 15,
    "start_time": "2023-05-18T19:55:18.515Z"
   },
   {
    "duration": 62,
    "start_time": "2023-05-18T19:55:18.534Z"
   },
   {
    "duration": 64,
    "start_time": "2023-05-18T19:55:18.598Z"
   },
   {
    "duration": 17,
    "start_time": "2023-05-18T19:55:18.669Z"
   },
   {
    "duration": 22,
    "start_time": "2023-05-18T19:55:18.688Z"
   },
   {
    "duration": 56,
    "start_time": "2023-05-18T19:55:18.712Z"
   },
   {
    "duration": 43,
    "start_time": "2023-05-18T19:55:18.770Z"
   },
   {
    "duration": 48,
    "start_time": "2023-05-18T19:55:18.815Z"
   },
   {
    "duration": 14,
    "start_time": "2023-05-18T19:55:18.864Z"
   },
   {
    "duration": 33,
    "start_time": "2023-05-18T19:55:18.880Z"
   },
   {
    "duration": 25,
    "start_time": "2023-05-18T19:55:18.915Z"
   },
   {
    "duration": 33,
    "start_time": "2023-05-18T19:55:18.945Z"
   },
   {
    "duration": 55,
    "start_time": "2023-05-18T19:55:18.980Z"
   },
   {
    "duration": 36,
    "start_time": "2023-05-18T19:55:19.037Z"
   },
   {
    "duration": 10,
    "start_time": "2023-05-18T19:55:19.075Z"
   },
   {
    "duration": 27,
    "start_time": "2023-05-18T19:55:19.087Z"
   },
   {
    "duration": 184,
    "start_time": "2023-05-18T19:55:19.116Z"
   },
   {
    "duration": 29,
    "start_time": "2023-05-18T19:55:19.302Z"
   },
   {
    "duration": 15,
    "start_time": "2023-05-18T19:55:19.332Z"
   },
   {
    "duration": 30,
    "start_time": "2023-05-18T19:55:19.349Z"
   },
   {
    "duration": 34,
    "start_time": "2023-05-18T19:55:19.381Z"
   },
   {
    "duration": 403,
    "start_time": "2023-05-18T19:55:19.418Z"
   },
   {
    "duration": 25,
    "start_time": "2023-05-18T19:55:19.830Z"
   },
   {
    "duration": 26,
    "start_time": "2023-05-18T19:55:19.857Z"
   },
   {
    "duration": 52,
    "start_time": "2023-05-18T19:55:19.884Z"
   },
   {
    "duration": 55,
    "start_time": "2023-05-18T19:55:19.937Z"
   },
   {
    "duration": 33,
    "start_time": "2023-05-18T19:55:19.993Z"
   },
   {
    "duration": 10,
    "start_time": "2023-05-18T19:57:18.512Z"
   },
   {
    "duration": 711,
    "start_time": "2023-05-18T19:57:18.524Z"
   },
   {
    "duration": 25,
    "start_time": "2023-05-18T19:57:19.237Z"
   },
   {
    "duration": 72,
    "start_time": "2023-05-18T19:57:19.278Z"
   },
   {
    "duration": 33,
    "start_time": "2023-05-18T19:57:19.356Z"
   },
   {
    "duration": 37,
    "start_time": "2023-05-18T19:57:19.391Z"
   },
   {
    "duration": 53,
    "start_time": "2023-05-18T19:57:19.429Z"
   },
   {
    "duration": 8,
    "start_time": "2023-05-18T19:57:19.484Z"
   },
   {
    "duration": 39,
    "start_time": "2023-05-18T19:57:19.494Z"
   },
   {
    "duration": 55,
    "start_time": "2023-05-18T19:57:19.534Z"
   },
   {
    "duration": 29,
    "start_time": "2023-05-18T19:57:19.590Z"
   },
   {
    "duration": 69,
    "start_time": "2023-05-18T19:57:19.621Z"
   },
   {
    "duration": 15,
    "start_time": "2023-05-18T19:57:19.691Z"
   },
   {
    "duration": 6,
    "start_time": "2023-05-18T19:57:19.708Z"
   },
   {
    "duration": 52,
    "start_time": "2023-05-18T19:57:19.715Z"
   },
   {
    "duration": 31,
    "start_time": "2023-05-18T19:57:19.770Z"
   },
   {
    "duration": 26,
    "start_time": "2023-05-18T19:57:19.802Z"
   },
   {
    "duration": 119216,
    "start_time": "2023-05-18T19:57:19.839Z"
   },
   {
    "duration": 137,
    "start_time": "2023-05-18T20:00:32.223Z"
   },
   {
    "duration": 54,
    "start_time": "2023-05-18T20:01:04.797Z"
   },
   {
    "duration": 19,
    "start_time": "2023-05-18T20:01:38.653Z"
   },
   {
    "duration": 11,
    "start_time": "2023-05-18T20:02:05.391Z"
   },
   {
    "duration": 32,
    "start_time": "2023-05-18T20:08:22.317Z"
   },
   {
    "duration": 2770,
    "start_time": "2023-05-18T20:09:11.484Z"
   },
   {
    "duration": 1354,
    "start_time": "2023-05-18T20:09:14.261Z"
   },
   {
    "duration": 1288,
    "start_time": "2023-05-18T20:09:15.617Z"
   },
   {
    "duration": 12,
    "start_time": "2023-05-18T20:09:16.907Z"
   },
   {
    "duration": 51,
    "start_time": "2023-05-18T20:09:16.921Z"
   },
   {
    "duration": 25,
    "start_time": "2023-05-18T20:09:16.973Z"
   },
   {
    "duration": 28,
    "start_time": "2023-05-18T20:09:17.000Z"
   },
   {
    "duration": 112,
    "start_time": "2023-05-18T20:09:17.029Z"
   },
   {
    "duration": 89,
    "start_time": "2023-05-18T20:09:17.149Z"
   },
   {
    "duration": 66,
    "start_time": "2023-05-18T20:09:17.250Z"
   },
   {
    "duration": 21,
    "start_time": "2023-05-18T20:09:17.318Z"
   },
   {
    "duration": 31,
    "start_time": "2023-05-18T20:09:17.345Z"
   },
   {
    "duration": 28,
    "start_time": "2023-05-18T20:09:17.378Z"
   },
   {
    "duration": 40,
    "start_time": "2023-05-18T20:09:17.408Z"
   },
   {
    "duration": 27,
    "start_time": "2023-05-18T20:09:17.450Z"
   },
   {
    "duration": 22,
    "start_time": "2023-05-18T20:09:17.479Z"
   },
   {
    "duration": 28,
    "start_time": "2023-05-18T20:09:17.503Z"
   },
   {
    "duration": 212,
    "start_time": "2023-05-18T20:09:17.536Z"
   },
   {
    "duration": 7,
    "start_time": "2023-05-18T20:09:17.753Z"
   },
   {
    "duration": 39,
    "start_time": "2023-05-18T20:09:17.762Z"
   },
   {
    "duration": 9,
    "start_time": "2023-05-18T20:09:17.803Z"
   },
   {
    "duration": 22,
    "start_time": "2023-05-18T20:09:17.814Z"
   },
   {
    "duration": 56,
    "start_time": "2023-05-18T20:09:17.838Z"
   },
   {
    "duration": 26,
    "start_time": "2023-05-18T20:09:17.895Z"
   },
   {
    "duration": 45,
    "start_time": "2023-05-18T20:09:17.923Z"
   },
   {
    "duration": 32,
    "start_time": "2023-05-18T20:09:17.970Z"
   },
   {
    "duration": 45,
    "start_time": "2023-05-18T20:09:18.004Z"
   },
   {
    "duration": 19,
    "start_time": "2023-05-18T20:09:18.054Z"
   },
   {
    "duration": 6,
    "start_time": "2023-05-18T20:09:18.074Z"
   },
   {
    "duration": 16,
    "start_time": "2023-05-18T20:09:18.082Z"
   },
   {
    "duration": 58,
    "start_time": "2023-05-18T20:09:18.099Z"
   },
   {
    "duration": 8,
    "start_time": "2023-05-18T20:09:18.159Z"
   },
   {
    "duration": 9,
    "start_time": "2023-05-18T20:09:18.170Z"
   },
   {
    "duration": 11,
    "start_time": "2023-05-18T20:09:18.181Z"
   },
   {
    "duration": 8,
    "start_time": "2023-05-18T20:09:18.194Z"
   },
   {
    "duration": 29,
    "start_time": "2023-05-18T20:09:18.204Z"
   },
   {
    "duration": 53,
    "start_time": "2023-05-18T20:09:18.234Z"
   },
   {
    "duration": 16,
    "start_time": "2023-05-18T20:09:18.288Z"
   },
   {
    "duration": 37,
    "start_time": "2023-05-18T20:09:18.306Z"
   },
   {
    "duration": 17,
    "start_time": "2023-05-18T20:09:18.345Z"
   },
   {
    "duration": 175,
    "start_time": "2023-05-18T20:09:18.364Z"
   },
   {
    "duration": 23,
    "start_time": "2023-05-18T20:09:18.541Z"
   },
   {
    "duration": 18,
    "start_time": "2023-05-18T20:09:18.566Z"
   },
   {
    "duration": 5,
    "start_time": "2023-05-18T20:09:18.586Z"
   },
   {
    "duration": 43,
    "start_time": "2023-05-18T20:09:18.593Z"
   },
   {
    "duration": 450,
    "start_time": "2023-05-18T20:09:18.638Z"
   },
   {
    "duration": 20,
    "start_time": "2023-05-18T20:09:19.089Z"
   },
   {
    "duration": 739,
    "start_time": "2023-05-18T20:09:19.110Z"
   },
   {
    "duration": 21,
    "start_time": "2023-05-18T20:09:19.857Z"
   },
   {
    "duration": 54,
    "start_time": "2023-05-18T20:09:19.880Z"
   },
   {
    "duration": 18,
    "start_time": "2023-05-18T20:09:19.939Z"
   },
   {
    "duration": 15,
    "start_time": "2023-05-18T20:09:19.958Z"
   },
   {
    "duration": 18,
    "start_time": "2023-05-18T20:09:19.975Z"
   },
   {
    "duration": 10,
    "start_time": "2023-05-18T20:09:19.995Z"
   },
   {
    "duration": 61,
    "start_time": "2023-05-18T20:09:20.006Z"
   },
   {
    "duration": 13,
    "start_time": "2023-05-18T20:09:20.069Z"
   },
   {
    "duration": 12,
    "start_time": "2023-05-18T20:09:20.084Z"
   },
   {
    "duration": 37,
    "start_time": "2023-05-18T20:09:20.097Z"
   },
   {
    "duration": 27,
    "start_time": "2023-05-18T20:09:20.135Z"
   },
   {
    "duration": 4,
    "start_time": "2023-05-18T20:09:20.164Z"
   },
   {
    "duration": 19,
    "start_time": "2023-05-18T20:09:20.170Z"
   },
   {
    "duration": 15,
    "start_time": "2023-05-18T20:09:20.192Z"
   },
   {
    "duration": 10,
    "start_time": "2023-05-18T20:09:20.209Z"
   },
   {
    "duration": 26,
    "start_time": "2023-05-18T20:17:27.562Z"
   },
   {
    "duration": 1244,
    "start_time": "2023-05-18T20:18:03.938Z"
   },
   {
    "duration": 2740,
    "start_time": "2023-05-18T20:20:30.794Z"
   },
   {
    "duration": 1319,
    "start_time": "2023-05-18T20:20:33.542Z"
   },
   {
    "duration": 1411,
    "start_time": "2023-05-18T20:20:34.864Z"
   },
   {
    "duration": 20,
    "start_time": "2023-05-18T20:20:36.277Z"
   },
   {
    "duration": 33,
    "start_time": "2023-05-18T20:20:36.300Z"
   },
   {
    "duration": 59,
    "start_time": "2023-05-18T20:20:36.337Z"
   },
   {
    "duration": 18,
    "start_time": "2023-05-18T20:20:36.399Z"
   },
   {
    "duration": 129,
    "start_time": "2023-05-18T20:20:36.418Z"
   },
   {
    "duration": 105,
    "start_time": "2023-05-18T20:20:36.549Z"
   },
   {
    "duration": 88,
    "start_time": "2023-05-18T20:20:36.656Z"
   },
   {
    "duration": 14,
    "start_time": "2023-05-18T20:20:36.746Z"
   },
   {
    "duration": 9,
    "start_time": "2023-05-18T20:20:36.762Z"
   },
   {
    "duration": 30,
    "start_time": "2023-05-18T20:20:36.772Z"
   },
   {
    "duration": 39,
    "start_time": "2023-05-18T20:20:36.806Z"
   },
   {
    "duration": 36,
    "start_time": "2023-05-18T20:20:36.847Z"
   },
   {
    "duration": 23,
    "start_time": "2023-05-18T20:20:36.885Z"
   },
   {
    "duration": 15,
    "start_time": "2023-05-18T20:20:36.910Z"
   },
   {
    "duration": 233,
    "start_time": "2023-05-18T20:20:36.927Z"
   },
   {
    "duration": 5,
    "start_time": "2023-05-18T20:20:37.164Z"
   },
   {
    "duration": 60,
    "start_time": "2023-05-18T20:20:37.171Z"
   },
   {
    "duration": 16,
    "start_time": "2023-05-18T20:20:37.233Z"
   },
   {
    "duration": 23,
    "start_time": "2023-05-18T20:20:37.251Z"
   },
   {
    "duration": 31,
    "start_time": "2023-05-18T20:20:37.276Z"
   },
   {
    "duration": 46,
    "start_time": "2023-05-18T20:20:37.309Z"
   },
   {
    "duration": 10,
    "start_time": "2023-05-18T20:20:37.357Z"
   },
   {
    "duration": 29,
    "start_time": "2023-05-18T20:20:37.368Z"
   },
   {
    "duration": 52,
    "start_time": "2023-05-18T20:20:37.398Z"
   },
   {
    "duration": 14,
    "start_time": "2023-05-18T20:20:37.451Z"
   },
   {
    "duration": 20,
    "start_time": "2023-05-18T20:20:37.467Z"
   },
   {
    "duration": 27,
    "start_time": "2023-05-18T20:20:37.489Z"
   },
   {
    "duration": 51,
    "start_time": "2023-05-18T20:20:37.518Z"
   },
   {
    "duration": 11,
    "start_time": "2023-05-18T20:20:37.571Z"
   },
   {
    "duration": 15,
    "start_time": "2023-05-18T20:20:37.583Z"
   },
   {
    "duration": 17,
    "start_time": "2023-05-18T20:20:37.600Z"
   },
   {
    "duration": 29,
    "start_time": "2023-05-18T20:20:37.619Z"
   },
   {
    "duration": 10,
    "start_time": "2023-05-18T20:20:37.650Z"
   },
   {
    "duration": 59,
    "start_time": "2023-05-18T20:20:37.662Z"
   },
   {
    "duration": 17,
    "start_time": "2023-05-18T20:20:37.723Z"
   },
   {
    "duration": 28,
    "start_time": "2023-05-18T20:20:37.742Z"
   },
   {
    "duration": 25,
    "start_time": "2023-05-18T20:20:37.772Z"
   },
   {
    "duration": 187,
    "start_time": "2023-05-18T20:20:37.801Z"
   },
   {
    "duration": 16,
    "start_time": "2023-05-18T20:20:37.989Z"
   },
   {
    "duration": 36,
    "start_time": "2023-05-18T20:20:38.008Z"
   },
   {
    "duration": 25,
    "start_time": "2023-05-18T20:20:38.046Z"
   },
   {
    "duration": 64,
    "start_time": "2023-05-18T20:20:38.073Z"
   },
   {
    "duration": 398,
    "start_time": "2023-05-18T20:20:38.139Z"
   },
   {
    "duration": 27,
    "start_time": "2023-05-18T20:20:38.543Z"
   },
   {
    "duration": 1480,
    "start_time": "2023-05-18T20:20:38.572Z"
   },
   {
    "duration": 24,
    "start_time": "2023-05-18T20:20:40.054Z"
   },
   {
    "duration": 101,
    "start_time": "2023-05-18T20:20:40.080Z"
   },
   {
    "duration": 13,
    "start_time": "2023-05-18T20:20:40.183Z"
   },
   {
    "duration": 14,
    "start_time": "2023-05-18T20:20:40.231Z"
   },
   {
    "duration": 34,
    "start_time": "2023-05-18T20:20:40.246Z"
   },
   {
    "duration": 21,
    "start_time": "2023-05-18T20:20:40.330Z"
   },
   {
    "duration": 44,
    "start_time": "2023-05-18T20:20:40.353Z"
   },
   {
    "duration": 27,
    "start_time": "2023-05-18T20:20:40.398Z"
   },
   {
    "duration": 29,
    "start_time": "2023-05-18T20:20:40.430Z"
   },
   {
    "duration": 48,
    "start_time": "2023-05-18T20:20:40.462Z"
   },
   {
    "duration": 18,
    "start_time": "2023-05-18T20:20:40.512Z"
   },
   {
    "duration": 23,
    "start_time": "2023-05-18T20:20:40.531Z"
   },
   {
    "duration": 26,
    "start_time": "2023-05-18T20:20:40.556Z"
   },
   {
    "duration": 68,
    "start_time": "2023-05-18T20:20:40.584Z"
   },
   {
    "duration": 21,
    "start_time": "2023-05-18T20:20:40.655Z"
   },
   {
    "duration": 21,
    "start_time": "2023-05-18T20:24:36.797Z"
   },
   {
    "duration": 132,
    "start_time": "2023-05-18T20:25:05.904Z"
   },
   {
    "duration": 89,
    "start_time": "2023-05-18T20:25:52.716Z"
   },
   {
    "duration": 78,
    "start_time": "2023-05-18T20:28:48.788Z"
   },
   {
    "duration": 2637,
    "start_time": "2023-05-18T20:32:18.015Z"
   },
   {
    "duration": 1295,
    "start_time": "2023-05-18T20:32:20.654Z"
   },
   {
    "duration": 1124,
    "start_time": "2023-05-18T20:32:21.951Z"
   },
   {
    "duration": 13,
    "start_time": "2023-05-18T20:32:23.077Z"
   },
   {
    "duration": 84,
    "start_time": "2023-05-18T20:32:23.091Z"
   },
   {
    "duration": 55,
    "start_time": "2023-05-18T20:32:23.177Z"
   },
   {
    "duration": 39,
    "start_time": "2023-05-18T20:32:23.237Z"
   },
   {
    "duration": 149,
    "start_time": "2023-05-18T20:32:23.280Z"
   },
   {
    "duration": 106,
    "start_time": "2023-05-18T20:32:23.436Z"
   },
   {
    "duration": 117,
    "start_time": "2023-05-18T20:32:23.546Z"
   },
   {
    "duration": 9,
    "start_time": "2023-05-18T20:32:23.665Z"
   },
   {
    "duration": 46,
    "start_time": "2023-05-18T20:32:23.676Z"
   },
   {
    "duration": 53,
    "start_time": "2023-05-18T20:32:23.724Z"
   },
   {
    "duration": 38,
    "start_time": "2023-05-18T20:32:23.779Z"
   },
   {
    "duration": 75,
    "start_time": "2023-05-18T20:32:23.819Z"
   },
   {
    "duration": 25,
    "start_time": "2023-05-18T20:32:23.897Z"
   },
   {
    "duration": 79,
    "start_time": "2023-05-18T20:32:23.924Z"
   },
   {
    "duration": 237,
    "start_time": "2023-05-18T20:32:24.005Z"
   },
   {
    "duration": 5,
    "start_time": "2023-05-18T20:32:24.244Z"
   },
   {
    "duration": 62,
    "start_time": "2023-05-18T20:32:24.251Z"
   },
   {
    "duration": 14,
    "start_time": "2023-05-18T20:32:24.315Z"
   },
   {
    "duration": 61,
    "start_time": "2023-05-18T20:32:24.331Z"
   },
   {
    "duration": 113,
    "start_time": "2023-05-18T20:32:24.395Z"
   },
   {
    "duration": 37,
    "start_time": "2023-05-18T20:32:24.510Z"
   },
   {
    "duration": 6,
    "start_time": "2023-05-18T20:32:24.549Z"
   },
   {
    "duration": 24,
    "start_time": "2023-05-18T20:32:24.557Z"
   },
   {
    "duration": 32,
    "start_time": "2023-05-18T20:32:24.582Z"
   },
   {
    "duration": 20,
    "start_time": "2023-05-18T20:32:24.629Z"
   },
   {
    "duration": 7,
    "start_time": "2023-05-18T20:32:24.650Z"
   },
   {
    "duration": 20,
    "start_time": "2023-05-18T20:32:24.659Z"
   },
   {
    "duration": 34,
    "start_time": "2023-05-18T20:32:24.681Z"
   },
   {
    "duration": 24,
    "start_time": "2023-05-18T20:32:24.717Z"
   },
   {
    "duration": 10,
    "start_time": "2023-05-18T20:32:24.743Z"
   },
   {
    "duration": 7,
    "start_time": "2023-05-18T20:32:24.755Z"
   },
   {
    "duration": 9,
    "start_time": "2023-05-18T20:32:24.764Z"
   },
   {
    "duration": 12,
    "start_time": "2023-05-18T20:32:24.775Z"
   },
   {
    "duration": 47,
    "start_time": "2023-05-18T20:32:24.789Z"
   },
   {
    "duration": 16,
    "start_time": "2023-05-18T20:32:24.842Z"
   },
   {
    "duration": 12,
    "start_time": "2023-05-18T20:32:24.859Z"
   },
   {
    "duration": 14,
    "start_time": "2023-05-18T20:32:24.873Z"
   },
   {
    "duration": 187,
    "start_time": "2023-05-18T20:32:24.889Z"
   },
   {
    "duration": 23,
    "start_time": "2023-05-18T20:32:25.078Z"
   },
   {
    "duration": 31,
    "start_time": "2023-05-18T20:32:25.104Z"
   },
   {
    "duration": 22,
    "start_time": "2023-05-18T20:32:25.141Z"
   },
   {
    "duration": 28,
    "start_time": "2023-05-18T20:32:25.165Z"
   },
   {
    "duration": 411,
    "start_time": "2023-05-18T20:32:25.195Z"
   },
   {
    "duration": 40,
    "start_time": "2023-05-18T20:32:25.609Z"
   },
   {
    "duration": 1338,
    "start_time": "2023-05-18T20:32:25.651Z"
   },
   {
    "duration": 46,
    "start_time": "2023-05-18T20:32:26.992Z"
   },
   {
    "duration": 26,
    "start_time": "2023-05-18T20:32:27.040Z"
   },
   {
    "duration": 126,
    "start_time": "2023-05-18T20:32:27.068Z"
   },
   {
    "duration": 45,
    "start_time": "2023-05-18T20:32:27.196Z"
   },
   {
    "duration": 19,
    "start_time": "2023-05-18T20:32:27.243Z"
   },
   {
    "duration": 32,
    "start_time": "2023-05-18T20:32:27.264Z"
   },
   {
    "duration": 10,
    "start_time": "2023-05-18T20:32:27.298Z"
   },
   {
    "duration": 13,
    "start_time": "2023-05-18T20:32:27.310Z"
   },
   {
    "duration": 37,
    "start_time": "2023-05-18T20:32:27.324Z"
   },
   {
    "duration": 8,
    "start_time": "2023-05-18T20:32:27.364Z"
   },
   {
    "duration": 32,
    "start_time": "2023-05-18T20:32:27.373Z"
   },
   {
    "duration": 16,
    "start_time": "2023-05-18T20:32:27.406Z"
   },
   {
    "duration": 9,
    "start_time": "2023-05-18T20:32:27.423Z"
   },
   {
    "duration": 44,
    "start_time": "2023-05-18T20:32:27.434Z"
   },
   {
    "duration": 15,
    "start_time": "2023-05-18T20:32:27.479Z"
   },
   {
    "duration": 40,
    "start_time": "2023-05-18T20:32:27.496Z"
   },
   {
    "duration": 95,
    "start_time": "2023-05-18T20:34:10.286Z"
   },
   {
    "duration": 2532,
    "start_time": "2023-05-18T20:46:56.214Z"
   },
   {
    "duration": 1287,
    "start_time": "2023-05-18T20:46:58.749Z"
   },
   {
    "duration": 1767,
    "start_time": "2023-05-18T20:47:00.041Z"
   },
   {
    "duration": 12,
    "start_time": "2023-05-18T20:47:01.810Z"
   },
   {
    "duration": 69,
    "start_time": "2023-05-18T20:47:01.823Z"
   },
   {
    "duration": 71,
    "start_time": "2023-05-18T20:47:01.894Z"
   },
   {
    "duration": 43,
    "start_time": "2023-05-18T20:47:01.967Z"
   },
   {
    "duration": 136,
    "start_time": "2023-05-18T20:47:02.012Z"
   },
   {
    "duration": 86,
    "start_time": "2023-05-18T20:47:02.150Z"
   },
   {
    "duration": 58,
    "start_time": "2023-05-18T20:47:02.239Z"
   },
   {
    "duration": 9,
    "start_time": "2023-05-18T20:47:02.299Z"
   },
   {
    "duration": 44,
    "start_time": "2023-05-18T20:47:02.309Z"
   },
   {
    "duration": 16,
    "start_time": "2023-05-18T20:47:02.355Z"
   },
   {
    "duration": 34,
    "start_time": "2023-05-18T20:47:02.373Z"
   },
   {
    "duration": 11,
    "start_time": "2023-05-18T20:47:02.409Z"
   },
   {
    "duration": 26,
    "start_time": "2023-05-18T20:47:02.422Z"
   },
   {
    "duration": 11,
    "start_time": "2023-05-18T20:47:02.449Z"
   },
   {
    "duration": 193,
    "start_time": "2023-05-18T20:47:02.462Z"
   },
   {
    "duration": 6,
    "start_time": "2023-05-18T20:47:02.656Z"
   },
   {
    "duration": 44,
    "start_time": "2023-05-18T20:47:02.664Z"
   },
   {
    "duration": 26,
    "start_time": "2023-05-18T20:47:02.710Z"
   },
   {
    "duration": 19,
    "start_time": "2023-05-18T20:47:02.737Z"
   },
   {
    "duration": 47,
    "start_time": "2023-05-18T20:47:02.758Z"
   },
   {
    "duration": 36,
    "start_time": "2023-05-18T20:47:02.807Z"
   },
   {
    "duration": 11,
    "start_time": "2023-05-18T20:47:02.845Z"
   },
   {
    "duration": 30,
    "start_time": "2023-05-18T20:47:02.858Z"
   },
   {
    "duration": 54,
    "start_time": "2023-05-18T20:47:02.890Z"
   },
   {
    "duration": 19,
    "start_time": "2023-05-18T20:47:02.949Z"
   },
   {
    "duration": 25,
    "start_time": "2023-05-18T20:47:02.970Z"
   },
   {
    "duration": 31,
    "start_time": "2023-05-18T20:47:02.997Z"
   },
   {
    "duration": 38,
    "start_time": "2023-05-18T20:47:03.035Z"
   },
   {
    "duration": 6,
    "start_time": "2023-05-18T20:47:03.075Z"
   },
   {
    "duration": 23,
    "start_time": "2023-05-18T20:47:03.082Z"
   },
   {
    "duration": 30,
    "start_time": "2023-05-18T20:47:03.106Z"
   },
   {
    "duration": 41,
    "start_time": "2023-05-18T20:47:03.137Z"
   },
   {
    "duration": 14,
    "start_time": "2023-05-18T20:47:03.180Z"
   },
   {
    "duration": 45,
    "start_time": "2023-05-18T20:47:03.196Z"
   },
   {
    "duration": 20,
    "start_time": "2023-05-18T20:47:03.244Z"
   },
   {
    "duration": 19,
    "start_time": "2023-05-18T20:47:03.265Z"
   },
   {
    "duration": 33,
    "start_time": "2023-05-18T20:47:03.286Z"
   },
   {
    "duration": 162,
    "start_time": "2023-05-18T20:47:03.320Z"
   },
   {
    "duration": 16,
    "start_time": "2023-05-18T20:47:03.483Z"
   },
   {
    "duration": 37,
    "start_time": "2023-05-18T20:47:03.501Z"
   },
   {
    "duration": 5,
    "start_time": "2023-05-18T20:47:03.539Z"
   },
   {
    "duration": 38,
    "start_time": "2023-05-18T20:47:03.546Z"
   },
   {
    "duration": 430,
    "start_time": "2023-05-18T20:47:03.586Z"
   },
   {
    "duration": 40,
    "start_time": "2023-05-18T20:47:04.017Z"
   },
   {
    "duration": 1450,
    "start_time": "2023-05-18T20:47:04.059Z"
   },
   {
    "duration": 38,
    "start_time": "2023-05-18T20:47:05.526Z"
   },
   {
    "duration": 35,
    "start_time": "2023-05-18T20:47:05.567Z"
   },
   {
    "duration": 159,
    "start_time": "2023-05-18T20:47:05.604Z"
   },
   {
    "duration": 13,
    "start_time": "2023-05-18T20:47:05.765Z"
   },
   {
    "duration": 39,
    "start_time": "2023-05-18T20:47:05.780Z"
   },
   {
    "duration": 49,
    "start_time": "2023-05-18T20:47:05.821Z"
   },
   {
    "duration": 20,
    "start_time": "2023-05-18T20:47:05.871Z"
   },
   {
    "duration": 20,
    "start_time": "2023-05-18T20:47:05.893Z"
   },
   {
    "duration": 45,
    "start_time": "2023-05-18T20:47:05.915Z"
   },
   {
    "duration": 31,
    "start_time": "2023-05-18T20:47:05.962Z"
   },
   {
    "duration": 50,
    "start_time": "2023-05-18T20:47:05.995Z"
   },
   {
    "duration": 24,
    "start_time": "2023-05-18T20:47:06.047Z"
   },
   {
    "duration": 16,
    "start_time": "2023-05-18T20:47:06.073Z"
   },
   {
    "duration": 40,
    "start_time": "2023-05-18T20:47:06.091Z"
   },
   {
    "duration": 32,
    "start_time": "2023-05-18T20:47:06.133Z"
   },
   {
    "duration": 37,
    "start_time": "2023-05-18T20:47:06.167Z"
   },
   {
    "duration": 8632,
    "start_time": "2023-05-18T21:02:29.946Z"
   },
   {
    "duration": 1408,
    "start_time": "2023-05-18T21:02:38.581Z"
   },
   {
    "duration": 1268,
    "start_time": "2023-05-18T21:02:39.991Z"
   },
   {
    "duration": 26,
    "start_time": "2023-05-18T21:02:41.262Z"
   },
   {
    "duration": 9,
    "start_time": "2023-05-18T21:02:41.290Z"
   },
   {
    "duration": 22,
    "start_time": "2023-05-18T21:02:41.300Z"
   },
   {
    "duration": 15,
    "start_time": "2023-05-18T21:02:41.324Z"
   },
   {
    "duration": 68,
    "start_time": "2023-05-18T21:02:41.341Z"
   },
   {
    "duration": 103,
    "start_time": "2023-05-18T21:02:41.411Z"
   },
   {
    "duration": 70,
    "start_time": "2023-05-18T21:02:41.516Z"
   },
   {
    "duration": 15,
    "start_time": "2023-05-18T21:02:41.588Z"
   },
   {
    "duration": 6,
    "start_time": "2023-05-18T21:02:41.606Z"
   },
   {
    "duration": 21,
    "start_time": "2023-05-18T21:02:41.614Z"
   },
   {
    "duration": 44,
    "start_time": "2023-05-18T21:02:41.640Z"
   },
   {
    "duration": 13,
    "start_time": "2023-05-18T21:02:41.686Z"
   },
   {
    "duration": 20,
    "start_time": "2023-05-18T21:02:41.701Z"
   },
   {
    "duration": 16,
    "start_time": "2023-05-18T21:02:41.722Z"
   },
   {
    "duration": 263,
    "start_time": "2023-05-18T21:02:41.740Z"
   },
   {
    "duration": 8,
    "start_time": "2023-05-18T21:02:42.005Z"
   },
   {
    "duration": 56,
    "start_time": "2023-05-18T21:02:42.015Z"
   },
   {
    "duration": 26,
    "start_time": "2023-05-18T21:02:42.074Z"
   },
   {
    "duration": 18,
    "start_time": "2023-05-18T21:02:42.105Z"
   },
   {
    "duration": 47,
    "start_time": "2023-05-18T21:02:42.124Z"
   },
   {
    "duration": 37,
    "start_time": "2023-05-18T21:02:42.174Z"
   },
   {
    "duration": 8,
    "start_time": "2023-05-18T21:02:42.212Z"
   },
   {
    "duration": 51,
    "start_time": "2023-05-18T21:02:42.222Z"
   },
   {
    "duration": 33,
    "start_time": "2023-05-18T21:02:42.277Z"
   },
   {
    "duration": 15,
    "start_time": "2023-05-18T21:02:42.312Z"
   },
   {
    "duration": 5,
    "start_time": "2023-05-18T21:02:42.329Z"
   },
   {
    "duration": 40,
    "start_time": "2023-05-18T21:02:42.336Z"
   },
   {
    "duration": 40,
    "start_time": "2023-05-18T21:02:42.380Z"
   },
   {
    "duration": 6,
    "start_time": "2023-05-18T21:02:42.422Z"
   },
   {
    "duration": 10,
    "start_time": "2023-05-18T21:02:42.430Z"
   },
   {
    "duration": 25,
    "start_time": "2023-05-18T21:02:42.441Z"
   },
   {
    "duration": 8,
    "start_time": "2023-05-18T21:02:42.468Z"
   },
   {
    "duration": 6,
    "start_time": "2023-05-18T21:02:42.478Z"
   },
   {
    "duration": 50,
    "start_time": "2023-05-18T21:02:42.486Z"
   },
   {
    "duration": 48,
    "start_time": "2023-05-18T21:02:42.538Z"
   },
   {
    "duration": 13,
    "start_time": "2023-05-18T21:02:42.590Z"
   },
   {
    "duration": 36,
    "start_time": "2023-05-18T21:02:42.605Z"
   },
   {
    "duration": 185,
    "start_time": "2023-05-18T21:02:42.646Z"
   },
   {
    "duration": 32,
    "start_time": "2023-05-18T21:02:42.834Z"
   },
   {
    "duration": 18,
    "start_time": "2023-05-18T21:02:42.869Z"
   },
   {
    "duration": 12,
    "start_time": "2023-05-18T21:02:42.889Z"
   },
   {
    "duration": 25,
    "start_time": "2023-05-18T21:02:42.903Z"
   },
   {
    "duration": 471,
    "start_time": "2023-05-18T21:02:42.930Z"
   },
   {
    "duration": 30,
    "start_time": "2023-05-18T21:02:43.403Z"
   },
   {
    "duration": 1985,
    "start_time": "2023-05-18T21:02:43.435Z"
   },
   {
    "duration": 46,
    "start_time": "2023-05-18T21:02:45.422Z"
   },
   {
    "duration": 27,
    "start_time": "2023-05-18T21:02:45.472Z"
   },
   {
    "duration": 166,
    "start_time": "2023-05-18T21:02:45.501Z"
   },
   {
    "duration": 15,
    "start_time": "2023-05-18T21:02:45.669Z"
   },
   {
    "duration": 12,
    "start_time": "2023-05-18T21:02:45.686Z"
   },
   {
    "duration": 26,
    "start_time": "2023-05-18T21:02:45.700Z"
   },
   {
    "duration": 47,
    "start_time": "2023-05-18T21:02:45.729Z"
   },
   {
    "duration": 9,
    "start_time": "2023-05-18T21:02:45.778Z"
   },
   {
    "duration": 14,
    "start_time": "2023-05-18T21:02:45.789Z"
   },
   {
    "duration": 10,
    "start_time": "2023-05-18T21:02:45.805Z"
   },
   {
    "duration": 48,
    "start_time": "2023-05-18T21:02:45.817Z"
   },
   {
    "duration": 15,
    "start_time": "2023-05-18T21:02:45.867Z"
   },
   {
    "duration": 4,
    "start_time": "2023-05-18T21:02:45.884Z"
   },
   {
    "duration": 14,
    "start_time": "2023-05-18T21:02:45.890Z"
   },
   {
    "duration": 13,
    "start_time": "2023-05-18T21:02:45.906Z"
   },
   {
    "duration": 15,
    "start_time": "2023-05-18T21:02:45.920Z"
   },
   {
    "duration": 12814,
    "start_time": "2023-09-11T21:07:09.713Z"
   },
   {
    "duration": 1300,
    "start_time": "2023-09-11T21:07:22.529Z"
   },
   {
    "duration": 1479,
    "start_time": "2023-09-11T21:07:23.833Z"
   },
   {
    "duration": 10,
    "start_time": "2023-09-11T21:07:25.314Z"
   },
   {
    "duration": 20,
    "start_time": "2023-09-11T21:07:25.326Z"
   },
   {
    "duration": 8,
    "start_time": "2023-09-11T21:07:25.348Z"
   },
   {
    "duration": 15,
    "start_time": "2023-09-11T21:07:25.358Z"
   },
   {
    "duration": 67,
    "start_time": "2023-09-11T21:07:25.375Z"
   },
   {
    "duration": 77,
    "start_time": "2023-09-11T21:07:25.445Z"
   },
   {
    "duration": 54,
    "start_time": "2023-09-11T21:07:25.523Z"
   },
   {
    "duration": 8,
    "start_time": "2023-09-11T21:07:25.579Z"
   },
   {
    "duration": 45,
    "start_time": "2023-09-11T21:07:25.588Z"
   },
   {
    "duration": 17,
    "start_time": "2023-09-11T21:07:25.634Z"
   },
   {
    "duration": 22,
    "start_time": "2023-09-11T21:07:25.652Z"
   },
   {
    "duration": 30,
    "start_time": "2023-09-11T21:07:25.675Z"
   },
   {
    "duration": 25,
    "start_time": "2023-09-11T21:07:25.706Z"
   },
   {
    "duration": 18,
    "start_time": "2023-09-11T21:07:25.732Z"
   },
   {
    "duration": 160,
    "start_time": "2023-09-11T21:07:25.751Z"
   },
   {
    "duration": 5,
    "start_time": "2023-09-11T21:07:25.912Z"
   },
   {
    "duration": 49,
    "start_time": "2023-09-11T21:07:25.918Z"
   },
   {
    "duration": 9,
    "start_time": "2023-09-11T21:07:25.969Z"
   },
   {
    "duration": 35,
    "start_time": "2023-09-11T21:07:25.979Z"
   },
   {
    "duration": 23,
    "start_time": "2023-09-11T21:07:26.015Z"
   },
   {
    "duration": 21,
    "start_time": "2023-09-11T21:07:26.040Z"
   },
   {
    "duration": 9,
    "start_time": "2023-09-11T21:07:26.063Z"
   },
   {
    "duration": 35,
    "start_time": "2023-09-11T21:07:26.073Z"
   },
   {
    "duration": 25,
    "start_time": "2023-09-11T21:07:26.112Z"
   },
   {
    "duration": 13,
    "start_time": "2023-09-11T21:07:26.138Z"
   },
   {
    "duration": 14,
    "start_time": "2023-09-11T21:07:26.152Z"
   },
   {
    "duration": 11,
    "start_time": "2023-09-11T21:07:26.167Z"
   },
   {
    "duration": 27,
    "start_time": "2023-09-11T21:07:26.179Z"
   },
   {
    "duration": 5,
    "start_time": "2023-09-11T21:07:26.207Z"
   },
   {
    "duration": 10,
    "start_time": "2023-09-11T21:07:26.214Z"
   },
   {
    "duration": 9,
    "start_time": "2023-09-11T21:07:26.225Z"
   },
   {
    "duration": 9,
    "start_time": "2023-09-11T21:07:26.243Z"
   },
   {
    "duration": 32,
    "start_time": "2023-09-11T21:07:26.254Z"
   },
   {
    "duration": 54,
    "start_time": "2023-09-11T21:07:26.288Z"
   },
   {
    "duration": 16,
    "start_time": "2023-09-11T21:07:26.343Z"
   },
   {
    "duration": 11,
    "start_time": "2023-09-11T21:07:26.360Z"
   },
   {
    "duration": 18,
    "start_time": "2023-09-11T21:07:26.372Z"
   },
   {
    "duration": 119,
    "start_time": "2023-09-11T21:07:26.392Z"
   },
   {
    "duration": 13,
    "start_time": "2023-09-11T21:07:26.513Z"
   },
   {
    "duration": 25,
    "start_time": "2023-09-11T21:07:26.527Z"
   },
   {
    "duration": 4,
    "start_time": "2023-09-11T21:07:26.553Z"
   },
   {
    "duration": 39,
    "start_time": "2023-09-11T21:07:26.558Z"
   },
   {
    "duration": 339,
    "start_time": "2023-09-11T21:07:26.598Z"
   },
   {
    "duration": 28,
    "start_time": "2023-09-11T21:07:26.938Z"
   },
   {
    "duration": 1103,
    "start_time": "2023-09-11T21:07:26.967Z"
   },
   {
    "duration": 22,
    "start_time": "2023-09-11T21:07:28.072Z"
   },
   {
    "duration": 20,
    "start_time": "2023-09-11T21:07:28.095Z"
   },
   {
    "duration": 138,
    "start_time": "2023-09-11T21:07:28.116Z"
   },
   {
    "duration": 12,
    "start_time": "2023-09-11T21:07:28.255Z"
   },
   {
    "duration": 8,
    "start_time": "2023-09-11T21:07:28.268Z"
   },
   {
    "duration": 18,
    "start_time": "2023-09-11T21:07:28.277Z"
   },
   {
    "duration": 9,
    "start_time": "2023-09-11T21:07:28.296Z"
   },
   {
    "duration": 7,
    "start_time": "2023-09-11T21:07:28.306Z"
   },
   {
    "duration": 7,
    "start_time": "2023-09-11T21:07:28.345Z"
   },
   {
    "duration": 11,
    "start_time": "2023-09-11T21:07:28.353Z"
   },
   {
    "duration": 21,
    "start_time": "2023-09-11T21:07:28.365Z"
   },
   {
    "duration": 12,
    "start_time": "2023-09-11T21:07:28.387Z"
   },
   {
    "duration": 3,
    "start_time": "2023-09-11T21:07:28.400Z"
   },
   {
    "duration": 9,
    "start_time": "2023-09-11T21:07:28.404Z"
   },
   {
    "duration": 33,
    "start_time": "2023-09-11T21:07:28.414Z"
   },
   {
    "duration": 7,
    "start_time": "2023-09-11T21:07:28.449Z"
   }
  ],
  "kernelspec": {
   "display_name": "Python 3 (ipykernel)",
   "language": "python",
   "name": "python3"
  },
  "language_info": {
   "codemirror_mode": {
    "name": "ipython",
    "version": 3
   },
   "file_extension": ".py",
   "mimetype": "text/x-python",
   "name": "python",
   "nbconvert_exporter": "python",
   "pygments_lexer": "ipython3",
   "version": "3.9.5"
  },
  "toc": {
   "base_numbering": 1,
   "nav_menu": {},
   "number_sections": true,
   "sideBar": true,
   "skip_h1_title": true,
   "title_cell": "Table of Contents",
   "title_sidebar": "Contents",
   "toc_cell": false,
   "toc_position": {},
   "toc_section_display": true,
   "toc_window_display": false
  }
 },
 "nbformat": 4,
 "nbformat_minor": 2
}
