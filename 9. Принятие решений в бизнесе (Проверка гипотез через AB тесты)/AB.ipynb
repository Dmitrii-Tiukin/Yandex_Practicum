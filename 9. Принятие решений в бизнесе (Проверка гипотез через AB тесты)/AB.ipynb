{
 "cells": [
  {
   "cell_type": "markdown",
   "metadata": {},
   "source": [
    "# Самостоятельный проект по теме «Принятие решений в бизнесе»"
   ]
  },
  {
   "cell_type": "markdown",
   "metadata": {},
   "source": [
    "Я — аналитик крупного интернет-магазина. Вместе с отделом маркетинга мы подготовили список гипотез для увеличения выручки. Нужно приоритизировать гипотезы, запустить A/B-тест и проанализировать результаты.\n",
    "\n",
    "Данные для первой части проекта (файл hypothesis.csv):\n",
    "* Hypothesis — краткое описание гипотезы;\n",
    "* Reach — охват пользователей по 10-балльной шкале;\n",
    "* Impact — влияние на пользователей по 10-балльной шкале;\n",
    "* Confidence — уверенность в гипотезе по 10-балльной шкале;\n",
    "* Efforts — затраты ресурсов на проверку гипотезы по 10-балльной шкале. Чем больше значение Efforts, тем дороже проверка гипотезы.\n",
    "\n",
    "Данные для второй части проекта:\n",
    "А) файл orders.csv:\n",
    "* transactionId — идентификатор заказа;\n",
    "* visitorId — идентификатор пользователя, совершившего заказ;\n",
    "* date — дата, когда был совершён заказ;\n",
    "* revenue — выручка заказа;\n",
    "* group — группа A/B-теста, в которую попал заказ.\n",
    "\n",
    "Б) файл visitors.csv:\n",
    "* date — дата;\n",
    "* group — группа A/B-теста;\n",
    "* visitors — количество пользователей в указанную дату в указанной группе A/B-теста."
   ]
  },
  {
   "cell_type": "markdown",
   "metadata": {},
   "source": [
    "# Загрузка и предобработка данных"
   ]
  },
  {
   "cell_type": "markdown",
   "metadata": {},
   "source": [
    "Для начала загрузим необходимые для работы библиотеки"
   ]
  },
  {
   "cell_type": "code",
   "execution_count": 1,
   "metadata": {},
   "outputs": [],
   "source": [
    "import numpy as np\n",
    "import pandas as pd\n",
    "\n",
    "import seaborn as sns\n",
    "from matplotlib import pyplot as plt\n",
    "from IPython.display import display\n",
    "\n",
    "import scipy.stats as stats\n",
    "import datetime as dt"
   ]
  },
  {
   "cell_type": "code",
   "execution_count": 2,
   "metadata": {},
   "outputs": [
    {
     "data": {
      "text/html": [
       "<div>\n",
       "<style scoped>\n",
       "    .dataframe tbody tr th:only-of-type {\n",
       "        vertical-align: middle;\n",
       "    }\n",
       "\n",
       "    .dataframe tbody tr th {\n",
       "        vertical-align: top;\n",
       "    }\n",
       "\n",
       "    .dataframe thead th {\n",
       "        text-align: right;\n",
       "    }\n",
       "</style>\n",
       "<table border=\"1\" class=\"dataframe\">\n",
       "  <thead>\n",
       "    <tr style=\"text-align: right;\">\n",
       "      <th></th>\n",
       "      <th>Hypothesis</th>\n",
       "      <th>Reach</th>\n",
       "      <th>Impact</th>\n",
       "      <th>Confidence</th>\n",
       "      <th>Efforts</th>\n",
       "    </tr>\n",
       "  </thead>\n",
       "  <tbody>\n",
       "    <tr>\n",
       "      <th>0</th>\n",
       "      <td>Добавить два новых канала привлечения трафика,...</td>\n",
       "      <td>3</td>\n",
       "      <td>10</td>\n",
       "      <td>8</td>\n",
       "      <td>6</td>\n",
       "    </tr>\n",
       "    <tr>\n",
       "      <th>1</th>\n",
       "      <td>Запустить собственную службу доставки, что сок...</td>\n",
       "      <td>2</td>\n",
       "      <td>5</td>\n",
       "      <td>4</td>\n",
       "      <td>10</td>\n",
       "    </tr>\n",
       "    <tr>\n",
       "      <th>2</th>\n",
       "      <td>Добавить блоки рекомендаций товаров на сайт ин...</td>\n",
       "      <td>8</td>\n",
       "      <td>3</td>\n",
       "      <td>7</td>\n",
       "      <td>3</td>\n",
       "    </tr>\n",
       "    <tr>\n",
       "      <th>3</th>\n",
       "      <td>Изменить структура категорий, что увеличит кон...</td>\n",
       "      <td>8</td>\n",
       "      <td>3</td>\n",
       "      <td>3</td>\n",
       "      <td>8</td>\n",
       "    </tr>\n",
       "    <tr>\n",
       "      <th>4</th>\n",
       "      <td>Изменить цвет фона главной страницы, чтобы уве...</td>\n",
       "      <td>3</td>\n",
       "      <td>1</td>\n",
       "      <td>1</td>\n",
       "      <td>1</td>\n",
       "    </tr>\n",
       "    <tr>\n",
       "      <th>5</th>\n",
       "      <td>Добавить страницу отзывов клиентов о магазине,...</td>\n",
       "      <td>3</td>\n",
       "      <td>2</td>\n",
       "      <td>2</td>\n",
       "      <td>3</td>\n",
       "    </tr>\n",
       "    <tr>\n",
       "      <th>6</th>\n",
       "      <td>Показать на главной странице баннеры с актуаль...</td>\n",
       "      <td>5</td>\n",
       "      <td>3</td>\n",
       "      <td>8</td>\n",
       "      <td>3</td>\n",
       "    </tr>\n",
       "    <tr>\n",
       "      <th>7</th>\n",
       "      <td>Добавить форму подписки на все основные страни...</td>\n",
       "      <td>10</td>\n",
       "      <td>7</td>\n",
       "      <td>8</td>\n",
       "      <td>5</td>\n",
       "    </tr>\n",
       "    <tr>\n",
       "      <th>8</th>\n",
       "      <td>Запустить акцию, дающую скидку на товар в день...</td>\n",
       "      <td>1</td>\n",
       "      <td>9</td>\n",
       "      <td>9</td>\n",
       "      <td>5</td>\n",
       "    </tr>\n",
       "  </tbody>\n",
       "</table>\n",
       "</div>"
      ],
      "text/plain": [
       "                                          Hypothesis  Reach  Impact  \\\n",
       "0  Добавить два новых канала привлечения трафика,...      3      10   \n",
       "1  Запустить собственную службу доставки, что сок...      2       5   \n",
       "2  Добавить блоки рекомендаций товаров на сайт ин...      8       3   \n",
       "3  Изменить структура категорий, что увеличит кон...      8       3   \n",
       "4  Изменить цвет фона главной страницы, чтобы уве...      3       1   \n",
       "5  Добавить страницу отзывов клиентов о магазине,...      3       2   \n",
       "6  Показать на главной странице баннеры с актуаль...      5       3   \n",
       "7  Добавить форму подписки на все основные страни...     10       7   \n",
       "8  Запустить акцию, дающую скидку на товар в день...      1       9   \n",
       "\n",
       "   Confidence  Efforts  \n",
       "0           8        6  \n",
       "1           4       10  \n",
       "2           7        3  \n",
       "3           3        8  \n",
       "4           1        1  \n",
       "5           2        3  \n",
       "6           8        3  \n",
       "7           8        5  \n",
       "8           9        5  "
      ]
     },
     "execution_count": 2,
     "metadata": {},
     "output_type": "execute_result"
    }
   ],
   "source": [
    "# загрузим датасет с гипотезами и посмотрим содержимое\n",
    "hypothesis = pd.read_csv('/datasets/hypothesis.csv')\n",
    "hypothesis"
   ]
  },
  {
   "cell_type": "code",
   "execution_count": 3,
   "metadata": {},
   "outputs": [
    {
     "data": {
      "text/html": [
       "<div>\n",
       "<style scoped>\n",
       "    .dataframe tbody tr th:only-of-type {\n",
       "        vertical-align: middle;\n",
       "    }\n",
       "\n",
       "    .dataframe tbody tr th {\n",
       "        vertical-align: top;\n",
       "    }\n",
       "\n",
       "    .dataframe thead th {\n",
       "        text-align: right;\n",
       "    }\n",
       "</style>\n",
       "<table border=\"1\" class=\"dataframe\">\n",
       "  <thead>\n",
       "    <tr style=\"text-align: right;\">\n",
       "      <th></th>\n",
       "      <th>hypothesis</th>\n",
       "      <th>reach</th>\n",
       "      <th>impact</th>\n",
       "      <th>confidence</th>\n",
       "      <th>efforts</th>\n",
       "    </tr>\n",
       "  </thead>\n",
       "  <tbody>\n",
       "    <tr>\n",
       "      <th>0</th>\n",
       "      <td>Добавить два новых канала привлечения трафика,...</td>\n",
       "      <td>3</td>\n",
       "      <td>10</td>\n",
       "      <td>8</td>\n",
       "      <td>6</td>\n",
       "    </tr>\n",
       "    <tr>\n",
       "      <th>1</th>\n",
       "      <td>Запустить собственную службу доставки, что сок...</td>\n",
       "      <td>2</td>\n",
       "      <td>5</td>\n",
       "      <td>4</td>\n",
       "      <td>10</td>\n",
       "    </tr>\n",
       "    <tr>\n",
       "      <th>2</th>\n",
       "      <td>Добавить блоки рекомендаций товаров на сайт ин...</td>\n",
       "      <td>8</td>\n",
       "      <td>3</td>\n",
       "      <td>7</td>\n",
       "      <td>3</td>\n",
       "    </tr>\n",
       "    <tr>\n",
       "      <th>3</th>\n",
       "      <td>Изменить структура категорий, что увеличит кон...</td>\n",
       "      <td>8</td>\n",
       "      <td>3</td>\n",
       "      <td>3</td>\n",
       "      <td>8</td>\n",
       "    </tr>\n",
       "    <tr>\n",
       "      <th>4</th>\n",
       "      <td>Изменить цвет фона главной страницы, чтобы уве...</td>\n",
       "      <td>3</td>\n",
       "      <td>1</td>\n",
       "      <td>1</td>\n",
       "      <td>1</td>\n",
       "    </tr>\n",
       "    <tr>\n",
       "      <th>5</th>\n",
       "      <td>Добавить страницу отзывов клиентов о магазине,...</td>\n",
       "      <td>3</td>\n",
       "      <td>2</td>\n",
       "      <td>2</td>\n",
       "      <td>3</td>\n",
       "    </tr>\n",
       "    <tr>\n",
       "      <th>6</th>\n",
       "      <td>Показать на главной странице баннеры с актуаль...</td>\n",
       "      <td>5</td>\n",
       "      <td>3</td>\n",
       "      <td>8</td>\n",
       "      <td>3</td>\n",
       "    </tr>\n",
       "    <tr>\n",
       "      <th>7</th>\n",
       "      <td>Добавить форму подписки на все основные страни...</td>\n",
       "      <td>10</td>\n",
       "      <td>7</td>\n",
       "      <td>8</td>\n",
       "      <td>5</td>\n",
       "    </tr>\n",
       "    <tr>\n",
       "      <th>8</th>\n",
       "      <td>Запустить акцию, дающую скидку на товар в день...</td>\n",
       "      <td>1</td>\n",
       "      <td>9</td>\n",
       "      <td>9</td>\n",
       "      <td>5</td>\n",
       "    </tr>\n",
       "  </tbody>\n",
       "</table>\n",
       "</div>"
      ],
      "text/plain": [
       "                                          hypothesis  reach  impact  \\\n",
       "0  Добавить два новых канала привлечения трафика,...      3      10   \n",
       "1  Запустить собственную службу доставки, что сок...      2       5   \n",
       "2  Добавить блоки рекомендаций товаров на сайт ин...      8       3   \n",
       "3  Изменить структура категорий, что увеличит кон...      8       3   \n",
       "4  Изменить цвет фона главной страницы, чтобы уве...      3       1   \n",
       "5  Добавить страницу отзывов клиентов о магазине,...      3       2   \n",
       "6  Показать на главной странице баннеры с актуаль...      5       3   \n",
       "7  Добавить форму подписки на все основные страни...     10       7   \n",
       "8  Запустить акцию, дающую скидку на товар в день...      1       9   \n",
       "\n",
       "   confidence  efforts  \n",
       "0           8        6  \n",
       "1           4       10  \n",
       "2           7        3  \n",
       "3           3        8  \n",
       "4           1        1  \n",
       "5           2        3  \n",
       "6           8        3  \n",
       "7           8        5  \n",
       "8           9        5  "
      ]
     },
     "execution_count": 3,
     "metadata": {},
     "output_type": "execute_result"
    }
   ],
   "source": [
    "# приведем названия столбцов к нижнему регистру и проверим результаты\n",
    "hypothesis.columns = hypothesis.columns.str.lower()\n",
    "hypothesis"
   ]
  },
  {
   "cell_type": "code",
   "execution_count": 4,
   "metadata": {},
   "outputs": [
    {
     "name": "stdout",
     "output_type": "stream",
     "text": [
      "<class 'pandas.core.frame.DataFrame'>\n",
      "RangeIndex: 9 entries, 0 to 8\n",
      "Data columns (total 5 columns):\n",
      " #   Column      Non-Null Count  Dtype \n",
      "---  ------      --------------  ----- \n",
      " 0   hypothesis  9 non-null      object\n",
      " 1   reach       9 non-null      int64 \n",
      " 2   impact      9 non-null      int64 \n",
      " 3   confidence  9 non-null      int64 \n",
      " 4   efforts     9 non-null      int64 \n",
      "dtypes: int64(4), object(1)\n",
      "memory usage: 488.0+ bytes\n"
     ]
    }
   ],
   "source": [
    "# оценим качество данных\n",
    "hypothesis.info()"
   ]
  },
  {
   "cell_type": "markdown",
   "metadata": {},
   "source": [
    "Пропусков нет, типы данных корректные, файл готов к работе."
   ]
  },
  {
   "cell_type": "markdown",
   "metadata": {},
   "source": [
    "# Часть 1. Приоритизация гипотез."
   ]
  },
  {
   "cell_type": "markdown",
   "metadata": {},
   "source": [
    "Применим фреймворк ICE для приоритизации гипотез и отсортируем их по убыванию приоритета."
   ]
  },
  {
   "cell_type": "code",
   "execution_count": 5,
   "metadata": {},
   "outputs": [
    {
     "data": {
      "text/html": [
       "<div>\n",
       "<style scoped>\n",
       "    .dataframe tbody tr th:only-of-type {\n",
       "        vertical-align: middle;\n",
       "    }\n",
       "\n",
       "    .dataframe tbody tr th {\n",
       "        vertical-align: top;\n",
       "    }\n",
       "\n",
       "    .dataframe thead th {\n",
       "        text-align: right;\n",
       "    }\n",
       "</style>\n",
       "<table border=\"1\" class=\"dataframe\">\n",
       "  <thead>\n",
       "    <tr style=\"text-align: right;\">\n",
       "      <th></th>\n",
       "      <th>ICE</th>\n",
       "      <th>hypothesis</th>\n",
       "    </tr>\n",
       "  </thead>\n",
       "  <tbody>\n",
       "    <tr>\n",
       "      <th>8</th>\n",
       "      <td>16.2</td>\n",
       "      <td>Запустить акцию, дающую скидку на товар в день рождения</td>\n",
       "    </tr>\n",
       "    <tr>\n",
       "      <th>0</th>\n",
       "      <td>13.3</td>\n",
       "      <td>Добавить два новых канала привлечения трафика, что позволит привлекать на 30% больше пользователей</td>\n",
       "    </tr>\n",
       "    <tr>\n",
       "      <th>7</th>\n",
       "      <td>11.2</td>\n",
       "      <td>Добавить форму подписки на все основные страницы, чтобы собрать базу клиентов для email-рассылок</td>\n",
       "    </tr>\n",
       "    <tr>\n",
       "      <th>6</th>\n",
       "      <td>8.0</td>\n",
       "      <td>Показать на главной странице баннеры с актуальными акциями и распродажами, чтобы увеличить конверсию</td>\n",
       "    </tr>\n",
       "    <tr>\n",
       "      <th>2</th>\n",
       "      <td>7.0</td>\n",
       "      <td>Добавить блоки рекомендаций товаров на сайт интернет магазина, чтобы повысить конверсию и средний чек заказа</td>\n",
       "    </tr>\n",
       "    <tr>\n",
       "      <th>1</th>\n",
       "      <td>2.0</td>\n",
       "      <td>Запустить собственную службу доставки, что сократит срок доставки заказов</td>\n",
       "    </tr>\n",
       "    <tr>\n",
       "      <th>5</th>\n",
       "      <td>1.3</td>\n",
       "      <td>Добавить страницу отзывов клиентов о магазине, что позволит увеличить количество заказов</td>\n",
       "    </tr>\n",
       "    <tr>\n",
       "      <th>3</th>\n",
       "      <td>1.1</td>\n",
       "      <td>Изменить структура категорий, что увеличит конверсию, т.к. пользователи быстрее найдут нужный товар</td>\n",
       "    </tr>\n",
       "    <tr>\n",
       "      <th>4</th>\n",
       "      <td>1.0</td>\n",
       "      <td>Изменить цвет фона главной страницы, чтобы увеличить вовлеченность пользователей</td>\n",
       "    </tr>\n",
       "  </tbody>\n",
       "</table>\n",
       "</div>"
      ],
      "text/plain": [
       "    ICE  \\\n",
       "8  16.2   \n",
       "0  13.3   \n",
       "7  11.2   \n",
       "6   8.0   \n",
       "2   7.0   \n",
       "1   2.0   \n",
       "5   1.3   \n",
       "3   1.1   \n",
       "4   1.0   \n",
       "\n",
       "                                                                                                     hypothesis  \n",
       "8                                                       Запустить акцию, дающую скидку на товар в день рождения  \n",
       "0            Добавить два новых канала привлечения трафика, что позволит привлекать на 30% больше пользователей  \n",
       "7              Добавить форму подписки на все основные страницы, чтобы собрать базу клиентов для email-рассылок  \n",
       "6          Показать на главной странице баннеры с актуальными акциями и распродажами, чтобы увеличить конверсию  \n",
       "2  Добавить блоки рекомендаций товаров на сайт интернет магазина, чтобы повысить конверсию и средний чек заказа  \n",
       "1                                     Запустить собственную службу доставки, что сократит срок доставки заказов  \n",
       "5                      Добавить страницу отзывов клиентов о магазине, что позволит увеличить количество заказов  \n",
       "3           Изменить структура категорий, что увеличит конверсию, т.к. пользователи быстрее найдут нужный товар  \n",
       "4                              Изменить цвет фона главной страницы, чтобы увеличить вовлеченность пользователей  "
      ]
     },
     "execution_count": 5,
     "metadata": {},
     "output_type": "execute_result"
    }
   ],
   "source": [
    "pd.set_option('display.max_colwidth', 1000)\n",
    "hypothesis['ICE'] = ((hypothesis['impact'] * hypothesis['confidence']) / hypothesis['efforts']).round(1)\n",
    "hypothesis[['ICE', 'hypothesis']].sort_values(by='ICE', ascending=False)"
   ]
  },
  {
   "cell_type": "markdown",
   "metadata": {},
   "source": [
    "ТОП-3 наиболее перспективных гипотез: 8, 0, 7."
   ]
  },
  {
   "cell_type": "markdown",
   "metadata": {},
   "source": [
    "Применим фреймворк RICE для приоритизации гипотез и отсортируем их по убыванию приоритета."
   ]
  },
  {
   "cell_type": "code",
   "execution_count": 6,
   "metadata": {},
   "outputs": [
    {
     "data": {
      "text/html": [
       "<div>\n",
       "<style scoped>\n",
       "    .dataframe tbody tr th:only-of-type {\n",
       "        vertical-align: middle;\n",
       "    }\n",
       "\n",
       "    .dataframe tbody tr th {\n",
       "        vertical-align: top;\n",
       "    }\n",
       "\n",
       "    .dataframe thead th {\n",
       "        text-align: right;\n",
       "    }\n",
       "</style>\n",
       "<table border=\"1\" class=\"dataframe\">\n",
       "  <thead>\n",
       "    <tr style=\"text-align: right;\">\n",
       "      <th></th>\n",
       "      <th>RICE</th>\n",
       "      <th>hypothesis</th>\n",
       "    </tr>\n",
       "  </thead>\n",
       "  <tbody>\n",
       "    <tr>\n",
       "      <th>7</th>\n",
       "      <td>112.0</td>\n",
       "      <td>Добавить форму подписки на все основные страницы, чтобы собрать базу клиентов для email-рассылок</td>\n",
       "    </tr>\n",
       "    <tr>\n",
       "      <th>2</th>\n",
       "      <td>56.0</td>\n",
       "      <td>Добавить блоки рекомендаций товаров на сайт интернет магазина, чтобы повысить конверсию и средний чек заказа</td>\n",
       "    </tr>\n",
       "    <tr>\n",
       "      <th>0</th>\n",
       "      <td>40.0</td>\n",
       "      <td>Добавить два новых канала привлечения трафика, что позволит привлекать на 30% больше пользователей</td>\n",
       "    </tr>\n",
       "    <tr>\n",
       "      <th>6</th>\n",
       "      <td>40.0</td>\n",
       "      <td>Показать на главной странице баннеры с актуальными акциями и распродажами, чтобы увеличить конверсию</td>\n",
       "    </tr>\n",
       "    <tr>\n",
       "      <th>8</th>\n",
       "      <td>16.2</td>\n",
       "      <td>Запустить акцию, дающую скидку на товар в день рождения</td>\n",
       "    </tr>\n",
       "    <tr>\n",
       "      <th>3</th>\n",
       "      <td>9.0</td>\n",
       "      <td>Изменить структура категорий, что увеличит конверсию, т.к. пользователи быстрее найдут нужный товар</td>\n",
       "    </tr>\n",
       "    <tr>\n",
       "      <th>1</th>\n",
       "      <td>4.0</td>\n",
       "      <td>Запустить собственную службу доставки, что сократит срок доставки заказов</td>\n",
       "    </tr>\n",
       "    <tr>\n",
       "      <th>5</th>\n",
       "      <td>4.0</td>\n",
       "      <td>Добавить страницу отзывов клиентов о магазине, что позволит увеличить количество заказов</td>\n",
       "    </tr>\n",
       "    <tr>\n",
       "      <th>4</th>\n",
       "      <td>3.0</td>\n",
       "      <td>Изменить цвет фона главной страницы, чтобы увеличить вовлеченность пользователей</td>\n",
       "    </tr>\n",
       "  </tbody>\n",
       "</table>\n",
       "</div>"
      ],
      "text/plain": [
       "    RICE  \\\n",
       "7  112.0   \n",
       "2   56.0   \n",
       "0   40.0   \n",
       "6   40.0   \n",
       "8   16.2   \n",
       "3    9.0   \n",
       "1    4.0   \n",
       "5    4.0   \n",
       "4    3.0   \n",
       "\n",
       "                                                                                                     hypothesis  \n",
       "7              Добавить форму подписки на все основные страницы, чтобы собрать базу клиентов для email-рассылок  \n",
       "2  Добавить блоки рекомендаций товаров на сайт интернет магазина, чтобы повысить конверсию и средний чек заказа  \n",
       "0            Добавить два новых канала привлечения трафика, что позволит привлекать на 30% больше пользователей  \n",
       "6          Показать на главной странице баннеры с актуальными акциями и распродажами, чтобы увеличить конверсию  \n",
       "8                                                       Запустить акцию, дающую скидку на товар в день рождения  \n",
       "3           Изменить структура категорий, что увеличит конверсию, т.к. пользователи быстрее найдут нужный товар  \n",
       "1                                     Запустить собственную службу доставки, что сократит срок доставки заказов  \n",
       "5                      Добавить страницу отзывов клиентов о магазине, что позволит увеличить количество заказов  \n",
       "4                              Изменить цвет фона главной страницы, чтобы увеличить вовлеченность пользователей  "
      ]
     },
     "execution_count": 6,
     "metadata": {},
     "output_type": "execute_result"
    }
   ],
   "source": [
    "hypothesis['RICE'] = (hypothesis['reach'] * hypothesis['impact'] * hypothesis['confidence']) / hypothesis['efforts']\n",
    "hypothesis[['RICE', 'hypothesis']].sort_values(by='RICE', ascending=False)"
   ]
  },
  {
   "cell_type": "markdown",
   "metadata": {},
   "source": [
    "ТОП-3 наиболее перспективных гипотез: 7, 2, 0."
   ]
  },
  {
   "cell_type": "markdown",
   "metadata": {},
   "source": [
    "Изменения связаны с тем, что при расчете RICE учитывается количество пользователей, которых затронет гипотеза. Поэтому наиболее перспективной выглядит гипотеза 7 (\"Добавить форму подписки на все основные страницы, чтобы собрать базу клиентов для email-рассылок\"), т.к. в обоих фреймворках она входит в ТОП-3, а также она на первом месте при расчете RICE, и затронет большое число пользователей."
   ]
  },
  {
   "cell_type": "markdown",
   "metadata": {},
   "source": [
    "# Часть 2. Анализ A/B-теста"
   ]
  },
  {
   "cell_type": "code",
   "execution_count": 7,
   "metadata": {},
   "outputs": [
    {
     "data": {
      "text/html": [
       "<div>\n",
       "<style scoped>\n",
       "    .dataframe tbody tr th:only-of-type {\n",
       "        vertical-align: middle;\n",
       "    }\n",
       "\n",
       "    .dataframe tbody tr th {\n",
       "        vertical-align: top;\n",
       "    }\n",
       "\n",
       "    .dataframe thead th {\n",
       "        text-align: right;\n",
       "    }\n",
       "</style>\n",
       "<table border=\"1\" class=\"dataframe\">\n",
       "  <thead>\n",
       "    <tr style=\"text-align: right;\">\n",
       "      <th></th>\n",
       "      <th>transactionId</th>\n",
       "      <th>visitorId</th>\n",
       "      <th>date</th>\n",
       "      <th>revenue</th>\n",
       "      <th>group</th>\n",
       "    </tr>\n",
       "  </thead>\n",
       "  <tbody>\n",
       "    <tr>\n",
       "      <th>0</th>\n",
       "      <td>3667963787</td>\n",
       "      <td>3312258926</td>\n",
       "      <td>2019-08-15</td>\n",
       "      <td>1650</td>\n",
       "      <td>B</td>\n",
       "    </tr>\n",
       "    <tr>\n",
       "      <th>1</th>\n",
       "      <td>2804400009</td>\n",
       "      <td>3642806036</td>\n",
       "      <td>2019-08-15</td>\n",
       "      <td>730</td>\n",
       "      <td>B</td>\n",
       "    </tr>\n",
       "    <tr>\n",
       "      <th>2</th>\n",
       "      <td>2961555356</td>\n",
       "      <td>4069496402</td>\n",
       "      <td>2019-08-15</td>\n",
       "      <td>400</td>\n",
       "      <td>A</td>\n",
       "    </tr>\n",
       "    <tr>\n",
       "      <th>3</th>\n",
       "      <td>3797467345</td>\n",
       "      <td>1196621759</td>\n",
       "      <td>2019-08-15</td>\n",
       "      <td>9759</td>\n",
       "      <td>B</td>\n",
       "    </tr>\n",
       "    <tr>\n",
       "      <th>4</th>\n",
       "      <td>2282983706</td>\n",
       "      <td>2322279887</td>\n",
       "      <td>2019-08-15</td>\n",
       "      <td>2308</td>\n",
       "      <td>B</td>\n",
       "    </tr>\n",
       "  </tbody>\n",
       "</table>\n",
       "</div>"
      ],
      "text/plain": [
       "   transactionId   visitorId        date  revenue group\n",
       "0     3667963787  3312258926  2019-08-15     1650     B\n",
       "1     2804400009  3642806036  2019-08-15      730     B\n",
       "2     2961555356  4069496402  2019-08-15      400     A\n",
       "3     3797467345  1196621759  2019-08-15     9759     B\n",
       "4     2282983706  2322279887  2019-08-15     2308     B"
      ]
     },
     "execution_count": 7,
     "metadata": {},
     "output_type": "execute_result"
    }
   ],
   "source": [
    "# загрузим датасет orders и посмотрим 5 первых строк\n",
    "orders = pd.read_csv('/datasets/orders.csv')\n",
    "orders.head()"
   ]
  },
  {
   "cell_type": "code",
   "execution_count": 8,
   "metadata": {},
   "outputs": [
    {
     "data": {
      "text/html": [
       "<div>\n",
       "<style scoped>\n",
       "    .dataframe tbody tr th:only-of-type {\n",
       "        vertical-align: middle;\n",
       "    }\n",
       "\n",
       "    .dataframe tbody tr th {\n",
       "        vertical-align: top;\n",
       "    }\n",
       "\n",
       "    .dataframe thead th {\n",
       "        text-align: right;\n",
       "    }\n",
       "</style>\n",
       "<table border=\"1\" class=\"dataframe\">\n",
       "  <thead>\n",
       "    <tr style=\"text-align: right;\">\n",
       "      <th></th>\n",
       "      <th>transactionid</th>\n",
       "      <th>visitorid</th>\n",
       "      <th>date</th>\n",
       "      <th>revenue</th>\n",
       "      <th>group</th>\n",
       "    </tr>\n",
       "  </thead>\n",
       "  <tbody>\n",
       "    <tr>\n",
       "      <th>0</th>\n",
       "      <td>3667963787</td>\n",
       "      <td>3312258926</td>\n",
       "      <td>2019-08-15</td>\n",
       "      <td>1650</td>\n",
       "      <td>B</td>\n",
       "    </tr>\n",
       "    <tr>\n",
       "      <th>1</th>\n",
       "      <td>2804400009</td>\n",
       "      <td>3642806036</td>\n",
       "      <td>2019-08-15</td>\n",
       "      <td>730</td>\n",
       "      <td>B</td>\n",
       "    </tr>\n",
       "    <tr>\n",
       "      <th>2</th>\n",
       "      <td>2961555356</td>\n",
       "      <td>4069496402</td>\n",
       "      <td>2019-08-15</td>\n",
       "      <td>400</td>\n",
       "      <td>A</td>\n",
       "    </tr>\n",
       "    <tr>\n",
       "      <th>3</th>\n",
       "      <td>3797467345</td>\n",
       "      <td>1196621759</td>\n",
       "      <td>2019-08-15</td>\n",
       "      <td>9759</td>\n",
       "      <td>B</td>\n",
       "    </tr>\n",
       "    <tr>\n",
       "      <th>4</th>\n",
       "      <td>2282983706</td>\n",
       "      <td>2322279887</td>\n",
       "      <td>2019-08-15</td>\n",
       "      <td>2308</td>\n",
       "      <td>B</td>\n",
       "    </tr>\n",
       "  </tbody>\n",
       "</table>\n",
       "</div>"
      ],
      "text/plain": [
       "   transactionid   visitorid        date  revenue group\n",
       "0     3667963787  3312258926  2019-08-15     1650     B\n",
       "1     2804400009  3642806036  2019-08-15      730     B\n",
       "2     2961555356  4069496402  2019-08-15      400     A\n",
       "3     3797467345  1196621759  2019-08-15     9759     B\n",
       "4     2282983706  2322279887  2019-08-15     2308     B"
      ]
     },
     "execution_count": 8,
     "metadata": {},
     "output_type": "execute_result"
    }
   ],
   "source": [
    "# приведем названия столбцов к нижнему регистру и проверим результаты\n",
    "orders.columns = orders.columns.str.lower()\n",
    "orders.head()"
   ]
  },
  {
   "cell_type": "code",
   "execution_count": 9,
   "metadata": {},
   "outputs": [
    {
     "name": "stdout",
     "output_type": "stream",
     "text": [
      "<class 'pandas.core.frame.DataFrame'>\n",
      "RangeIndex: 1197 entries, 0 to 1196\n",
      "Data columns (total 5 columns):\n",
      " #   Column         Non-Null Count  Dtype \n",
      "---  ------         --------------  ----- \n",
      " 0   transactionid  1197 non-null   int64 \n",
      " 1   visitorid      1197 non-null   int64 \n",
      " 2   date           1197 non-null   object\n",
      " 3   revenue        1197 non-null   int64 \n",
      " 4   group          1197 non-null   object\n",
      "dtypes: int64(3), object(2)\n",
      "memory usage: 46.9+ KB\n"
     ]
    }
   ],
   "source": [
    "# посмотрим общую информацию по датасету\n",
    "orders.info()"
   ]
  },
  {
   "cell_type": "code",
   "execution_count": 10,
   "metadata": {},
   "outputs": [
    {
     "name": "stdout",
     "output_type": "stream",
     "text": [
      "<class 'pandas.core.frame.DataFrame'>\n",
      "RangeIndex: 1197 entries, 0 to 1196\n",
      "Data columns (total 5 columns):\n",
      " #   Column         Non-Null Count  Dtype         \n",
      "---  ------         --------------  -----         \n",
      " 0   transactionid  1197 non-null   int64         \n",
      " 1   visitorid      1197 non-null   int64         \n",
      " 2   date           1197 non-null   datetime64[ns]\n",
      " 3   revenue        1197 non-null   int64         \n",
      " 4   group          1197 non-null   object        \n",
      "dtypes: datetime64[ns](1), int64(3), object(1)\n",
      "memory usage: 46.9+ KB\n"
     ]
    }
   ],
   "source": [
    "# изменим тип данных для графы \"date\" с object на date для удобства работы\n",
    "orders['date'] = pd.to_datetime(orders['date'], format='%Y-%m-%d')\n",
    "# проверим результат\n",
    "orders.info()"
   ]
  },
  {
   "cell_type": "code",
   "execution_count": 11,
   "metadata": {},
   "outputs": [
    {
     "data": {
      "text/plain": [
       "0"
      ]
     },
     "execution_count": 11,
     "metadata": {},
     "output_type": "execute_result"
    }
   ],
   "source": [
    "# проверим датасет на наличие дублей\n",
    "orders.duplicated().sum()"
   ]
  },
  {
   "cell_type": "markdown",
   "metadata": {},
   "source": [
    "Выводы по анализу и предобработке датасета orders:\n",
    "* пропусков нет;\n",
    "* названия столбцов приведены к нижнему регистру;\n",
    "* тип данных для графы \"date\" поменяли с object на date для удобства работы;\n",
    "* дублей нет;\n",
    "* таблица готова к работе."
   ]
  },
  {
   "cell_type": "code",
   "execution_count": 12,
   "metadata": {},
   "outputs": [
    {
     "data": {
      "text/html": [
       "<div>\n",
       "<style scoped>\n",
       "    .dataframe tbody tr th:only-of-type {\n",
       "        vertical-align: middle;\n",
       "    }\n",
       "\n",
       "    .dataframe tbody tr th {\n",
       "        vertical-align: top;\n",
       "    }\n",
       "\n",
       "    .dataframe thead th {\n",
       "        text-align: right;\n",
       "    }\n",
       "</style>\n",
       "<table border=\"1\" class=\"dataframe\">\n",
       "  <thead>\n",
       "    <tr style=\"text-align: right;\">\n",
       "      <th></th>\n",
       "      <th>date</th>\n",
       "      <th>group</th>\n",
       "      <th>visitors</th>\n",
       "    </tr>\n",
       "  </thead>\n",
       "  <tbody>\n",
       "    <tr>\n",
       "      <th>0</th>\n",
       "      <td>2019-08-01</td>\n",
       "      <td>A</td>\n",
       "      <td>719</td>\n",
       "    </tr>\n",
       "    <tr>\n",
       "      <th>1</th>\n",
       "      <td>2019-08-02</td>\n",
       "      <td>A</td>\n",
       "      <td>619</td>\n",
       "    </tr>\n",
       "    <tr>\n",
       "      <th>2</th>\n",
       "      <td>2019-08-03</td>\n",
       "      <td>A</td>\n",
       "      <td>507</td>\n",
       "    </tr>\n",
       "    <tr>\n",
       "      <th>3</th>\n",
       "      <td>2019-08-04</td>\n",
       "      <td>A</td>\n",
       "      <td>717</td>\n",
       "    </tr>\n",
       "    <tr>\n",
       "      <th>4</th>\n",
       "      <td>2019-08-05</td>\n",
       "      <td>A</td>\n",
       "      <td>756</td>\n",
       "    </tr>\n",
       "  </tbody>\n",
       "</table>\n",
       "</div>"
      ],
      "text/plain": [
       "         date group  visitors\n",
       "0  2019-08-01     A       719\n",
       "1  2019-08-02     A       619\n",
       "2  2019-08-03     A       507\n",
       "3  2019-08-04     A       717\n",
       "4  2019-08-05     A       756"
      ]
     },
     "execution_count": 12,
     "metadata": {},
     "output_type": "execute_result"
    }
   ],
   "source": [
    "# загрузим датасет visitors и посмотрим 5 первых строк\n",
    "visitors = pd.read_csv('/datasets/visitors.csv')\n",
    "visitors.head()"
   ]
  },
  {
   "cell_type": "code",
   "execution_count": 13,
   "metadata": {},
   "outputs": [
    {
     "name": "stdout",
     "output_type": "stream",
     "text": [
      "<class 'pandas.core.frame.DataFrame'>\n",
      "RangeIndex: 62 entries, 0 to 61\n",
      "Data columns (total 3 columns):\n",
      " #   Column    Non-Null Count  Dtype \n",
      "---  ------    --------------  ----- \n",
      " 0   date      62 non-null     object\n",
      " 1   group     62 non-null     object\n",
      " 2   visitors  62 non-null     int64 \n",
      "dtypes: int64(1), object(2)\n",
      "memory usage: 1.6+ KB\n"
     ]
    }
   ],
   "source": [
    "# посмотрим общую информацию по датасету\n",
    "visitors.info()"
   ]
  },
  {
   "cell_type": "code",
   "execution_count": 14,
   "metadata": {},
   "outputs": [
    {
     "name": "stdout",
     "output_type": "stream",
     "text": [
      "<class 'pandas.core.frame.DataFrame'>\n",
      "RangeIndex: 62 entries, 0 to 61\n",
      "Data columns (total 3 columns):\n",
      " #   Column    Non-Null Count  Dtype         \n",
      "---  ------    --------------  -----         \n",
      " 0   date      62 non-null     datetime64[ns]\n",
      " 1   group     62 non-null     object        \n",
      " 2   visitors  62 non-null     int64         \n",
      "dtypes: datetime64[ns](1), int64(1), object(1)\n",
      "memory usage: 1.6+ KB\n"
     ]
    }
   ],
   "source": [
    "# изменим тип данных для графы \"date\" с object на date для удобства работы\n",
    "visitors['date'] = pd.to_datetime(visitors['date'], format='%Y-%m-%d')\n",
    "# проверим результат\n",
    "visitors.info()"
   ]
  },
  {
   "cell_type": "code",
   "execution_count": 15,
   "metadata": {},
   "outputs": [
    {
     "data": {
      "text/plain": [
       "0"
      ]
     },
     "execution_count": 15,
     "metadata": {},
     "output_type": "execute_result"
    }
   ],
   "source": [
    "# проверим датасет на наличие дублей\n",
    "visitors.duplicated().sum()"
   ]
  },
  {
   "cell_type": "markdown",
   "metadata": {},
   "source": [
    "Выводы по анализу и предобработке датасета visitors:\n",
    "* пропусков нет;\n",
    "* тип данных для графы \"date\" поменяли с object на date для удобства работы;\n",
    "* дублей нет;\n",
    "* таблица готова к работе."
   ]
  },
  {
   "cell_type": "code",
   "execution_count": 16,
   "metadata": {},
   "outputs": [
    {
     "data": {
      "text/plain": [
       "A    31\n",
       "B    31\n",
       "Name: group, dtype: int64"
      ]
     },
     "execution_count": 16,
     "metadata": {},
     "output_type": "execute_result"
    }
   ],
   "source": [
    "# оценим количество групп\n",
    "visitors['group'].value_counts()"
   ]
  },
  {
   "cell_type": "code",
   "execution_count": 17,
   "metadata": {},
   "outputs": [
    {
     "name": "stdout",
     "output_type": "stream",
     "text": [
      "Количество пользователей в обеих группах: 58\n",
      "Всего пользователей: 1031\n"
     ]
    }
   ],
   "source": [
    "# проверим, есть ли в группах совпадения по пользователям\n",
    "group_a = orders[orders['group'] == 'A']['visitorid']\n",
    "group_b = orders[orders['group'] == 'B']['visitorid']\n",
    "orders_ab = orders.query('visitorid in @group_a and visitorid in @group_b')\n",
    "orders_ab['visitorid'].unique()\n",
    "print('Количество пользователей в обеих группах:', orders_ab['visitorid'].nunique())\n",
    "print('Всего пользователей:', orders['visitorid'].nunique())"
   ]
  },
  {
   "cell_type": "markdown",
   "metadata": {},
   "source": [
    "Всего в таблице 1031 пользователь. При этом процент пользователей, которые одновременно присутствуют в обеих группах, составляет чуть больше 5,6% от общего числа пользователей (58 от 1031). Удаляю их, т.к. такой небольшой % не скажется отрицательно на результатах А/В теста."
   ]
  },
  {
   "cell_type": "code",
   "execution_count": 18,
   "metadata": {},
   "outputs": [
    {
     "name": "stdout",
     "output_type": "stream",
     "text": [
      "Всего пользователей осталось: 973\n"
     ]
    }
   ],
   "source": [
    "orders = orders.query('visitorid not in @orders_ab[\"visitorid\"]')\n",
    "print('Всего пользователей осталось:', orders['visitorid'].nunique())"
   ]
  },
  {
   "cell_type": "markdown",
   "metadata": {},
   "source": [
    "Теперь можно приступать к A/B тесту."
   ]
  },
  {
   "cell_type": "markdown",
   "metadata": {},
   "source": [
    "# 2.1 Построим график кумулятивной выручки по группам. Сделаем выводы и предположения."
   ]
  },
  {
   "cell_type": "markdown",
   "metadata": {},
   "source": [
    "Соберем данные.\n",
    "1. Создим датафрейм datesGroups с уникальными парами значений 'date' и 'group', таблицы orders.\n",
    "2. Объявим переменную ordersAggregated, содержащую:\n",
    "* дату;\n",
    "* группу A/B-теста;\n",
    "* число уникальных заказов в группе теста по указанную дату включительно;\n",
    "* число уникальных пользователей, совершивших хотя бы 1 заказ в группе теста по указанную дату включительно;\n",
    "* суммарную выручку заказов в группе теста по указанную дату включительно.\n",
    "3. Объявим переменную visitorsAggregated, содержащую:\n",
    "* дату;\n",
    "* группу A/B-теста;\n",
    "* количество уникальных посетителей в группе теста по указанную дату включительно.\n",
    "4. ordersAggregated и visitorsAggregated отсортируем по столбцам 'date', 'group'.\n",
    "5. Определим переменную cumulativeData, объединив ordersAggregated и visitorsAggregated по колонкам 'date', 'group'\n",
    "6. Присвоим столбцам cumulativeData названия."
   ]
  },
  {
   "cell_type": "code",
   "execution_count": 19,
   "metadata": {},
   "outputs": [
    {
     "data": {
      "text/html": [
       "<div>\n",
       "<style scoped>\n",
       "    .dataframe tbody tr th:only-of-type {\n",
       "        vertical-align: middle;\n",
       "    }\n",
       "\n",
       "    .dataframe tbody tr th {\n",
       "        vertical-align: top;\n",
       "    }\n",
       "\n",
       "    .dataframe thead th {\n",
       "        text-align: right;\n",
       "    }\n",
       "</style>\n",
       "<table border=\"1\" class=\"dataframe\">\n",
       "  <thead>\n",
       "    <tr style=\"text-align: right;\">\n",
       "      <th></th>\n",
       "      <th>date</th>\n",
       "      <th>group</th>\n",
       "      <th>orders</th>\n",
       "      <th>buyers</th>\n",
       "      <th>revenue</th>\n",
       "      <th>visitors</th>\n",
       "    </tr>\n",
       "  </thead>\n",
       "  <tbody>\n",
       "    <tr>\n",
       "      <th>0</th>\n",
       "      <td>2019-08-01</td>\n",
       "      <td>A</td>\n",
       "      <td>23</td>\n",
       "      <td>19</td>\n",
       "      <td>142779</td>\n",
       "      <td>719</td>\n",
       "    </tr>\n",
       "    <tr>\n",
       "      <th>1</th>\n",
       "      <td>2019-08-01</td>\n",
       "      <td>B</td>\n",
       "      <td>17</td>\n",
       "      <td>17</td>\n",
       "      <td>59758</td>\n",
       "      <td>713</td>\n",
       "    </tr>\n",
       "    <tr>\n",
       "      <th>2</th>\n",
       "      <td>2019-08-02</td>\n",
       "      <td>A</td>\n",
       "      <td>42</td>\n",
       "      <td>36</td>\n",
       "      <td>234381</td>\n",
       "      <td>1338</td>\n",
       "    </tr>\n",
       "    <tr>\n",
       "      <th>3</th>\n",
       "      <td>2019-08-02</td>\n",
       "      <td>B</td>\n",
       "      <td>40</td>\n",
       "      <td>39</td>\n",
       "      <td>221801</td>\n",
       "      <td>1294</td>\n",
       "    </tr>\n",
       "    <tr>\n",
       "      <th>4</th>\n",
       "      <td>2019-08-03</td>\n",
       "      <td>A</td>\n",
       "      <td>66</td>\n",
       "      <td>60</td>\n",
       "      <td>346854</td>\n",
       "      <td>1845</td>\n",
       "    </tr>\n",
       "  </tbody>\n",
       "</table>\n",
       "</div>"
      ],
      "text/plain": [
       "        date group  orders  buyers  revenue  visitors\n",
       "0 2019-08-01     A      23      19   142779       719\n",
       "1 2019-08-01     B      17      17    59758       713\n",
       "2 2019-08-02     A      42      36   234381      1338\n",
       "3 2019-08-02     B      40      39   221801      1294\n",
       "4 2019-08-03     A      66      60   346854      1845"
      ]
     },
     "metadata": {},
     "output_type": "display_data"
    }
   ],
   "source": [
    "datesGroups = orders[['date','group']].drop_duplicates()\n",
    "\n",
    "ordersAggregated = datesGroups.apply(\n",
    "    lambda x: orders[np.logical_and(orders['date'] <= x['date'], orders['group'] == x['group'])].agg({\n",
    "'date' : 'max',\n",
    "'group' : 'max',\n",
    "'transactionid' : pd.Series.nunique,\n",
    "'visitorid' : pd.Series.nunique,\n",
    "'revenue' : 'sum'}), axis=1).sort_values(by=['date','group'])\n",
    "\n",
    "visitorsAggregated = datesGroups.apply(\n",
    "    lambda x: visitors[np.logical_and(visitors['date'] <= x['date'], visitors['group'] == x['group'])].agg({\n",
    "'date' : 'max',\n",
    "'group' : 'max',\n",
    "'visitors' : 'sum'}), axis=1).sort_values(by=['date','group'])\n",
    "\n",
    "cumulativeData = ordersAggregated.merge(visitorsAggregated, left_on=['date', 'group'], right_on=['date', 'group'])\n",
    "\n",
    "cumulativeData.columns = ['date', 'group', 'orders', 'buyers', 'revenue', 'visitors']\n",
    "\n",
    "display(cumulativeData.head())"
   ]
  },
  {
   "cell_type": "code",
   "execution_count": 20,
   "metadata": {},
   "outputs": [
    {
     "data": {
      "text/plain": [
       "Timestamp('2019-08-01 00:00:00')"
      ]
     },
     "execution_count": 20,
     "metadata": {},
     "output_type": "execute_result"
    }
   ],
   "source": [
    "# проверим корректность создания датафрейма cumulativeData, сравнив минимальные даты в этом и исходном датафрейме\n",
    "orders['date'].min()"
   ]
  },
  {
   "cell_type": "code",
   "execution_count": 21,
   "metadata": {},
   "outputs": [
    {
     "data": {
      "text/plain": [
       "Timestamp('2019-08-01 00:00:00')"
      ]
     },
     "execution_count": 21,
     "metadata": {},
     "output_type": "execute_result"
    }
   ],
   "source": [
    "cumulativeData['date'].min()"
   ]
  },
  {
   "cell_type": "code",
   "execution_count": 22,
   "metadata": {},
   "outputs": [
    {
     "data": {
      "text/plain": [
       "Timestamp('2019-08-31 00:00:00')"
      ]
     },
     "execution_count": 22,
     "metadata": {},
     "output_type": "execute_result"
    }
   ],
   "source": [
    "# проверим корректность создания датафрейма cumulativeData, сравнив максимальные даты в этом и исходном датафрейме\n",
    "orders['date'].max()"
   ]
  },
  {
   "cell_type": "code",
   "execution_count": 23,
   "metadata": {},
   "outputs": [
    {
     "data": {
      "text/plain": [
       "Timestamp('2019-08-31 00:00:00')"
      ]
     },
     "execution_count": 23,
     "metadata": {},
     "output_type": "execute_result"
    }
   ],
   "source": [
    "cumulativeData['date'].max()"
   ]
  },
  {
   "cell_type": "markdown",
   "metadata": {},
   "source": [
    "Все в порядке, датафрейм cumulativeData создан корректно, можно работать с ним."
   ]
  },
  {
   "cell_type": "markdown",
   "metadata": {},
   "source": [
    "Объявим переменные cumulativeRevenueA и cumulativeRevenueB, в которых сохраним данные о датах, выручке и числе заказов в группах A и B. Построим график."
   ]
  },
  {
   "cell_type": "code",
   "execution_count": 24,
   "metadata": {},
   "outputs": [
    {
     "data": {
      "image/png": "[encoded data removed]",
      "text/plain": [
       "<Figure size 1080x360 with 1 Axes>"
      ]
     },
     "metadata": {
      "needs_background": "light"
     },
     "output_type": "display_data"
    }
   ],
   "source": [
    "cumulativeRevenueA = cumulativeData[cumulativeData['group']=='A'][['date','revenue', 'orders']]\n",
    "cumulativeRevenueB = cumulativeData[cumulativeData['group']=='B'][['date','revenue', 'orders']]\n",
    "\n",
    "plt.figure(figsize=(15,5))\n",
    "plt.plot(cumulativeRevenueA['date'], cumulativeRevenueA['revenue'], label='A')\n",
    "plt.plot(cumulativeRevenueB['date'], cumulativeRevenueB['revenue'], label='B')\n",
    "\n",
    "plt.title('График кумулятивной выручки по группам')\n",
    "plt.ylabel('Выручка')\n",
    "plt.xticks(rotation=45)\n",
    "plt.legend()\n",
    "plt.grid()\n",
    "plt.show()"
   ]
  },
  {
   "cell_type": "markdown",
   "metadata": {},
   "source": [
    "Вывод по графику кумулятивной выручки по группам:\n",
    "1. В первой половине месяца выручка группы \"B\" растет чуть активнее, чем у группы \"A\".\n",
    "2. Во второй половине месяца выручка группы \"В\" демонстрирует сильный рост в районе 18 числа, скорее всего, это выбросы, но гипотеза нуждается в дополнительном исследовании. Далее выручка по обеим группам растет одинаковыми темпами, но отрыв выручки у группы \"В\" в сравнении с группой \"А\" остается таким же сильным за счет выброса.\n",
    "3. Скорее всего в группе \"B\" 18 числа был крупный заказ. Если его отбросить, то графики покажут примерно одинаковый рост выручки у обеих групп, хоть и с небольшим опережением у группы \"В\"."
   ]
  },
  {
   "cell_type": "markdown",
   "metadata": {},
   "source": [
    "# 2.2 Построим график кумулятивного среднего чека по группам. Сделаем выводы и предположения."
   ]
  },
  {
   "cell_type": "code",
   "execution_count": 25,
   "metadata": {},
   "outputs": [
    {
     "data": {
      "image/png": "[encoded data removed]",
      "text/plain": [
       "<Figure size 1080x360 with 1 Axes>"
      ]
     },
     "metadata": {
      "needs_background": "light"
     },
     "output_type": "display_data"
    }
   ],
   "source": [
    "# построим графики кумулятивного среднего чека для каждой группы \n",
    "\n",
    "plt.figure(figsize=(15,5))\n",
    "plt.plot(cumulativeRevenueA['date'], cumulativeRevenueA['revenue']/cumulativeRevenueA['orders'], label='A')\n",
    "plt.plot(cumulativeRevenueB['date'], cumulativeRevenueB['revenue']/cumulativeRevenueB['orders'], label='B')\n",
    "\n",
    "plt.title('График кумулятивного среднего чека по группам')\n",
    "plt.ylabel('Выручка')\n",
    "plt.xticks(rotation=45)\n",
    "plt.legend()\n",
    "plt.grid()\n",
    "plt.show()"
   ]
  },
  {
   "cell_type": "markdown",
   "metadata": {},
   "source": [
    "Вывод по графику кумулятивного среднего чека по группам:\n",
    "1. Кумулятивное значение среднего чека по группам колебается.\n",
    "2. У группы \"В\", как и на прошлом графике, заметен сильный скачок в районе 18 числа. Причиной может быть также крупный заказ, т.к. выброс.\n",
    "3. В основном у группы \"В\" средний чек выше среднего чека группы \"А\".\n",
    "4. После сильного скачка величины среднего чека у группы \"В\" идет постепенное его уменьшение, а у группы \"А\", наоборот, увеличение величины среднего чека. Динамика говорит о том, что в перспективе размеры средних чеков у обеих групп сравняются."
   ]
  },
  {
   "cell_type": "markdown",
   "metadata": {},
   "source": [
    "# 2.3 Построим график относительного изменения кумулятивного среднего чека группы B к группе A. Сделаем выводы и предположения."
   ]
  },
  {
   "cell_type": "code",
   "execution_count": 26,
   "metadata": {},
   "outputs": [
    {
     "data": {
      "image/png": "[encoded data removed]",
      "text/plain": [
       "<Figure size 1080x360 with 1 Axes>"
      ]
     },
     "metadata": {
      "needs_background": "light"
     },
     "output_type": "display_data"
    }
   ],
   "source": [
    "# объединим таблицы cumulativeRevenueA и cumulativeRevenueB и построим график относительного изменения кумулятивного среднего чека группы \"B\" к группе \"A\".\n",
    "\n",
    "mergedCumulativeRevenue = cumulativeRevenueA.merge(\n",
    "    cumulativeRevenueB, left_on='date', right_on='date', how='left', suffixes=['A', 'B']\n",
    ")\n",
    "\n",
    "plt.figure(figsize=(15,5))\n",
    "plt.plot(mergedCumulativeRevenue['date'],\n",
    "         (mergedCumulativeRevenue['revenueB']/mergedCumulativeRevenue['ordersB'])/\n",
    "         (mergedCumulativeRevenue['revenueA']/mergedCumulativeRevenue['ordersA'])-1)\n",
    "\n",
    "plt.axhline(y=0, color='black', linestyle='--') \n",
    "\n",
    "plt.title('График относительного изменения кумулятивного среднего чека группы B к группе A')\n",
    "plt.ylabel('Частота значений')\n",
    "plt.xticks(rotation=45)\n",
    "plt.grid()\n",
    "plt.show()"
   ]
  },
  {
   "cell_type": "markdown",
   "metadata": {},
   "source": [
    "Вывод по графику относительного изменения кумулятивного среднего чека группы \"B\" к группе \"A\":\n",
    "\n",
    "На графике видны несколько значительных и резких изменений в разные даты. Скорее всего, в эти дни были сделаны крупные заказы."
   ]
  },
  {
   "cell_type": "markdown",
   "metadata": {},
   "source": [
    "# 2.4 Построим график кумулятивного среднего количества заказов на посетителя по группам. Сделаем выводы и предположения."
   ]
  },
  {
   "cell_type": "code",
   "execution_count": 27,
   "metadata": {},
   "outputs": [
    {
     "data": {
      "image/png": "[encoded data removed]",
      "text/plain": [
       "<Figure size 1080x360 with 1 Axes>"
      ]
     },
     "metadata": {
      "needs_background": "light"
     },
     "output_type": "display_data"
    }
   ],
   "source": [
    "# Добавим в cumulativeData столбец 'conversion' c отношением числа заказов к количеству пользователей в указанной группе в указанный день.\n",
    "# Объявим переменные cumulativeDataA и cumulativeDataB, в которых сохраним данные о заказах в сегментах \"A\" и \"B\" соответственно.\n",
    "# Построим графики кумулятивной конверсии по дням по группам.\n",
    "\n",
    "cumulativeData['conversion'] = cumulativeData['orders']/cumulativeData['visitors']\n",
    "\n",
    "\n",
    "cumulativeDataA = cumulativeData[cumulativeData['group']=='A']\n",
    "cumulativeDataB = cumulativeData[cumulativeData['group']=='B']\n",
    "\n",
    "plt.figure(figsize=(15,5))\n",
    "plt.plot(cumulativeDataA['date'], cumulativeDataA['conversion'], label='A')\n",
    "plt.plot(cumulativeDataB['date'], cumulativeDataB['conversion'], label='B')\n",
    "plt.title('График кумулятивного среднего количества заказов на посетителя по группам')\n",
    "plt.ylabel('Кумулятивное среднее количество заказов')\n",
    "plt.xticks(rotation=45)\n",
    "plt.legend()\n",
    "plt.grid()\n",
    "plt.show()"
   ]
  },
  {
   "cell_type": "markdown",
   "metadata": {},
   "source": [
    "Вывод по графику кумулятивного среднего количества заказов на посетителя по группам:\n",
    "\n",
    "1. В начале теста у группы \"А\" было бОльшее кумулятивное среднее количество заказов на посетителя по группам, далее это значение начало снижаться и зафиксировалась на уровне 0,25-0,26.\n",
    "2. У группы \"В\" наоборот сначала было более низкое кумулятивное среднее количество заказов на посетителя по группам, но постепенно оно выросло и зафиксировалось на уровне 0,29."
   ]
  },
  {
   "cell_type": "markdown",
   "metadata": {},
   "source": [
    "# 2.5. Построим график относительного изменения кумулятивного среднего количества заказов на посетителя группы B к группе A. Сделаем выводы и предположения."
   ]
  },
  {
   "cell_type": "code",
   "execution_count": 28,
   "metadata": {},
   "outputs": [
    {
     "data": {
      "image/png": "[encoded data removed]",
      "text/plain": [
       "<Figure size 1080x360 with 1 Axes>"
      ]
     },
     "metadata": {
      "needs_background": "light"
     },
     "output_type": "display_data"
    }
   ],
   "source": [
    "# объединим таблицы cumulativeDataA и cumulativeDataB, cохранив в переменной mergedCumulativeConversions.\n",
    "# построим график относительного различия кумулятивной конверсии группы \"B\" к группе \"A\".\n",
    "\n",
    "mergedCumulativeConversions = cumulativeDataA[['date','conversion']].merge(\n",
    "    cumulativeDataB[['date','conversion']], left_on='date', right_on='date', how='left', suffixes=['A', 'B']\n",
    ")\n",
    "\n",
    "plt.figure(figsize=(15,5))\n",
    "plt.plot(\n",
    "    mergedCumulativeConversions['date'], mergedCumulativeConversions['conversionB']/\n",
    "    mergedCumulativeConversions['conversionA']-1, label=\"Относительный прирост кумулятивного среднего количества заказов группы B к группе A\")\n",
    "\n",
    "plt.axhline(y=0, color='black', linestyle='--')\n",
    "plt.axhline(y= 0.15, color='red', linestyle='--', label = '0.15')\n",
    "plt.legend()\n",
    "plt.title('График относительного изменения кумулятивного среднего количества заказов на посетителя группы B к группе A')\n",
    "plt.ylabel('Частота значений')\n",
    "plt.xticks(rotation=45)\n",
    "plt.grid()\n",
    "plt.show()"
   ]
  },
  {
   "cell_type": "markdown",
   "metadata": {},
   "source": [
    "Вывод по графику относительного изменения кумулятивного среднего количества заказов на посетителя группы B к группе A:\n",
    "    \n",
    "Кумулятивное среднее количество заказов на посетителя группы \"В\" относительно группы \"А\" показывает прирост в 15-20% ."
   ]
  },
  {
   "cell_type": "markdown",
   "metadata": {},
   "source": [
    "# 2.6. Построим точечный график количества заказов по пользователям. Сделаем выводы и предположения."
   ]
  },
  {
   "cell_type": "code",
   "execution_count": 29,
   "metadata": {},
   "outputs": [
    {
     "data": {
      "text/html": [
       "<div>\n",
       "<style scoped>\n",
       "    .dataframe tbody tr th:only-of-type {\n",
       "        vertical-align: middle;\n",
       "    }\n",
       "\n",
       "    .dataframe tbody tr th {\n",
       "        vertical-align: top;\n",
       "    }\n",
       "\n",
       "    .dataframe thead th {\n",
       "        text-align: right;\n",
       "    }\n",
       "</style>\n",
       "<table border=\"1\" class=\"dataframe\">\n",
       "  <thead>\n",
       "    <tr style=\"text-align: right;\">\n",
       "      <th></th>\n",
       "      <th>visitorid</th>\n",
       "      <th>orders</th>\n",
       "    </tr>\n",
       "  </thead>\n",
       "  <tbody>\n",
       "    <tr>\n",
       "      <th>0</th>\n",
       "      <td>5114589</td>\n",
       "      <td>1</td>\n",
       "    </tr>\n",
       "    <tr>\n",
       "      <th>1</th>\n",
       "      <td>6958315</td>\n",
       "      <td>1</td>\n",
       "    </tr>\n",
       "    <tr>\n",
       "      <th>2</th>\n",
       "      <td>11685486</td>\n",
       "      <td>1</td>\n",
       "    </tr>\n",
       "    <tr>\n",
       "      <th>3</th>\n",
       "      <td>39475350</td>\n",
       "      <td>1</td>\n",
       "    </tr>\n",
       "    <tr>\n",
       "      <th>4</th>\n",
       "      <td>47206413</td>\n",
       "      <td>1</td>\n",
       "    </tr>\n",
       "  </tbody>\n",
       "</table>\n",
       "</div>"
      ],
      "text/plain": [
       "   visitorid  orders\n",
       "0    5114589       1\n",
       "1    6958315       1\n",
       "2   11685486       1\n",
       "3   39475350       1\n",
       "4   47206413       1"
      ]
     },
     "execution_count": 29,
     "metadata": {},
     "output_type": "execute_result"
    }
   ],
   "source": [
    "# создадим таблицу по заказам\n",
    "orders_by_users = orders.groupby('visitorid', as_index=False).agg({'transactionid':'nunique'}).rename(columns={'transactionid':'orders'})\n",
    "orders_by_users.head()"
   ]
  },
  {
   "cell_type": "code",
   "execution_count": 30,
   "metadata": {},
   "outputs": [
    {
     "data": {
      "image/png": "[encoded data removed]",
      "text/plain": [
       "<Figure size 720x360 with 1 Axes>"
      ]
     },
     "metadata": {
      "needs_background": "light"
     },
     "output_type": "display_data"
    }
   ],
   "source": [
    "# построим график\n",
    "x_values = pd.Series(range(0,len(orders_by_users['orders'])))\n",
    "\n",
    "plt.figure(figsize=(10,5))\n",
    "plt.scatter(x_values, orders_by_users['orders'], alpha=0.3)\n",
    "plt.title('Точечный график количества заказов по пользователям')\n",
    "plt.xlabel('Число пользователей')\n",
    "plt.ylabel('Число заказов')\n",
    "plt.grid()\n",
    "plt.show()"
   ]
  },
  {
   "cell_type": "markdown",
   "metadata": {},
   "source": [
    "Вывод по точечному графику количества заказов по пользователям:\n",
    "1. Большая часть пользователей совершает лишь одну покупку.\n",
    "2. Некоторые пользователи делают 2 заказа.\n",
    "3. В единичных случаях пользователи делают 3 заказа."
   ]
  },
  {
   "cell_type": "markdown",
   "metadata": {},
   "source": [
    "# 2.7 Посчитаем 95-й и 99-й перцентили количества заказов на пользователя. Выберем границу для определения аномальных пользователей."
   ]
  },
  {
   "cell_type": "code",
   "execution_count": 31,
   "metadata": {},
   "outputs": [
    {
     "name": "stdout",
     "output_type": "stream",
     "text": [
      "90 перцентиль: [1.]\n",
      "95 перцентиль: [1.]\n",
      "99 перцентиль: [2.]\n"
     ]
    }
   ],
   "source": [
    "print('90 перцентиль:', (np.percentile(orders_by_users['orders'], [90])))\n",
    "print('95 перцентиль:', (np.percentile(orders_by_users['orders'], [95])))\n",
    "print('99 перцентиль:', (np.percentile(orders_by_users['orders'], [99])))"
   ]
  },
  {
   "cell_type": "markdown",
   "metadata": {},
   "source": [
    "1% пользователей совершили больше 2 заказов."
   ]
  },
  {
   "cell_type": "code",
   "execution_count": 32,
   "metadata": {},
   "outputs": [
    {
     "data": {
      "text/plain": [
       "3"
      ]
     },
     "execution_count": 32,
     "metadata": {},
     "output_type": "execute_result"
    }
   ],
   "source": [
    "# посмотрим на максимальное количество заказов\n",
    "orders_by_users['orders'].max()"
   ]
  },
  {
   "cell_type": "code",
   "execution_count": 33,
   "metadata": {},
   "outputs": [
    {
     "data": {
      "text/plain": [
       "7"
      ]
     },
     "execution_count": 33,
     "metadata": {},
     "output_type": "execute_result"
    }
   ],
   "source": [
    "# посмотрим, какое число пользователей сделало больше 2 заказов\n",
    "len(orders_by_users[orders_by_users['orders'] > 2]['visitorid'])"
   ]
  },
  {
   "cell_type": "markdown",
   "metadata": {},
   "source": [
    "Вывод по подсчету 95-й и 99-й перцентили количества заказов на пользователя:\n",
    "\n",
    "Правильным в качестве границы для определения аномальных пользователей считать 2 заказа. Все пользователи, которые сделали больше 2 заказов, будем считать аномальными."
   ]
  },
  {
   "cell_type": "markdown",
   "metadata": {},
   "source": [
    "# 2.8 Построим точечный график стоимостей заказов. Сделаем выводы и предположения."
   ]
  },
  {
   "cell_type": "code",
   "execution_count": 34,
   "metadata": {},
   "outputs": [
    {
     "data": {
      "image/png": "[encoded data removed]",
      "text/plain": [
       "<Figure size 720x360 with 1 Axes>"
      ]
     },
     "metadata": {
      "needs_background": "light"
     },
     "output_type": "display_data"
    }
   ],
   "source": [
    "x_values = pd.Series(range(0,len(orders['revenue'])))\n",
    "\n",
    "plt.figure(figsize=(10,5))\n",
    "plt.scatter(x_values, orders['revenue'], alpha=0.3)\n",
    "plt.title('Точечный график стоимостей заказов')\n",
    "plt.xlabel('Число пользователей')\n",
    "plt.ylabel('Стоимость заказов')\n",
    "plt.grid()\n",
    "plt.show()"
   ]
  },
  {
   "cell_type": "code",
   "execution_count": 35,
   "metadata": {},
   "outputs": [
    {
     "data": {
      "image/png": "[encoded data removed]",
      "text/plain": [
       "<Figure size 720x360 with 1 Axes>"
      ]
     },
     "metadata": {
      "needs_background": "light"
     },
     "output_type": "display_data"
    }
   ],
   "source": [
    "# построим более наглядный график без самого большого выброса\n",
    "plt.figure(figsize=(10,5))\n",
    "plt.scatter(x_values, orders['revenue'], alpha=0.3)\n",
    "plt.ylim(0, 210000)\n",
    "plt.title('Точечный график стоимостей заказов без выбросов более 210000')\n",
    "plt.xlabel('Число пользователей')\n",
    "plt.ylabel('Стоимость заказов')\n",
    "plt.grid()\n",
    "plt.show()"
   ]
  },
  {
   "cell_type": "code",
   "execution_count": 36,
   "metadata": {},
   "outputs": [
    {
     "data": {
      "image/png": "[encoded data removed]",
      "text/plain": [
       "<Figure size 720x360 with 1 Axes>"
      ]
     },
     "metadata": {
      "needs_background": "light"
     },
     "output_type": "display_data"
    }
   ],
   "source": [
    "# построим более наглядный график без следующего крупного выброса\n",
    "plt.figure(figsize=(10,5))\n",
    "plt.scatter(x_values, orders['revenue'], alpha=0.3)\n",
    "plt.title('Точечный график стоимостей заказов без выбросов более 100000')\n",
    "plt.ylim(0, 100000)\n",
    "plt.xlabel('Число пользователей')\n",
    "plt.ylabel('Стоимость заказов')\n",
    "plt.grid()\n",
    "plt.show()"
   ]
  },
  {
   "cell_type": "markdown",
   "metadata": {},
   "source": [
    "Вывод по точечному графику стоимостей заказов:\n",
    "\n",
    "На первом графике явно видны 2 выброса. Поскольку такие заказы могут исказить результаты, оставим только заказы, стоимость которых ниже 100000."
   ]
  },
  {
   "cell_type": "markdown",
   "metadata": {},
   "source": [
    "# 2.9 Посчитаем 95-й и 99-й перцентили стоимости заказов. Выберем границу для определения аномальных заказов."
   ]
  },
  {
   "cell_type": "code",
   "execution_count": 37,
   "metadata": {},
   "outputs": [
    {
     "name": "stdout",
     "output_type": "stream",
     "text": [
      "90 перцентиль: [17990.]\n",
      "95 перцентиль: [26785.]\n",
      "99 перцентиль: [53904.]\n"
     ]
    }
   ],
   "source": [
    "print('90 перцентиль:', (np.percentile(orders['revenue'], [90])))\n",
    "print('95 перцентиль:', (np.percentile(orders['revenue'], [95])))\n",
    "print('99 перцентиль:', (np.percentile(orders['revenue'], [99])))"
   ]
  },
  {
   "cell_type": "markdown",
   "metadata": {},
   "source": [
    "Выводы по подсчету 95-го и 99-го перцентилей стоимости заказов:\n",
    "1. Не более 5% пользователей сделали заказ на сумму больше 26785.\n",
    "2. Не более 1% пользователей сделали заказ на сумму больше 53904. Аномальными будем считать заказы на сумму, которая превышает это значение."
   ]
  },
  {
   "cell_type": "markdown",
   "metadata": {},
   "source": [
    "# 2.10 Посчитаем статистическую значимость различий в среднем количестве заказов на посетителя между группами между группами по «сырым» данным. Сделаем выводы и предположения."
   ]
  },
  {
   "cell_type": "code",
   "execution_count": 38,
   "metadata": {},
   "outputs": [],
   "source": [
    "visitorsADaily = visitors[visitors['group'] == 'A'][['date', 'visitors']]\n",
    "visitorsADaily.columns = ['date', 'visitorsPerDateA']\n",
    "\n",
    "visitorsBDaily = visitors[visitors['group'] == 'B'][['date', 'visitors']]\n",
    "visitorsBDaily.columns = ['date', 'visitorsPerDateB']\n",
    "\n",
    "ordersADaily = (\n",
    "    orders[orders['group'] == 'A'][['date', 'transactionid', 'visitorid', 'revenue']]\n",
    "    .groupby('date', as_index=False)\n",
    "    .agg({'transactionid': pd.Series.nunique, 'revenue': 'sum'})\n",
    ")\n",
    "ordersADaily.columns = ['date', 'ordersPerDateA', 'revenuePerDateA']\n",
    "\n",
    "ordersBDaily = (\n",
    "    orders[orders['group'] == 'B'][['date', 'transactionid', 'visitorid', 'revenue']]\n",
    "    .groupby('date', as_index=False)\n",
    "    .agg({'transactionid': pd.Series.nunique, 'revenue': 'sum'})\n",
    ")\n",
    "ordersBDaily.columns = ['date', 'ordersPerDateB', 'revenuePerDateB']\n",
    "\n",
    "cummulative = (\n",
    "    ordersADaily.merge(\n",
    "        ordersBDaily, left_on='date', right_on='date', how='left'\n",
    "    )\n",
    "    .merge(visitorsADaily, left_on='date', right_on='date', how='left')\n",
    "    .merge(visitorsBDaily, left_on='date', right_on='date', how='left')\n",
    ")\n",
    "\n",
    "ordersByUsersA = (\n",
    "    orders[orders['group'] == 'A']\n",
    "    .groupby('visitorid', as_index=False)\n",
    "    .agg({'transactionid': pd.Series.nunique})\n",
    ")\n",
    "ordersByUsersA.columns = ['userId', 'orders']\n",
    "\n",
    "ordersByUsersB = (\n",
    "    orders[orders['group'] == 'B']\n",
    "    .groupby('visitorid', as_index=False)\n",
    "    .agg({'transactionid': pd.Series.nunique})\n",
    ")\n",
    "ordersByUsersB.columns = ['userId', 'orders']\n",
    "\n",
    "sampleA = pd.concat(\n",
    "    [\n",
    "        ordersByUsersA['orders'],\n",
    "        pd.Series(\n",
    "            0,\n",
    "            index=np.arange(\n",
    "                cummulative['visitorsPerDateA'].sum() - len(ordersByUsersA['orders'])\n",
    "            ),\n",
    "            name='orders',\n",
    "        ),\n",
    "    ],\n",
    "    axis=0,\n",
    ")\n",
    "\n",
    "sampleB = pd.concat(\n",
    "    [\n",
    "        ordersByUsersB['orders'],\n",
    "        pd.Series(\n",
    "            0,\n",
    "            index=np.arange(\n",
    "                cummulative['visitorsPerDateB'].sum() - len(ordersByUsersB['orders'])\n",
    "            ),\n",
    "            name='orders',\n",
    "        ),\n",
    "    ],\n",
    "    axis=0,\n",
    ")"
   ]
  },
  {
   "cell_type": "markdown",
   "metadata": {},
   "source": [
    "Сформулируем гипотезы:\n",
    "\n",
    "А) Нулевая гипотеза: Статистически значимых различий в среднем количестве заказов между группами по «сырым» данным нет.\n",
    "\n",
    "Б) Альтернативная гипотеза: Статистически значимые различия в среднем количестве заказов между группами по «сырым» данным есть.\n",
    "\n",
    "Применим критерием Манна-Уитни.\n",
    "\n",
    "Порогом статистической значимости установим alpha = 0.05."
   ]
  },
  {
   "cell_type": "code",
   "execution_count": 39,
   "metadata": {},
   "outputs": [
    {
     "name": "stdout",
     "output_type": "stream",
     "text": [
      "P-value: 0.011\n",
      "Относительный прирост среднего группы \"В\" к конверсии группы \"А\": 0.160\n"
     ]
    }
   ],
   "source": [
    "print('P-value: ''{0:.3f}'.format(stats.mannwhitneyu(sampleA, sampleB)[1]))\n",
    "print('Относительный прирост среднего группы \"В\" к конверсии группы \"А\": ''{0:.3f}'.format(sampleB.mean() / sampleA.mean() - 1))"
   ]
  },
  {
   "cell_type": "markdown",
   "metadata": {},
   "source": [
    "Вывод по статистической значимости различий в среднем количестве заказов на посетителя между группами между группами по «сырым» данным:\n",
    "1. P-value значительно меньше 0.05, не получилось подтвердить нулевую гипотезу. Среднее количество заказов в группе \"A\" не равно среднему количеству заказов в группе \"B\" (между выборками имеется статистическая значимость).\n",
    "2. Относительный прирост среднего количества заказов группы \"В\" к группе \"А\" равен 16%."
   ]
  },
  {
   "cell_type": "markdown",
   "metadata": {},
   "source": [
    "# 2.11 Посчитаем статистическую значимость различий в среднем чеке заказа между группами по «сырым» данным. Сделаем выводы и предположения."
   ]
  },
  {
   "cell_type": "markdown",
   "metadata": {},
   "source": [
    "Сформулируем гипотезы:\n",
    "\n",
    "А) Нулевая гипотеза: Статистически значимых различий в среднем чеке между группами по «сырым» данным нет.\n",
    "\n",
    "Б) Альтернативная гипотеза: Статистически значимые различия в среднем чеке между группами по «сырым» данным есть.\n",
    "\n",
    "Применим критерием Манна-Уитни.\n",
    "\n",
    "Порогом статистической значимости установим alpha = 0.05."
   ]
  },
  {
   "cell_type": "code",
   "execution_count": 40,
   "metadata": {},
   "outputs": [
    {
     "name": "stdout",
     "output_type": "stream",
     "text": [
      "P-value: 0.829\n",
      "Относительный прирост среднего чека группы \"В\" к группе \"А\": 0.287\n"
     ]
    }
   ],
   "source": [
    "print('P-value: ''{0:.3f}'.format(stats.mannwhitneyu(orders[orders['group']=='A']['revenue'], orders[orders['group']=='B']['revenue'])[1]))\n",
    "print('Относительный прирост среднего чека группы \"В\" к группе \"А\": ''{0:.3f}'.format(orders[orders['group']=='B']['revenue'].mean()/orders[orders['group']=='A']['revenue'].mean()-1)) "
   ]
  },
  {
   "cell_type": "markdown",
   "metadata": {},
   "source": [
    "Вывод по статистической значимости различий в среднем чеке заказа между группами по «сырым» данным:\n",
    "1. P-value значительно больше 0.05, не получилось отвергнуть нулевую гипотезу. Средний чек в группе \"A\" равен среднему чеку в группе \"B\" (статистическая значимость не значительна и сделать вывод о различии нельзя).\n",
    "2. Относительный прирост среднего чека группы \"В\" к группе \"А\" равен 28,7%."
   ]
  },
  {
   "cell_type": "markdown",
   "metadata": {},
   "source": [
    "# 2.12 Посчитаем статистическую значимость различий в среднем количестве заказов на посетителя между группами между группами по «очищенным» данным. Сделаем выводы и предположения."
   ]
  },
  {
   "cell_type": "markdown",
   "metadata": {},
   "source": [
    "Подготовим данные, очищенные от аномалий:\n",
    "* 95-й и 99-й перцентили стоимости заказов равны 26785 и 53904 рублям.\n",
    "* 95-й и 99-й перцентили числа заказов на одного пользователя равны 1 и 2 заказам на пользователя.\n",
    "\n",
    "В качестве аномальных будем считать пользователей, совершивших более 2 заказов или совершивших заказ на сумму более 53904. В результате мы уберем всего 1% пользователей с наибольшим числом заказов и с их наибольшей стоимостью."
   ]
  },
  {
   "cell_type": "code",
   "execution_count": 41,
   "metadata": {},
   "outputs": [],
   "source": [
    "usersWithManyOrders = pd.concat(\n",
    "    [\n",
    "        #ordersByUsersA[ordersByUsersA['orders'] > 2]['userId'],\n",
    "        #ordersByUsersB[ordersByUsersB['orders'] > 2]['userId'],\n",
    "        ordersByUsersA[ordersByUsersA['orders'] > int(np.percentile(orders_by_users['orders'], [99]))]['userId'],\n",
    "        ordersByUsersB[ordersByUsersB['orders'] > int(np.percentile(orders_by_users['orders'], [99]))]['userId'],\n",
    "    ],\n",
    "    axis=0,\n",
    ")\n",
    "\n",
    "usersWithExpensiveOrders = orders[orders['revenue'] > int(np.percentile(orders['revenue'], [99]))]['visitorid']\n",
    "#usersWithExpensiveOrders = orders[orders['revenue'] > 53904]['visitorid']\n",
    "abnormalUsers = (\n",
    "    pd.concat([usersWithManyOrders, usersWithExpensiveOrders], axis=0)\n",
    "    .drop_duplicates()\n",
    "    .sort_values()\n",
    ")\n",
    "sampleAFiltered = pd.concat(\n",
    "    [\n",
    "        ordersByUsersA[\n",
    "            np.logical_not(ordersByUsersA['userId'].isin(abnormalUsers))\n",
    "        ]['orders'],\n",
    "        pd.Series(\n",
    "            0,\n",
    "            index=np.arange(\n",
    "                cummulative['visitorsPerDateA'].sum() - len(ordersByUsersA['orders'])\n",
    "            ),\n",
    "            name='orders',\n",
    "        ),\n",
    "    ],\n",
    "    axis=0,\n",
    ")\n",
    "\n",
    "sampleBFiltered = pd.concat(\n",
    "    [\n",
    "        ordersByUsersB[\n",
    "            np.logical_not(ordersByUsersB['userId'].isin(abnormalUsers))\n",
    "        ]['orders'],\n",
    "        pd.Series(\n",
    "            0,\n",
    "            index=np.arange(\n",
    "                cummulative['visitorsPerDateB'].sum() - len(ordersByUsersB['orders'])\n",
    "            ),\n",
    "            name='orders',\n",
    "        ),\n",
    "    ],\n",
    "    axis=0,\n",
    ")"
   ]
  },
  {
   "cell_type": "markdown",
   "metadata": {},
   "source": [
    "Сформулируем гипотезы:\n",
    "\n",
    "А) Нулевая гипотеза: Статистически значимых различий в среднем количестве заказов между группами по «очищенным» данным нет.\n",
    "\n",
    "Б) Альтернативная гипотеза: Статистически значимые различия в среднем количестве заказов между группами по «очищенным» данным есть.\n",
    "\n",
    "Применим критерием Манна-Уитни.\n",
    "\n",
    "Порогом статистической значимости установим alpha = 0.05."
   ]
  },
  {
   "cell_type": "code",
   "execution_count": 42,
   "metadata": {},
   "outputs": [
    {
     "name": "stdout",
     "output_type": "stream",
     "text": [
      "P-value: 0.007\n",
      "Относительный прирост среднего группы \"В\" к конверсии группы \"А\": 0.189\n"
     ]
    }
   ],
   "source": [
    "print('P-value: ''{0:.3f}'.format(stats.mannwhitneyu(sampleAFiltered, sampleBFiltered)[1]))\n",
    "print('Относительный прирост среднего группы \"В\" к конверсии группы \"А\": ''{0:.3f}'.format(sampleBFiltered.mean()/sampleAFiltered.mean()-1)) "
   ]
  },
  {
   "cell_type": "markdown",
   "metadata": {},
   "source": [
    "Выводы по подсчету статистической значимости различий в среднем количестве заказов на посетителя между группами между группами по «очищенным» данным:\n",
    "1. P-value значительно меньше 0.05, не получилось подтвердить нулевую гипотезу. Среднее количество заказов в группе \"A\" не равно среднему количеству заказов в группе \"B\" (между выборками имеется статистическая значимость).\n",
    "2. Относительный прирост среднего количества заказов группы \"В\" к группе \"А\" равен 18,9%. Изменение по сравнению с прошлыми результатами почти 3%."
   ]
  },
  {
   "cell_type": "markdown",
   "metadata": {},
   "source": [
    "# 2.13 Посчитаем статистическую значимость различий в среднем чеке заказа между группами по «очищенным» данным. Сделаем выводы и предположения."
   ]
  },
  {
   "cell_type": "markdown",
   "metadata": {},
   "source": [
    "Сформулируем гипотезы:\n",
    "\n",
    "А) Нулевая гипотеза: Статистически значимых различий в среднем чеке между группами по «очищенным» данным нет.\n",
    "\n",
    "Б) Альтернативная гипотеза: Статистически значимые различия в среднем чеке между группами по «очищенным» данным есть.\n",
    "\n",
    "Применим критерием Манна-Уитни.\n",
    "\n",
    "Порогом статистической значимости установим alpha = 0.05."
   ]
  },
  {
   "cell_type": "code",
   "execution_count": 43,
   "metadata": {},
   "outputs": [
    {
     "name": "stdout",
     "output_type": "stream",
     "text": [
      "P-value: 0.788\n",
      "Относительное снижение среднего чека группы \"В\" к группе \"А\": -0.032\n"
     ]
    }
   ],
   "source": [
    "print(\n",
    "    'P-value: ''{0:.3f}'.format(\n",
    "        stats.mannwhitneyu(\n",
    "            orders[\n",
    "                np.logical_and(\n",
    "                    orders['group'] == 'A',\n",
    "                    np.logical_not(orders['visitorid'].isin(abnormalUsers)),\n",
    "                )\n",
    "            ]['revenue'],\n",
    "            orders[\n",
    "                np.logical_and(\n",
    "                    orders['group'] == 'B',\n",
    "                    np.logical_not(orders['visitorid'].isin(abnormalUsers)),\n",
    "                )\n",
    "            ]['revenue'],\n",
    "        )[1]\n",
    "    )\n",
    ")\n",
    "\n",
    "print(\n",
    "    'Относительное снижение среднего чека группы \"В\" к группе \"А\": ''{0:.3f}'.format(\n",
    "        orders[\n",
    "            np.logical_and(\n",
    "                orders['group'] == 'B',\n",
    "                np.logical_not(orders['visitorid'].isin(abnormalUsers)),\n",
    "            )\n",
    "        ]['revenue'].mean()\n",
    "        / orders[\n",
    "            np.logical_and(\n",
    "                orders['group'] == 'A',\n",
    "                np.logical_not(orders['visitorid'].isin(abnormalUsers)),\n",
    "            )\n",
    "        ]['revenue'].mean()\n",
    "        - 1\n",
    "    )\n",
    ")"
   ]
  },
  {
   "cell_type": "markdown",
   "metadata": {},
   "source": [
    "Выводы по подсчету статистической значимости различий в среднем чеке заказа между группами по «очищенным» данным:\n",
    "1. P-value значительно больше 0.05, не получилось отвергнуть нулевую гипотезу. Средний чек в группе \"A\" равен среднему чеку в группе \"B\" (статистическая значимость не значительна и сделать вывод о различии нельзя).\n",
    "2. Относительное снижение среднего чека группы \"В\" к группе \"А\" примерно равен 3%. Изменение по сравнению с прошлыми результатами почти 30%."
   ]
  },
  {
   "cell_type": "markdown",
   "metadata": {},
   "source": [
    "# Решение по результатам теста"
   ]
  },
  {
   "cell_type": "markdown",
   "metadata": {},
   "source": [
    "Тест можно остановить и считать успешно пройденным.\n",
    "\n",
    "Среднее количество заказов в группе \"A\" не равно среднему количеству заказов в группе \"B\" (между выборками имеется статистическая значимость) по сырым и по очищенным данным.\n",
    "\n",
    "Средний чек в группе \"A\" равен среднему чеку в группе \"B\" (статистическая значимость не значительна и сделать вывод о различии нельзя) по сырым и по очищенным данным.\n",
    "\n",
    "Анализ показал, что группа \"В\" показывает лучший результат по среднему количеству заказов.\n",
    "\n",
    "Размер среднего чека у групп значимо не отличается."
   ]
  }
 ],
 "metadata": {
  "ExecuteTimeLog": [
   {
    "duration": 1561,
    "start_time": "2023-03-12T17:09:54.404Z"
   },
   {
    "duration": 120,
    "start_time": "2023-03-12T17:13:45.320Z"
   },
   {
    "duration": 20,
    "start_time": "2023-03-12T17:14:37.254Z"
   },
   {
    "duration": 9,
    "start_time": "2023-03-12T17:16:20.118Z"
   },
   {
    "duration": 9,
    "start_time": "2023-03-12T17:16:26.825Z"
   },
   {
    "duration": 38,
    "start_time": "2023-03-12T17:21:45.427Z"
   },
   {
    "duration": 6,
    "start_time": "2023-03-12T17:22:36.395Z"
   },
   {
    "duration": 10,
    "start_time": "2023-03-12T17:22:43.322Z"
   },
   {
    "duration": 21,
    "start_time": "2023-03-12T17:24:32.451Z"
   },
   {
    "duration": 131,
    "start_time": "2023-03-12T17:40:35.096Z"
   },
   {
    "duration": 34,
    "start_time": "2023-03-12T17:40:53.903Z"
   },
   {
    "duration": 6,
    "start_time": "2023-03-12T17:41:40.344Z"
   },
   {
    "duration": 12,
    "start_time": "2023-03-12T17:42:21.731Z"
   },
   {
    "duration": 14,
    "start_time": "2023-03-12T17:43:46.705Z"
   },
   {
    "duration": 36,
    "start_time": "2023-03-12T17:44:24.449Z"
   },
   {
    "duration": 15,
    "start_time": "2023-03-12T17:44:30.968Z"
   },
   {
    "duration": 14,
    "start_time": "2023-03-12T17:44:36.108Z"
   },
   {
    "duration": 18,
    "start_time": "2023-03-12T17:45:34.209Z"
   },
   {
    "duration": 27,
    "start_time": "2023-03-12T17:49:42.463Z"
   },
   {
    "duration": 65,
    "start_time": "2023-03-12T18:04:44.386Z"
   },
   {
    "duration": 5,
    "start_time": "2023-03-12T18:55:59.168Z"
   },
   {
    "duration": 6,
    "start_time": "2023-03-12T18:56:08.193Z"
   },
   {
    "duration": 11,
    "start_time": "2023-03-12T18:56:14.792Z"
   },
   {
    "duration": 10,
    "start_time": "2023-03-12T18:56:40.593Z"
   },
   {
    "duration": 13,
    "start_time": "2023-03-12T18:56:48.792Z"
   },
   {
    "duration": 1228,
    "start_time": "2023-03-12T18:57:47.238Z"
   },
   {
    "duration": 43,
    "start_time": "2023-03-12T18:57:48.474Z"
   },
   {
    "duration": 8,
    "start_time": "2023-03-12T18:57:48.519Z"
   },
   {
    "duration": 12,
    "start_time": "2023-03-12T18:57:48.529Z"
   },
   {
    "duration": 17,
    "start_time": "2023-03-12T18:57:48.543Z"
   },
   {
    "duration": 20,
    "start_time": "2023-03-12T18:57:48.561Z"
   },
   {
    "duration": 14,
    "start_time": "2023-03-12T18:57:48.583Z"
   },
   {
    "duration": 6,
    "start_time": "2023-03-12T18:58:09.338Z"
   },
   {
    "duration": 12,
    "start_time": "2023-03-12T18:59:07.195Z"
   },
   {
    "duration": 1088,
    "start_time": "2023-03-12T18:59:15.505Z"
   },
   {
    "duration": 34,
    "start_time": "2023-03-12T18:59:16.595Z"
   },
   {
    "duration": 9,
    "start_time": "2023-03-12T18:59:16.630Z"
   },
   {
    "duration": 17,
    "start_time": "2023-03-12T18:59:16.640Z"
   },
   {
    "duration": 14,
    "start_time": "2023-03-12T18:59:16.666Z"
   },
   {
    "duration": 12,
    "start_time": "2023-03-12T18:59:16.681Z"
   },
   {
    "duration": 14,
    "start_time": "2023-03-12T18:59:16.694Z"
   },
   {
    "duration": 11,
    "start_time": "2023-03-12T18:59:30.719Z"
   },
   {
    "duration": 11,
    "start_time": "2023-03-12T19:01:10.788Z"
   },
   {
    "duration": 1142,
    "start_time": "2023-03-12T19:07:04.784Z"
   },
   {
    "duration": 46,
    "start_time": "2023-03-12T19:07:05.928Z"
   },
   {
    "duration": 13,
    "start_time": "2023-03-12T19:07:05.975Z"
   },
   {
    "duration": 17,
    "start_time": "2023-03-12T19:07:05.990Z"
   },
   {
    "duration": 29,
    "start_time": "2023-03-12T19:07:06.010Z"
   },
   {
    "duration": 24,
    "start_time": "2023-03-12T19:07:06.040Z"
   },
   {
    "duration": 105,
    "start_time": "2023-03-12T19:12:08.172Z"
   },
   {
    "duration": 60,
    "start_time": "2023-03-12T19:12:22.698Z"
   },
   {
    "duration": 52,
    "start_time": "2023-03-12T19:12:42.399Z"
   },
   {
    "duration": 54,
    "start_time": "2023-03-12T19:12:59.579Z"
   },
   {
    "duration": 51,
    "start_time": "2023-03-12T19:13:05.196Z"
   },
   {
    "duration": 50,
    "start_time": "2023-03-12T19:13:23.776Z"
   },
   {
    "duration": 10,
    "start_time": "2023-03-12T19:13:41.994Z"
   },
   {
    "duration": 5,
    "start_time": "2023-03-12T19:14:16.113Z"
   },
   {
    "duration": 5,
    "start_time": "2023-03-12T19:20:30.835Z"
   },
   {
    "duration": 14,
    "start_time": "2023-03-12T19:20:40.377Z"
   },
   {
    "duration": 93,
    "start_time": "2023-03-12T19:23:02.127Z"
   },
   {
    "duration": 11,
    "start_time": "2023-03-12T19:23:22.675Z"
   },
   {
    "duration": 16,
    "start_time": "2023-03-12T19:23:40.009Z"
   },
   {
    "duration": 5,
    "start_time": "2023-03-12T19:23:46.540Z"
   },
   {
    "duration": 13,
    "start_time": "2023-03-12T19:24:14.786Z"
   },
   {
    "duration": 1236,
    "start_time": "2023-03-12T19:25:06.080Z"
   },
   {
    "duration": 41,
    "start_time": "2023-03-12T19:25:07.318Z"
   },
   {
    "duration": 14,
    "start_time": "2023-03-12T19:25:07.361Z"
   },
   {
    "duration": 13,
    "start_time": "2023-03-12T19:25:07.377Z"
   },
   {
    "duration": 13,
    "start_time": "2023-03-12T19:25:07.392Z"
   },
   {
    "duration": 26,
    "start_time": "2023-03-12T19:25:07.408Z"
   },
   {
    "duration": 54,
    "start_time": "2023-03-12T19:25:07.436Z"
   },
   {
    "duration": 12,
    "start_time": "2023-03-12T19:25:07.492Z"
   },
   {
    "duration": 14,
    "start_time": "2023-03-12T19:25:07.505Z"
   },
   {
    "duration": 6,
    "start_time": "2023-03-12T19:25:07.521Z"
   },
   {
    "duration": 21,
    "start_time": "2023-03-12T19:25:07.528Z"
   },
   {
    "duration": 19,
    "start_time": "2023-03-12T19:25:07.551Z"
   },
   {
    "duration": 13,
    "start_time": "2023-03-12T19:25:07.572Z"
   },
   {
    "duration": 8,
    "start_time": "2023-03-12T19:25:07.588Z"
   },
   {
    "duration": 7,
    "start_time": "2023-03-12T19:39:13.729Z"
   },
   {
    "duration": 940,
    "start_time": "2023-03-12T19:41:15.736Z"
   },
   {
    "duration": 799,
    "start_time": "2023-03-12T19:42:08.854Z"
   },
   {
    "duration": 803,
    "start_time": "2023-03-12T19:43:48.388Z"
   },
   {
    "duration": 12,
    "start_time": "2023-03-12T19:44:37.196Z"
   },
   {
    "duration": 9,
    "start_time": "2023-03-12T19:46:37.728Z"
   },
   {
    "duration": 10,
    "start_time": "2023-03-12T19:46:42.720Z"
   },
   {
    "duration": 16,
    "start_time": "2023-03-12T19:46:54.969Z"
   },
   {
    "duration": 10,
    "start_time": "2023-03-12T19:47:41.292Z"
   },
   {
    "duration": 1237,
    "start_time": "2023-03-12T19:47:52.117Z"
   },
   {
    "duration": 41,
    "start_time": "2023-03-12T19:47:53.356Z"
   },
   {
    "duration": 10,
    "start_time": "2023-03-12T19:47:53.399Z"
   },
   {
    "duration": 21,
    "start_time": "2023-03-12T19:47:53.411Z"
   },
   {
    "duration": 49,
    "start_time": "2023-03-12T19:47:53.434Z"
   },
   {
    "duration": 13,
    "start_time": "2023-03-12T19:47:53.485Z"
   },
   {
    "duration": 47,
    "start_time": "2023-03-12T19:47:53.499Z"
   },
   {
    "duration": 15,
    "start_time": "2023-03-12T19:47:53.548Z"
   },
   {
    "duration": 27,
    "start_time": "2023-03-12T19:47:53.565Z"
   },
   {
    "duration": 13,
    "start_time": "2023-03-12T19:47:53.595Z"
   },
   {
    "duration": 25,
    "start_time": "2023-03-12T19:47:53.610Z"
   },
   {
    "duration": 22,
    "start_time": "2023-03-12T19:47:53.637Z"
   },
   {
    "duration": 11,
    "start_time": "2023-03-12T19:47:53.662Z"
   },
   {
    "duration": 14,
    "start_time": "2023-03-12T19:47:53.675Z"
   },
   {
    "duration": 6,
    "start_time": "2023-03-12T19:47:53.692Z"
   },
   {
    "duration": 10,
    "start_time": "2023-03-12T19:47:53.699Z"
   },
   {
    "duration": 12,
    "start_time": "2023-03-12T19:47:53.711Z"
   },
   {
    "duration": 136,
    "start_time": "2023-03-12T19:50:10.869Z"
   },
   {
    "duration": 1180,
    "start_time": "2023-03-12T19:55:26.151Z"
   },
   {
    "duration": 41,
    "start_time": "2023-03-12T19:55:27.333Z"
   },
   {
    "duration": 9,
    "start_time": "2023-03-12T19:55:27.375Z"
   },
   {
    "duration": 13,
    "start_time": "2023-03-12T19:55:27.387Z"
   },
   {
    "duration": 15,
    "start_time": "2023-03-12T19:55:27.402Z"
   },
   {
    "duration": 39,
    "start_time": "2023-03-12T19:55:27.419Z"
   },
   {
    "duration": 46,
    "start_time": "2023-03-12T19:55:27.460Z"
   },
   {
    "duration": 10,
    "start_time": "2023-03-12T19:55:27.508Z"
   },
   {
    "duration": 16,
    "start_time": "2023-03-12T19:55:27.519Z"
   },
   {
    "duration": 17,
    "start_time": "2023-03-12T19:55:27.537Z"
   },
   {
    "duration": 10,
    "start_time": "2023-03-12T19:55:27.562Z"
   },
   {
    "duration": 22,
    "start_time": "2023-03-12T19:55:27.574Z"
   },
   {
    "duration": 15,
    "start_time": "2023-03-12T19:55:27.598Z"
   },
   {
    "duration": 14,
    "start_time": "2023-03-12T19:55:27.615Z"
   },
   {
    "duration": 7,
    "start_time": "2023-03-12T19:55:27.631Z"
   },
   {
    "duration": 22,
    "start_time": "2023-03-12T19:55:27.640Z"
   },
   {
    "duration": 19,
    "start_time": "2023-03-12T19:55:27.663Z"
   },
   {
    "duration": 120,
    "start_time": "2023-03-12T19:55:27.684Z"
   },
   {
    "duration": 30,
    "start_time": "2023-03-12T19:59:45.073Z"
   },
   {
    "duration": 364,
    "start_time": "2023-03-12T19:59:54.945Z"
   },
   {
    "duration": 349,
    "start_time": "2023-03-12T20:00:38.018Z"
   },
   {
    "duration": 243,
    "start_time": "2023-03-12T20:09:08.878Z"
   },
   {
    "duration": 308,
    "start_time": "2023-03-12T20:22:34.800Z"
   },
   {
    "duration": 250,
    "start_time": "2023-03-12T20:26:41.520Z"
   },
   {
    "duration": 329,
    "start_time": "2023-03-12T20:39:27.073Z"
   },
   {
    "duration": 14,
    "start_time": "2023-03-12T20:44:05.641Z"
   },
   {
    "duration": 11,
    "start_time": "2023-03-12T20:44:17.175Z"
   },
   {
    "duration": 211,
    "start_time": "2023-03-12T20:44:43.997Z"
   },
   {
    "duration": 16,
    "start_time": "2023-03-12T20:48:02.950Z"
   },
   {
    "duration": 5,
    "start_time": "2023-03-12T20:49:34.770Z"
   },
   {
    "duration": 6,
    "start_time": "2023-03-12T20:50:54.371Z"
   },
   {
    "duration": 1153,
    "start_time": "2023-03-12T20:52:57.627Z"
   },
   {
    "duration": 36,
    "start_time": "2023-03-12T20:52:58.782Z"
   },
   {
    "duration": 9,
    "start_time": "2023-03-12T20:52:58.820Z"
   },
   {
    "duration": 12,
    "start_time": "2023-03-12T20:52:58.831Z"
   },
   {
    "duration": 25,
    "start_time": "2023-03-12T20:52:58.845Z"
   },
   {
    "duration": 19,
    "start_time": "2023-03-12T20:52:58.872Z"
   },
   {
    "duration": 41,
    "start_time": "2023-03-12T20:52:58.893Z"
   },
   {
    "duration": 12,
    "start_time": "2023-03-12T20:52:58.937Z"
   },
   {
    "duration": 19,
    "start_time": "2023-03-12T20:52:58.951Z"
   },
   {
    "duration": 15,
    "start_time": "2023-03-12T20:52:58.975Z"
   },
   {
    "duration": 9,
    "start_time": "2023-03-12T20:52:58.992Z"
   },
   {
    "duration": 20,
    "start_time": "2023-03-12T20:52:59.002Z"
   },
   {
    "duration": 11,
    "start_time": "2023-03-12T20:52:59.024Z"
   },
   {
    "duration": 27,
    "start_time": "2023-03-12T20:52:59.036Z"
   },
   {
    "duration": 9,
    "start_time": "2023-03-12T20:52:59.064Z"
   },
   {
    "duration": 6,
    "start_time": "2023-03-12T20:52:59.075Z"
   },
   {
    "duration": 12,
    "start_time": "2023-03-12T20:52:59.083Z"
   },
   {
    "duration": 137,
    "start_time": "2023-03-12T20:52:59.097Z"
   },
   {
    "duration": 335,
    "start_time": "2023-03-12T20:52:59.235Z"
   },
   {
    "duration": 319,
    "start_time": "2023-03-12T20:52:59.572Z"
   },
   {
    "duration": 230,
    "start_time": "2023-03-12T20:52:59.893Z"
   },
   {
    "duration": 354,
    "start_time": "2023-03-12T20:53:00.124Z"
   },
   {
    "duration": 253,
    "start_time": "2023-03-12T20:53:00.480Z"
   },
   {
    "duration": 362,
    "start_time": "2023-03-12T20:53:00.734Z"
   },
   {
    "duration": 12,
    "start_time": "2023-03-12T20:53:01.098Z"
   },
   {
    "duration": 211,
    "start_time": "2023-03-12T20:53:01.112Z"
   },
   {
    "duration": 9,
    "start_time": "2023-03-12T20:53:01.325Z"
   },
   {
    "duration": 59,
    "start_time": "2023-03-12T20:53:01.337Z"
   },
   {
    "duration": 44,
    "start_time": "2023-03-12T20:53:01.398Z"
   },
   {
    "duration": 167,
    "start_time": "2023-03-12T20:54:04.506Z"
   },
   {
    "duration": 457,
    "start_time": "2023-03-12T20:55:34.937Z"
   },
   {
    "duration": 153,
    "start_time": "2023-03-12T20:57:58.776Z"
   },
   {
    "duration": 183,
    "start_time": "2023-03-12T20:58:23.323Z"
   },
   {
    "duration": 9,
    "start_time": "2023-03-12T21:17:51.949Z"
   },
   {
    "duration": 130,
    "start_time": "2023-03-12T21:20:53.419Z"
   },
   {
    "duration": 337,
    "start_time": "2023-03-12T21:21:40.673Z"
   },
   {
    "duration": 22,
    "start_time": "2023-03-12T21:23:41.599Z"
   },
   {
    "duration": 11,
    "start_time": "2023-03-12T21:27:51.372Z"
   },
   {
    "duration": 755,
    "start_time": "2023-03-12T21:33:44.470Z"
   },
   {
    "duration": 16,
    "start_time": "2023-03-12T21:34:07.496Z"
   },
   {
    "duration": 34,
    "start_time": "2023-03-12T21:35:30.054Z"
   },
   {
    "duration": 761,
    "start_time": "2023-03-12T21:40:00.293Z"
   },
   {
    "duration": 13,
    "start_time": "2023-03-12T21:40:10.081Z"
   },
   {
    "duration": 1201,
    "start_time": "2023-03-12T21:44:39.285Z"
   },
   {
    "duration": 42,
    "start_time": "2023-03-12T21:44:40.489Z"
   },
   {
    "duration": 12,
    "start_time": "2023-03-12T21:44:40.533Z"
   },
   {
    "duration": 20,
    "start_time": "2023-03-12T21:44:40.546Z"
   },
   {
    "duration": 19,
    "start_time": "2023-03-12T21:44:40.571Z"
   },
   {
    "duration": 12,
    "start_time": "2023-03-12T21:44:40.593Z"
   },
   {
    "duration": 41,
    "start_time": "2023-03-12T21:44:40.608Z"
   },
   {
    "duration": 19,
    "start_time": "2023-03-12T21:44:40.651Z"
   },
   {
    "duration": 20,
    "start_time": "2023-03-12T21:44:40.672Z"
   },
   {
    "duration": 17,
    "start_time": "2023-03-12T21:44:40.694Z"
   },
   {
    "duration": 20,
    "start_time": "2023-03-12T21:44:40.713Z"
   },
   {
    "duration": 45,
    "start_time": "2023-03-12T21:44:40.735Z"
   },
   {
    "duration": 11,
    "start_time": "2023-03-12T21:44:40.782Z"
   },
   {
    "duration": 12,
    "start_time": "2023-03-12T21:44:40.797Z"
   },
   {
    "duration": 15,
    "start_time": "2023-03-12T21:44:40.810Z"
   },
   {
    "duration": 15,
    "start_time": "2023-03-12T21:44:40.827Z"
   },
   {
    "duration": 14,
    "start_time": "2023-03-12T21:44:40.844Z"
   },
   {
    "duration": 123,
    "start_time": "2023-03-12T21:44:40.859Z"
   },
   {
    "duration": 353,
    "start_time": "2023-03-12T21:44:40.984Z"
   },
   {
    "duration": 321,
    "start_time": "2023-03-12T21:44:41.339Z"
   },
   {
    "duration": 226,
    "start_time": "2023-03-12T21:44:41.661Z"
   },
   {
    "duration": 321,
    "start_time": "2023-03-12T21:44:41.890Z"
   },
   {
    "duration": 274,
    "start_time": "2023-03-12T21:44:42.213Z"
   },
   {
    "duration": 326,
    "start_time": "2023-03-12T21:44:42.490Z"
   },
   {
    "duration": 11,
    "start_time": "2023-03-12T21:44:42.817Z"
   },
   {
    "duration": 190,
    "start_time": "2023-03-12T21:44:42.830Z"
   },
   {
    "duration": 7,
    "start_time": "2023-03-12T21:44:43.022Z"
   },
   {
    "duration": 25,
    "start_time": "2023-03-12T21:44:43.031Z"
   },
   {
    "duration": 8,
    "start_time": "2023-03-12T21:44:43.065Z"
   },
   {
    "duration": 161,
    "start_time": "2023-03-12T21:44:43.074Z"
   },
   {
    "duration": 186,
    "start_time": "2023-03-12T21:44:43.237Z"
   },
   {
    "duration": 271,
    "start_time": "2023-03-12T21:44:43.425Z"
   },
   {
    "duration": 8,
    "start_time": "2023-03-12T21:44:43.698Z"
   },
   {
    "duration": 426,
    "start_time": "2023-03-12T21:44:43.708Z"
   },
   {
    "duration": 34,
    "start_time": "2023-03-12T21:44:44.136Z"
   },
   {
    "duration": 14,
    "start_time": "2023-03-12T21:44:44.175Z"
   },
   {
    "duration": 19,
    "start_time": "2023-03-12T21:44:44.198Z"
   },
   {
    "duration": 42,
    "start_time": "2023-03-12T21:44:44.222Z"
   },
   {
    "duration": 20,
    "start_time": "2023-03-12T21:44:44.269Z"
   },
   {
    "duration": 1373,
    "start_time": "2023-03-12T21:46:32.935Z"
   },
   {
    "duration": 52,
    "start_time": "2023-03-12T21:46:34.311Z"
   },
   {
    "duration": 11,
    "start_time": "2023-03-12T21:46:34.365Z"
   },
   {
    "duration": 16,
    "start_time": "2023-03-12T21:46:34.378Z"
   },
   {
    "duration": 17,
    "start_time": "2023-03-12T21:46:34.397Z"
   },
   {
    "duration": 14,
    "start_time": "2023-03-12T21:46:34.416Z"
   },
   {
    "duration": 47,
    "start_time": "2023-03-12T21:46:34.454Z"
   },
   {
    "duration": 10,
    "start_time": "2023-03-12T21:46:34.503Z"
   },
   {
    "duration": 16,
    "start_time": "2023-03-12T21:46:34.515Z"
   },
   {
    "duration": 16,
    "start_time": "2023-03-12T21:46:34.533Z"
   },
   {
    "duration": 10,
    "start_time": "2023-03-12T21:46:34.556Z"
   },
   {
    "duration": 24,
    "start_time": "2023-03-12T21:46:34.571Z"
   },
   {
    "duration": 11,
    "start_time": "2023-03-12T21:46:34.597Z"
   },
   {
    "duration": 14,
    "start_time": "2023-03-12T21:46:34.612Z"
   },
   {
    "duration": 47,
    "start_time": "2023-03-12T21:46:34.627Z"
   },
   {
    "duration": 8,
    "start_time": "2023-03-12T21:46:34.684Z"
   },
   {
    "duration": 18,
    "start_time": "2023-03-12T21:46:34.694Z"
   },
   {
    "duration": 135,
    "start_time": "2023-03-12T21:46:34.713Z"
   },
   {
    "duration": 353,
    "start_time": "2023-03-12T21:46:34.852Z"
   },
   {
    "duration": 360,
    "start_time": "2023-03-12T21:46:35.207Z"
   },
   {
    "duration": 266,
    "start_time": "2023-03-12T21:46:35.570Z"
   },
   {
    "duration": 371,
    "start_time": "2023-03-12T21:46:35.838Z"
   },
   {
    "duration": 362,
    "start_time": "2023-03-12T21:46:36.211Z"
   },
   {
    "duration": 370,
    "start_time": "2023-03-12T21:46:36.575Z"
   },
   {
    "duration": 16,
    "start_time": "2023-03-12T21:46:36.956Z"
   },
   {
    "duration": 203,
    "start_time": "2023-03-12T21:46:36.974Z"
   },
   {
    "duration": 8,
    "start_time": "2023-03-12T21:46:37.179Z"
   },
   {
    "duration": 5,
    "start_time": "2023-03-12T21:46:37.188Z"
   },
   {
    "duration": 9,
    "start_time": "2023-03-12T21:46:37.195Z"
   },
   {
    "duration": 190,
    "start_time": "2023-03-12T21:46:37.206Z"
   },
   {
    "duration": 166,
    "start_time": "2023-03-12T21:46:37.398Z"
   },
   {
    "duration": 237,
    "start_time": "2023-03-12T21:46:37.571Z"
   },
   {
    "duration": 7,
    "start_time": "2023-03-12T21:46:37.809Z"
   },
   {
    "duration": 358,
    "start_time": "2023-03-12T21:46:37.818Z"
   },
   {
    "duration": 21,
    "start_time": "2023-03-12T21:46:38.178Z"
   },
   {
    "duration": 10,
    "start_time": "2023-03-12T21:46:38.200Z"
   },
   {
    "duration": 13,
    "start_time": "2023-03-12T21:46:38.212Z"
   },
   {
    "duration": 50,
    "start_time": "2023-03-12T21:46:38.227Z"
   },
   {
    "duration": 13,
    "start_time": "2023-03-12T21:46:38.279Z"
   },
   {
    "duration": 1133,
    "start_time": "2023-03-12T21:51:55.916Z"
   },
   {
    "duration": 37,
    "start_time": "2023-03-12T21:51:57.051Z"
   },
   {
    "duration": 8,
    "start_time": "2023-03-12T21:51:57.090Z"
   },
   {
    "duration": 16,
    "start_time": "2023-03-12T21:51:57.099Z"
   },
   {
    "duration": 12,
    "start_time": "2023-03-12T21:51:57.117Z"
   },
   {
    "duration": 11,
    "start_time": "2023-03-12T21:51:57.131Z"
   },
   {
    "duration": 42,
    "start_time": "2023-03-12T21:51:57.158Z"
   },
   {
    "duration": 9,
    "start_time": "2023-03-12T21:51:57.202Z"
   },
   {
    "duration": 18,
    "start_time": "2023-03-12T21:51:57.213Z"
   },
   {
    "duration": 18,
    "start_time": "2023-03-12T21:51:57.233Z"
   },
   {
    "duration": 18,
    "start_time": "2023-03-12T21:51:57.253Z"
   },
   {
    "duration": 21,
    "start_time": "2023-03-12T21:51:57.273Z"
   },
   {
    "duration": 10,
    "start_time": "2023-03-12T21:51:57.296Z"
   },
   {
    "duration": 13,
    "start_time": "2023-03-12T21:51:57.309Z"
   },
   {
    "duration": 10,
    "start_time": "2023-03-12T21:51:57.323Z"
   },
   {
    "duration": 32,
    "start_time": "2023-03-12T21:51:57.334Z"
   },
   {
    "duration": 11,
    "start_time": "2023-03-12T21:51:57.369Z"
   },
   {
    "duration": 116,
    "start_time": "2023-03-12T21:51:57.381Z"
   },
   {
    "duration": 333,
    "start_time": "2023-03-12T21:51:57.499Z"
   },
   {
    "duration": 324,
    "start_time": "2023-03-12T21:51:57.834Z"
   },
   {
    "duration": 225,
    "start_time": "2023-03-12T21:51:58.167Z"
   },
   {
    "duration": 293,
    "start_time": "2023-03-12T21:51:58.394Z"
   },
   {
    "duration": 252,
    "start_time": "2023-03-12T21:51:58.689Z"
   },
   {
    "duration": 373,
    "start_time": "2023-03-12T21:51:58.943Z"
   },
   {
    "duration": 15,
    "start_time": "2023-03-12T21:51:59.319Z"
   },
   {
    "duration": 196,
    "start_time": "2023-03-12T21:51:59.336Z"
   },
   {
    "duration": 7,
    "start_time": "2023-03-12T21:51:59.534Z"
   },
   {
    "duration": 26,
    "start_time": "2023-03-12T21:51:59.543Z"
   },
   {
    "duration": 6,
    "start_time": "2023-03-12T21:51:59.571Z"
   },
   {
    "duration": 166,
    "start_time": "2023-03-12T21:51:59.578Z"
   },
   {
    "duration": 175,
    "start_time": "2023-03-12T21:51:59.746Z"
   },
   {
    "duration": 255,
    "start_time": "2023-03-12T21:51:59.923Z"
   },
   {
    "duration": 7,
    "start_time": "2023-03-12T21:52:00.180Z"
   },
   {
    "duration": 365,
    "start_time": "2023-03-12T21:52:00.189Z"
   },
   {
    "duration": 22,
    "start_time": "2023-03-12T21:52:00.563Z"
   },
   {
    "duration": 18,
    "start_time": "2023-03-12T21:52:00.587Z"
   },
   {
    "duration": 31,
    "start_time": "2023-03-12T21:52:00.607Z"
   },
   {
    "duration": 46,
    "start_time": "2023-03-12T21:52:00.640Z"
   },
   {
    "duration": 19,
    "start_time": "2023-03-12T21:52:00.688Z"
   },
   {
    "duration": 1358,
    "start_time": "2023-03-12T21:54:34.538Z"
   },
   {
    "duration": 37,
    "start_time": "2023-03-12T21:54:35.898Z"
   },
   {
    "duration": 11,
    "start_time": "2023-03-12T21:54:35.937Z"
   },
   {
    "duration": 18,
    "start_time": "2023-03-12T21:54:35.950Z"
   },
   {
    "duration": 15,
    "start_time": "2023-03-12T21:54:35.976Z"
   },
   {
    "duration": 14,
    "start_time": "2023-03-12T21:54:35.992Z"
   },
   {
    "duration": 47,
    "start_time": "2023-03-12T21:54:36.008Z"
   },
   {
    "duration": 22,
    "start_time": "2023-03-12T21:54:36.058Z"
   },
   {
    "duration": 17,
    "start_time": "2023-03-12T21:54:36.083Z"
   },
   {
    "duration": 20,
    "start_time": "2023-03-12T21:54:36.102Z"
   },
   {
    "duration": 9,
    "start_time": "2023-03-12T21:54:36.124Z"
   },
   {
    "duration": 32,
    "start_time": "2023-03-12T21:54:36.153Z"
   },
   {
    "duration": 17,
    "start_time": "2023-03-12T21:54:36.187Z"
   },
   {
    "duration": 20,
    "start_time": "2023-03-12T21:54:36.210Z"
   },
   {
    "duration": 20,
    "start_time": "2023-03-12T21:54:36.233Z"
   },
   {
    "duration": 13,
    "start_time": "2023-03-12T21:54:36.256Z"
   },
   {
    "duration": 14,
    "start_time": "2023-03-12T21:54:36.274Z"
   },
   {
    "duration": 149,
    "start_time": "2023-03-12T21:54:36.290Z"
   },
   {
    "duration": 408,
    "start_time": "2023-03-12T21:54:36.440Z"
   },
   {
    "duration": 364,
    "start_time": "2023-03-12T21:54:36.853Z"
   },
   {
    "duration": 267,
    "start_time": "2023-03-12T21:54:37.219Z"
   },
   {
    "duration": 327,
    "start_time": "2023-03-12T21:54:37.488Z"
   },
   {
    "duration": 315,
    "start_time": "2023-03-12T21:54:37.818Z"
   },
   {
    "duration": 372,
    "start_time": "2023-03-12T21:54:38.138Z"
   },
   {
    "duration": 13,
    "start_time": "2023-03-12T21:54:38.513Z"
   },
   {
    "duration": 194,
    "start_time": "2023-03-12T21:54:38.528Z"
   },
   {
    "duration": 8,
    "start_time": "2023-03-12T21:54:38.725Z"
   },
   {
    "duration": 27,
    "start_time": "2023-03-12T21:54:38.735Z"
   },
   {
    "duration": 14,
    "start_time": "2023-03-12T21:54:38.769Z"
   },
   {
    "duration": 181,
    "start_time": "2023-03-12T21:54:38.787Z"
   },
   {
    "duration": 169,
    "start_time": "2023-03-12T21:54:38.970Z"
   },
   {
    "duration": 246,
    "start_time": "2023-03-12T21:54:39.141Z"
   },
   {
    "duration": 7,
    "start_time": "2023-03-12T21:54:39.389Z"
   },
   {
    "duration": 374,
    "start_time": "2023-03-12T21:54:39.397Z"
   },
   {
    "duration": 25,
    "start_time": "2023-03-12T21:54:39.774Z"
   },
   {
    "duration": 14,
    "start_time": "2023-03-12T21:54:39.801Z"
   },
   {
    "duration": 45,
    "start_time": "2023-03-12T21:54:39.817Z"
   },
   {
    "duration": 24,
    "start_time": "2023-03-12T21:54:39.863Z"
   },
   {
    "duration": 18,
    "start_time": "2023-03-12T21:54:39.889Z"
   },
   {
    "duration": 1383,
    "start_time": "2023-03-12T22:46:16.178Z"
   },
   {
    "duration": 90,
    "start_time": "2023-03-12T22:46:17.563Z"
   },
   {
    "duration": 9,
    "start_time": "2023-03-12T22:46:17.657Z"
   },
   {
    "duration": 13,
    "start_time": "2023-03-12T22:46:17.667Z"
   },
   {
    "duration": 18,
    "start_time": "2023-03-12T22:46:17.682Z"
   },
   {
    "duration": 13,
    "start_time": "2023-03-12T22:46:17.701Z"
   },
   {
    "duration": 98,
    "start_time": "2023-03-12T22:46:17.716Z"
   },
   {
    "duration": 8,
    "start_time": "2023-03-12T22:46:17.816Z"
   },
   {
    "duration": 11,
    "start_time": "2023-03-12T22:46:17.827Z"
   },
   {
    "duration": 16,
    "start_time": "2023-03-12T22:46:17.840Z"
   },
   {
    "duration": 9,
    "start_time": "2023-03-12T22:46:17.858Z"
   },
   {
    "duration": 66,
    "start_time": "2023-03-12T22:46:17.869Z"
   },
   {
    "duration": 14,
    "start_time": "2023-03-12T22:46:17.938Z"
   },
   {
    "duration": 19,
    "start_time": "2023-03-12T22:46:17.954Z"
   },
   {
    "duration": 10,
    "start_time": "2023-03-12T22:46:17.975Z"
   },
   {
    "duration": 9,
    "start_time": "2023-03-12T22:46:17.987Z"
   },
   {
    "duration": 12,
    "start_time": "2023-03-12T22:46:17.998Z"
   },
   {
    "duration": 139,
    "start_time": "2023-03-12T22:46:18.011Z"
   },
   {
    "duration": 328,
    "start_time": "2023-03-12T22:46:18.152Z"
   },
   {
    "duration": 323,
    "start_time": "2023-03-12T22:46:18.482Z"
   },
   {
    "duration": 252,
    "start_time": "2023-03-12T22:46:18.807Z"
   },
   {
    "duration": 383,
    "start_time": "2023-03-12T22:46:19.061Z"
   },
   {
    "duration": 254,
    "start_time": "2023-03-12T22:46:19.445Z"
   },
   {
    "duration": 340,
    "start_time": "2023-03-12T22:46:19.701Z"
   },
   {
    "duration": 12,
    "start_time": "2023-03-12T22:46:20.044Z"
   },
   {
    "duration": 195,
    "start_time": "2023-03-12T22:46:20.058Z"
   },
   {
    "duration": 18,
    "start_time": "2023-03-12T22:46:20.256Z"
   },
   {
    "duration": 4,
    "start_time": "2023-03-12T22:46:20.276Z"
   },
   {
    "duration": 15,
    "start_time": "2023-03-12T22:46:20.282Z"
   },
   {
    "duration": 187,
    "start_time": "2023-03-12T22:46:20.299Z"
   },
   {
    "duration": 216,
    "start_time": "2023-03-12T22:46:20.488Z"
   },
   {
    "duration": 252,
    "start_time": "2023-03-12T22:46:20.706Z"
   },
   {
    "duration": 13,
    "start_time": "2023-03-12T22:46:20.960Z"
   },
   {
    "duration": 359,
    "start_time": "2023-03-12T22:46:20.975Z"
   },
   {
    "duration": 25,
    "start_time": "2023-03-12T22:46:21.336Z"
   },
   {
    "duration": 19,
    "start_time": "2023-03-12T22:46:21.362Z"
   },
   {
    "duration": 15,
    "start_time": "2023-03-12T22:46:21.383Z"
   },
   {
    "duration": 30,
    "start_time": "2023-03-12T22:46:21.400Z"
   },
   {
    "duration": 15,
    "start_time": "2023-03-12T22:46:21.432Z"
   },
   {
    "duration": 1262,
    "start_time": "2023-03-12T23:30:19.748Z"
   },
   {
    "duration": 34,
    "start_time": "2023-03-12T23:30:21.012Z"
   },
   {
    "duration": 8,
    "start_time": "2023-03-12T23:30:21.048Z"
   },
   {
    "duration": 24,
    "start_time": "2023-03-12T23:30:21.058Z"
   },
   {
    "duration": 15,
    "start_time": "2023-03-12T23:30:21.084Z"
   },
   {
    "duration": 12,
    "start_time": "2023-03-12T23:30:21.100Z"
   },
   {
    "duration": 50,
    "start_time": "2023-03-12T23:30:21.114Z"
   },
   {
    "duration": 12,
    "start_time": "2023-03-12T23:30:21.167Z"
   },
   {
    "duration": 29,
    "start_time": "2023-03-12T23:30:21.181Z"
   },
   {
    "duration": 18,
    "start_time": "2023-03-12T23:30:21.214Z"
   },
   {
    "duration": 11,
    "start_time": "2023-03-12T23:30:21.234Z"
   },
   {
    "duration": 26,
    "start_time": "2023-03-12T23:30:21.247Z"
   },
   {
    "duration": 11,
    "start_time": "2023-03-12T23:30:21.274Z"
   },
   {
    "duration": 33,
    "start_time": "2023-03-12T23:30:21.286Z"
   },
   {
    "duration": 16,
    "start_time": "2023-03-12T23:30:21.321Z"
   },
   {
    "duration": 15,
    "start_time": "2023-03-12T23:30:21.339Z"
   },
   {
    "duration": 17,
    "start_time": "2023-03-12T23:30:21.356Z"
   },
   {
    "duration": 120,
    "start_time": "2023-03-12T23:30:21.375Z"
   },
   {
    "duration": 328,
    "start_time": "2023-03-12T23:30:21.497Z"
   },
   {
    "duration": 328,
    "start_time": "2023-03-12T23:30:21.827Z"
   },
   {
    "duration": 256,
    "start_time": "2023-03-12T23:30:22.157Z"
   },
   {
    "duration": 319,
    "start_time": "2023-03-12T23:30:22.415Z"
   },
   {
    "duration": 253,
    "start_time": "2023-03-12T23:30:22.736Z"
   },
   {
    "duration": 330,
    "start_time": "2023-03-12T23:30:22.991Z"
   },
   {
    "duration": 12,
    "start_time": "2023-03-12T23:30:23.323Z"
   },
   {
    "duration": 192,
    "start_time": "2023-03-12T23:30:23.336Z"
   },
   {
    "duration": 7,
    "start_time": "2023-03-12T23:30:23.530Z"
   },
   {
    "duration": 4,
    "start_time": "2023-03-12T23:30:23.541Z"
   },
   {
    "duration": 27,
    "start_time": "2023-03-12T23:30:23.547Z"
   },
   {
    "duration": 176,
    "start_time": "2023-03-12T23:30:23.575Z"
   },
   {
    "duration": 186,
    "start_time": "2023-03-12T23:30:23.753Z"
   },
   {
    "duration": 258,
    "start_time": "2023-03-12T23:30:23.940Z"
   },
   {
    "duration": 8,
    "start_time": "2023-03-12T23:30:24.199Z"
   },
   {
    "duration": 194,
    "start_time": "2023-03-12T23:30:24.208Z"
   },
   {
    "duration": 24,
    "start_time": "2023-03-12T23:30:24.404Z"
   },
   {
    "duration": 10,
    "start_time": "2023-03-12T23:30:24.430Z"
   },
   {
    "duration": 43,
    "start_time": "2023-03-12T23:30:24.442Z"
   },
   {
    "duration": 28,
    "start_time": "2023-03-12T23:30:24.487Z"
   },
   {
    "duration": 14,
    "start_time": "2023-03-12T23:30:24.517Z"
   },
   {
    "duration": 1275,
    "start_time": "2023-03-12T23:30:55.183Z"
   },
   {
    "duration": 36,
    "start_time": "2023-03-12T23:30:56.460Z"
   },
   {
    "duration": 11,
    "start_time": "2023-03-12T23:30:56.498Z"
   },
   {
    "duration": 17,
    "start_time": "2023-03-12T23:30:56.512Z"
   },
   {
    "duration": 17,
    "start_time": "2023-03-12T23:30:56.531Z"
   },
   {
    "duration": 26,
    "start_time": "2023-03-12T23:30:56.550Z"
   },
   {
    "duration": 47,
    "start_time": "2023-03-12T23:30:56.577Z"
   },
   {
    "duration": 8,
    "start_time": "2023-03-12T23:30:56.626Z"
   },
   {
    "duration": 19,
    "start_time": "2023-03-12T23:30:56.636Z"
   },
   {
    "duration": 18,
    "start_time": "2023-03-12T23:30:56.658Z"
   },
   {
    "duration": 8,
    "start_time": "2023-03-12T23:30:56.678Z"
   },
   {
    "duration": 21,
    "start_time": "2023-03-12T23:30:56.688Z"
   },
   {
    "duration": 13,
    "start_time": "2023-03-12T23:30:56.711Z"
   },
   {
    "duration": 14,
    "start_time": "2023-03-12T23:30:56.726Z"
   },
   {
    "duration": 9,
    "start_time": "2023-03-12T23:30:56.742Z"
   },
   {
    "duration": 7,
    "start_time": "2023-03-12T23:30:56.772Z"
   },
   {
    "duration": 13,
    "start_time": "2023-03-12T23:30:56.781Z"
   },
   {
    "duration": 138,
    "start_time": "2023-03-12T23:30:56.796Z"
   },
   {
    "duration": 341,
    "start_time": "2023-03-12T23:30:56.936Z"
   },
   {
    "duration": 327,
    "start_time": "2023-03-12T23:30:57.280Z"
   },
   {
    "duration": 249,
    "start_time": "2023-03-12T23:30:57.609Z"
   },
   {
    "duration": 349,
    "start_time": "2023-03-12T23:30:57.859Z"
   },
   {
    "duration": 250,
    "start_time": "2023-03-12T23:30:58.210Z"
   },
   {
    "duration": 356,
    "start_time": "2023-03-12T23:30:58.461Z"
   },
   {
    "duration": 11,
    "start_time": "2023-03-12T23:30:58.818Z"
   },
   {
    "duration": 208,
    "start_time": "2023-03-12T23:30:58.831Z"
   },
   {
    "duration": 8,
    "start_time": "2023-03-12T23:30:59.041Z"
   },
   {
    "duration": 20,
    "start_time": "2023-03-12T23:30:59.053Z"
   },
   {
    "duration": 11,
    "start_time": "2023-03-12T23:30:59.075Z"
   },
   {
    "duration": 169,
    "start_time": "2023-03-12T23:30:59.088Z"
   },
   {
    "duration": 174,
    "start_time": "2023-03-12T23:30:59.258Z"
   },
   {
    "duration": 248,
    "start_time": "2023-03-12T23:30:59.434Z"
   },
   {
    "duration": 7,
    "start_time": "2023-03-12T23:30:59.683Z"
   },
   {
    "duration": 368,
    "start_time": "2023-03-12T23:30:59.691Z"
   },
   {
    "duration": 31,
    "start_time": "2023-03-12T23:31:00.061Z"
   },
   {
    "duration": 12,
    "start_time": "2023-03-12T23:31:00.093Z"
   },
   {
    "duration": 22,
    "start_time": "2023-03-12T23:31:00.106Z"
   },
   {
    "duration": 46,
    "start_time": "2023-03-12T23:31:00.130Z"
   },
   {
    "duration": 14,
    "start_time": "2023-03-12T23:31:00.178Z"
   },
   {
    "duration": 56,
    "start_time": "2023-03-13T16:53:17.551Z"
   },
   {
    "duration": 44,
    "start_time": "2023-03-13T16:53:56.939Z"
   },
   {
    "duration": 40,
    "start_time": "2023-03-13T16:59:41.993Z"
   },
   {
    "duration": 6,
    "start_time": "2023-03-13T17:00:21.973Z"
   },
   {
    "duration": 1303,
    "start_time": "2023-03-13T17:00:32.417Z"
   },
   {
    "duration": 88,
    "start_time": "2023-03-13T17:00:33.724Z"
   },
   {
    "duration": 8,
    "start_time": "2023-03-13T17:00:33.814Z"
   },
   {
    "duration": 21,
    "start_time": "2023-03-13T17:00:33.823Z"
   },
   {
    "duration": 13,
    "start_time": "2023-03-13T17:00:33.846Z"
   },
   {
    "duration": 23,
    "start_time": "2023-03-13T17:00:33.860Z"
   },
   {
    "duration": 92,
    "start_time": "2023-03-13T17:00:33.885Z"
   },
   {
    "duration": 7,
    "start_time": "2023-03-13T17:00:33.979Z"
   },
   {
    "duration": 13,
    "start_time": "2023-03-13T17:00:33.988Z"
   },
   {
    "duration": 14,
    "start_time": "2023-03-13T17:00:34.002Z"
   },
   {
    "duration": 18,
    "start_time": "2023-03-13T17:00:34.018Z"
   },
   {
    "duration": 89,
    "start_time": "2023-03-13T17:00:34.037Z"
   },
   {
    "duration": 14,
    "start_time": "2023-03-13T17:00:34.129Z"
   },
   {
    "duration": 23,
    "start_time": "2023-03-13T17:00:34.146Z"
   },
   {
    "duration": 13,
    "start_time": "2023-03-13T17:00:34.171Z"
   },
   {
    "duration": 14,
    "start_time": "2023-03-13T17:00:34.186Z"
   },
   {
    "duration": 23,
    "start_time": "2023-03-13T17:00:34.202Z"
   },
   {
    "duration": 123,
    "start_time": "2023-03-13T17:00:34.226Z"
   },
   {
    "duration": 314,
    "start_time": "2023-03-13T17:00:34.351Z"
   },
   {
    "duration": 8,
    "start_time": "2023-03-13T17:00:34.667Z"
   },
   {
    "duration": 12,
    "start_time": "2023-03-13T17:00:34.677Z"
   },
   {
    "duration": 305,
    "start_time": "2023-03-13T17:00:34.691Z"
   },
   {
    "duration": 212,
    "start_time": "2023-03-13T17:00:34.997Z"
   },
   {
    "duration": 374,
    "start_time": "2023-03-13T17:00:35.211Z"
   },
   {
    "duration": 226,
    "start_time": "2023-03-13T17:00:35.587Z"
   },
   {
    "duration": 348,
    "start_time": "2023-03-13T17:00:35.823Z"
   },
   {
    "duration": 11,
    "start_time": "2023-03-13T17:00:36.173Z"
   },
   {
    "duration": 192,
    "start_time": "2023-03-13T17:00:36.186Z"
   },
   {
    "duration": 7,
    "start_time": "2023-03-13T17:00:36.380Z"
   },
   {
    "duration": 6,
    "start_time": "2023-03-13T17:00:36.389Z"
   },
   {
    "duration": 8,
    "start_time": "2023-03-13T17:00:36.397Z"
   },
   {
    "duration": 178,
    "start_time": "2023-03-13T17:00:36.406Z"
   },
   {
    "duration": 183,
    "start_time": "2023-03-13T17:00:36.585Z"
   },
   {
    "duration": 221,
    "start_time": "2023-03-13T17:00:36.769Z"
   },
   {
    "duration": 7,
    "start_time": "2023-03-13T17:00:36.991Z"
   },
   {
    "duration": 331,
    "start_time": "2023-03-13T17:00:37.000Z"
   },
   {
    "duration": 23,
    "start_time": "2023-03-13T17:00:37.333Z"
   },
   {
    "duration": 11,
    "start_time": "2023-03-13T17:00:37.357Z"
   },
   {
    "duration": 13,
    "start_time": "2023-03-13T17:00:37.369Z"
   },
   {
    "duration": 48,
    "start_time": "2023-03-13T17:00:37.384Z"
   },
   {
    "duration": 13,
    "start_time": "2023-03-13T17:00:37.435Z"
   },
   {
    "duration": 4,
    "start_time": "2023-03-13T17:01:49.153Z"
   },
   {
    "duration": 5,
    "start_time": "2023-03-13T17:02:00.233Z"
   },
   {
    "duration": 4,
    "start_time": "2023-03-13T17:02:36.667Z"
   },
   {
    "duration": 5,
    "start_time": "2023-03-13T17:02:38.951Z"
   },
   {
    "duration": 5,
    "start_time": "2023-03-13T17:02:45.507Z"
   },
   {
    "duration": 4,
    "start_time": "2023-03-13T17:02:47.957Z"
   },
   {
    "duration": 5,
    "start_time": "2023-03-13T17:04:37.512Z"
   },
   {
    "duration": 5,
    "start_time": "2023-03-13T17:04:39.976Z"
   },
   {
    "duration": 5,
    "start_time": "2023-03-13T17:05:02.241Z"
   },
   {
    "duration": 4,
    "start_time": "2023-03-13T17:05:04.525Z"
   },
   {
    "duration": 1083,
    "start_time": "2023-03-13T17:06:22.071Z"
   },
   {
    "duration": 33,
    "start_time": "2023-03-13T17:06:23.156Z"
   },
   {
    "duration": 7,
    "start_time": "2023-03-13T17:06:23.190Z"
   },
   {
    "duration": 40,
    "start_time": "2023-03-13T17:06:23.199Z"
   },
   {
    "duration": 13,
    "start_time": "2023-03-13T17:06:23.242Z"
   },
   {
    "duration": 10,
    "start_time": "2023-03-13T17:06:23.256Z"
   },
   {
    "duration": 41,
    "start_time": "2023-03-13T17:06:23.268Z"
   },
   {
    "duration": 8,
    "start_time": "2023-03-13T17:06:23.310Z"
   },
   {
    "duration": 11,
    "start_time": "2023-03-13T17:06:23.319Z"
   },
   {
    "duration": 13,
    "start_time": "2023-03-13T17:06:23.331Z"
   },
   {
    "duration": 6,
    "start_time": "2023-03-13T17:06:23.345Z"
   },
   {
    "duration": 19,
    "start_time": "2023-03-13T17:06:23.353Z"
   },
   {
    "duration": 11,
    "start_time": "2023-03-13T17:06:23.373Z"
   },
   {
    "duration": 17,
    "start_time": "2023-03-13T17:06:23.386Z"
   },
   {
    "duration": 22,
    "start_time": "2023-03-13T17:06:23.404Z"
   },
   {
    "duration": 5,
    "start_time": "2023-03-13T17:06:23.427Z"
   },
   {
    "duration": 9,
    "start_time": "2023-03-13T17:06:23.434Z"
   },
   {
    "duration": 119,
    "start_time": "2023-03-13T17:06:23.445Z"
   },
   {
    "duration": 297,
    "start_time": "2023-03-13T17:06:23.565Z"
   },
   {
    "duration": 5,
    "start_time": "2023-03-13T17:06:23.863Z"
   },
   {
    "duration": 21,
    "start_time": "2023-03-13T17:06:23.869Z"
   },
   {
    "duration": 7,
    "start_time": "2023-03-13T17:06:23.891Z"
   },
   {
    "duration": 27,
    "start_time": "2023-03-13T17:06:23.900Z"
   },
   {
    "duration": 285,
    "start_time": "2023-03-13T17:06:23.929Z"
   },
   {
    "duration": 223,
    "start_time": "2023-03-13T17:06:24.216Z"
   },
   {
    "duration": 298,
    "start_time": "2023-03-13T17:06:24.440Z"
   },
   {
    "duration": 226,
    "start_time": "2023-03-13T17:06:24.739Z"
   },
   {
    "duration": 293,
    "start_time": "2023-03-13T17:06:24.967Z"
   },
   {
    "duration": 10,
    "start_time": "2023-03-13T17:06:25.261Z"
   },
   {
    "duration": 167,
    "start_time": "2023-03-13T17:06:25.273Z"
   },
   {
    "duration": 6,
    "start_time": "2023-03-13T17:06:25.442Z"
   },
   {
    "duration": 10,
    "start_time": "2023-03-13T17:06:25.449Z"
   },
   {
    "duration": 8,
    "start_time": "2023-03-13T17:06:25.460Z"
   },
   {
    "duration": 159,
    "start_time": "2023-03-13T17:06:25.469Z"
   },
   {
    "duration": 154,
    "start_time": "2023-03-13T17:06:25.630Z"
   },
   {
    "duration": 223,
    "start_time": "2023-03-13T17:06:25.786Z"
   },
   {
    "duration": 16,
    "start_time": "2023-03-13T17:06:26.011Z"
   },
   {
    "duration": 351,
    "start_time": "2023-03-13T17:06:26.029Z"
   },
   {
    "duration": 21,
    "start_time": "2023-03-13T17:06:26.382Z"
   },
   {
    "duration": 29,
    "start_time": "2023-03-13T17:06:26.404Z"
   },
   {
    "duration": 17,
    "start_time": "2023-03-13T17:06:26.439Z"
   },
   {
    "duration": 33,
    "start_time": "2023-03-13T17:06:26.457Z"
   },
   {
    "duration": 14,
    "start_time": "2023-03-13T17:06:26.492Z"
   },
   {
    "duration": 206,
    "start_time": "2023-03-13T17:10:39.593Z"
   },
   {
    "duration": 215,
    "start_time": "2023-03-13T17:11:05.097Z"
   },
   {
    "duration": 311,
    "start_time": "2023-03-13T17:12:35.241Z"
   },
   {
    "duration": 274,
    "start_time": "2023-03-13T17:12:40.371Z"
   },
   {
    "duration": 42,
    "start_time": "2023-03-13T17:12:59.048Z"
   },
   {
    "duration": 230,
    "start_time": "2023-03-13T17:14:13.398Z"
   },
   {
    "duration": 54,
    "start_time": "2023-03-13T17:15:57.202Z"
   },
   {
    "duration": 337,
    "start_time": "2023-03-13T17:16:37.808Z"
   },
   {
    "duration": 158,
    "start_time": "2023-03-13T17:21:54.793Z"
   },
   {
    "duration": 153,
    "start_time": "2023-03-13T17:22:17.824Z"
   },
   {
    "duration": 24,
    "start_time": "2023-03-13T18:01:36.309Z"
   },
   {
    "duration": 23,
    "start_time": "2023-03-13T18:12:51.330Z"
   },
   {
    "duration": 11,
    "start_time": "2023-03-13T18:15:49.884Z"
   },
   {
    "duration": 24,
    "start_time": "2023-03-13T18:17:30.644Z"
   },
   {
    "duration": 14,
    "start_time": "2023-03-13T18:20:05.729Z"
   },
   {
    "duration": 13,
    "start_time": "2023-03-13T18:20:17.289Z"
   },
   {
    "duration": 14,
    "start_time": "2023-03-13T18:20:30.722Z"
   },
   {
    "duration": 47,
    "start_time": "2023-03-13T18:21:23.196Z"
   },
   {
    "duration": 1148,
    "start_time": "2023-03-13T18:22:16.608Z"
   },
   {
    "duration": 35,
    "start_time": "2023-03-13T18:22:17.758Z"
   },
   {
    "duration": 8,
    "start_time": "2023-03-13T18:22:17.795Z"
   },
   {
    "duration": 20,
    "start_time": "2023-03-13T18:22:17.805Z"
   },
   {
    "duration": 13,
    "start_time": "2023-03-13T18:22:17.827Z"
   },
   {
    "duration": 16,
    "start_time": "2023-03-13T18:22:17.842Z"
   },
   {
    "duration": 43,
    "start_time": "2023-03-13T18:22:17.861Z"
   },
   {
    "duration": 9,
    "start_time": "2023-03-13T18:22:17.905Z"
   },
   {
    "duration": 14,
    "start_time": "2023-03-13T18:22:17.915Z"
   },
   {
    "duration": 12,
    "start_time": "2023-03-13T18:22:17.932Z"
   },
   {
    "duration": 8,
    "start_time": "2023-03-13T18:22:17.945Z"
   },
   {
    "duration": 20,
    "start_time": "2023-03-13T18:22:17.955Z"
   },
   {
    "duration": 13,
    "start_time": "2023-03-13T18:22:17.977Z"
   },
   {
    "duration": 42,
    "start_time": "2023-03-13T18:22:17.992Z"
   },
   {
    "duration": 10,
    "start_time": "2023-03-13T18:22:18.036Z"
   },
   {
    "duration": 6,
    "start_time": "2023-03-13T18:22:18.048Z"
   },
   {
    "duration": 21,
    "start_time": "2023-03-13T18:22:18.056Z"
   },
   {
    "duration": 121,
    "start_time": "2023-03-13T18:22:18.079Z"
   },
   {
    "duration": 325,
    "start_time": "2023-03-13T18:22:18.201Z"
   },
   {
    "duration": 4,
    "start_time": "2023-03-13T18:22:18.528Z"
   },
   {
    "duration": 8,
    "start_time": "2023-03-13T18:22:18.534Z"
   },
   {
    "duration": 14,
    "start_time": "2023-03-13T18:22:18.543Z"
   },
   {
    "duration": 8,
    "start_time": "2023-03-13T18:22:18.558Z"
   },
   {
    "duration": 301,
    "start_time": "2023-03-13T18:22:18.568Z"
   },
   {
    "duration": 231,
    "start_time": "2023-03-13T18:22:18.871Z"
   },
   {
    "duration": 459,
    "start_time": "2023-03-13T18:22:19.104Z"
   },
   {
    "duration": 277,
    "start_time": "2023-03-13T18:22:19.566Z"
   },
   {
    "duration": 350,
    "start_time": "2023-03-13T18:22:19.848Z"
   },
   {
    "duration": 10,
    "start_time": "2023-03-13T18:22:20.200Z"
   },
   {
    "duration": 180,
    "start_time": "2023-03-13T18:22:20.211Z"
   },
   {
    "duration": 8,
    "start_time": "2023-03-13T18:22:20.393Z"
   },
   {
    "duration": 22,
    "start_time": "2023-03-13T18:22:20.403Z"
   },
   {
    "duration": 21,
    "start_time": "2023-03-13T18:22:20.427Z"
   },
   {
    "duration": 177,
    "start_time": "2023-03-13T18:22:20.450Z"
   },
   {
    "duration": 196,
    "start_time": "2023-03-13T18:22:20.630Z"
   },
   {
    "duration": 263,
    "start_time": "2023-03-13T18:22:20.828Z"
   },
   {
    "duration": 7,
    "start_time": "2023-03-13T18:22:21.093Z"
   },
   {
    "duration": 356,
    "start_time": "2023-03-13T18:22:21.102Z"
   },
   {
    "duration": 25,
    "start_time": "2023-03-13T18:22:21.460Z"
   },
   {
    "duration": 17,
    "start_time": "2023-03-13T18:22:21.487Z"
   },
   {
    "duration": 38,
    "start_time": "2023-03-13T18:22:21.506Z"
   },
   {
    "duration": 25,
    "start_time": "2023-03-13T18:22:21.547Z"
   },
   {
    "duration": 17,
    "start_time": "2023-03-13T18:22:21.575Z"
   },
   {
    "duration": 1474,
    "start_time": "2023-03-14T08:42:21.073Z"
   },
   {
    "duration": 94,
    "start_time": "2023-03-14T08:42:22.549Z"
   },
   {
    "duration": 9,
    "start_time": "2023-03-14T08:42:22.645Z"
   },
   {
    "duration": 29,
    "start_time": "2023-03-14T08:42:22.656Z"
   },
   {
    "duration": 36,
    "start_time": "2023-03-14T08:42:22.687Z"
   },
   {
    "duration": 13,
    "start_time": "2023-03-14T08:42:22.725Z"
   },
   {
    "duration": 127,
    "start_time": "2023-03-14T08:42:22.740Z"
   },
   {
    "duration": 9,
    "start_time": "2023-03-14T08:42:22.869Z"
   },
   {
    "duration": 19,
    "start_time": "2023-03-14T08:42:22.880Z"
   },
   {
    "duration": 22,
    "start_time": "2023-03-14T08:42:22.901Z"
   },
   {
    "duration": 28,
    "start_time": "2023-03-14T08:42:22.924Z"
   },
   {
    "duration": 66,
    "start_time": "2023-03-14T08:42:22.953Z"
   },
   {
    "duration": 11,
    "start_time": "2023-03-14T08:42:23.021Z"
   },
   {
    "duration": 25,
    "start_time": "2023-03-14T08:42:23.036Z"
   },
   {
    "duration": 17,
    "start_time": "2023-03-14T08:42:23.063Z"
   },
   {
    "duration": 20,
    "start_time": "2023-03-14T08:42:23.082Z"
   },
   {
    "duration": 24,
    "start_time": "2023-03-14T08:42:23.104Z"
   },
   {
    "duration": 119,
    "start_time": "2023-03-14T08:42:23.130Z"
   },
   {
    "duration": 349,
    "start_time": "2023-03-14T08:42:23.251Z"
   },
   {
    "duration": 7,
    "start_time": "2023-03-14T08:42:23.602Z"
   },
   {
    "duration": 37,
    "start_time": "2023-03-14T08:42:23.611Z"
   },
   {
    "duration": 7,
    "start_time": "2023-03-14T08:42:23.649Z"
   },
   {
    "duration": 12,
    "start_time": "2023-03-14T08:42:23.658Z"
   },
   {
    "duration": 341,
    "start_time": "2023-03-14T08:42:23.671Z"
   },
   {
    "duration": 269,
    "start_time": "2023-03-14T08:42:24.014Z"
   },
   {
    "duration": 368,
    "start_time": "2023-03-14T08:42:24.286Z"
   },
   {
    "duration": 258,
    "start_time": "2023-03-14T08:42:24.656Z"
   },
   {
    "duration": 340,
    "start_time": "2023-03-14T08:42:24.916Z"
   },
   {
    "duration": 23,
    "start_time": "2023-03-14T08:42:25.257Z"
   },
   {
    "duration": 183,
    "start_time": "2023-03-14T08:42:25.282Z"
   },
   {
    "duration": 11,
    "start_time": "2023-03-14T08:42:25.467Z"
   },
   {
    "duration": 22,
    "start_time": "2023-03-14T08:42:25.480Z"
   },
   {
    "duration": 29,
    "start_time": "2023-03-14T08:42:25.504Z"
   },
   {
    "duration": 169,
    "start_time": "2023-03-14T08:42:25.535Z"
   },
   {
    "duration": 207,
    "start_time": "2023-03-14T08:42:25.706Z"
   },
   {
    "duration": 268,
    "start_time": "2023-03-14T08:42:25.915Z"
   },
   {
    "duration": 7,
    "start_time": "2023-03-14T08:42:26.185Z"
   },
   {
    "duration": 373,
    "start_time": "2023-03-14T08:42:26.194Z"
   },
   {
    "duration": 33,
    "start_time": "2023-03-14T08:42:26.569Z"
   },
   {
    "duration": 14,
    "start_time": "2023-03-14T08:42:26.604Z"
   },
   {
    "duration": 29,
    "start_time": "2023-03-14T08:42:26.622Z"
   },
   {
    "duration": 51,
    "start_time": "2023-03-14T08:42:26.653Z"
   },
   {
    "duration": 27,
    "start_time": "2023-03-14T08:42:26.706Z"
   },
   {
    "duration": 87,
    "start_time": "2023-03-14T15:23:25.415Z"
   },
   {
    "duration": 1488,
    "start_time": "2023-03-14T15:23:46.927Z"
   },
   {
    "duration": 88,
    "start_time": "2023-03-14T15:23:48.417Z"
   },
   {
    "duration": 10,
    "start_time": "2023-03-14T15:23:48.507Z"
   },
   {
    "duration": 47,
    "start_time": "2023-03-14T15:23:48.519Z"
   },
   {
    "duration": 52,
    "start_time": "2023-03-14T15:23:48.568Z"
   },
   {
    "duration": 26,
    "start_time": "2023-03-14T15:23:48.622Z"
   },
   {
    "duration": 168,
    "start_time": "2023-03-14T15:23:48.651Z"
   },
   {
    "duration": 10,
    "start_time": "2023-03-14T15:23:48.822Z"
   },
   {
    "duration": 29,
    "start_time": "2023-03-14T15:23:48.834Z"
   },
   {
    "duration": 25,
    "start_time": "2023-03-14T15:23:48.866Z"
   },
   {
    "duration": 25,
    "start_time": "2023-03-14T15:23:48.893Z"
   },
   {
    "duration": 90,
    "start_time": "2023-03-14T15:23:48.920Z"
   },
   {
    "duration": 12,
    "start_time": "2023-03-14T15:23:49.012Z"
   },
   {
    "duration": 28,
    "start_time": "2023-03-14T15:23:49.026Z"
   },
   {
    "duration": 13,
    "start_time": "2023-03-14T15:23:49.057Z"
   },
   {
    "duration": 19,
    "start_time": "2023-03-14T15:23:49.072Z"
   },
   {
    "duration": 37,
    "start_time": "2023-03-14T15:23:49.095Z"
   },
   {
    "duration": 163,
    "start_time": "2023-03-14T15:23:49.134Z"
   },
   {
    "duration": 362,
    "start_time": "2023-03-14T15:23:49.302Z"
   },
   {
    "duration": 17,
    "start_time": "2023-03-14T15:23:49.667Z"
   },
   {
    "duration": 43,
    "start_time": "2023-03-14T15:23:49.690Z"
   },
   {
    "duration": 83,
    "start_time": "2023-03-14T15:23:49.736Z"
   },
   {
    "duration": 52,
    "start_time": "2023-03-14T15:23:49.821Z"
   },
   {
    "duration": 390,
    "start_time": "2023-03-14T15:23:49.876Z"
   },
   {
    "duration": 276,
    "start_time": "2023-03-14T15:23:50.268Z"
   },
   {
    "duration": 409,
    "start_time": "2023-03-14T15:23:50.546Z"
   },
   {
    "duration": 291,
    "start_time": "2023-03-14T15:23:50.957Z"
   },
   {
    "duration": 401,
    "start_time": "2023-03-14T15:23:51.252Z"
   },
   {
    "duration": 42,
    "start_time": "2023-03-14T15:23:51.655Z"
   },
   {
    "duration": 207,
    "start_time": "2023-03-14T15:23:51.698Z"
   },
   {
    "duration": 8,
    "start_time": "2023-03-14T15:23:51.907Z"
   },
   {
    "duration": 43,
    "start_time": "2023-03-14T15:23:51.917Z"
   },
   {
    "duration": 45,
    "start_time": "2023-03-14T15:23:51.962Z"
   },
   {
    "duration": 208,
    "start_time": "2023-03-14T15:23:52.009Z"
   },
   {
    "duration": 206,
    "start_time": "2023-03-14T15:23:52.219Z"
   },
   {
    "duration": 307,
    "start_time": "2023-03-14T15:23:52.427Z"
   },
   {
    "duration": 8,
    "start_time": "2023-03-14T15:23:52.736Z"
   },
   {
    "duration": 44,
    "start_time": "2023-03-14T15:23:52.746Z"
   },
   {
    "duration": 0,
    "start_time": "2023-03-14T15:23:52.792Z"
   },
   {
    "duration": 0,
    "start_time": "2023-03-14T15:23:52.793Z"
   },
   {
    "duration": 0,
    "start_time": "2023-03-14T15:23:52.794Z"
   },
   {
    "duration": 0,
    "start_time": "2023-03-14T15:23:52.795Z"
   },
   {
    "duration": 0,
    "start_time": "2023-03-14T15:23:52.796Z"
   },
   {
    "duration": 217,
    "start_time": "2023-03-14T15:24:17.237Z"
   },
   {
    "duration": 58,
    "start_time": "2023-03-14T22:25:58.873Z"
   },
   {
    "duration": 1574,
    "start_time": "2023-03-14T22:26:09.571Z"
   },
   {
    "duration": 71,
    "start_time": "2023-03-14T22:26:11.147Z"
   },
   {
    "duration": 9,
    "start_time": "2023-03-14T22:26:11.221Z"
   },
   {
    "duration": 18,
    "start_time": "2023-03-14T22:26:11.232Z"
   },
   {
    "duration": 15,
    "start_time": "2023-03-14T22:26:11.252Z"
   },
   {
    "duration": 13,
    "start_time": "2023-03-14T22:26:11.268Z"
   },
   {
    "duration": 87,
    "start_time": "2023-03-14T22:26:11.283Z"
   },
   {
    "duration": 9,
    "start_time": "2023-03-14T22:26:11.372Z"
   },
   {
    "duration": 18,
    "start_time": "2023-03-14T22:26:11.383Z"
   },
   {
    "duration": 19,
    "start_time": "2023-03-14T22:26:11.403Z"
   },
   {
    "duration": 8,
    "start_time": "2023-03-14T22:26:11.424Z"
   },
   {
    "duration": 58,
    "start_time": "2023-03-14T22:26:11.434Z"
   },
   {
    "duration": 11,
    "start_time": "2023-03-14T22:26:11.494Z"
   },
   {
    "duration": 19,
    "start_time": "2023-03-14T22:26:11.509Z"
   },
   {
    "duration": 10,
    "start_time": "2023-03-14T22:26:11.529Z"
   },
   {
    "duration": 11,
    "start_time": "2023-03-14T22:26:11.541Z"
   },
   {
    "duration": 19,
    "start_time": "2023-03-14T22:26:11.554Z"
   },
   {
    "duration": 124,
    "start_time": "2023-03-14T22:26:11.575Z"
   },
   {
    "duration": 349,
    "start_time": "2023-03-14T22:26:11.700Z"
   },
   {
    "duration": 5,
    "start_time": "2023-03-14T22:26:12.051Z"
   },
   {
    "duration": 18,
    "start_time": "2023-03-14T22:26:12.058Z"
   },
   {
    "duration": 10,
    "start_time": "2023-03-14T22:26:12.078Z"
   },
   {
    "duration": 6,
    "start_time": "2023-03-14T22:26:12.089Z"
   },
   {
    "duration": 345,
    "start_time": "2023-03-14T22:26:12.097Z"
   },
   {
    "duration": 263,
    "start_time": "2023-03-14T22:26:12.444Z"
   },
   {
    "duration": 378,
    "start_time": "2023-03-14T22:26:12.709Z"
   },
   {
    "duration": 255,
    "start_time": "2023-03-14T22:26:13.089Z"
   },
   {
    "duration": 412,
    "start_time": "2023-03-14T22:26:13.346Z"
   },
   {
    "duration": 18,
    "start_time": "2023-03-14T22:26:13.760Z"
   },
   {
    "duration": 183,
    "start_time": "2023-03-14T22:26:13.780Z"
   },
   {
    "duration": 14,
    "start_time": "2023-03-14T22:26:13.965Z"
   },
   {
    "duration": 5,
    "start_time": "2023-03-14T22:26:13.981Z"
   },
   {
    "duration": 13,
    "start_time": "2023-03-14T22:26:13.988Z"
   },
   {
    "duration": 188,
    "start_time": "2023-03-14T22:26:14.003Z"
   },
   {
    "duration": 210,
    "start_time": "2023-03-14T22:26:14.193Z"
   },
   {
    "duration": 270,
    "start_time": "2023-03-14T22:26:14.405Z"
   },
   {
    "duration": 6,
    "start_time": "2023-03-14T22:26:14.677Z"
   },
   {
    "duration": 11,
    "start_time": "2023-03-14T22:26:14.685Z"
   },
   {
    "duration": 24,
    "start_time": "2023-03-14T22:26:14.697Z"
   },
   {
    "duration": 1,
    "start_time": "2023-03-14T22:26:14.723Z"
   },
   {
    "duration": 0,
    "start_time": "2023-03-14T22:26:14.725Z"
   },
   {
    "duration": 0,
    "start_time": "2023-03-14T22:26:14.727Z"
   },
   {
    "duration": 0,
    "start_time": "2023-03-14T22:26:14.729Z"
   },
   {
    "duration": 20,
    "start_time": "2023-03-14T22:28:56.848Z"
   },
   {
    "duration": 1352,
    "start_time": "2023-03-14T22:29:15.440Z"
   },
   {
    "duration": 38,
    "start_time": "2023-03-14T22:29:16.794Z"
   },
   {
    "duration": 13,
    "start_time": "2023-03-14T22:29:16.834Z"
   },
   {
    "duration": 22,
    "start_time": "2023-03-14T22:29:16.850Z"
   },
   {
    "duration": 30,
    "start_time": "2023-03-14T22:29:16.874Z"
   },
   {
    "duration": 18,
    "start_time": "2023-03-14T22:29:16.906Z"
   },
   {
    "duration": 57,
    "start_time": "2023-03-14T22:29:16.926Z"
   },
   {
    "duration": 11,
    "start_time": "2023-03-14T22:29:16.985Z"
   },
   {
    "duration": 21,
    "start_time": "2023-03-14T22:29:16.998Z"
   },
   {
    "duration": 16,
    "start_time": "2023-03-14T22:29:17.023Z"
   },
   {
    "duration": 14,
    "start_time": "2023-03-14T22:29:17.041Z"
   },
   {
    "duration": 24,
    "start_time": "2023-03-14T22:29:17.058Z"
   },
   {
    "duration": 12,
    "start_time": "2023-03-14T22:29:17.084Z"
   },
   {
    "duration": 19,
    "start_time": "2023-03-14T22:29:17.098Z"
   },
   {
    "duration": 9,
    "start_time": "2023-03-14T22:29:17.119Z"
   },
   {
    "duration": 11,
    "start_time": "2023-03-14T22:29:17.129Z"
   },
   {
    "duration": 40,
    "start_time": "2023-03-14T22:29:17.142Z"
   },
   {
    "duration": 136,
    "start_time": "2023-03-14T22:29:17.184Z"
   },
   {
    "duration": 351,
    "start_time": "2023-03-14T22:29:17.322Z"
   },
   {
    "duration": 5,
    "start_time": "2023-03-14T22:29:17.674Z"
   },
   {
    "duration": 17,
    "start_time": "2023-03-14T22:29:17.680Z"
   },
   {
    "duration": 16,
    "start_time": "2023-03-14T22:29:17.699Z"
   },
   {
    "duration": 27,
    "start_time": "2023-03-14T22:29:17.717Z"
   },
   {
    "duration": 335,
    "start_time": "2023-03-14T22:29:17.745Z"
   },
   {
    "duration": 260,
    "start_time": "2023-03-14T22:29:18.081Z"
   },
   {
    "duration": 358,
    "start_time": "2023-03-14T22:29:18.342Z"
   },
   {
    "duration": 279,
    "start_time": "2023-03-14T22:29:18.703Z"
   },
   {
    "duration": 356,
    "start_time": "2023-03-14T22:29:18.988Z"
   },
   {
    "duration": 12,
    "start_time": "2023-03-14T22:29:19.347Z"
   },
   {
    "duration": 199,
    "start_time": "2023-03-14T22:29:19.360Z"
   },
   {
    "duration": 17,
    "start_time": "2023-03-14T22:29:19.562Z"
   },
   {
    "duration": 5,
    "start_time": "2023-03-14T22:29:19.581Z"
   },
   {
    "duration": 11,
    "start_time": "2023-03-14T22:29:19.588Z"
   },
   {
    "duration": 196,
    "start_time": "2023-03-14T22:29:19.601Z"
   },
   {
    "duration": 201,
    "start_time": "2023-03-14T22:29:19.799Z"
   },
   {
    "duration": 277,
    "start_time": "2023-03-14T22:29:20.002Z"
   },
   {
    "duration": 7,
    "start_time": "2023-03-14T22:29:20.281Z"
   },
   {
    "duration": 23,
    "start_time": "2023-03-14T22:29:20.290Z"
   },
   {
    "duration": 0,
    "start_time": "2023-03-14T22:29:20.315Z"
   },
   {
    "duration": 0,
    "start_time": "2023-03-14T22:29:20.316Z"
   },
   {
    "duration": 0,
    "start_time": "2023-03-14T22:29:20.318Z"
   },
   {
    "duration": 0,
    "start_time": "2023-03-14T22:29:20.319Z"
   },
   {
    "duration": 0,
    "start_time": "2023-03-14T22:29:20.322Z"
   },
   {
    "duration": 152,
    "start_time": "2023-03-14T22:30:01.789Z"
   },
   {
    "duration": 22,
    "start_time": "2023-03-14T22:30:27.676Z"
   },
   {
    "duration": 158,
    "start_time": "2023-03-14T22:33:24.109Z"
   },
   {
    "duration": 267,
    "start_time": "2023-03-14T22:35:22.396Z"
   },
   {
    "duration": 1235,
    "start_time": "2023-03-14T22:35:32.102Z"
   },
   {
    "duration": 32,
    "start_time": "2023-03-14T22:35:33.339Z"
   },
   {
    "duration": 10,
    "start_time": "2023-03-14T22:35:33.373Z"
   },
   {
    "duration": 14,
    "start_time": "2023-03-14T22:35:33.384Z"
   },
   {
    "duration": 14,
    "start_time": "2023-03-14T22:35:33.400Z"
   },
   {
    "duration": 12,
    "start_time": "2023-03-14T22:35:33.415Z"
   },
   {
    "duration": 44,
    "start_time": "2023-03-14T22:35:33.429Z"
   },
   {
    "duration": 9,
    "start_time": "2023-03-14T22:35:33.474Z"
   },
   {
    "duration": 14,
    "start_time": "2023-03-14T22:35:33.485Z"
   },
   {
    "duration": 14,
    "start_time": "2023-03-14T22:35:33.501Z"
   },
   {
    "duration": 13,
    "start_time": "2023-03-14T22:35:33.517Z"
   },
   {
    "duration": 42,
    "start_time": "2023-03-14T22:35:33.532Z"
   },
   {
    "duration": 11,
    "start_time": "2023-03-14T22:35:33.576Z"
   },
   {
    "duration": 12,
    "start_time": "2023-03-14T22:35:33.591Z"
   },
   {
    "duration": 8,
    "start_time": "2023-03-14T22:35:33.605Z"
   },
   {
    "duration": 10,
    "start_time": "2023-03-14T22:35:33.614Z"
   },
   {
    "duration": 15,
    "start_time": "2023-03-14T22:35:33.627Z"
   },
   {
    "duration": 126,
    "start_time": "2023-03-14T22:35:33.674Z"
   },
   {
    "duration": 340,
    "start_time": "2023-03-14T22:35:33.802Z"
   },
   {
    "duration": 6,
    "start_time": "2023-03-14T22:35:34.144Z"
   },
   {
    "duration": 20,
    "start_time": "2023-03-14T22:35:34.152Z"
   },
   {
    "duration": 11,
    "start_time": "2023-03-14T22:35:34.175Z"
   },
   {
    "duration": 8,
    "start_time": "2023-03-14T22:35:34.188Z"
   },
   {
    "duration": 352,
    "start_time": "2023-03-14T22:35:34.198Z"
   },
   {
    "duration": 248,
    "start_time": "2023-03-14T22:35:34.551Z"
   },
   {
    "duration": 331,
    "start_time": "2023-03-14T22:35:34.801Z"
   },
   {
    "duration": 260,
    "start_time": "2023-03-14T22:35:35.135Z"
   },
   {
    "duration": 330,
    "start_time": "2023-03-14T22:35:35.397Z"
   },
   {
    "duration": 11,
    "start_time": "2023-03-14T22:35:35.729Z"
   },
   {
    "duration": 192,
    "start_time": "2023-03-14T22:35:35.742Z"
   },
   {
    "duration": 8,
    "start_time": "2023-03-14T22:35:35.935Z"
   },
   {
    "duration": 7,
    "start_time": "2023-03-14T22:35:35.944Z"
   },
   {
    "duration": 23,
    "start_time": "2023-03-14T22:35:35.953Z"
   },
   {
    "duration": 184,
    "start_time": "2023-03-14T22:35:35.978Z"
   },
   {
    "duration": 198,
    "start_time": "2023-03-14T22:35:36.163Z"
   },
   {
    "duration": 270,
    "start_time": "2023-03-14T22:35:36.362Z"
   },
   {
    "duration": 8,
    "start_time": "2023-03-14T22:35:36.635Z"
   },
   {
    "duration": 294,
    "start_time": "2023-03-14T22:35:36.645Z"
   },
   {
    "duration": 30,
    "start_time": "2023-03-14T22:35:36.943Z"
   },
   {
    "duration": 10,
    "start_time": "2023-03-14T22:35:36.975Z"
   },
   {
    "duration": 39,
    "start_time": "2023-03-14T22:35:36.989Z"
   },
   {
    "duration": 40,
    "start_time": "2023-03-14T22:35:37.030Z"
   },
   {
    "duration": 15,
    "start_time": "2023-03-14T22:35:37.072Z"
   },
   {
    "duration": 79,
    "start_time": "2023-03-14T22:36:08.571Z"
   },
   {
    "duration": 1302,
    "start_time": "2023-03-14T22:36:36.946Z"
   },
   {
    "duration": 39,
    "start_time": "2023-03-14T22:36:38.251Z"
   },
   {
    "duration": 12,
    "start_time": "2023-03-14T22:36:38.292Z"
   },
   {
    "duration": 18,
    "start_time": "2023-03-14T22:36:38.307Z"
   },
   {
    "duration": 15,
    "start_time": "2023-03-14T22:36:38.327Z"
   },
   {
    "duration": 41,
    "start_time": "2023-03-14T22:36:38.344Z"
   },
   {
    "duration": 43,
    "start_time": "2023-03-14T22:36:38.386Z"
   },
   {
    "duration": 9,
    "start_time": "2023-03-14T22:36:38.431Z"
   },
   {
    "duration": 17,
    "start_time": "2023-03-14T22:36:38.442Z"
   },
   {
    "duration": 18,
    "start_time": "2023-03-14T22:36:38.463Z"
   },
   {
    "duration": 7,
    "start_time": "2023-03-14T22:36:38.483Z"
   },
   {
    "duration": 19,
    "start_time": "2023-03-14T22:36:38.492Z"
   },
   {
    "duration": 11,
    "start_time": "2023-03-14T22:36:38.513Z"
   },
   {
    "duration": 13,
    "start_time": "2023-03-14T22:36:38.527Z"
   },
   {
    "duration": 32,
    "start_time": "2023-03-14T22:36:38.542Z"
   },
   {
    "duration": 8,
    "start_time": "2023-03-14T22:36:38.576Z"
   },
   {
    "duration": 14,
    "start_time": "2023-03-14T22:36:38.586Z"
   },
   {
    "duration": 143,
    "start_time": "2023-03-14T22:36:38.602Z"
   },
   {
    "duration": 372,
    "start_time": "2023-03-14T22:36:38.746Z"
   },
   {
    "duration": 5,
    "start_time": "2023-03-14T22:36:39.120Z"
   },
   {
    "duration": 7,
    "start_time": "2023-03-14T22:36:39.126Z"
   },
   {
    "duration": 17,
    "start_time": "2023-03-14T22:36:39.135Z"
   },
   {
    "duration": 20,
    "start_time": "2023-03-14T22:36:39.154Z"
   },
   {
    "duration": 348,
    "start_time": "2023-03-14T22:36:39.176Z"
   },
   {
    "duration": 250,
    "start_time": "2023-03-14T22:36:39.526Z"
   },
   {
    "duration": 355,
    "start_time": "2023-03-14T22:36:39.777Z"
   },
   {
    "duration": 277,
    "start_time": "2023-03-14T22:36:40.134Z"
   },
   {
    "duration": 420,
    "start_time": "2023-03-14T22:36:40.417Z"
   },
   {
    "duration": 12,
    "start_time": "2023-03-14T22:36:40.839Z"
   },
   {
    "duration": 201,
    "start_time": "2023-03-14T22:36:40.852Z"
   },
   {
    "duration": 18,
    "start_time": "2023-03-14T22:36:41.055Z"
   },
   {
    "duration": 5,
    "start_time": "2023-03-14T22:36:41.075Z"
   },
   {
    "duration": 16,
    "start_time": "2023-03-14T22:36:41.081Z"
   },
   {
    "duration": 185,
    "start_time": "2023-03-14T22:36:41.099Z"
   },
   {
    "duration": 193,
    "start_time": "2023-03-14T22:36:41.286Z"
   },
   {
    "duration": 262,
    "start_time": "2023-03-14T22:36:41.481Z"
   },
   {
    "duration": 8,
    "start_time": "2023-03-14T22:36:41.744Z"
   },
   {
    "duration": 296,
    "start_time": "2023-03-14T22:36:41.754Z"
   },
   {
    "duration": 33,
    "start_time": "2023-03-14T22:36:42.052Z"
   },
   {
    "duration": 12,
    "start_time": "2023-03-14T22:36:42.087Z"
   },
   {
    "duration": 15,
    "start_time": "2023-03-14T22:36:42.101Z"
   },
   {
    "duration": 33,
    "start_time": "2023-03-14T22:36:42.118Z"
   },
   {
    "duration": 16,
    "start_time": "2023-03-14T22:36:42.174Z"
   },
   {
    "duration": 1205,
    "start_time": "2023-03-14T23:46:40.234Z"
   },
   {
    "duration": 78,
    "start_time": "2023-03-14T23:46:41.441Z"
   },
   {
    "duration": 8,
    "start_time": "2023-03-14T23:46:41.521Z"
   },
   {
    "duration": 14,
    "start_time": "2023-03-14T23:46:41.532Z"
   },
   {
    "duration": 15,
    "start_time": "2023-03-14T23:46:41.548Z"
   },
   {
    "duration": 12,
    "start_time": "2023-03-14T23:46:41.564Z"
   },
   {
    "duration": 98,
    "start_time": "2023-03-14T23:46:41.578Z"
   },
   {
    "duration": 8,
    "start_time": "2023-03-14T23:46:41.678Z"
   },
   {
    "duration": 14,
    "start_time": "2023-03-14T23:46:41.688Z"
   },
   {
    "duration": 14,
    "start_time": "2023-03-14T23:46:41.706Z"
   },
   {
    "duration": 7,
    "start_time": "2023-03-14T23:46:41.722Z"
   },
   {
    "duration": 62,
    "start_time": "2023-03-14T23:46:41.731Z"
   },
   {
    "duration": 10,
    "start_time": "2023-03-14T23:46:41.795Z"
   },
   {
    "duration": 15,
    "start_time": "2023-03-14T23:46:41.807Z"
   },
   {
    "duration": 10,
    "start_time": "2023-03-14T23:46:41.824Z"
   },
   {
    "duration": 12,
    "start_time": "2023-03-14T23:46:41.836Z"
   },
   {
    "duration": 12,
    "start_time": "2023-03-14T23:46:41.849Z"
   },
   {
    "duration": 125,
    "start_time": "2023-03-14T23:46:41.863Z"
   },
   {
    "duration": 325,
    "start_time": "2023-03-14T23:46:41.990Z"
   },
   {
    "duration": 4,
    "start_time": "2023-03-14T23:46:42.317Z"
   },
   {
    "duration": 10,
    "start_time": "2023-03-14T23:46:42.323Z"
   },
   {
    "duration": 8,
    "start_time": "2023-03-14T23:46:42.335Z"
   },
   {
    "duration": 19,
    "start_time": "2023-03-14T23:46:42.344Z"
   },
   {
    "duration": 337,
    "start_time": "2023-03-14T23:46:42.373Z"
   },
   {
    "duration": 254,
    "start_time": "2023-03-14T23:46:42.712Z"
   },
   {
    "duration": 328,
    "start_time": "2023-03-14T23:46:42.973Z"
   },
   {
    "duration": 250,
    "start_time": "2023-03-14T23:46:43.303Z"
   },
   {
    "duration": 356,
    "start_time": "2023-03-14T23:46:43.556Z"
   },
   {
    "duration": 10,
    "start_time": "2023-03-14T23:46:43.914Z"
   },
   {
    "duration": 191,
    "start_time": "2023-03-14T23:46:43.925Z"
   },
   {
    "duration": 6,
    "start_time": "2023-03-14T23:46:44.118Z"
   },
   {
    "duration": 11,
    "start_time": "2023-03-14T23:46:44.125Z"
   },
   {
    "duration": 21,
    "start_time": "2023-03-14T23:46:44.138Z"
   },
   {
    "duration": 180,
    "start_time": "2023-03-14T23:46:44.161Z"
   },
   {
    "duration": 185,
    "start_time": "2023-03-14T23:46:44.343Z"
   },
   {
    "duration": 266,
    "start_time": "2023-03-14T23:46:44.530Z"
   },
   {
    "duration": 6,
    "start_time": "2023-03-14T23:46:44.797Z"
   },
   {
    "duration": 275,
    "start_time": "2023-03-14T23:46:44.805Z"
   },
   {
    "duration": 26,
    "start_time": "2023-03-14T23:46:45.082Z"
   },
   {
    "duration": 10,
    "start_time": "2023-03-14T23:46:45.110Z"
   },
   {
    "duration": 15,
    "start_time": "2023-03-14T23:46:45.122Z"
   },
   {
    "duration": 54,
    "start_time": "2023-03-14T23:46:45.139Z"
   },
   {
    "duration": 14,
    "start_time": "2023-03-14T23:46:45.195Z"
   },
   {
    "duration": 1256,
    "start_time": "2023-03-15T17:05:22.079Z"
   },
   {
    "duration": 92,
    "start_time": "2023-03-15T17:05:23.337Z"
   },
   {
    "duration": 8,
    "start_time": "2023-03-15T17:05:23.430Z"
   },
   {
    "duration": 14,
    "start_time": "2023-03-15T17:05:23.440Z"
   },
   {
    "duration": 18,
    "start_time": "2023-03-15T17:05:23.456Z"
   },
   {
    "duration": 10,
    "start_time": "2023-03-15T17:05:23.476Z"
   },
   {
    "duration": 95,
    "start_time": "2023-03-15T17:05:23.487Z"
   },
   {
    "duration": 8,
    "start_time": "2023-03-15T17:05:23.583Z"
   },
   {
    "duration": 14,
    "start_time": "2023-03-15T17:05:23.593Z"
   },
   {
    "duration": 15,
    "start_time": "2023-03-15T17:05:23.608Z"
   },
   {
    "duration": 9,
    "start_time": "2023-03-15T17:05:23.625Z"
   },
   {
    "duration": 78,
    "start_time": "2023-03-15T17:05:23.635Z"
   },
   {
    "duration": 10,
    "start_time": "2023-03-15T17:05:23.715Z"
   },
   {
    "duration": 15,
    "start_time": "2023-03-15T17:05:23.727Z"
   },
   {
    "duration": 8,
    "start_time": "2023-03-15T17:05:23.744Z"
   },
   {
    "duration": 8,
    "start_time": "2023-03-15T17:05:23.753Z"
   },
   {
    "duration": 14,
    "start_time": "2023-03-15T17:05:23.762Z"
   },
   {
    "duration": 127,
    "start_time": "2023-03-15T17:05:23.778Z"
   },
   {
    "duration": 325,
    "start_time": "2023-03-15T17:05:23.906Z"
   },
   {
    "duration": 5,
    "start_time": "2023-03-15T17:05:24.232Z"
   },
   {
    "duration": 15,
    "start_time": "2023-03-15T17:05:24.238Z"
   },
   {
    "duration": 7,
    "start_time": "2023-03-15T17:05:24.254Z"
   },
   {
    "duration": 6,
    "start_time": "2023-03-15T17:05:24.262Z"
   },
   {
    "duration": 316,
    "start_time": "2023-03-15T17:05:24.269Z"
   },
   {
    "duration": 217,
    "start_time": "2023-03-15T17:05:24.586Z"
   },
   {
    "duration": 378,
    "start_time": "2023-03-15T17:05:24.804Z"
   },
   {
    "duration": 228,
    "start_time": "2023-03-15T17:05:25.184Z"
   },
   {
    "duration": 348,
    "start_time": "2023-03-15T17:05:25.414Z"
   },
   {
    "duration": 10,
    "start_time": "2023-03-15T17:05:25.764Z"
   },
   {
    "duration": 177,
    "start_time": "2023-03-15T17:05:25.775Z"
   },
   {
    "duration": 8,
    "start_time": "2023-03-15T17:05:25.954Z"
   },
   {
    "duration": 10,
    "start_time": "2023-03-15T17:05:25.963Z"
   },
   {
    "duration": 9,
    "start_time": "2023-03-15T17:05:25.974Z"
   },
   {
    "duration": 165,
    "start_time": "2023-03-15T17:05:25.985Z"
   },
   {
    "duration": 179,
    "start_time": "2023-03-15T17:05:26.152Z"
   },
   {
    "duration": 243,
    "start_time": "2023-03-15T17:05:26.332Z"
   },
   {
    "duration": 8,
    "start_time": "2023-03-15T17:05:26.576Z"
   },
   {
    "duration": 259,
    "start_time": "2023-03-15T17:05:26.586Z"
   },
   {
    "duration": 23,
    "start_time": "2023-03-15T17:05:26.847Z"
   },
   {
    "duration": 10,
    "start_time": "2023-03-15T17:05:26.872Z"
   },
   {
    "duration": 14,
    "start_time": "2023-03-15T17:05:26.885Z"
   },
   {
    "duration": 22,
    "start_time": "2023-03-15T17:05:26.924Z"
   },
   {
    "duration": 14,
    "start_time": "2023-03-15T17:05:26.948Z"
   },
   {
    "duration": 240,
    "start_time": "2023-03-15T17:09:17.166Z"
   },
   {
    "duration": 321,
    "start_time": "2023-03-15T17:25:11.483Z"
   },
   {
    "duration": 323,
    "start_time": "2023-03-15T17:25:51.988Z"
   },
   {
    "duration": 316,
    "start_time": "2023-03-15T17:30:20.957Z"
   },
   {
    "duration": 347,
    "start_time": "2023-03-15T17:30:58.924Z"
   },
   {
    "duration": 333,
    "start_time": "2023-03-15T17:31:42.627Z"
   },
   {
    "duration": 138,
    "start_time": "2023-03-15T17:38:23.721Z"
   },
   {
    "duration": 1159,
    "start_time": "2023-03-15T17:38:38.437Z"
   },
   {
    "duration": 37,
    "start_time": "2023-03-15T17:38:39.598Z"
   },
   {
    "duration": 7,
    "start_time": "2023-03-15T17:38:39.636Z"
   },
   {
    "duration": 13,
    "start_time": "2023-03-15T17:38:39.645Z"
   },
   {
    "duration": 12,
    "start_time": "2023-03-15T17:38:39.660Z"
   },
   {
    "duration": 10,
    "start_time": "2023-03-15T17:38:39.673Z"
   },
   {
    "duration": 49,
    "start_time": "2023-03-15T17:38:39.685Z"
   },
   {
    "duration": 8,
    "start_time": "2023-03-15T17:38:39.735Z"
   },
   {
    "duration": 15,
    "start_time": "2023-03-15T17:38:39.745Z"
   },
   {
    "duration": 12,
    "start_time": "2023-03-15T17:38:39.763Z"
   },
   {
    "duration": 9,
    "start_time": "2023-03-15T17:38:39.777Z"
   },
   {
    "duration": 22,
    "start_time": "2023-03-15T17:38:39.787Z"
   },
   {
    "duration": 22,
    "start_time": "2023-03-15T17:38:39.810Z"
   },
   {
    "duration": 14,
    "start_time": "2023-03-15T17:38:39.834Z"
   },
   {
    "duration": 6,
    "start_time": "2023-03-15T17:38:39.850Z"
   },
   {
    "duration": 13,
    "start_time": "2023-03-15T17:38:39.858Z"
   },
   {
    "duration": 17,
    "start_time": "2023-03-15T17:38:39.873Z"
   },
   {
    "duration": 117,
    "start_time": "2023-03-15T17:38:39.892Z"
   },
   {
    "duration": 313,
    "start_time": "2023-03-15T17:38:40.011Z"
   },
   {
    "duration": 5,
    "start_time": "2023-03-15T17:38:40.325Z"
   },
   {
    "duration": 25,
    "start_time": "2023-03-15T17:38:40.331Z"
   },
   {
    "duration": 34,
    "start_time": "2023-03-15T17:38:40.358Z"
   },
   {
    "duration": 17,
    "start_time": "2023-03-15T17:38:40.394Z"
   },
   {
    "duration": 310,
    "start_time": "2023-03-15T17:38:40.413Z"
   },
   {
    "duration": 224,
    "start_time": "2023-03-15T17:38:40.725Z"
   },
   {
    "duration": 309,
    "start_time": "2023-03-15T17:38:40.951Z"
   },
   {
    "duration": 231,
    "start_time": "2023-03-15T17:38:41.261Z"
   },
   {
    "duration": 358,
    "start_time": "2023-03-15T17:38:41.498Z"
   },
   {
    "duration": 10,
    "start_time": "2023-03-15T17:38:41.858Z"
   },
   {
    "duration": 173,
    "start_time": "2023-03-15T17:38:41.870Z"
   },
   {
    "duration": 6,
    "start_time": "2023-03-15T17:38:42.045Z"
   },
   {
    "duration": 25,
    "start_time": "2023-03-15T17:38:42.053Z"
   },
   {
    "duration": 12,
    "start_time": "2023-03-15T17:38:42.080Z"
   },
   {
    "duration": 153,
    "start_time": "2023-03-15T17:38:42.093Z"
   },
   {
    "duration": 175,
    "start_time": "2023-03-15T17:38:42.248Z"
   },
   {
    "duration": 245,
    "start_time": "2023-03-15T17:38:42.425Z"
   },
   {
    "duration": 7,
    "start_time": "2023-03-15T17:38:42.672Z"
   },
   {
    "duration": 191,
    "start_time": "2023-03-15T17:38:42.681Z"
   },
   {
    "duration": 0,
    "start_time": "2023-03-15T17:38:42.873Z"
   },
   {
    "duration": 0,
    "start_time": "2023-03-15T17:38:42.875Z"
   },
   {
    "duration": 0,
    "start_time": "2023-03-15T17:38:42.876Z"
   },
   {
    "duration": 0,
    "start_time": "2023-03-15T17:38:42.877Z"
   },
   {
    "duration": 0,
    "start_time": "2023-03-15T17:38:42.878Z"
   },
   {
    "duration": 138,
    "start_time": "2023-03-15T17:42:33.034Z"
   },
   {
    "duration": 152,
    "start_time": "2023-03-15T17:45:10.600Z"
   },
   {
    "duration": 39,
    "start_time": "2023-03-15T17:54:15.225Z"
   },
   {
    "duration": 133,
    "start_time": "2023-03-15T17:54:37.887Z"
   },
   {
    "duration": 145,
    "start_time": "2023-03-15T17:55:54.101Z"
   },
   {
    "duration": 1114,
    "start_time": "2023-03-15T17:56:09.259Z"
   },
   {
    "duration": 38,
    "start_time": "2023-03-15T17:56:10.375Z"
   },
   {
    "duration": 9,
    "start_time": "2023-03-15T17:56:10.414Z"
   },
   {
    "duration": 17,
    "start_time": "2023-03-15T17:56:10.425Z"
   },
   {
    "duration": 18,
    "start_time": "2023-03-15T17:56:10.444Z"
   },
   {
    "duration": 15,
    "start_time": "2023-03-15T17:56:10.464Z"
   },
   {
    "duration": 46,
    "start_time": "2023-03-15T17:56:10.482Z"
   },
   {
    "duration": 10,
    "start_time": "2023-03-15T17:56:10.530Z"
   },
   {
    "duration": 12,
    "start_time": "2023-03-15T17:56:10.542Z"
   },
   {
    "duration": 13,
    "start_time": "2023-03-15T17:56:10.558Z"
   },
   {
    "duration": 11,
    "start_time": "2023-03-15T17:56:10.573Z"
   },
   {
    "duration": 43,
    "start_time": "2023-03-15T17:56:10.586Z"
   },
   {
    "duration": 10,
    "start_time": "2023-03-15T17:56:10.632Z"
   },
   {
    "duration": 30,
    "start_time": "2023-03-15T17:56:10.644Z"
   },
   {
    "duration": 17,
    "start_time": "2023-03-15T17:56:10.676Z"
   },
   {
    "duration": 7,
    "start_time": "2023-03-15T17:56:10.694Z"
   },
   {
    "duration": 17,
    "start_time": "2023-03-15T17:56:10.702Z"
   },
   {
    "duration": 120,
    "start_time": "2023-03-15T17:56:10.720Z"
   },
   {
    "duration": 324,
    "start_time": "2023-03-15T17:56:10.842Z"
   },
   {
    "duration": 5,
    "start_time": "2023-03-15T17:56:11.168Z"
   },
   {
    "duration": 5,
    "start_time": "2023-03-15T17:56:11.175Z"
   },
   {
    "duration": 9,
    "start_time": "2023-03-15T17:56:11.182Z"
   },
   {
    "duration": 6,
    "start_time": "2023-03-15T17:56:11.192Z"
   },
   {
    "duration": 314,
    "start_time": "2023-03-15T17:56:11.200Z"
   },
   {
    "duration": 217,
    "start_time": "2023-03-15T17:56:11.524Z"
   },
   {
    "duration": 319,
    "start_time": "2023-03-15T17:56:11.742Z"
   },
   {
    "duration": 235,
    "start_time": "2023-03-15T17:56:12.062Z"
   },
   {
    "duration": 361,
    "start_time": "2023-03-15T17:56:12.300Z"
   },
   {
    "duration": 10,
    "start_time": "2023-03-15T17:56:12.662Z"
   },
   {
    "duration": 169,
    "start_time": "2023-03-15T17:56:12.673Z"
   },
   {
    "duration": 5,
    "start_time": "2023-03-15T17:56:12.844Z"
   },
   {
    "duration": 6,
    "start_time": "2023-03-15T17:56:12.850Z"
   },
   {
    "duration": 7,
    "start_time": "2023-03-15T17:56:12.857Z"
   },
   {
    "duration": 180,
    "start_time": "2023-03-15T17:56:12.865Z"
   },
   {
    "duration": 171,
    "start_time": "2023-03-15T17:56:13.047Z"
   },
   {
    "duration": 232,
    "start_time": "2023-03-15T17:56:13.224Z"
   },
   {
    "duration": 6,
    "start_time": "2023-03-15T17:56:13.457Z"
   },
   {
    "duration": 150,
    "start_time": "2023-03-15T17:56:13.465Z"
   },
   {
    "duration": 27,
    "start_time": "2023-03-15T17:56:13.616Z"
   },
   {
    "duration": 9,
    "start_time": "2023-03-15T17:56:13.645Z"
   },
   {
    "duration": 13,
    "start_time": "2023-03-15T17:56:13.656Z"
   },
   {
    "duration": 22,
    "start_time": "2023-03-15T17:56:13.671Z"
   },
   {
    "duration": 39,
    "start_time": "2023-03-15T17:56:13.694Z"
   },
   {
    "duration": 44,
    "start_time": "2023-03-15T18:48:08.961Z"
   },
   {
    "duration": 1149,
    "start_time": "2023-03-15T18:51:43.866Z"
   },
   {
    "duration": 37,
    "start_time": "2023-03-15T18:51:45.017Z"
   },
   {
    "duration": 41,
    "start_time": "2023-03-15T18:51:45.055Z"
   },
   {
    "duration": 22,
    "start_time": "2023-03-15T18:51:45.098Z"
   },
   {
    "duration": 24,
    "start_time": "2023-03-15T18:51:45.122Z"
   },
   {
    "duration": 14,
    "start_time": "2023-03-15T18:51:45.147Z"
   },
   {
    "duration": 46,
    "start_time": "2023-03-15T18:51:45.163Z"
   },
   {
    "duration": 9,
    "start_time": "2023-03-15T18:51:45.211Z"
   },
   {
    "duration": 33,
    "start_time": "2023-03-15T18:51:45.222Z"
   },
   {
    "duration": 14,
    "start_time": "2023-03-15T18:51:45.258Z"
   },
   {
    "duration": 6,
    "start_time": "2023-03-15T18:51:45.274Z"
   },
   {
    "duration": 21,
    "start_time": "2023-03-15T18:51:45.282Z"
   },
   {
    "duration": 11,
    "start_time": "2023-03-15T18:51:45.305Z"
   },
   {
    "duration": 64,
    "start_time": "2023-03-15T18:51:45.319Z"
   },
   {
    "duration": 25,
    "start_time": "2023-03-15T18:51:45.384Z"
   },
   {
    "duration": 41,
    "start_time": "2023-03-15T18:51:45.412Z"
   },
   {
    "duration": 13,
    "start_time": "2023-03-15T18:51:45.455Z"
   },
   {
    "duration": 127,
    "start_time": "2023-03-15T18:51:45.470Z"
   },
   {
    "duration": 330,
    "start_time": "2023-03-15T18:51:45.598Z"
   },
   {
    "duration": 4,
    "start_time": "2023-03-15T18:51:45.929Z"
   },
   {
    "duration": 16,
    "start_time": "2023-03-15T18:51:45.935Z"
   },
   {
    "duration": 18,
    "start_time": "2023-03-15T18:51:45.952Z"
   },
   {
    "duration": 15,
    "start_time": "2023-03-15T18:51:45.971Z"
   },
   {
    "duration": 340,
    "start_time": "2023-03-15T18:51:45.987Z"
   },
   {
    "duration": 253,
    "start_time": "2023-03-15T18:51:46.328Z"
   },
   {
    "duration": 369,
    "start_time": "2023-03-15T18:51:46.583Z"
   },
   {
    "duration": 265,
    "start_time": "2023-03-15T18:51:46.953Z"
   },
   {
    "duration": 379,
    "start_time": "2023-03-15T18:51:47.221Z"
   },
   {
    "duration": 11,
    "start_time": "2023-03-15T18:51:47.602Z"
   },
   {
    "duration": 193,
    "start_time": "2023-03-15T18:51:47.624Z"
   },
   {
    "duration": 10,
    "start_time": "2023-03-15T18:51:47.819Z"
   },
   {
    "duration": 6,
    "start_time": "2023-03-15T18:51:47.831Z"
   },
   {
    "duration": 10,
    "start_time": "2023-03-15T18:51:47.839Z"
   },
   {
    "duration": 225,
    "start_time": "2023-03-15T18:51:47.851Z"
   },
   {
    "duration": 194,
    "start_time": "2023-03-15T18:51:48.078Z"
   },
   {
    "duration": 262,
    "start_time": "2023-03-15T18:51:48.274Z"
   },
   {
    "duration": 7,
    "start_time": "2023-03-15T18:51:48.538Z"
   },
   {
    "duration": 189,
    "start_time": "2023-03-15T18:51:48.547Z"
   },
   {
    "duration": 24,
    "start_time": "2023-03-15T18:51:48.738Z"
   },
   {
    "duration": 10,
    "start_time": "2023-03-15T18:51:48.764Z"
   },
   {
    "duration": 14,
    "start_time": "2023-03-15T18:51:48.777Z"
   },
   {
    "duration": 56,
    "start_time": "2023-03-15T18:51:48.793Z"
   },
   {
    "duration": 16,
    "start_time": "2023-03-15T18:51:48.851Z"
   },
   {
    "duration": 1358,
    "start_time": "2023-03-16T04:56:16.026Z"
   },
   {
    "duration": 81,
    "start_time": "2023-03-16T04:56:17.386Z"
   },
   {
    "duration": 7,
    "start_time": "2023-03-16T04:56:17.469Z"
   },
   {
    "duration": 16,
    "start_time": "2023-03-16T04:56:17.478Z"
   },
   {
    "duration": 15,
    "start_time": "2023-03-16T04:56:17.495Z"
   },
   {
    "duration": 10,
    "start_time": "2023-03-16T04:56:17.512Z"
   },
   {
    "duration": 103,
    "start_time": "2023-03-16T04:56:17.524Z"
   },
   {
    "duration": 8,
    "start_time": "2023-03-16T04:56:17.628Z"
   },
   {
    "duration": 12,
    "start_time": "2023-03-16T04:56:17.638Z"
   },
   {
    "duration": 15,
    "start_time": "2023-03-16T04:56:17.652Z"
   },
   {
    "duration": 7,
    "start_time": "2023-03-16T04:56:17.668Z"
   },
   {
    "duration": 69,
    "start_time": "2023-03-16T04:56:17.677Z"
   },
   {
    "duration": 11,
    "start_time": "2023-03-16T04:56:17.747Z"
   },
   {
    "duration": 23,
    "start_time": "2023-03-16T04:56:17.760Z"
   },
   {
    "duration": 16,
    "start_time": "2023-03-16T04:56:17.785Z"
   },
   {
    "duration": 11,
    "start_time": "2023-03-16T04:56:17.803Z"
   },
   {
    "duration": 20,
    "start_time": "2023-03-16T04:56:17.816Z"
   },
   {
    "duration": 122,
    "start_time": "2023-03-16T04:56:17.838Z"
   },
   {
    "duration": 330,
    "start_time": "2023-03-16T04:56:17.962Z"
   },
   {
    "duration": 5,
    "start_time": "2023-03-16T04:56:18.294Z"
   },
   {
    "duration": 8,
    "start_time": "2023-03-16T04:56:18.300Z"
   },
   {
    "duration": 7,
    "start_time": "2023-03-16T04:56:18.310Z"
   },
   {
    "duration": 13,
    "start_time": "2023-03-16T04:56:18.331Z"
   },
   {
    "duration": 307,
    "start_time": "2023-03-16T04:56:18.346Z"
   },
   {
    "duration": 231,
    "start_time": "2023-03-16T04:56:18.654Z"
   },
   {
    "duration": 404,
    "start_time": "2023-03-16T04:56:18.886Z"
   },
   {
    "duration": 244,
    "start_time": "2023-03-16T04:56:19.292Z"
   },
   {
    "duration": 345,
    "start_time": "2023-03-16T04:56:19.540Z"
   },
   {
    "duration": 12,
    "start_time": "2023-03-16T04:56:19.887Z"
   },
   {
    "duration": 175,
    "start_time": "2023-03-16T04:56:19.901Z"
   },
   {
    "duration": 6,
    "start_time": "2023-03-16T04:56:20.078Z"
   },
   {
    "duration": 20,
    "start_time": "2023-03-16T04:56:20.085Z"
   },
   {
    "duration": 7,
    "start_time": "2023-03-16T04:56:20.107Z"
   },
   {
    "duration": 159,
    "start_time": "2023-03-16T04:56:20.116Z"
   },
   {
    "duration": 179,
    "start_time": "2023-03-16T04:56:20.277Z"
   },
   {
    "duration": 230,
    "start_time": "2023-03-16T04:56:20.457Z"
   },
   {
    "duration": 7,
    "start_time": "2023-03-16T04:56:20.688Z"
   },
   {
    "duration": 153,
    "start_time": "2023-03-16T04:56:20.697Z"
   },
   {
    "duration": 23,
    "start_time": "2023-03-16T04:56:20.852Z"
   },
   {
    "duration": 11,
    "start_time": "2023-03-16T04:56:20.876Z"
   },
   {
    "duration": 20,
    "start_time": "2023-03-16T04:56:20.889Z"
   },
   {
    "duration": 37,
    "start_time": "2023-03-16T04:56:20.910Z"
   },
   {
    "duration": 12,
    "start_time": "2023-03-16T04:56:20.949Z"
   },
   {
    "duration": 368,
    "start_time": "2023-03-16T05:00:16.214Z"
   },
   {
    "duration": 342,
    "start_time": "2023-03-16T05:00:24.582Z"
   },
   {
    "duration": 356,
    "start_time": "2023-03-16T05:00:33.816Z"
   },
   {
    "duration": 367,
    "start_time": "2023-03-16T05:00:52.134Z"
   },
   {
    "duration": 346,
    "start_time": "2023-03-16T05:01:51.529Z"
   },
   {
    "duration": 49,
    "start_time": "2023-03-16T11:10:03.289Z"
   },
   {
    "duration": 1330,
    "start_time": "2023-03-16T11:10:11.646Z"
   },
   {
    "duration": 91,
    "start_time": "2023-03-16T11:10:12.979Z"
   },
   {
    "duration": 8,
    "start_time": "2023-03-16T11:10:13.072Z"
   },
   {
    "duration": 17,
    "start_time": "2023-03-16T11:10:13.082Z"
   },
   {
    "duration": 14,
    "start_time": "2023-03-16T11:10:13.101Z"
   },
   {
    "duration": 12,
    "start_time": "2023-03-16T11:10:13.116Z"
   },
   {
    "duration": 93,
    "start_time": "2023-03-16T11:10:13.130Z"
   },
   {
    "duration": 10,
    "start_time": "2023-03-16T11:10:13.225Z"
   },
   {
    "duration": 13,
    "start_time": "2023-03-16T11:10:13.236Z"
   },
   {
    "duration": 13,
    "start_time": "2023-03-16T11:10:13.251Z"
   },
   {
    "duration": 12,
    "start_time": "2023-03-16T11:10:13.265Z"
   },
   {
    "duration": 75,
    "start_time": "2023-03-16T11:10:13.278Z"
   },
   {
    "duration": 11,
    "start_time": "2023-03-16T11:10:13.354Z"
   },
   {
    "duration": 13,
    "start_time": "2023-03-16T11:10:13.366Z"
   },
   {
    "duration": 5,
    "start_time": "2023-03-16T11:10:13.381Z"
   },
   {
    "duration": 26,
    "start_time": "2023-03-16T11:10:13.387Z"
   },
   {
    "duration": 21,
    "start_time": "2023-03-16T11:10:13.415Z"
   },
   {
    "duration": 114,
    "start_time": "2023-03-16T11:10:13.438Z"
   },
   {
    "duration": 310,
    "start_time": "2023-03-16T11:10:13.554Z"
   },
   {
    "duration": 4,
    "start_time": "2023-03-16T11:10:13.866Z"
   },
   {
    "duration": 9,
    "start_time": "2023-03-16T11:10:13.871Z"
   },
   {
    "duration": 5,
    "start_time": "2023-03-16T11:10:13.882Z"
   },
   {
    "duration": 8,
    "start_time": "2023-03-16T11:10:13.888Z"
   },
   {
    "duration": 323,
    "start_time": "2023-03-16T11:10:13.898Z"
   },
   {
    "duration": 260,
    "start_time": "2023-03-16T11:10:14.223Z"
   },
   {
    "duration": 408,
    "start_time": "2023-03-16T11:10:14.486Z"
   },
   {
    "duration": 242,
    "start_time": "2023-03-16T11:10:14.896Z"
   },
   {
    "duration": 337,
    "start_time": "2023-03-16T11:10:15.141Z"
   },
   {
    "duration": 11,
    "start_time": "2023-03-16T11:10:15.479Z"
   },
   {
    "duration": 180,
    "start_time": "2023-03-16T11:10:15.491Z"
   },
   {
    "duration": 7,
    "start_time": "2023-03-16T11:10:15.673Z"
   },
   {
    "duration": 8,
    "start_time": "2023-03-16T11:10:15.682Z"
   },
   {
    "duration": 7,
    "start_time": "2023-03-16T11:10:15.691Z"
   },
   {
    "duration": 193,
    "start_time": "2023-03-16T11:10:15.700Z"
   },
   {
    "duration": 185,
    "start_time": "2023-03-16T11:10:15.894Z"
   },
   {
    "duration": 242,
    "start_time": "2023-03-16T11:10:16.081Z"
   },
   {
    "duration": 6,
    "start_time": "2023-03-16T11:10:16.325Z"
   },
   {
    "duration": 171,
    "start_time": "2023-03-16T11:10:16.333Z"
   },
   {
    "duration": 30,
    "start_time": "2023-03-16T11:10:16.506Z"
   },
   {
    "duration": 10,
    "start_time": "2023-03-16T11:10:16.538Z"
   },
   {
    "duration": 13,
    "start_time": "2023-03-16T11:10:16.549Z"
   },
   {
    "duration": 32,
    "start_time": "2023-03-16T11:10:16.564Z"
   },
   {
    "duration": 34,
    "start_time": "2023-03-16T11:10:16.598Z"
   },
   {
    "duration": 1171,
    "start_time": "2023-09-11T20:45:45.845Z"
   },
   {
    "duration": 76,
    "start_time": "2023-09-11T20:45:47.018Z"
   },
   {
    "duration": 7,
    "start_time": "2023-09-11T20:45:47.096Z"
   },
   {
    "duration": 14,
    "start_time": "2023-09-11T20:45:47.105Z"
   },
   {
    "duration": 16,
    "start_time": "2023-09-11T20:45:47.121Z"
   },
   {
    "duration": 10,
    "start_time": "2023-09-11T20:45:47.139Z"
   },
   {
    "duration": 83,
    "start_time": "2023-09-11T20:45:47.150Z"
   },
   {
    "duration": 7,
    "start_time": "2023-09-11T20:45:47.235Z"
   },
   {
    "duration": 33,
    "start_time": "2023-09-11T20:45:47.244Z"
   },
   {
    "duration": 12,
    "start_time": "2023-09-11T20:45:47.279Z"
   },
   {
    "duration": 5,
    "start_time": "2023-09-11T20:45:47.292Z"
   },
   {
    "duration": 62,
    "start_time": "2023-09-11T20:45:47.298Z"
   },
   {
    "duration": 9,
    "start_time": "2023-09-11T20:45:47.362Z"
   },
   {
    "duration": 27,
    "start_time": "2023-09-11T20:45:47.373Z"
   },
   {
    "duration": 21,
    "start_time": "2023-09-11T20:45:47.402Z"
   },
   {
    "duration": 32,
    "start_time": "2023-09-11T20:45:47.424Z"
   },
   {
    "duration": 15,
    "start_time": "2023-09-11T20:45:47.458Z"
   },
   {
    "duration": 126,
    "start_time": "2023-09-11T20:45:47.475Z"
   },
   {
    "duration": 316,
    "start_time": "2023-09-11T20:45:47.603Z"
   },
   {
    "duration": 5,
    "start_time": "2023-09-11T20:45:47.920Z"
   },
   {
    "duration": 19,
    "start_time": "2023-09-11T20:45:47.927Z"
   },
   {
    "duration": 13,
    "start_time": "2023-09-11T20:45:47.949Z"
   },
   {
    "duration": 18,
    "start_time": "2023-09-11T20:45:47.964Z"
   },
   {
    "duration": 359,
    "start_time": "2023-09-11T20:45:47.985Z"
   },
   {
    "duration": 224,
    "start_time": "2023-09-11T20:45:48.346Z"
   },
   {
    "duration": 289,
    "start_time": "2023-09-11T20:45:48.572Z"
   },
   {
    "duration": 260,
    "start_time": "2023-09-11T20:45:48.863Z"
   },
   {
    "duration": 386,
    "start_time": "2023-09-11T20:45:49.125Z"
   },
   {
    "duration": 12,
    "start_time": "2023-09-11T20:45:49.513Z"
   },
   {
    "duration": 185,
    "start_time": "2023-09-11T20:45:49.527Z"
   },
   {
    "duration": 7,
    "start_time": "2023-09-11T20:45:49.714Z"
   },
   {
    "duration": 64,
    "start_time": "2023-09-11T20:45:49.723Z"
   },
   {
    "duration": 16,
    "start_time": "2023-09-11T20:45:49.789Z"
   },
   {
    "duration": 156,
    "start_time": "2023-09-11T20:45:49.807Z"
   },
   {
    "duration": 180,
    "start_time": "2023-09-11T20:45:49.965Z"
   },
   {
    "duration": 230,
    "start_time": "2023-09-11T20:45:50.146Z"
   },
   {
    "duration": 7,
    "start_time": "2023-09-11T20:45:50.377Z"
   },
   {
    "duration": 151,
    "start_time": "2023-09-11T20:45:50.386Z"
   },
   {
    "duration": 27,
    "start_time": "2023-09-11T20:45:50.539Z"
   },
   {
    "duration": 10,
    "start_time": "2023-09-11T20:45:50.568Z"
   },
   {
    "duration": 14,
    "start_time": "2023-09-11T20:45:50.581Z"
   },
   {
    "duration": 50,
    "start_time": "2023-09-11T20:45:50.596Z"
   },
   {
    "duration": 17,
    "start_time": "2023-09-11T20:45:50.648Z"
   }
  ],
  "kernelspec": {
   "display_name": "Python 3 (ipykernel)",
   "language": "python",
   "name": "python3"
  },
  "language_info": {
   "codemirror_mode": {
    "name": "ipython",
    "version": 3
   },
   "file_extension": ".py",
   "mimetype": "text/x-python",
   "name": "python",
   "nbconvert_exporter": "python",
   "pygments_lexer": "ipython3",
   "version": "3.9.5"
  },
  "toc": {
   "base_numbering": 1,
   "nav_menu": {},
   "number_sections": true,
   "sideBar": true,
   "skip_h1_title": true,
   "title_cell": "Table of Contents",
   "title_sidebar": "Contents",
   "toc_cell": false,
   "toc_position": {},
   "toc_section_display": true,
   "toc_window_display": false
  }
 },
 "nbformat": 4,
 "nbformat_minor": 2
}
