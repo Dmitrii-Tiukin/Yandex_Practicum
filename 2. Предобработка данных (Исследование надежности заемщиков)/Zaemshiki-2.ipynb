{
 "cells": [
  {
   "cell_type": "markdown",
   "id": "94816b62",
   "metadata": {
    "deletable": false,
    "editable": false,
    "id": "c81daeeb"
   },
   "source": [
    "# Исследование надежности заемщиков\n"
   ]
  },
  {
   "cell_type": "markdown",
   "id": "adc81d11",
   "metadata": {
    "deletable": false,
    "editable": false,
    "id": "827c20bf"
   },
   "source": [
    "Во второй части проекта вы выполните шаги 3 и 4. Их вручную проверит ревьюер.\n",
    "Чтобы вам не пришлось писать код заново для шагов 1 и 2, мы добавили авторские решения в ячейки с кодом. \n",
    "\n"
   ]
  },
  {
   "cell_type": "markdown",
   "id": "e3ebf116",
   "metadata": {
    "deletable": false,
    "editable": false,
    "id": "744d7639"
   },
   "source": [
    "## Откройте таблицу и изучите общую информацию о данных"
   ]
  },
  {
   "cell_type": "markdown",
   "id": "0057def9",
   "metadata": {
    "deletable": false,
    "editable": false,
    "id": "e7a14c31"
   },
   "source": [
    "**Задание 1. Импортируйте библиотеку pandas. Считайте данные из csv-файла в датафрейм и сохраните в переменную `data`. Путь к файлу:**\n",
    "\n",
    "`/datasets/data.csv`"
   ]
  },
  {
   "cell_type": "code",
   "execution_count": 1,
   "id": "e3fbeca4",
   "metadata": {
    "deletable": false,
    "id": "7bcf75c9"
   },
   "outputs": [],
   "source": [
    "import pandas as pd\n",
    "\n",
    "try:\n",
    "    data = pd.read_csv('/datasets/data.csv')\n",
    "except:\n",
    "    data = pd.read_csv('https://code.s3.yandex.net/datasets/data.csv')"
   ]
  },
  {
   "cell_type": "markdown",
   "id": "5f71f6f4",
   "metadata": {
    "deletable": false,
    "editable": false,
    "id": "b8038fe3"
   },
   "source": [
    "**Задание 2. Выведите первые 20 строчек датафрейма `data` на экран.**"
   ]
  },
  {
   "cell_type": "code",
   "execution_count": 2,
   "id": "319bdf6a",
   "metadata": {
    "deletable": false,
    "id": "2a7cab99",
    "outputId": "1a8f3ef2-d323-4ec2-ddf7-89670b5944c4",
    "scrolled": true
   },
   "outputs": [
    {
     "data": {
      "text/html": [
       "<div>\n",
       "<style scoped>\n",
       "    .dataframe tbody tr th:only-of-type {\n",
       "        vertical-align: middle;\n",
       "    }\n",
       "\n",
       "    .dataframe tbody tr th {\n",
       "        vertical-align: top;\n",
       "    }\n",
       "\n",
       "    .dataframe thead th {\n",
       "        text-align: right;\n",
       "    }\n",
       "</style>\n",
       "<table border=\"1\" class=\"dataframe\">\n",
       "  <thead>\n",
       "    <tr style=\"text-align: right;\">\n",
       "      <th></th>\n",
       "      <th>children</th>\n",
       "      <th>days_employed</th>\n",
       "      <th>dob_years</th>\n",
       "      <th>education</th>\n",
       "      <th>education_id</th>\n",
       "      <th>family_status</th>\n",
       "      <th>family_status_id</th>\n",
       "      <th>gender</th>\n",
       "      <th>income_type</th>\n",
       "      <th>debt</th>\n",
       "      <th>total_income</th>\n",
       "      <th>purpose</th>\n",
       "    </tr>\n",
       "  </thead>\n",
       "  <tbody>\n",
       "    <tr>\n",
       "      <th>0</th>\n",
       "      <td>1</td>\n",
       "      <td>-8437.673028</td>\n",
       "      <td>42</td>\n",
       "      <td>высшее</td>\n",
       "      <td>0</td>\n",
       "      <td>женат / замужем</td>\n",
       "      <td>0</td>\n",
       "      <td>F</td>\n",
       "      <td>сотрудник</td>\n",
       "      <td>0</td>\n",
       "      <td>253875.639453</td>\n",
       "      <td>покупка жилья</td>\n",
       "    </tr>\n",
       "    <tr>\n",
       "      <th>1</th>\n",
       "      <td>1</td>\n",
       "      <td>-4024.803754</td>\n",
       "      <td>36</td>\n",
       "      <td>среднее</td>\n",
       "      <td>1</td>\n",
       "      <td>женат / замужем</td>\n",
       "      <td>0</td>\n",
       "      <td>F</td>\n",
       "      <td>сотрудник</td>\n",
       "      <td>0</td>\n",
       "      <td>112080.014102</td>\n",
       "      <td>приобретение автомобиля</td>\n",
       "    </tr>\n",
       "    <tr>\n",
       "      <th>2</th>\n",
       "      <td>0</td>\n",
       "      <td>-5623.422610</td>\n",
       "      <td>33</td>\n",
       "      <td>Среднее</td>\n",
       "      <td>1</td>\n",
       "      <td>женат / замужем</td>\n",
       "      <td>0</td>\n",
       "      <td>M</td>\n",
       "      <td>сотрудник</td>\n",
       "      <td>0</td>\n",
       "      <td>145885.952297</td>\n",
       "      <td>покупка жилья</td>\n",
       "    </tr>\n",
       "    <tr>\n",
       "      <th>3</th>\n",
       "      <td>3</td>\n",
       "      <td>-4124.747207</td>\n",
       "      <td>32</td>\n",
       "      <td>среднее</td>\n",
       "      <td>1</td>\n",
       "      <td>женат / замужем</td>\n",
       "      <td>0</td>\n",
       "      <td>M</td>\n",
       "      <td>сотрудник</td>\n",
       "      <td>0</td>\n",
       "      <td>267628.550329</td>\n",
       "      <td>дополнительное образование</td>\n",
       "    </tr>\n",
       "    <tr>\n",
       "      <th>4</th>\n",
       "      <td>0</td>\n",
       "      <td>340266.072047</td>\n",
       "      <td>53</td>\n",
       "      <td>среднее</td>\n",
       "      <td>1</td>\n",
       "      <td>гражданский брак</td>\n",
       "      <td>1</td>\n",
       "      <td>F</td>\n",
       "      <td>пенсионер</td>\n",
       "      <td>0</td>\n",
       "      <td>158616.077870</td>\n",
       "      <td>сыграть свадьбу</td>\n",
       "    </tr>\n",
       "    <tr>\n",
       "      <th>5</th>\n",
       "      <td>0</td>\n",
       "      <td>-926.185831</td>\n",
       "      <td>27</td>\n",
       "      <td>высшее</td>\n",
       "      <td>0</td>\n",
       "      <td>гражданский брак</td>\n",
       "      <td>1</td>\n",
       "      <td>M</td>\n",
       "      <td>компаньон</td>\n",
       "      <td>0</td>\n",
       "      <td>255763.565419</td>\n",
       "      <td>покупка жилья</td>\n",
       "    </tr>\n",
       "    <tr>\n",
       "      <th>6</th>\n",
       "      <td>0</td>\n",
       "      <td>-2879.202052</td>\n",
       "      <td>43</td>\n",
       "      <td>высшее</td>\n",
       "      <td>0</td>\n",
       "      <td>женат / замужем</td>\n",
       "      <td>0</td>\n",
       "      <td>F</td>\n",
       "      <td>компаньон</td>\n",
       "      <td>0</td>\n",
       "      <td>240525.971920</td>\n",
       "      <td>операции с жильем</td>\n",
       "    </tr>\n",
       "    <tr>\n",
       "      <th>7</th>\n",
       "      <td>0</td>\n",
       "      <td>-152.779569</td>\n",
       "      <td>50</td>\n",
       "      <td>СРЕДНЕЕ</td>\n",
       "      <td>1</td>\n",
       "      <td>женат / замужем</td>\n",
       "      <td>0</td>\n",
       "      <td>M</td>\n",
       "      <td>сотрудник</td>\n",
       "      <td>0</td>\n",
       "      <td>135823.934197</td>\n",
       "      <td>образование</td>\n",
       "    </tr>\n",
       "    <tr>\n",
       "      <th>8</th>\n",
       "      <td>2</td>\n",
       "      <td>-6929.865299</td>\n",
       "      <td>35</td>\n",
       "      <td>ВЫСШЕЕ</td>\n",
       "      <td>0</td>\n",
       "      <td>гражданский брак</td>\n",
       "      <td>1</td>\n",
       "      <td>F</td>\n",
       "      <td>сотрудник</td>\n",
       "      <td>0</td>\n",
       "      <td>95856.832424</td>\n",
       "      <td>на проведение свадьбы</td>\n",
       "    </tr>\n",
       "    <tr>\n",
       "      <th>9</th>\n",
       "      <td>0</td>\n",
       "      <td>-2188.756445</td>\n",
       "      <td>41</td>\n",
       "      <td>среднее</td>\n",
       "      <td>1</td>\n",
       "      <td>женат / замужем</td>\n",
       "      <td>0</td>\n",
       "      <td>M</td>\n",
       "      <td>сотрудник</td>\n",
       "      <td>0</td>\n",
       "      <td>144425.938277</td>\n",
       "      <td>покупка жилья для семьи</td>\n",
       "    </tr>\n",
       "    <tr>\n",
       "      <th>10</th>\n",
       "      <td>2</td>\n",
       "      <td>-4171.483647</td>\n",
       "      <td>36</td>\n",
       "      <td>высшее</td>\n",
       "      <td>0</td>\n",
       "      <td>женат / замужем</td>\n",
       "      <td>0</td>\n",
       "      <td>M</td>\n",
       "      <td>компаньон</td>\n",
       "      <td>0</td>\n",
       "      <td>113943.491460</td>\n",
       "      <td>покупка недвижимости</td>\n",
       "    </tr>\n",
       "    <tr>\n",
       "      <th>11</th>\n",
       "      <td>0</td>\n",
       "      <td>-792.701887</td>\n",
       "      <td>40</td>\n",
       "      <td>среднее</td>\n",
       "      <td>1</td>\n",
       "      <td>женат / замужем</td>\n",
       "      <td>0</td>\n",
       "      <td>F</td>\n",
       "      <td>сотрудник</td>\n",
       "      <td>0</td>\n",
       "      <td>77069.234271</td>\n",
       "      <td>покупка коммерческой недвижимости</td>\n",
       "    </tr>\n",
       "    <tr>\n",
       "      <th>12</th>\n",
       "      <td>0</td>\n",
       "      <td>NaN</td>\n",
       "      <td>65</td>\n",
       "      <td>среднее</td>\n",
       "      <td>1</td>\n",
       "      <td>гражданский брак</td>\n",
       "      <td>1</td>\n",
       "      <td>M</td>\n",
       "      <td>пенсионер</td>\n",
       "      <td>0</td>\n",
       "      <td>NaN</td>\n",
       "      <td>сыграть свадьбу</td>\n",
       "    </tr>\n",
       "    <tr>\n",
       "      <th>13</th>\n",
       "      <td>0</td>\n",
       "      <td>-1846.641941</td>\n",
       "      <td>54</td>\n",
       "      <td>неоконченное высшее</td>\n",
       "      <td>2</td>\n",
       "      <td>женат / замужем</td>\n",
       "      <td>0</td>\n",
       "      <td>F</td>\n",
       "      <td>сотрудник</td>\n",
       "      <td>0</td>\n",
       "      <td>130458.228857</td>\n",
       "      <td>приобретение автомобиля</td>\n",
       "    </tr>\n",
       "    <tr>\n",
       "      <th>14</th>\n",
       "      <td>0</td>\n",
       "      <td>-1844.956182</td>\n",
       "      <td>56</td>\n",
       "      <td>высшее</td>\n",
       "      <td>0</td>\n",
       "      <td>гражданский брак</td>\n",
       "      <td>1</td>\n",
       "      <td>F</td>\n",
       "      <td>компаньон</td>\n",
       "      <td>1</td>\n",
       "      <td>165127.911772</td>\n",
       "      <td>покупка жилой недвижимости</td>\n",
       "    </tr>\n",
       "    <tr>\n",
       "      <th>15</th>\n",
       "      <td>1</td>\n",
       "      <td>-972.364419</td>\n",
       "      <td>26</td>\n",
       "      <td>среднее</td>\n",
       "      <td>1</td>\n",
       "      <td>женат / замужем</td>\n",
       "      <td>0</td>\n",
       "      <td>F</td>\n",
       "      <td>сотрудник</td>\n",
       "      <td>0</td>\n",
       "      <td>116820.904450</td>\n",
       "      <td>строительство собственной недвижимости</td>\n",
       "    </tr>\n",
       "    <tr>\n",
       "      <th>16</th>\n",
       "      <td>0</td>\n",
       "      <td>-1719.934226</td>\n",
       "      <td>35</td>\n",
       "      <td>среднее</td>\n",
       "      <td>1</td>\n",
       "      <td>женат / замужем</td>\n",
       "      <td>0</td>\n",
       "      <td>F</td>\n",
       "      <td>сотрудник</td>\n",
       "      <td>0</td>\n",
       "      <td>289202.704229</td>\n",
       "      <td>недвижимость</td>\n",
       "    </tr>\n",
       "    <tr>\n",
       "      <th>17</th>\n",
       "      <td>0</td>\n",
       "      <td>-2369.999720</td>\n",
       "      <td>33</td>\n",
       "      <td>высшее</td>\n",
       "      <td>0</td>\n",
       "      <td>гражданский брак</td>\n",
       "      <td>1</td>\n",
       "      <td>M</td>\n",
       "      <td>сотрудник</td>\n",
       "      <td>0</td>\n",
       "      <td>90410.586745</td>\n",
       "      <td>строительство недвижимости</td>\n",
       "    </tr>\n",
       "    <tr>\n",
       "      <th>18</th>\n",
       "      <td>0</td>\n",
       "      <td>400281.136913</td>\n",
       "      <td>53</td>\n",
       "      <td>среднее</td>\n",
       "      <td>1</td>\n",
       "      <td>вдовец / вдова</td>\n",
       "      <td>2</td>\n",
       "      <td>F</td>\n",
       "      <td>пенсионер</td>\n",
       "      <td>0</td>\n",
       "      <td>56823.777243</td>\n",
       "      <td>на покупку подержанного автомобиля</td>\n",
       "    </tr>\n",
       "    <tr>\n",
       "      <th>19</th>\n",
       "      <td>0</td>\n",
       "      <td>-10038.818549</td>\n",
       "      <td>48</td>\n",
       "      <td>СРЕДНЕЕ</td>\n",
       "      <td>1</td>\n",
       "      <td>в разводе</td>\n",
       "      <td>3</td>\n",
       "      <td>F</td>\n",
       "      <td>сотрудник</td>\n",
       "      <td>0</td>\n",
       "      <td>242831.107982</td>\n",
       "      <td>на покупку своего автомобиля</td>\n",
       "    </tr>\n",
       "  </tbody>\n",
       "</table>\n",
       "</div>"
      ],
      "text/plain": [
       "    children  days_employed  dob_years            education  education_id  \\\n",
       "0          1   -8437.673028         42               высшее             0   \n",
       "1          1   -4024.803754         36              среднее             1   \n",
       "2          0   -5623.422610         33              Среднее             1   \n",
       "3          3   -4124.747207         32              среднее             1   \n",
       "4          0  340266.072047         53              среднее             1   \n",
       "5          0    -926.185831         27               высшее             0   \n",
       "6          0   -2879.202052         43               высшее             0   \n",
       "7          0    -152.779569         50              СРЕДНЕЕ             1   \n",
       "8          2   -6929.865299         35               ВЫСШЕЕ             0   \n",
       "9          0   -2188.756445         41              среднее             1   \n",
       "10         2   -4171.483647         36               высшее             0   \n",
       "11         0    -792.701887         40              среднее             1   \n",
       "12         0            NaN         65              среднее             1   \n",
       "13         0   -1846.641941         54  неоконченное высшее             2   \n",
       "14         0   -1844.956182         56               высшее             0   \n",
       "15         1    -972.364419         26              среднее             1   \n",
       "16         0   -1719.934226         35              среднее             1   \n",
       "17         0   -2369.999720         33               высшее             0   \n",
       "18         0  400281.136913         53              среднее             1   \n",
       "19         0  -10038.818549         48              СРЕДНЕЕ             1   \n",
       "\n",
       "       family_status  family_status_id gender income_type  debt  \\\n",
       "0    женат / замужем                 0      F   сотрудник     0   \n",
       "1    женат / замужем                 0      F   сотрудник     0   \n",
       "2    женат / замужем                 0      M   сотрудник     0   \n",
       "3    женат / замужем                 0      M   сотрудник     0   \n",
       "4   гражданский брак                 1      F   пенсионер     0   \n",
       "5   гражданский брак                 1      M   компаньон     0   \n",
       "6    женат / замужем                 0      F   компаньон     0   \n",
       "7    женат / замужем                 0      M   сотрудник     0   \n",
       "8   гражданский брак                 1      F   сотрудник     0   \n",
       "9    женат / замужем                 0      M   сотрудник     0   \n",
       "10   женат / замужем                 0      M   компаньон     0   \n",
       "11   женат / замужем                 0      F   сотрудник     0   \n",
       "12  гражданский брак                 1      M   пенсионер     0   \n",
       "13   женат / замужем                 0      F   сотрудник     0   \n",
       "14  гражданский брак                 1      F   компаньон     1   \n",
       "15   женат / замужем                 0      F   сотрудник     0   \n",
       "16   женат / замужем                 0      F   сотрудник     0   \n",
       "17  гражданский брак                 1      M   сотрудник     0   \n",
       "18    вдовец / вдова                 2      F   пенсионер     0   \n",
       "19         в разводе                 3      F   сотрудник     0   \n",
       "\n",
       "     total_income                                 purpose  \n",
       "0   253875.639453                           покупка жилья  \n",
       "1   112080.014102                 приобретение автомобиля  \n",
       "2   145885.952297                           покупка жилья  \n",
       "3   267628.550329              дополнительное образование  \n",
       "4   158616.077870                         сыграть свадьбу  \n",
       "5   255763.565419                           покупка жилья  \n",
       "6   240525.971920                       операции с жильем  \n",
       "7   135823.934197                             образование  \n",
       "8    95856.832424                   на проведение свадьбы  \n",
       "9   144425.938277                 покупка жилья для семьи  \n",
       "10  113943.491460                    покупка недвижимости  \n",
       "11   77069.234271       покупка коммерческой недвижимости  \n",
       "12            NaN                         сыграть свадьбу  \n",
       "13  130458.228857                 приобретение автомобиля  \n",
       "14  165127.911772              покупка жилой недвижимости  \n",
       "15  116820.904450  строительство собственной недвижимости  \n",
       "16  289202.704229                            недвижимость  \n",
       "17   90410.586745              строительство недвижимости  \n",
       "18   56823.777243      на покупку подержанного автомобиля  \n",
       "19  242831.107982            на покупку своего автомобиля  "
      ]
     },
     "execution_count": 2,
     "metadata": {},
     "output_type": "execute_result"
    }
   ],
   "source": [
    "data.head(20)"
   ]
  },
  {
   "cell_type": "markdown",
   "id": "3f76942b",
   "metadata": {
    "deletable": false,
    "editable": false,
    "id": "1c12e233"
   },
   "source": [
    "**Задание 3. Выведите основную информацию о датафрейме с помощью метода `info()`.**"
   ]
  },
  {
   "cell_type": "code",
   "execution_count": 3,
   "id": "8c621ba8",
   "metadata": {
    "deletable": false,
    "id": "2b757bca",
    "outputId": "15376089-8dad-46c9-b520-c05248d43158"
   },
   "outputs": [
    {
     "name": "stdout",
     "output_type": "stream",
     "text": [
      "<class 'pandas.core.frame.DataFrame'>\n",
      "RangeIndex: 21525 entries, 0 to 21524\n",
      "Data columns (total 12 columns):\n",
      " #   Column            Non-Null Count  Dtype  \n",
      "---  ------            --------------  -----  \n",
      " 0   children          21525 non-null  int64  \n",
      " 1   days_employed     19351 non-null  float64\n",
      " 2   dob_years         21525 non-null  int64  \n",
      " 3   education         21525 non-null  object \n",
      " 4   education_id      21525 non-null  int64  \n",
      " 5   family_status     21525 non-null  object \n",
      " 6   family_status_id  21525 non-null  int64  \n",
      " 7   gender            21525 non-null  object \n",
      " 8   income_type       21525 non-null  object \n",
      " 9   debt              21525 non-null  int64  \n",
      " 10  total_income      19351 non-null  float64\n",
      " 11  purpose           21525 non-null  object \n",
      "dtypes: float64(2), int64(5), object(5)\n",
      "memory usage: 2.0+ MB\n"
     ]
    }
   ],
   "source": [
    "data.info()"
   ]
  },
  {
   "cell_type": "markdown",
   "id": "f05c617d",
   "metadata": {
    "deletable": false,
    "editable": false,
    "id": "333ec665"
   },
   "source": [
    "## Предобработка данных"
   ]
  },
  {
   "cell_type": "markdown",
   "id": "38799eb6",
   "metadata": {
    "deletable": false,
    "editable": false,
    "id": "02d92d53"
   },
   "source": [
    "### Удаление пропусков"
   ]
  },
  {
   "cell_type": "markdown",
   "id": "8e4cb5f6",
   "metadata": {
    "deletable": false,
    "editable": false,
    "id": "cd84967c"
   },
   "source": [
    "**Задание 4. Выведите количество пропущенных значений для каждого столбца. Используйте комбинацию двух методов.**"
   ]
  },
  {
   "cell_type": "code",
   "execution_count": 4,
   "id": "55d7d413",
   "metadata": {
    "deletable": false,
    "id": "7f9b2309",
    "outputId": "81f4d817-781c-465c-ed15-91ce4446810d"
   },
   "outputs": [
    {
     "data": {
      "text/plain": [
       "children               0\n",
       "days_employed       2174\n",
       "dob_years              0\n",
       "education              0\n",
       "education_id           0\n",
       "family_status          0\n",
       "family_status_id       0\n",
       "gender                 0\n",
       "income_type            0\n",
       "debt                   0\n",
       "total_income        2174\n",
       "purpose                0\n",
       "dtype: int64"
      ]
     },
     "execution_count": 4,
     "metadata": {},
     "output_type": "execute_result"
    }
   ],
   "source": [
    "data.isna().sum()"
   ]
  },
  {
   "cell_type": "markdown",
   "id": "d388da0e",
   "metadata": {
    "deletable": false,
    "editable": false,
    "id": "db86e27b"
   },
   "source": [
    "**Задание 5. В двух столбцах есть пропущенные значения. Один из них — `days_employed`. Пропуски в этом столбце вы обработаете на следующем этапе. Другой столбец с пропущенными значениями — `total_income` — хранит данные о доходах. На сумму дохода сильнее всего влияет тип занятости, поэтому заполнить пропуски в этом столбце нужно медианным значением по каждому типу из столбца `income_type`. Например, у человека с типом занятости `сотрудник` пропуск в столбце `total_income` должен быть заполнен медианным доходом среди всех записей с тем же типом.**"
   ]
  },
  {
   "cell_type": "code",
   "execution_count": 5,
   "id": "775f0771",
   "metadata": {
    "deletable": false,
    "id": "42006a93"
   },
   "outputs": [],
   "source": [
    "for t in data['income_type'].unique():\n",
    "    data.loc[(data['income_type'] == t) & (data['total_income'].isna()), 'total_income'] = \\\n",
    "    data.loc[(data['income_type'] == t), 'total_income'].median()"
   ]
  },
  {
   "cell_type": "markdown",
   "id": "dd98bda6",
   "metadata": {
    "deletable": false,
    "editable": false,
    "id": "89da5ece"
   },
   "source": [
    "### Обработка аномальных значений"
   ]
  },
  {
   "cell_type": "markdown",
   "id": "2344416c",
   "metadata": {
    "deletable": false,
    "editable": false,
    "id": "57964554"
   },
   "source": [
    "**Задание 6. В данных могут встречаться артефакты (аномалии) — значения, которые не отражают действительность и появились по какой-то ошибке. таким артефактом будет отрицательное количество дней трудового стажа в столбце `days_employed`. Для реальных данных это нормально. Обработайте значения в этом столбце: замените все отрицательные значения положительными с помощью метода `abs()`.**"
   ]
  },
  {
   "cell_type": "code",
   "execution_count": 6,
   "id": "2c4f24f7",
   "metadata": {
    "deletable": false,
    "id": "f6f055bf"
   },
   "outputs": [],
   "source": [
    "data['days_employed'] = data['days_employed'].abs()"
   ]
  },
  {
   "cell_type": "markdown",
   "id": "123ac42d",
   "metadata": {
    "deletable": false,
    "editable": false,
    "id": "6107dd2f"
   },
   "source": [
    "**Задание 7. Для каждого типа занятости выведите медианное значение трудового стажа `days_employed` в днях.**"
   ]
  },
  {
   "cell_type": "code",
   "execution_count": 7,
   "id": "5731112a",
   "metadata": {
    "deletable": false,
    "id": "85a5faf6",
    "outputId": "801ef80e-522b-4668-f34e-565af7432bcf"
   },
   "outputs": [
    {
     "data": {
      "text/plain": [
       "income_type\n",
       "безработный        366413.652744\n",
       "в декрете            3296.759962\n",
       "госслужащий          2689.368353\n",
       "компаньон            1547.382223\n",
       "пенсионер          365213.306266\n",
       "предприниматель       520.848083\n",
       "сотрудник            1574.202821\n",
       "студент               578.751554\n",
       "Name: days_employed, dtype: float64"
      ]
     },
     "execution_count": 7,
     "metadata": {},
     "output_type": "execute_result"
    }
   ],
   "source": [
    "data.groupby('income_type')['days_employed'].agg('median')"
   ]
  },
  {
   "cell_type": "markdown",
   "id": "62ef1787",
   "metadata": {
    "deletable": false,
    "editable": false,
    "id": "38d1a030"
   },
   "source": [
    "У двух типов (безработные и пенсионеры) получатся аномально большие значения. Исправить такие значения сложно, поэтому оставьте их как есть. Тем более этот столбец не понадобится вам для исследования."
   ]
  },
  {
   "cell_type": "markdown",
   "id": "f38cf682",
   "metadata": {
    "deletable": false,
    "editable": false,
    "id": "d8a9f147"
   },
   "source": [
    "**Задание 8. Выведите перечень уникальных значений столбца `children`.**"
   ]
  },
  {
   "cell_type": "code",
   "execution_count": 8,
   "id": "dc722cb6",
   "metadata": {
    "deletable": false,
    "id": "ef5056eb",
    "outputId": "6975b15c-7f95-4697-d16d-a0c79b657b03"
   },
   "outputs": [
    {
     "data": {
      "text/plain": [
       "array([ 1,  0,  3,  2, -1,  4, 20,  5])"
      ]
     },
     "execution_count": 8,
     "metadata": {},
     "output_type": "execute_result"
    }
   ],
   "source": [
    "data['children'].unique()"
   ]
  },
  {
   "cell_type": "markdown",
   "id": "e55bbbd0",
   "metadata": {
    "deletable": false,
    "editable": false,
    "id": "40b9ebf2"
   },
   "source": [
    "**Задание 9. В столбце `children` есть два аномальных значения. Удалите строки, в которых встречаются такие аномальные значения из датафрейма `data`.**"
   ]
  },
  {
   "cell_type": "code",
   "execution_count": 9,
   "id": "3dee9845",
   "metadata": {
    "deletable": false,
    "id": "3ff9801d"
   },
   "outputs": [],
   "source": [
    "data = data[(data['children'] != -1) & (data['children'] != 20)]"
   ]
  },
  {
   "cell_type": "markdown",
   "id": "38e2390d",
   "metadata": {
    "deletable": false,
    "editable": false,
    "id": "bbc4d0ce"
   },
   "source": [
    "**Задание 10. Ещё раз выведите перечень уникальных значений столбца `children`, чтобы убедиться, что артефакты удалены.**"
   ]
  },
  {
   "cell_type": "code",
   "execution_count": 10,
   "id": "b7d8046b",
   "metadata": {
    "deletable": false,
    "id": "ad4fa8b7",
    "outputId": "b2097101-d49d-44d9-901b-32a65c9463d1"
   },
   "outputs": [
    {
     "data": {
      "text/plain": [
       "array([1, 0, 3, 2, 4, 5])"
      ]
     },
     "execution_count": 10,
     "metadata": {},
     "output_type": "execute_result"
    }
   ],
   "source": [
    "data['children'].unique()"
   ]
  },
  {
   "cell_type": "markdown",
   "id": "287ef36c",
   "metadata": {
    "deletable": false,
    "editable": false,
    "id": "75440b63"
   },
   "source": [
    "### Удаление пропусков (продолжение)"
   ]
  },
  {
   "cell_type": "markdown",
   "id": "22e09f6b",
   "metadata": {
    "deletable": false,
    "editable": false,
    "id": "f4ea573f"
   },
   "source": [
    "**Задание 11. Заполните пропуски в столбце `days_employed` медианными значениями по каждого типа занятости `income_type`.**"
   ]
  },
  {
   "cell_type": "code",
   "execution_count": 11,
   "id": "d36a7af9",
   "metadata": {
    "deletable": false,
    "id": "af6b1a7e"
   },
   "outputs": [],
   "source": [
    "for t in data['income_type'].unique():\n",
    "    data.loc[(data['income_type'] == t) & (data['days_employed'].isna()), 'days_employed'] = \\\n",
    "    data.loc[(data['income_type'] == t), 'days_employed'].median()"
   ]
  },
  {
   "cell_type": "markdown",
   "id": "8830029e",
   "metadata": {
    "deletable": false,
    "editable": false,
    "id": "2753f40d"
   },
   "source": [
    "**Задание 12. Убедитесь, что все пропуски заполнены. Проверьте себя и ещё раз выведите количество пропущенных значений для каждого столбца с помощью двух методов.**"
   ]
  },
  {
   "cell_type": "code",
   "execution_count": 12,
   "id": "48691dcb",
   "metadata": {
    "deletable": false,
    "id": "55f78bc2",
    "outputId": "8da1e4e1-358e-4e87-98c9-f261bce0a7b2"
   },
   "outputs": [
    {
     "data": {
      "text/plain": [
       "children            0\n",
       "days_employed       0\n",
       "dob_years           0\n",
       "education           0\n",
       "education_id        0\n",
       "family_status       0\n",
       "family_status_id    0\n",
       "gender              0\n",
       "income_type         0\n",
       "debt                0\n",
       "total_income        0\n",
       "purpose             0\n",
       "dtype: int64"
      ]
     },
     "execution_count": 12,
     "metadata": {},
     "output_type": "execute_result"
    }
   ],
   "source": [
    "data.isna().sum()"
   ]
  },
  {
   "cell_type": "markdown",
   "id": "7e3f86d9",
   "metadata": {
    "deletable": false,
    "editable": false,
    "id": "ddc81e43"
   },
   "source": [
    "### Изменение типов данных"
   ]
  },
  {
   "cell_type": "markdown",
   "id": "f2734a3e",
   "metadata": {
    "deletable": false,
    "editable": false,
    "id": "42d19d24"
   },
   "source": [
    "**Задание 13. Замените вещественный тип данных в столбце `total_income` на целочисленный с помощью метода `astype()`.**"
   ]
  },
  {
   "cell_type": "code",
   "execution_count": 13,
   "id": "c145940b",
   "metadata": {
    "deletable": false,
    "id": "920b65ad"
   },
   "outputs": [],
   "source": [
    "data['total_income'] = data['total_income'].astype(int)"
   ]
  },
  {
   "cell_type": "markdown",
   "id": "b1c46420",
   "metadata": {
    "deletable": false,
    "editable": false,
    "id": "80c420ba"
   },
   "source": [
    "### Обработка дубликатов"
   ]
  },
  {
   "cell_type": "markdown",
   "id": "4ca70e62",
   "metadata": {
    "deletable": false,
    "editable": false
   },
   "source": [
    "**Задание 14. Обработайте неявные дубликаты в столбце `education`. В этом столбце есть одни и те же значения, но записанные по-разному: с использованием заглавных и строчных букв. Приведите их к нижнему регистру. Проверьте остальные столбцы.**"
   ]
  },
  {
   "cell_type": "code",
   "execution_count": 14,
   "id": "8f8d616d",
   "metadata": {
    "deletable": false
   },
   "outputs": [],
   "source": [
    "data['education'] = data['education'].str.lower()"
   ]
  },
  {
   "cell_type": "markdown",
   "id": "75ae925d",
   "metadata": {
    "deletable": false,
    "editable": false,
    "id": "dc587695"
   },
   "source": [
    "**Задание 15. Выведите на экран количество строк-дубликатов в данных. Если такие строки присутствуют, удалите их.**"
   ]
  },
  {
   "cell_type": "code",
   "execution_count": 15,
   "id": "96655f88",
   "metadata": {
    "deletable": false,
    "id": "3ee445e4",
    "outputId": "9684deba-1934-42d1-99e1-cda61740f822"
   },
   "outputs": [
    {
     "data": {
      "text/plain": [
       "71"
      ]
     },
     "execution_count": 15,
     "metadata": {},
     "output_type": "execute_result"
    }
   ],
   "source": [
    "data.duplicated().sum()"
   ]
  },
  {
   "cell_type": "code",
   "execution_count": 16,
   "id": "d4342cc9",
   "metadata": {
    "deletable": false,
    "id": "8575fe05"
   },
   "outputs": [],
   "source": [
    "data = data.drop_duplicates()"
   ]
  },
  {
   "cell_type": "markdown",
   "id": "6a1952c7",
   "metadata": {
    "deletable": false,
    "editable": false,
    "id": "9904cf55"
   },
   "source": [
    "### Категоризация данных"
   ]
  },
  {
   "cell_type": "markdown",
   "id": "2581ef5a",
   "metadata": {
    "deletable": false,
    "editable": false,
    "id": "72fcc8a2"
   },
   "source": [
    "**Задание 16. На основании диапазонов, указанных ниже, создайте в датафрейме `data` столбец `total_income_category` с категориями:**\n",
    "\n",
    "- 0–30000 — `'E'`;\n",
    "- 30001–50000 — `'D'`;\n",
    "- 50001–200000 — `'C'`;\n",
    "- 200001–1000000 — `'B'`;\n",
    "- 1000001 и выше — `'A'`.\n",
    "\n",
    "\n",
    "**Например, кредитополучателю с доходом 25000 нужно назначить категорию `'E'`, а клиенту, получающему 235000, — `'B'`. Используйте собственную функцию с именем `categorize_income()` и метод `apply()`.**"
   ]
  },
  {
   "cell_type": "code",
   "execution_count": 17,
   "id": "4413f266",
   "metadata": {
    "deletable": false,
    "id": "e1771346"
   },
   "outputs": [],
   "source": [
    "def categorize_income(income):\n",
    "    try:\n",
    "        if 0 <= income <= 30000:\n",
    "            return 'E'\n",
    "        elif 30001 <= income <= 50000:\n",
    "            return 'D'\n",
    "        elif 50001 <= income <= 200000:\n",
    "            return 'C'\n",
    "        elif 200001 <= income <= 1000000:\n",
    "            return 'B'\n",
    "        elif income >= 1000001:\n",
    "            return 'A'\n",
    "    except:\n",
    "        pass"
   ]
  },
  {
   "cell_type": "code",
   "execution_count": 18,
   "id": "5c89e6a3",
   "metadata": {
    "deletable": false,
    "id": "d5f3586d"
   },
   "outputs": [],
   "source": [
    "data['total_income_category'] = data['total_income'].apply(categorize_income)"
   ]
  },
  {
   "cell_type": "markdown",
   "id": "a161ae2d",
   "metadata": {
    "deletable": false,
    "editable": false,
    "id": "dde49b5c"
   },
   "source": [
    "**Задание 17. Выведите на экран перечень уникальных целей взятия кредита из столбца `purpose`.**"
   ]
  },
  {
   "cell_type": "code",
   "execution_count": 19,
   "id": "e6d8e3af",
   "metadata": {
    "deletable": false,
    "id": "f67ce9b3",
    "outputId": "673c12d9-7d7e-4ae0-9812-c622c89dd244"
   },
   "outputs": [
    {
     "data": {
      "text/plain": [
       "array(['покупка жилья', 'приобретение автомобиля',\n",
       "       'дополнительное образование', 'сыграть свадьбу',\n",
       "       'операции с жильем', 'образование', 'на проведение свадьбы',\n",
       "       'покупка жилья для семьи', 'покупка недвижимости',\n",
       "       'покупка коммерческой недвижимости', 'покупка жилой недвижимости',\n",
       "       'строительство собственной недвижимости', 'недвижимость',\n",
       "       'строительство недвижимости', 'на покупку подержанного автомобиля',\n",
       "       'на покупку своего автомобиля',\n",
       "       'операции с коммерческой недвижимостью',\n",
       "       'строительство жилой недвижимости', 'жилье',\n",
       "       'операции со своей недвижимостью', 'автомобили',\n",
       "       'заняться образованием', 'сделка с подержанным автомобилем',\n",
       "       'получение образования', 'автомобиль', 'свадьба',\n",
       "       'получение дополнительного образования', 'покупка своего жилья',\n",
       "       'операции с недвижимостью', 'получение высшего образования',\n",
       "       'свой автомобиль', 'сделка с автомобилем',\n",
       "       'профильное образование', 'высшее образование',\n",
       "       'покупка жилья для сдачи', 'на покупку автомобиля', 'ремонт жилью',\n",
       "       'заняться высшим образованием'], dtype=object)"
      ]
     },
     "execution_count": 19,
     "metadata": {},
     "output_type": "execute_result"
    }
   ],
   "source": [
    "data['purpose'].unique()"
   ]
  },
  {
   "cell_type": "markdown",
   "id": "87f7a2ea",
   "metadata": {
    "deletable": false,
    "editable": false,
    "id": "85d0aef0"
   },
   "source": [
    "**Задание 18. Создайте функцию, которая на основании данных из столбца `purpose` сформирует новый столбец `purpose_category`, в который войдут следующие категории:**\n",
    "\n",
    "- `'операции с автомобилем'`,\n",
    "- `'операции с недвижимостью'`,\n",
    "- `'проведение свадьбы'`,\n",
    "- `'получение образования'`.\n",
    "\n",
    "**Например, если в столбце `purpose` находится подстрока `'на покупку автомобиля'`, то в столбце `purpose_category` должна появиться строка `'операции с автомобилем'`.**\n",
    "\n",
    "**Используйте собственную функцию с именем `categorize_purpose()` и метод `apply()`. Изучите данные в столбце `purpose` и определите, какие подстроки помогут вам правильно определить категорию.**"
   ]
  },
  {
   "cell_type": "code",
   "execution_count": 20,
   "id": "a2a95150",
   "metadata": {
    "deletable": false,
    "id": "e149fab4"
   },
   "outputs": [],
   "source": [
    "def categorize_purpose(row):\n",
    "    try:\n",
    "        if 'автом' in row:\n",
    "            return 'операции с автомобилем'\n",
    "        elif 'жил' in row or 'недвиж' in row:\n",
    "            return 'операции с недвижимостью'\n",
    "        elif 'свад' in row:\n",
    "            return 'проведение свадьбы'\n",
    "        elif 'образов' in row:\n",
    "            return 'получение образования'\n",
    "    except:\n",
    "        return 'нет категории'"
   ]
  },
  {
   "cell_type": "code",
   "execution_count": 21,
   "id": "a6b04452",
   "metadata": {
    "deletable": false,
    "id": "bf36e69b"
   },
   "outputs": [],
   "source": [
    "data['purpose_category'] = data['purpose'].apply(categorize_purpose)"
   ]
  },
  {
   "cell_type": "markdown",
   "id": "3c3fb699",
   "metadata": {
    "deletable": false,
    "editable": false,
    "id": "09b242bf"
   },
   "source": [
    "### Шаг 3. Исследуйте данные и ответьте на вопросы"
   ]
  },
  {
   "cell_type": "code",
   "execution_count": 22,
   "id": "0a3e0425",
   "metadata": {},
   "outputs": [
    {
     "data": {
      "text/html": [
       "<div>\n",
       "<style scoped>\n",
       "    .dataframe tbody tr th:only-of-type {\n",
       "        vertical-align: middle;\n",
       "    }\n",
       "\n",
       "    .dataframe tbody tr th {\n",
       "        vertical-align: top;\n",
       "    }\n",
       "\n",
       "    .dataframe thead th {\n",
       "        text-align: right;\n",
       "    }\n",
       "</style>\n",
       "<table border=\"1\" class=\"dataframe\">\n",
       "  <thead>\n",
       "    <tr style=\"text-align: right;\">\n",
       "      <th></th>\n",
       "      <th>children</th>\n",
       "      <th>days_employed</th>\n",
       "      <th>dob_years</th>\n",
       "      <th>education</th>\n",
       "      <th>education_id</th>\n",
       "      <th>family_status</th>\n",
       "      <th>family_status_id</th>\n",
       "      <th>gender</th>\n",
       "      <th>income_type</th>\n",
       "      <th>debt</th>\n",
       "      <th>total_income</th>\n",
       "      <th>purpose</th>\n",
       "      <th>total_income_category</th>\n",
       "      <th>purpose_category</th>\n",
       "    </tr>\n",
       "  </thead>\n",
       "  <tbody>\n",
       "    <tr>\n",
       "      <th>0</th>\n",
       "      <td>1</td>\n",
       "      <td>8437.673028</td>\n",
       "      <td>42</td>\n",
       "      <td>высшее</td>\n",
       "      <td>0</td>\n",
       "      <td>женат / замужем</td>\n",
       "      <td>0</td>\n",
       "      <td>F</td>\n",
       "      <td>сотрудник</td>\n",
       "      <td>0</td>\n",
       "      <td>253875</td>\n",
       "      <td>покупка жилья</td>\n",
       "      <td>B</td>\n",
       "      <td>операции с недвижимостью</td>\n",
       "    </tr>\n",
       "    <tr>\n",
       "      <th>1</th>\n",
       "      <td>1</td>\n",
       "      <td>4024.803754</td>\n",
       "      <td>36</td>\n",
       "      <td>среднее</td>\n",
       "      <td>1</td>\n",
       "      <td>женат / замужем</td>\n",
       "      <td>0</td>\n",
       "      <td>F</td>\n",
       "      <td>сотрудник</td>\n",
       "      <td>0</td>\n",
       "      <td>112080</td>\n",
       "      <td>приобретение автомобиля</td>\n",
       "      <td>C</td>\n",
       "      <td>операции с автомобилем</td>\n",
       "    </tr>\n",
       "    <tr>\n",
       "      <th>2</th>\n",
       "      <td>0</td>\n",
       "      <td>5623.422610</td>\n",
       "      <td>33</td>\n",
       "      <td>среднее</td>\n",
       "      <td>1</td>\n",
       "      <td>женат / замужем</td>\n",
       "      <td>0</td>\n",
       "      <td>M</td>\n",
       "      <td>сотрудник</td>\n",
       "      <td>0</td>\n",
       "      <td>145885</td>\n",
       "      <td>покупка жилья</td>\n",
       "      <td>C</td>\n",
       "      <td>операции с недвижимостью</td>\n",
       "    </tr>\n",
       "    <tr>\n",
       "      <th>3</th>\n",
       "      <td>3</td>\n",
       "      <td>4124.747207</td>\n",
       "      <td>32</td>\n",
       "      <td>среднее</td>\n",
       "      <td>1</td>\n",
       "      <td>женат / замужем</td>\n",
       "      <td>0</td>\n",
       "      <td>M</td>\n",
       "      <td>сотрудник</td>\n",
       "      <td>0</td>\n",
       "      <td>267628</td>\n",
       "      <td>дополнительное образование</td>\n",
       "      <td>B</td>\n",
       "      <td>получение образования</td>\n",
       "    </tr>\n",
       "    <tr>\n",
       "      <th>4</th>\n",
       "      <td>0</td>\n",
       "      <td>340266.072047</td>\n",
       "      <td>53</td>\n",
       "      <td>среднее</td>\n",
       "      <td>1</td>\n",
       "      <td>гражданский брак</td>\n",
       "      <td>1</td>\n",
       "      <td>F</td>\n",
       "      <td>пенсионер</td>\n",
       "      <td>0</td>\n",
       "      <td>158616</td>\n",
       "      <td>сыграть свадьбу</td>\n",
       "      <td>C</td>\n",
       "      <td>проведение свадьбы</td>\n",
       "    </tr>\n",
       "    <tr>\n",
       "      <th>...</th>\n",
       "      <td>...</td>\n",
       "      <td>...</td>\n",
       "      <td>...</td>\n",
       "      <td>...</td>\n",
       "      <td>...</td>\n",
       "      <td>...</td>\n",
       "      <td>...</td>\n",
       "      <td>...</td>\n",
       "      <td>...</td>\n",
       "      <td>...</td>\n",
       "      <td>...</td>\n",
       "      <td>...</td>\n",
       "      <td>...</td>\n",
       "      <td>...</td>\n",
       "    </tr>\n",
       "    <tr>\n",
       "      <th>21520</th>\n",
       "      <td>1</td>\n",
       "      <td>4529.316663</td>\n",
       "      <td>43</td>\n",
       "      <td>среднее</td>\n",
       "      <td>1</td>\n",
       "      <td>гражданский брак</td>\n",
       "      <td>1</td>\n",
       "      <td>F</td>\n",
       "      <td>компаньон</td>\n",
       "      <td>0</td>\n",
       "      <td>224791</td>\n",
       "      <td>операции с жильем</td>\n",
       "      <td>B</td>\n",
       "      <td>операции с недвижимостью</td>\n",
       "    </tr>\n",
       "    <tr>\n",
       "      <th>21521</th>\n",
       "      <td>0</td>\n",
       "      <td>343937.404131</td>\n",
       "      <td>67</td>\n",
       "      <td>среднее</td>\n",
       "      <td>1</td>\n",
       "      <td>женат / замужем</td>\n",
       "      <td>0</td>\n",
       "      <td>F</td>\n",
       "      <td>пенсионер</td>\n",
       "      <td>0</td>\n",
       "      <td>155999</td>\n",
       "      <td>сделка с автомобилем</td>\n",
       "      <td>C</td>\n",
       "      <td>операции с автомобилем</td>\n",
       "    </tr>\n",
       "    <tr>\n",
       "      <th>21522</th>\n",
       "      <td>1</td>\n",
       "      <td>2113.346888</td>\n",
       "      <td>38</td>\n",
       "      <td>среднее</td>\n",
       "      <td>1</td>\n",
       "      <td>гражданский брак</td>\n",
       "      <td>1</td>\n",
       "      <td>M</td>\n",
       "      <td>сотрудник</td>\n",
       "      <td>1</td>\n",
       "      <td>89672</td>\n",
       "      <td>недвижимость</td>\n",
       "      <td>C</td>\n",
       "      <td>операции с недвижимостью</td>\n",
       "    </tr>\n",
       "    <tr>\n",
       "      <th>21523</th>\n",
       "      <td>3</td>\n",
       "      <td>3112.481705</td>\n",
       "      <td>38</td>\n",
       "      <td>среднее</td>\n",
       "      <td>1</td>\n",
       "      <td>женат / замужем</td>\n",
       "      <td>0</td>\n",
       "      <td>M</td>\n",
       "      <td>сотрудник</td>\n",
       "      <td>1</td>\n",
       "      <td>244093</td>\n",
       "      <td>на покупку своего автомобиля</td>\n",
       "      <td>B</td>\n",
       "      <td>операции с автомобилем</td>\n",
       "    </tr>\n",
       "    <tr>\n",
       "      <th>21524</th>\n",
       "      <td>2</td>\n",
       "      <td>1984.507589</td>\n",
       "      <td>40</td>\n",
       "      <td>среднее</td>\n",
       "      <td>1</td>\n",
       "      <td>женат / замужем</td>\n",
       "      <td>0</td>\n",
       "      <td>F</td>\n",
       "      <td>сотрудник</td>\n",
       "      <td>0</td>\n",
       "      <td>82047</td>\n",
       "      <td>на покупку автомобиля</td>\n",
       "      <td>C</td>\n",
       "      <td>операции с автомобилем</td>\n",
       "    </tr>\n",
       "  </tbody>\n",
       "</table>\n",
       "<p>21331 rows × 14 columns</p>\n",
       "</div>"
      ],
      "text/plain": [
       "       children  days_employed  dob_years education  education_id  \\\n",
       "0             1    8437.673028         42    высшее             0   \n",
       "1             1    4024.803754         36   среднее             1   \n",
       "2             0    5623.422610         33   среднее             1   \n",
       "3             3    4124.747207         32   среднее             1   \n",
       "4             0  340266.072047         53   среднее             1   \n",
       "...         ...            ...        ...       ...           ...   \n",
       "21520         1    4529.316663         43   среднее             1   \n",
       "21521         0  343937.404131         67   среднее             1   \n",
       "21522         1    2113.346888         38   среднее             1   \n",
       "21523         3    3112.481705         38   среднее             1   \n",
       "21524         2    1984.507589         40   среднее             1   \n",
       "\n",
       "          family_status  family_status_id gender income_type  debt  \\\n",
       "0       женат / замужем                 0      F   сотрудник     0   \n",
       "1       женат / замужем                 0      F   сотрудник     0   \n",
       "2       женат / замужем                 0      M   сотрудник     0   \n",
       "3       женат / замужем                 0      M   сотрудник     0   \n",
       "4      гражданский брак                 1      F   пенсионер     0   \n",
       "...                 ...               ...    ...         ...   ...   \n",
       "21520  гражданский брак                 1      F   компаньон     0   \n",
       "21521   женат / замужем                 0      F   пенсионер     0   \n",
       "21522  гражданский брак                 1      M   сотрудник     1   \n",
       "21523   женат / замужем                 0      M   сотрудник     1   \n",
       "21524   женат / замужем                 0      F   сотрудник     0   \n",
       "\n",
       "       total_income                       purpose total_income_category  \\\n",
       "0            253875                 покупка жилья                     B   \n",
       "1            112080       приобретение автомобиля                     C   \n",
       "2            145885                 покупка жилья                     C   \n",
       "3            267628    дополнительное образование                     B   \n",
       "4            158616               сыграть свадьбу                     C   \n",
       "...             ...                           ...                   ...   \n",
       "21520        224791             операции с жильем                     B   \n",
       "21521        155999          сделка с автомобилем                     C   \n",
       "21522         89672                  недвижимость                     C   \n",
       "21523        244093  на покупку своего автомобиля                     B   \n",
       "21524         82047         на покупку автомобиля                     C   \n",
       "\n",
       "               purpose_category  \n",
       "0      операции с недвижимостью  \n",
       "1        операции с автомобилем  \n",
       "2      операции с недвижимостью  \n",
       "3         получение образования  \n",
       "4            проведение свадьбы  \n",
       "...                         ...  \n",
       "21520  операции с недвижимостью  \n",
       "21521    операции с автомобилем  \n",
       "21522  операции с недвижимостью  \n",
       "21523    операции с автомобилем  \n",
       "21524    операции с автомобилем  \n",
       "\n",
       "[21331 rows x 14 columns]"
      ]
     },
     "execution_count": 22,
     "metadata": {},
     "output_type": "execute_result"
    }
   ],
   "source": [
    "data"
   ]
  },
  {
   "cell_type": "markdown",
   "id": "9aba6c1e",
   "metadata": {
    "deletable": false,
    "editable": false,
    "id": "c5d66278"
   },
   "source": [
    "#### 3.1 Есть ли зависимость между количеством детей и возвратом кредита в срок?"
   ]
  },
  {
   "cell_type": "code",
   "execution_count": 23,
   "id": "127323b4",
   "metadata": {
    "deletable": false,
    "id": "2cacfc4a",
    "scrolled": true
   },
   "outputs": [
    {
     "data": {
      "text/plain": [
       "0.07543822297920659"
      ]
     },
     "execution_count": 23,
     "metadata": {},
     "output_type": "execute_result"
    }
   ],
   "source": [
    "data_0 = data[data['children'] == 0] #таблица с данными по семьям без детей\n",
    "rows_number_0 = data_0.shape[0] #число семей без детей\n",
    "debt_0 = data_0[data_0['debt'] == 1] #таблица с данными по семьям без детей, но с задолженностью по кредиту\n",
    "rows_number_0_0 = debt_0.shape[0] #число семей без детей, но с задолженностью по кредиту\n",
    "percent_0 = rows_number_0_0 / rows_number_0 #коэффициент, показывающий отношение числа семей без детей с задолженностью по кредиту к общему числу семей без детей\n",
    "percent_0"
   ]
  },
  {
   "cell_type": "code",
   "execution_count": 24,
   "id": "35d5ac63",
   "metadata": {},
   "outputs": [
    {
     "data": {
      "text/plain": [
       "0.09234608985024959"
      ]
     },
     "execution_count": 24,
     "metadata": {},
     "output_type": "execute_result"
    }
   ],
   "source": [
    "data_1 = data[data['children'] == 1] #таблица с данными по семьям с 1 ребенком\n",
    "rows_number_1 = data_1.shape[0] #число семей с 1 ребенком\n",
    "debt_1 = data_1[data_1['debt'] == 1] #таблица с данными по семьям с 1 ребенком, но с задолженностью по кредиту\n",
    "rows_number_1_1 = debt_1.shape[0] #число семей с 1 ребенком, но с задолженностью по кредиту\n",
    "percent_1 = rows_number_1_1 / rows_number_1 #коэффициент, показывающий отношение числа семей с 1 ребенком с задолженностью по кредиту к общему числу семей без детей\n",
    "percent_1"
   ]
  },
  {
   "cell_type": "code",
   "execution_count": 25,
   "id": "cbdef5af",
   "metadata": {},
   "outputs": [
    {
     "data": {
      "text/plain": [
       "0.09454191033138401"
      ]
     },
     "execution_count": 25,
     "metadata": {},
     "output_type": "execute_result"
    }
   ],
   "source": [
    "data_2 = data[data['children'] == 2] #таблица с данными по семьям с 2 детьми\n",
    "rows_number_2 = data_2.shape[0] #число семей с 2 детьми\n",
    "debt_2 = data_2[data_2['debt'] == 1] #таблица с данными по семьям с 2 детьми, но с задолженностью по кредиту\n",
    "rows_number_2_2 = debt_2.shape[0] #число семей с 2 детьми, но с задолженностью по кредиту\n",
    "percent_2 = rows_number_2_2 / rows_number_2 #коэффициент, показывающий отношение числа семей с 2 детьми с задолженностью по кредиту к общему числу семей без детей\n",
    "percent_2"
   ]
  },
  {
   "cell_type": "code",
   "execution_count": 26,
   "id": "91f36663",
   "metadata": {},
   "outputs": [
    {
     "data": {
      "text/plain": [
       "0.08181818181818182"
      ]
     },
     "execution_count": 26,
     "metadata": {},
     "output_type": "execute_result"
    }
   ],
   "source": [
    "data_3 = data[data['children'] == 3] #таблица с данными по семьям с 3 детьми\n",
    "rows_number_3 = data_3.shape[0] #число семей с 3 детьми\n",
    "debt_3 = data_3[data_3['debt'] == 1] #таблица с данными по семьям с 3 детьми, но с задолженностью по кредиту\n",
    "rows_number_3_3 = debt_3.shape[0] #число семей с 3 детьми, но с задолженностью по кредиту\n",
    "percent_3 = rows_number_3_3 / rows_number_3 #коэффициент, показывающий отношение числа семей с 3 детьми с задолженностью по кредиту к общему числу семей без детей\n",
    "percent_3"
   ]
  },
  {
   "cell_type": "code",
   "execution_count": 27,
   "id": "32b936e3",
   "metadata": {},
   "outputs": [
    {
     "data": {
      "text/plain": [
       "0.0975609756097561"
      ]
     },
     "execution_count": 27,
     "metadata": {},
     "output_type": "execute_result"
    }
   ],
   "source": [
    "data_4 = data[data['children'] == 4] #таблица с данными по семьям с 4 детьми\n",
    "rows_number_4 = data_4.shape[0] #число семей с 4 детьми\n",
    "debt_4 = data_4[data_4['debt'] == 1] #таблица с данными по семьям с 4 детьми, но с задолженностью по кредиту\n",
    "rows_number_4_4 = debt_4.shape[0] #число семей с 4 детьми, но с задолженностью по кредиту\n",
    "percent_4 = rows_number_4_4 / rows_number_4 #коэффициент, показывающий отношение числа семей с 4 детьми с задолженностью по кредиту к общему числу семей без детей\n",
    "percent_4"
   ]
  },
  {
   "cell_type": "code",
   "execution_count": 28,
   "id": "9b5686ab",
   "metadata": {},
   "outputs": [
    {
     "data": {
      "text/plain": [
       "0.0"
      ]
     },
     "execution_count": 28,
     "metadata": {},
     "output_type": "execute_result"
    }
   ],
   "source": [
    "data_5 = data[data['children'] == 5] #таблица с данными по семьям с 5 детьми\n",
    "rows_number_5 = data_5.shape[0] #число семей с 5 детьми\n",
    "debt_5 = data_5[data_5['debt'] == 1] #таблица с данными по семьям с 5 детьми, но с задолженностью по кредиту\n",
    "rows_number_5_5 = debt_5.shape[0] #число семей с 5 детьми, но с задолженностью по кредиту\n",
    "percent_5 = rows_number_5_5 / rows_number_5 #коэффициент, показывающий отношение числа семей с 5 детьми с задолженностью по кредиту к общему числу семей без детей\n",
    "percent_5"
   ]
  },
  {
   "cell_type": "markdown",
   "id": "d34aa63f",
   "metadata": {
    "deletable": false,
    "id": "3a6b99ec"
   },
   "source": [
    "**Вывод:** \n",
    "1. Как ни странно, семьи с 5 детьми оказались самыми надежными плательщиками - среди них не нашлось ни одного случая, когда были долги. При этом важно понимать, что случаев с 5 детьми в таблице нашлось всего 9 штук. Поэтому выборка не является достаточной для окончательных выводов по надежности выплаты кредита у этой группы семей.\n",
    "2. Далее по степени надежности идут семьи без детей - коэффициент наличия долгов по ним составляет 0,0754..., т.е. чуть больше 7,5%.\n",
    "3. На третьем месте по надежности семьи с 3 детьми - коэффициент наличия долгов по ним составляет 0,0818..., т.е. чуть больше 8,1%.\n",
    "4. Далее с близкими результатами идут семьи с 1 ребенком (коэффициент для них равен 0,0923...) и с 2 детьми (коэффициент для них равен 0,0945...).\n",
    "5. Самые ненадежные - семьи с 4 детьми - коэффициент наличия долгов по ним составляет 0,0975..., т.е. 9,75%. Но, опять же, здесь выборка размером в 41 случай. Да, она более чем в 4 раза шире, чем в случае с выборкой по семьям с 5 детьми, но тоже не такая большая. Поэтому коэффициент наличия долгов по кредитам здесь тоже стоит рассматривать с осторожностью."
   ]
  },
  {
   "cell_type": "markdown",
   "id": "def66b85",
   "metadata": {
    "deletable": false,
    "editable": false,
    "id": "97be82ca"
   },
   "source": [
    "#### 3.2 Есть ли зависимость между семейным положением и возвратом кредита в срок?"
   ]
  },
  {
   "cell_type": "code",
   "execution_count": 29,
   "id": "09a51cd1",
   "metadata": {
    "deletable": false,
    "id": "dc3f7ee8"
   },
   "outputs": [
    {
     "data": {
      "text/html": [
       "<div>\n",
       "<style scoped>\n",
       "    .dataframe tbody tr th:only-of-type {\n",
       "        vertical-align: middle;\n",
       "    }\n",
       "\n",
       "    .dataframe tbody tr th {\n",
       "        vertical-align: top;\n",
       "    }\n",
       "\n",
       "    .dataframe thead tr th {\n",
       "        text-align: left;\n",
       "    }\n",
       "\n",
       "    .dataframe thead tr:last-of-type th {\n",
       "        text-align: right;\n",
       "    }\n",
       "</style>\n",
       "<table border=\"1\" class=\"dataframe\">\n",
       "  <thead>\n",
       "    <tr>\n",
       "      <th></th>\n",
       "      <th colspan=\"3\" halign=\"left\">debt</th>\n",
       "    </tr>\n",
       "    <tr>\n",
       "      <th></th>\n",
       "      <th>count</th>\n",
       "      <th>sum</th>\n",
       "      <th>mean</th>\n",
       "    </tr>\n",
       "    <tr>\n",
       "      <th>family_status</th>\n",
       "      <th></th>\n",
       "      <th></th>\n",
       "      <th></th>\n",
       "    </tr>\n",
       "  </thead>\n",
       "  <tbody>\n",
       "    <tr>\n",
       "      <th>Не женат / не замужем</th>\n",
       "      <td>2796</td>\n",
       "      <td>273</td>\n",
       "      <td>0.097639</td>\n",
       "    </tr>\n",
       "    <tr>\n",
       "      <th>в разводе</th>\n",
       "      <td>1189</td>\n",
       "      <td>84</td>\n",
       "      <td>0.070648</td>\n",
       "    </tr>\n",
       "    <tr>\n",
       "      <th>вдовец / вдова</th>\n",
       "      <td>951</td>\n",
       "      <td>63</td>\n",
       "      <td>0.066246</td>\n",
       "    </tr>\n",
       "    <tr>\n",
       "      <th>гражданский брак</th>\n",
       "      <td>4134</td>\n",
       "      <td>385</td>\n",
       "      <td>0.093130</td>\n",
       "    </tr>\n",
       "    <tr>\n",
       "      <th>женат / замужем</th>\n",
       "      <td>12261</td>\n",
       "      <td>927</td>\n",
       "      <td>0.075606</td>\n",
       "    </tr>\n",
       "  </tbody>\n",
       "</table>\n",
       "</div>"
      ],
      "text/plain": [
       "                        debt               \n",
       "                       count  sum      mean\n",
       "family_status                              \n",
       "Не женат / не замужем   2796  273  0.097639\n",
       "в разводе               1189   84  0.070648\n",
       "вдовец / вдова           951   63  0.066246\n",
       "гражданский брак        4134  385  0.093130\n",
       "женат / замужем        12261  927  0.075606"
      ]
     },
     "execution_count": 29,
     "metadata": {},
     "output_type": "execute_result"
    }
   ],
   "source": [
    "data_00 = data.groupby('family_status')['debt'].count() #разбивка клиентов из датафрейма в зависимости от их семейного положения\n",
    "debt_00 = data.groupby('family_status')['debt'].sum() #сумма должников в зависимости от семейного положения\n",
    "mean_00 = data.groupby('family_status')['debt'].mean() #среднее число должников в зависимости от семейного положения\n",
    "percent_00 = data.groupby('family_status').agg({'debt': ['count', 'sum', 'mean']}) #сводная таблица с данными по группам клиентов в зависимости от их семейного положения и число должников в каждой из них\n",
    "percent_00"
   ]
  },
  {
   "cell_type": "markdown",
   "id": "0f43f46d",
   "metadata": {
    "deletable": false,
    "id": "1cef7837"
   },
   "source": [
    "**Вывод:** \n",
    "1. Самые надежные плательщики имеют семейный статус 'вдовец / вдова' - коэффициент наличия долгов по ним составляет 0.0662, т.е. чуть больше 6,6%.\n",
    "2. Далее по степени надежности идут плательщики с семейным статусом 'в разводе' - коэффициент наличия долгов по ним составляет 0,0706..., т.е. чуть больше 7,0%.\n",
    "3. На третьем месте по надежности идут плательщики с семейным статусом 'женат / замужем' - коэффициент наличия долгов по ним составляет 0.0756..., т.е. чуть больше 7,5%.\n",
    "4. Далее по надежности идут плательщики с семейным статусом 'гражданский брак' - коэффициент для них равен 0.0931..., т.е. чуть больше 9,3%.\n",
    "5. Самые ненадежные плательщики имеют семейный статус 'Не женат / не замужем' - коэффициент наличия долгов по ним составляет 0.0976..., т.е. чуть больше 9,7%."
   ]
  },
  {
   "cell_type": "markdown",
   "id": "db683c7d",
   "metadata": {
    "deletable": false,
    "editable": false,
    "id": "1e8b2fca"
   },
   "source": [
    "#### 3.3 Есть ли зависимость между уровнем дохода и возвратом кредита в срок?"
   ]
  },
  {
   "cell_type": "code",
   "execution_count": 30,
   "id": "ff84c3ad",
   "metadata": {
    "deletable": false,
    "id": "cd7e3720"
   },
   "outputs": [
    {
     "data": {
      "text/plain": [
       "0.09090909090909091"
      ]
     },
     "execution_count": 30,
     "metadata": {},
     "output_type": "execute_result"
    }
   ],
   "source": [
    "data_000 = data[data['total_income_category'] == 'E'] #таблица с данными по уровню заработка из категории 'E'\n",
    "rows_number_000 = data_000.shape[0] #число строк в таблице с данными по уровню заработка из категории 'E'\n",
    "debt_000 = data_000[data_000['debt'] == 1] #таблица с данными по уровню заработка из категории 'E', но с задолженностью по кредиту\n",
    "rows_number_000_000 = debt_000.shape[0] #число строк в таблице с данными уровню заработка из категории 'E', но с задолженностью по кредиту\n",
    "percent_000 = rows_number_000_000 / rows_number_000 #коэффициент, показывающий отношение случаев уровня заработка из категории 'E' с задолженностью по кредиту к общему числу случаев уровня заработка из категории 'E'\n",
    "percent_000"
   ]
  },
  {
   "cell_type": "code",
   "execution_count": 31,
   "id": "0a0a2cd9",
   "metadata": {},
   "outputs": [
    {
     "data": {
      "text/plain": [
       "0.06017191977077364"
      ]
     },
     "execution_count": 31,
     "metadata": {},
     "output_type": "execute_result"
    }
   ],
   "source": [
    "data_111 = data[data['total_income_category'] == 'D'] #таблица с данными по уровню заработка из категории 'D'\n",
    "rows_number_111 = data_111.shape[0] #число строк в таблице с данными по уровню заработка из категории 'D'\n",
    "debt_111 = data_111[data_111['debt'] == 1] #таблица с данными по уровню заработка из категории 'D', но с задолженностью по кредиту\n",
    "rows_number_111_111 = debt_111.shape[0] #число строк в таблице с данными уровню заработка из категории 'D', но с задолженностью по кредиту\n",
    "percent_111 = rows_number_111_111 / rows_number_111 #коэффициент, показывающий отношение случаев уровня заработка из категории 'D' с задолженностью по кредиту к общему числу случаев уровня заработка из категории 'D'\n",
    "percent_111"
   ]
  },
  {
   "cell_type": "code",
   "execution_count": 32,
   "id": "89d3e762",
   "metadata": {},
   "outputs": [
    {
     "data": {
      "text/plain": [
       "0.08498209911437724"
      ]
     },
     "execution_count": 32,
     "metadata": {},
     "output_type": "execute_result"
    }
   ],
   "source": [
    "data_222 = data[data['total_income_category'] == 'C'] #таблица с данными по уровню заработка из категории 'C'\n",
    "rows_number_222 = data_222.shape[0] #число строк в таблице с данными по уровню заработка из категории 'C'\n",
    "debt_222 = data_222[data_222['debt'] == 1] #таблица с данными по уровню заработка из категории 'C', но с задолженностью по кредиту\n",
    "rows_number_222_222 = debt_222.shape[0] #число строк в таблице с данными уровню заработка из категории 'C', но с задолженностью по кредиту\n",
    "percent_222 = rows_number_222_222 / rows_number_222 #коэффициент, показывающий отношение случаев уровня заработка из категории 'C' с задолженностью по кредиту к общему числу случаев уровня заработка из категории 'C'\n",
    "percent_222"
   ]
  },
  {
   "cell_type": "code",
   "execution_count": 33,
   "id": "e7783535",
   "metadata": {},
   "outputs": [
    {
     "data": {
      "text/plain": [
       "0.07060231352213801"
      ]
     },
     "execution_count": 33,
     "metadata": {},
     "output_type": "execute_result"
    }
   ],
   "source": [
    "data_333 = data[data['total_income_category'] == 'B'] #таблица с данными по уровню заработка из категории 'B'\n",
    "rows_number_333 = data_333.shape[0] #число строк в таблице с данными по уровню заработка из категории 'B'\n",
    "debt_333 = data_333[data_333['debt'] == 1] #таблица с данными по уровню заработка из категории 'B', но с задолженностью по кредиту\n",
    "rows_number_333_333 = debt_333.shape[0] #число строк в таблице с данными уровню заработка из категории 'B', но с задолженностью по кредиту\n",
    "percent_333 = rows_number_333_333 / rows_number_333 #коэффициент, показывающий отношение случаев уровня заработка из категории 'B' с задолженностью по кредиту к общему числу случаев уровня заработка из категории 'B'\n",
    "percent_333"
   ]
  },
  {
   "cell_type": "code",
   "execution_count": 34,
   "id": "27bbaae6",
   "metadata": {},
   "outputs": [
    {
     "data": {
      "text/plain": [
       "0.08"
      ]
     },
     "execution_count": 34,
     "metadata": {},
     "output_type": "execute_result"
    }
   ],
   "source": [
    "data_444 = data[data['total_income_category'] == 'A'] #таблица с данными по уровню заработка из категории 'A'\n",
    "rows_number_444 = data_444.shape[0] #число строк в таблице с данными по уровню заработка из категории 'A'\n",
    "debt_444 = data_444[data_444['debt'] == 1] #таблица с данными по уровню заработка из категории 'A', но с задолженностью по кредиту\n",
    "rows_number_444_444 = debt_444.shape[0] #число строк в таблице с данными уровню заработка из категории 'A', но с задолженностью по кредиту\n",
    "percent_444 = rows_number_444_444 / rows_number_444 #коэффициент, показывающий отношение случаев уровня заработка из категории 'A' с задолженностью по кредиту к общему числу случаев уровня заработка из категории 'A'\n",
    "percent_444"
   ]
  },
  {
   "cell_type": "markdown",
   "id": "f14caa56",
   "metadata": {
    "deletable": false,
    "id": "e8593def"
   },
   "source": [
    "**Вывод:** \n",
    "Поскольку в 1-ой части проекта мы разделили плательщиков в зависимости от уровня дохода на 5 категорий (A-E) и добавили соответствующую информацию в отдельный столбец датафрейма data, можно воспользоваться этими данными.\n",
    "1. Самыми надежными плательщиками оказались люди из категории 'D' с доходами от 30001 до 50000 - коэффициент наличия долгов по ним составляет 0,0601..., т.е. чуть больше 6,0%.. И это несмотря на то, что это вторая с конца категория доходов (меньше только у представителей категории 'E').\n",
    "2. Далее по степени надежности идут люди из категории 'B' с доходами от 200001 до 1000000 - коэффициент наличия долгов по ним составляет 0.0706..., т.е. чуть больше 7,0%.\n",
    "3. На третьем месте по надежности идут самые состоятельные люди из категории 'A' с доходами более 1000001 - коэффициент наличия долгов по ним составляет ровно 0,08, т.е. 8%. Правда, выборка здесь всего из 25 человек, поэтому данный коэффициент воспринимаем с некоторой долей скепсиса. Если бы выборка была больше, надежность могла бы стать как больше, так и меньше.\n",
    "4. Далее по степени надежности идут люди из категории 'C' с доходами от 50001 до 200000 - коэффициент наличия долгов по ним составляет 0.0849..., т.е. чуть больше 8,4%.\n",
    "5. Самые ненадежные - наименее состоятельные люди из категории 'E' с доходами менее 30000 - коэффициент наличия долгов по ним составляет 0,0909..., т.е. чуть больше 9,0%. С одной стороны это логично: люди с наименьшими доходами чаще всего сталкиваются с проблемами при возврате кредитов. Но с другой стороны выборка здесь всего из 22 человек, поэтому данный коэффициент воспринимаем с некоторой долей скепсиса, как и в случае с самыми богатыми людими из категории 'A'. Если бы выборка была больше, надежность могла бы стать как больше, так и меньше."
   ]
  },
  {
   "cell_type": "markdown",
   "id": "3ceafe25",
   "metadata": {
    "deletable": false,
    "editable": false,
    "id": "99ecbd1f"
   },
   "source": [
    "#### 3.4 Как разные цели кредита влияют на его возврат в срок?"
   ]
  },
  {
   "cell_type": "code",
   "execution_count": 35,
   "id": "002f56d9",
   "metadata": {
    "deletable": false,
    "id": "2b687290"
   },
   "outputs": [
    {
     "data": {
      "text/html": [
       "<div>\n",
       "<style scoped>\n",
       "    .dataframe tbody tr th:only-of-type {\n",
       "        vertical-align: middle;\n",
       "    }\n",
       "\n",
       "    .dataframe tbody tr th {\n",
       "        vertical-align: top;\n",
       "    }\n",
       "\n",
       "    .dataframe thead tr th {\n",
       "        text-align: left;\n",
       "    }\n",
       "\n",
       "    .dataframe thead tr:last-of-type th {\n",
       "        text-align: right;\n",
       "    }\n",
       "</style>\n",
       "<table border=\"1\" class=\"dataframe\">\n",
       "  <thead>\n",
       "    <tr>\n",
       "      <th></th>\n",
       "      <th>count</th>\n",
       "      <th>sum</th>\n",
       "      <th>mean</th>\n",
       "    </tr>\n",
       "    <tr>\n",
       "      <th></th>\n",
       "      <th>debt</th>\n",
       "      <th>debt</th>\n",
       "      <th>debt</th>\n",
       "    </tr>\n",
       "    <tr>\n",
       "      <th>purpose_category</th>\n",
       "      <th></th>\n",
       "      <th></th>\n",
       "      <th></th>\n",
       "    </tr>\n",
       "  </thead>\n",
       "  <tbody>\n",
       "    <tr>\n",
       "      <th>операции с автомобилем</th>\n",
       "      <td>4279</td>\n",
       "      <td>400</td>\n",
       "      <td>0.093480</td>\n",
       "    </tr>\n",
       "    <tr>\n",
       "      <th>операции с недвижимостью</th>\n",
       "      <td>10751</td>\n",
       "      <td>780</td>\n",
       "      <td>0.072551</td>\n",
       "    </tr>\n",
       "    <tr>\n",
       "      <th>получение образования</th>\n",
       "      <td>3988</td>\n",
       "      <td>369</td>\n",
       "      <td>0.092528</td>\n",
       "    </tr>\n",
       "    <tr>\n",
       "      <th>проведение свадьбы</th>\n",
       "      <td>2313</td>\n",
       "      <td>183</td>\n",
       "      <td>0.079118</td>\n",
       "    </tr>\n",
       "  </tbody>\n",
       "</table>\n",
       "</div>"
      ],
      "text/plain": [
       "                          count  sum      mean\n",
       "                           debt debt      debt\n",
       "purpose_category                              \n",
       "операции с автомобилем     4279  400  0.093480\n",
       "операции с недвижимостью  10751  780  0.072551\n",
       "получение образования      3988  369  0.092528\n",
       "проведение свадьбы         2313  183  0.079118"
      ]
     },
     "execution_count": 35,
     "metadata": {},
     "output_type": "execute_result"
    }
   ],
   "source": [
    "data_pivot = data.pivot_table(index=['purpose_category'], values='debt', aggfunc=['count', 'sum', 'mean'])\n",
    "data_pivot"
   ]
  },
  {
   "cell_type": "markdown",
   "id": "49415fca",
   "metadata": {
    "deletable": false,
    "id": "b4bb2ce6"
   },
   "source": [
    "**Вывод:** \n",
    "1. Самыми надежными плательщиками оказались люди из категории 'операции с недвижимостью' - коэффициент наличия долгов по ним составляет 0.0725..., т.е. чуть больше 7,2%.\n",
    "2. Далее по степени надежности идут люди из категории 'проведение свадьбы' - коэффициент наличия долгов по ним составляет 0.0791..., т.е. чуть больше 7,9%.\n",
    "3. На третьем месте по надежности идут люди из категории 'получение образования' - коэффициент наличия долгов по ним составляет 0.0925..., т.е. чуть больше 9,2%.\n",
    "4. Самые ненадежные - люди из категории 'операции с автомобилем' - коэффициент наличия долгов по ним составляет 0.0934...., т.е. чуть больше 9,3%."
   ]
  },
  {
   "cell_type": "markdown",
   "id": "ed3c80ef",
   "metadata": {
    "deletable": false,
    "editable": false,
    "id": "09c3ac4c"
   },
   "source": [
    "#### 3.5 Приведите возможные причины появления пропусков в исходных данных."
   ]
  },
  {
   "cell_type": "markdown",
   "id": "1872fc0b",
   "metadata": {
    "deletable": false,
    "id": "9da2ceda"
   },
   "source": [
    "*Ответ:* Пропуски в исходных данных были в датафрейме в 2 столбцах: days_employed и total_income. Причем, в обоих случаях количество пропуском идентичное - по 2174 штуки. Если бы цифра была в переделах 10-20 пропусков, скажем, можно было бы предположить, что имеет место человеческий фактор и совпадение по обоим столбцам. Но т.к. цифра очень большая, скорее всего, мы имеем дело с технической ошибкойпри сборе данных по 2 этим колонкам."
   ]
  },
  {
   "cell_type": "markdown",
   "id": "8ab058cc",
   "metadata": {
    "deletable": false,
    "editable": false,
    "id": "7b0487d6"
   },
   "source": [
    "#### 3.6 Объясните, почему заполнить пропуски медианным значением — лучшее решение для количественных переменных."
   ]
  },
  {
   "cell_type": "markdown",
   "id": "e1a62ac7",
   "metadata": {
    "deletable": false,
    "id": "7ecf2b8e"
   },
   "source": [
    "*Ответ:* Когда мы имеем дело с большой выборкой данных по определенному вопросу, она дает довольно точное представление о нем. Главное, чтобы она была достаточной для подобных исследований. В случае с количественными переменными наличие некоторого числа пропусков не оказывает серьезного влияния на конечные данные. В этом случае есть 2 варианта действий:\n",
    "1. Отбросить строки с пропусками в графах с количественными переменными. Но в этом случае мы можем потерять важные данные по другим графам таблицы.\n",
    "2. Заполнить пропущенные количественные переменные медианными значениями. В этом случае мы не искажаем картину по данным заполняемого столбца (медиана не изменится) и сохраняем важные данные по другим столбцам таблицы, которые необходимы для дальнейшего анализа."
   ]
  },
  {
   "cell_type": "markdown",
   "id": "2ff75d3b",
   "metadata": {
    "deletable": false,
    "editable": false,
    "id": "6db5255a"
   },
   "source": [
    "### Шаг 4: общий вывод."
   ]
  },
  {
   "cell_type": "markdown",
   "id": "e8aa150d",
   "metadata": {
    "deletable": false,
    "id": "bad65432"
   },
   "source": [
    "От кредитного отдела банка поступили входные данные (статистика о платёжеспособности клиентов), на основании изучения которых предстояло выяснить, влияет ли семейное положение, количество детей клиента и цель кредита на факт его погашения в срок.\n",
    "В результате предобработки данных и последующего исследования удалось выяснить следующее.\n",
    "1. Зависимость кредитоспособности клиента от количества детей\n",
    "А) Самые надежные плательщики - клиенты с 5 детьми. Правда, выборка по ним чисто символическая (всего 9 случаев, зато ни одного долга).\n",
    "Б) Самые надежные плательщики с достаточной выборкой данных - семьи без детей, что логично: нет детей, меньше трат и большая надежность в плане своевременного закрытия кредита.\n",
    "В) Далее в порядке уменьшения надежности идут: семьи с 3 детьми, с 1 ребенком и с 2 детьми.\n",
    "Г) Самые ненадежные - семьи с 4 детьми – по ним долги по кредиту в среднем встречаются чаще всего. Но и выборка по ним также небольшая (всего 41 случай).\n",
    "Поэтому с уверенностью можно сказать, что самые надежные плательщики – семьи без детей. А наименее надежные – семьи с 2 детьми. При этом есть данные о повышенной надежности семей с 5 детьми и пониженной надежности семей с 4 детьми, но выборки по ним недостаточны для однозначного подтверждения этих гипотез.\n",
    "\n",
    "2. Зависимость кредитоспособности клиента от семейного положения\n",
    "В данном случае выборки по всем типам групп достаточные, поэтому делаем следующие выводы:\n",
    "А) Самые надежные плательщики имеют семейный статус 'вдовец / вдова'.\n",
    "Б) Далее в порядке уменьшения надежности идут плательщики с семейным статусом 'в разводе', 'женат / замужем' и 'гражданский брак'.\n",
    "В) Самые ненадежные плательщики имеют семейный статус 'Не женат / не замужем'.\n",
    "\n",
    "3. Зависимость кредитоспособности клиента от его уровня дохода\n",
    "А) Самыми надежными плательщиками оказались люди из категории 'D' с доходами от 30001 до 50000. И это несмотря на то, что это вторая с конца категория доходов (меньше только у представителей категории 'E').\n",
    "Б) Далее по степени надежности идут люди из категории 'B' с доходами от 200001 до 1000000.\n",
    "В) На третьем месте по надежности идут самые состоятельные люди из категории 'A' с доходами более 1000001. Правда, выборка здесь всего из 25 человек, поэтому данный коэффициент воспринимаем с некоторой долей скепсиса.\n",
    "Г) Далее по степени надежности идут люди из категории 'C' с доходами от 50001 до 200000.\n",
    "Д) Самые ненадежные - наименее состоятельные люди из категории 'E' с доходами менее 30000. С одной стороны это логично: люди с наименьшими доходами чаще всего сталкиваются с проблемами при возврате кредитов. Но с другой стороны выборка здесь всего из 22 человек, поэтому данный коэффициент воспринимаем с некоторой долей скепсиса.\n",
    "Поэтому с уверенностью можно сказать, что самые надежные плательщики – люди из категории 'D' с доходами от 30001 до 50000. А наименее надежные – люди из категории 'C' с доходами от 50001 до 200000. При этом есть данные о средней степени надежности людей из категории 'A' с доходами более 1000001. Поскольку выборка по ним небольшая, а степень надежности – средняя, эти данные не так интересны в плане итоговых выводов. Зато стоит обратить внимание на выборку из наименее состоятельных людей из категории 'E' с доходами менее 30000 – она самая низкая. Выглядит логично, но из-за небольшой выборки пока является недостаточной для однозначного подтверждения этой гипотезы.\n",
    "\n",
    "4. Зависимость кредитоспособности клиента от цели, на которую берется кредит\n",
    "В данном случае выборки по всем типам групп достаточные, поэтому делаем следующие выводы:\n",
    "А) Самыми надежными плательщиками оказались люди из категории 'операции с недвижимостью'.\n",
    "Б) Далее по степени надежности идут люди из категории 'проведение свадьбы' и 'получение образования'.\n",
    "В) Самые ненадежные - люди из категории 'операции с автомобилем'.\n",
    "\n",
    "Эти данные будут полезны при построении модели кредитного скоринга для сотрудников банка, принимающих решение о платежеспособности того или иного клиента."
   ]
  }
 ],
 "metadata": {
  "ExecuteTimeLog": [
   {
    "duration": 46,
    "start_time": "2022-11-22T14:25:06.029Z"
   },
   {
    "duration": 6,
    "start_time": "2022-11-22T14:25:22.972Z"
   },
   {
    "duration": 731,
    "start_time": "2022-11-22T14:25:32.404Z"
   },
   {
    "duration": 24,
    "start_time": "2022-11-22T14:25:36.302Z"
   },
   {
    "duration": 15,
    "start_time": "2022-11-22T14:25:41.449Z"
   },
   {
    "duration": 12,
    "start_time": "2022-11-22T14:25:46.545Z"
   },
   {
    "duration": 43,
    "start_time": "2022-11-22T14:25:55.240Z"
   },
   {
    "duration": 4,
    "start_time": "2022-11-22T14:25:57.679Z"
   },
   {
    "duration": 8,
    "start_time": "2022-11-22T14:26:00.582Z"
   },
   {
    "duration": 5,
    "start_time": "2022-11-22T14:26:06.510Z"
   },
   {
    "duration": 7,
    "start_time": "2022-11-22T14:26:14.667Z"
   },
   {
    "duration": 5,
    "start_time": "2022-11-22T14:26:20.239Z"
   },
   {
    "duration": 40,
    "start_time": "2022-11-22T14:26:25.926Z"
   },
   {
    "duration": 10,
    "start_time": "2022-11-22T14:26:29.273Z"
   },
   {
    "duration": 4,
    "start_time": "2022-11-22T14:26:32.765Z"
   },
   {
    "duration": 15,
    "start_time": "2022-11-22T14:26:35.474Z"
   },
   {
    "duration": 19,
    "start_time": "2022-11-22T14:26:40.464Z"
   },
   {
    "duration": 18,
    "start_time": "2022-11-22T14:26:42.848Z"
   },
   {
    "duration": 3,
    "start_time": "2022-11-22T14:26:45.609Z"
   },
   {
    "duration": 10,
    "start_time": "2022-11-22T14:26:55.245Z"
   },
   {
    "duration": 6,
    "start_time": "2022-11-22T14:26:57.638Z"
   },
   {
    "duration": 4,
    "start_time": "2022-11-22T14:27:01.433Z"
   },
   {
    "duration": 21,
    "start_time": "2022-11-22T14:27:07.010Z"
   },
   {
    "duration": 19,
    "start_time": "2022-11-22T14:32:03.647Z"
   },
   {
    "duration": 2,
    "start_time": "2022-11-22T14:32:10.377Z"
   },
   {
    "duration": 10,
    "start_time": "2022-11-22T15:18:09.025Z"
   },
   {
    "duration": 6,
    "start_time": "2022-11-22T15:18:16.540Z"
   },
   {
    "duration": 8,
    "start_time": "2022-11-22T15:18:49.521Z"
   },
   {
    "duration": 5,
    "start_time": "2022-11-22T15:19:04.566Z"
   },
   {
    "duration": 9,
    "start_time": "2022-11-22T15:20:08.384Z"
   },
   {
    "duration": 5,
    "start_time": "2022-11-22T15:20:36.365Z"
   },
   {
    "duration": 5,
    "start_time": "2022-11-22T15:23:05.916Z"
   },
   {
    "duration": 8,
    "start_time": "2022-11-22T15:23:40.348Z"
   },
   {
    "duration": 10,
    "start_time": "2022-11-22T15:25:45.083Z"
   },
   {
    "duration": 381,
    "start_time": "2022-11-22T15:25:53.094Z"
   },
   {
    "duration": 6,
    "start_time": "2022-11-22T15:26:03.703Z"
   },
   {
    "duration": 5,
    "start_time": "2022-11-22T15:26:19.443Z"
   },
   {
    "duration": 10,
    "start_time": "2022-11-22T15:26:40.785Z"
   },
   {
    "duration": 9,
    "start_time": "2022-11-22T15:26:45.992Z"
   },
   {
    "duration": 7,
    "start_time": "2022-11-22T15:26:54.778Z"
   },
   {
    "duration": 43,
    "start_time": "2022-11-22T15:32:05.382Z"
   },
   {
    "duration": 29,
    "start_time": "2022-11-22T15:32:10.613Z"
   },
   {
    "duration": 9,
    "start_time": "2022-11-22T15:32:25.636Z"
   },
   {
    "duration": 9,
    "start_time": "2022-11-22T15:32:41.655Z"
   },
   {
    "duration": 5,
    "start_time": "2022-11-22T15:37:18.754Z"
   },
   {
    "duration": 7,
    "start_time": "2022-11-22T15:37:26.774Z"
   },
   {
    "duration": 11,
    "start_time": "2022-11-22T15:38:08.106Z"
   },
   {
    "duration": 13,
    "start_time": "2022-11-22T15:38:25.985Z"
   },
   {
    "duration": 44,
    "start_time": "2022-11-22T15:38:45.897Z"
   },
   {
    "duration": 143,
    "start_time": "2022-11-22T15:38:55.830Z"
   },
   {
    "duration": 70,
    "start_time": "2022-11-22T15:39:04.087Z"
   },
   {
    "duration": 10,
    "start_time": "2022-11-22T15:39:09.095Z"
   },
   {
    "duration": 9,
    "start_time": "2022-11-22T15:39:43.158Z"
   },
   {
    "duration": 10,
    "start_time": "2022-11-22T15:42:37.434Z"
   },
   {
    "duration": 9,
    "start_time": "2022-11-22T15:42:39.301Z"
   },
   {
    "duration": 9,
    "start_time": "2022-11-22T15:43:43.420Z"
   },
   {
    "duration": 9,
    "start_time": "2022-11-22T15:43:45.578Z"
   },
   {
    "duration": 9,
    "start_time": "2022-11-22T15:44:37.347Z"
   },
   {
    "duration": 9,
    "start_time": "2022-11-22T15:44:39.626Z"
   },
   {
    "duration": 8,
    "start_time": "2022-11-22T15:45:06.341Z"
   },
   {
    "duration": 10,
    "start_time": "2022-11-22T15:45:50.011Z"
   },
   {
    "duration": 9,
    "start_time": "2022-11-22T15:46:00.626Z"
   },
   {
    "duration": 8,
    "start_time": "2022-11-22T15:46:08.181Z"
   },
   {
    "duration": 8,
    "start_time": "2022-11-22T15:46:15.936Z"
   },
   {
    "duration": 9,
    "start_time": "2022-11-22T15:46:42.354Z"
   },
   {
    "duration": 8,
    "start_time": "2022-11-22T15:47:16.371Z"
   },
   {
    "duration": 8,
    "start_time": "2022-11-22T15:47:58.832Z"
   },
   {
    "duration": 12,
    "start_time": "2022-11-22T15:48:31.989Z"
   },
   {
    "duration": 7,
    "start_time": "2022-11-22T15:52:15.739Z"
   },
   {
    "duration": 6,
    "start_time": "2022-11-22T15:52:24.613Z"
   },
   {
    "duration": 8,
    "start_time": "2022-11-22T15:52:43.975Z"
   },
   {
    "duration": 9,
    "start_time": "2022-11-22T15:53:59.771Z"
   },
   {
    "duration": 6,
    "start_time": "2022-11-22T16:01:02.687Z"
   },
   {
    "duration": 6,
    "start_time": "2022-11-22T16:01:05.353Z"
   },
   {
    "duration": 7,
    "start_time": "2022-11-22T16:01:10.925Z"
   },
   {
    "duration": 10,
    "start_time": "2022-11-22T16:01:38.773Z"
   },
   {
    "duration": 9,
    "start_time": "2022-11-22T16:02:17.375Z"
   },
   {
    "duration": 19,
    "start_time": "2022-11-22T16:04:07.789Z"
   },
   {
    "duration": 11,
    "start_time": "2022-11-22T16:07:14.429Z"
   },
   {
    "duration": 7,
    "start_time": "2022-11-22T16:08:20.280Z"
   },
   {
    "duration": 978,
    "start_time": "2022-11-22T16:08:23.677Z"
   },
   {
    "duration": 811,
    "start_time": "2022-11-22T16:09:02.436Z"
   },
   {
    "duration": 29,
    "start_time": "2022-11-22T16:10:33.225Z"
   },
   {
    "duration": 9,
    "start_time": "2022-11-22T16:11:57.764Z"
   },
   {
    "duration": 12,
    "start_time": "2022-11-22T16:12:41.530Z"
   },
   {
    "duration": 13,
    "start_time": "2022-11-22T16:13:55.225Z"
   },
   {
    "duration": 10,
    "start_time": "2022-11-22T16:16:51.372Z"
   },
   {
    "duration": 8,
    "start_time": "2022-11-22T16:17:42.483Z"
   },
   {
    "duration": 8,
    "start_time": "2022-11-22T16:53:04.586Z"
   },
   {
    "duration": 9,
    "start_time": "2022-11-22T16:53:27.868Z"
   },
   {
    "duration": 8,
    "start_time": "2022-11-22T16:54:43.326Z"
   },
   {
    "duration": 8,
    "start_time": "2022-11-22T16:56:20.514Z"
   },
   {
    "duration": 8,
    "start_time": "2022-11-22T16:57:09.075Z"
   },
   {
    "duration": 7,
    "start_time": "2022-11-22T16:57:52.969Z"
   },
   {
    "duration": 8,
    "start_time": "2022-11-22T16:59:03.692Z"
   },
   {
    "duration": 8,
    "start_time": "2022-11-22T16:59:55.624Z"
   },
   {
    "duration": 7,
    "start_time": "2022-11-22T17:00:34.935Z"
   },
   {
    "duration": 6,
    "start_time": "2022-11-22T17:00:46.769Z"
   },
   {
    "duration": 12,
    "start_time": "2022-11-22T17:01:13.813Z"
   },
   {
    "duration": 4,
    "start_time": "2022-11-22T17:01:39.148Z"
   },
   {
    "duration": 5,
    "start_time": "2022-11-22T17:01:52.365Z"
   },
   {
    "duration": 14,
    "start_time": "2022-11-22T17:02:43.187Z"
   },
   {
    "duration": 6,
    "start_time": "2022-11-22T17:03:03.662Z"
   },
   {
    "duration": 8,
    "start_time": "2022-11-22T17:03:10.453Z"
   },
   {
    "duration": 6,
    "start_time": "2022-11-22T17:13:48.335Z"
   },
   {
    "duration": 13,
    "start_time": "2022-11-22T17:14:11.717Z"
   },
   {
    "duration": 5,
    "start_time": "2022-11-22T17:22:37.549Z"
   },
   {
    "duration": 2,
    "start_time": "2022-11-22T17:24:07.051Z"
   },
   {
    "duration": 16,
    "start_time": "2022-11-22T17:28:14.421Z"
   },
   {
    "duration": 11,
    "start_time": "2022-11-22T17:28:33.171Z"
   },
   {
    "duration": 11,
    "start_time": "2022-11-22T17:28:38.533Z"
   },
   {
    "duration": 11,
    "start_time": "2022-11-22T17:29:30.667Z"
   },
   {
    "duration": 13,
    "start_time": "2022-11-22T17:29:35.816Z"
   },
   {
    "duration": 9,
    "start_time": "2022-11-22T17:50:29.480Z"
   },
   {
    "duration": 9,
    "start_time": "2022-11-22T17:51:49.678Z"
   },
   {
    "duration": 10,
    "start_time": "2022-11-22T17:53:12.912Z"
   },
   {
    "duration": 10,
    "start_time": "2022-11-22T17:54:16.965Z"
   },
   {
    "duration": 9,
    "start_time": "2022-11-22T18:21:03.456Z"
   },
   {
    "duration": 9,
    "start_time": "2022-11-22T18:22:43.407Z"
   },
   {
    "duration": 10,
    "start_time": "2022-11-22T18:23:52.281Z"
   },
   {
    "duration": 9,
    "start_time": "2022-11-22T18:32:16.210Z"
   },
   {
    "duration": 7,
    "start_time": "2022-11-22T18:33:37.646Z"
   },
   {
    "duration": 7,
    "start_time": "2022-11-22T18:33:42.884Z"
   },
   {
    "duration": 7,
    "start_time": "2022-11-22T18:33:48.136Z"
   },
   {
    "duration": 6,
    "start_time": "2022-11-22T18:33:53.247Z"
   },
   {
    "duration": 7,
    "start_time": "2022-11-22T18:33:57.505Z"
   },
   {
    "duration": 14,
    "start_time": "2022-11-22T18:34:12.825Z"
   },
   {
    "duration": 9,
    "start_time": "2022-11-22T18:34:18.834Z"
   },
   {
    "duration": 8,
    "start_time": "2022-11-22T18:34:25.878Z"
   },
   {
    "duration": 9,
    "start_time": "2022-11-22T18:34:33.158Z"
   },
   {
    "duration": 8,
    "start_time": "2022-11-22T18:34:43.791Z"
   },
   {
    "duration": 20,
    "start_time": "2022-11-22T18:36:25.173Z"
   },
   {
    "duration": 19,
    "start_time": "2022-11-22T18:36:47.934Z"
   },
   {
    "duration": 22,
    "start_time": "2022-11-22T18:37:06.706Z"
   },
   {
    "duration": 32,
    "start_time": "2022-11-22T18:37:20.867Z"
   },
   {
    "duration": 20,
    "start_time": "2022-11-22T18:37:36.656Z"
   },
   {
    "duration": 7,
    "start_time": "2022-11-22T18:38:19.833Z"
   },
   {
    "duration": 8,
    "start_time": "2022-11-22T18:38:28.536Z"
   },
   {
    "duration": 10,
    "start_time": "2022-11-22T18:38:39.783Z"
   },
   {
    "duration": 9,
    "start_time": "2022-11-22T18:39:33.462Z"
   },
   {
    "duration": 10,
    "start_time": "2022-11-22T18:40:39.202Z"
   },
   {
    "duration": 6,
    "start_time": "2022-11-22T18:41:18.778Z"
   },
   {
    "duration": 6,
    "start_time": "2022-11-22T18:41:51.133Z"
   },
   {
    "duration": 13,
    "start_time": "2022-11-22T18:42:08.320Z"
   },
   {
    "duration": 6,
    "start_time": "2022-11-22T18:42:31.176Z"
   },
   {
    "duration": 6,
    "start_time": "2022-11-22T18:42:53.835Z"
   },
   {
    "duration": 8,
    "start_time": "2022-11-23T08:32:08.187Z"
   },
   {
    "duration": 41,
    "start_time": "2022-11-23T08:32:10.301Z"
   },
   {
    "duration": 647,
    "start_time": "2022-11-23T08:34:08.753Z"
   },
   {
    "duration": 21,
    "start_time": "2022-11-23T08:34:12.927Z"
   },
   {
    "duration": 15,
    "start_time": "2022-11-23T08:34:19.576Z"
   },
   {
    "duration": 11,
    "start_time": "2022-11-23T08:34:24.210Z"
   },
   {
    "duration": 33,
    "start_time": "2022-11-23T08:34:26.630Z"
   },
   {
    "duration": 32,
    "start_time": "2022-11-23T08:34:28.325Z"
   },
   {
    "duration": 32,
    "start_time": "2022-11-23T08:34:32.153Z"
   },
   {
    "duration": 4,
    "start_time": "2022-11-23T08:34:40.190Z"
   },
   {
    "duration": 7,
    "start_time": "2022-11-23T08:34:41.978Z"
   },
   {
    "duration": 4,
    "start_time": "2022-11-23T08:34:45.704Z"
   },
   {
    "duration": 7,
    "start_time": "2022-11-23T08:34:49.090Z"
   },
   {
    "duration": 5,
    "start_time": "2022-11-23T08:34:52.597Z"
   },
   {
    "duration": 42,
    "start_time": "2022-11-23T08:34:54.701Z"
   },
   {
    "duration": 11,
    "start_time": "2022-11-23T08:34:57.381Z"
   },
   {
    "duration": 4,
    "start_time": "2022-11-23T08:35:04.108Z"
   },
   {
    "duration": 17,
    "start_time": "2022-11-23T08:35:06.281Z"
   },
   {
    "duration": 19,
    "start_time": "2022-11-23T08:35:08.304Z"
   },
   {
    "duration": 21,
    "start_time": "2022-11-23T08:35:12.935Z"
   },
   {
    "duration": 4,
    "start_time": "2022-11-23T08:35:15.739Z"
   },
   {
    "duration": 10,
    "start_time": "2022-11-23T08:35:17.931Z"
   },
   {
    "duration": 7,
    "start_time": "2022-11-23T08:35:20.019Z"
   },
   {
    "duration": 4,
    "start_time": "2022-11-23T08:35:29.008Z"
   },
   {
    "duration": 9,
    "start_time": "2022-11-23T08:35:34.001Z"
   },
   {
    "duration": 21,
    "start_time": "2022-11-23T08:35:40.625Z"
   },
   {
    "duration": 12,
    "start_time": "2022-11-23T08:36:13.678Z"
   },
   {
    "duration": 10,
    "start_time": "2022-11-23T08:36:15.330Z"
   },
   {
    "duration": 8,
    "start_time": "2022-11-23T08:36:44.058Z"
   },
   {
    "duration": 8,
    "start_time": "2022-11-23T08:36:45.539Z"
   },
   {
    "duration": 7,
    "start_time": "2022-11-23T08:36:47.442Z"
   },
   {
    "duration": 7,
    "start_time": "2022-11-23T08:36:53.302Z"
   },
   {
    "duration": 9,
    "start_time": "2022-11-23T08:36:56.436Z"
   },
   {
    "duration": 9,
    "start_time": "2022-11-23T08:37:01.563Z"
   },
   {
    "duration": 8,
    "start_time": "2022-11-23T08:37:07.501Z"
   },
   {
    "duration": 7,
    "start_time": "2022-11-23T08:37:18.553Z"
   },
   {
    "duration": 8,
    "start_time": "2022-11-23T08:37:23.567Z"
   },
   {
    "duration": 7,
    "start_time": "2022-11-23T08:37:26.278Z"
   },
   {
    "duration": 8,
    "start_time": "2022-11-23T08:37:32.339Z"
   },
   {
    "duration": 10,
    "start_time": "2022-11-23T08:37:33.683Z"
   },
   {
    "duration": 10,
    "start_time": "2022-11-23T08:37:40.105Z"
   },
   {
    "duration": 8,
    "start_time": "2022-11-23T08:37:49.136Z"
   },
   {
    "duration": 9,
    "start_time": "2022-11-23T08:47:37.113Z"
   },
   {
    "duration": 10,
    "start_time": "2022-11-23T08:50:51.652Z"
   },
   {
    "duration": 10,
    "start_time": "2022-11-23T08:52:49.284Z"
   },
   {
    "duration": 8,
    "start_time": "2022-11-23T08:54:23.613Z"
   },
   {
    "duration": 3,
    "start_time": "2022-11-23T08:57:53.746Z"
   },
   {
    "duration": 3,
    "start_time": "2022-11-23T08:58:02.959Z"
   },
   {
    "duration": 4,
    "start_time": "2022-11-23T08:58:12.540Z"
   },
   {
    "duration": 3,
    "start_time": "2022-11-23T08:58:24.864Z"
   },
   {
    "duration": 3,
    "start_time": "2022-11-23T09:03:49.218Z"
   },
   {
    "duration": 4,
    "start_time": "2022-11-23T09:04:11.340Z"
   },
   {
    "duration": 81,
    "start_time": "2022-11-23T10:29:32.255Z"
   },
   {
    "duration": 17,
    "start_time": "2022-11-23T10:29:35.045Z"
   },
   {
    "duration": 13,
    "start_time": "2022-11-23T10:29:47.752Z"
   },
   {
    "duration": 10,
    "start_time": "2022-11-23T10:29:53.248Z"
   },
   {
    "duration": 33,
    "start_time": "2022-11-23T10:30:05.602Z"
   },
   {
    "duration": 3,
    "start_time": "2022-11-23T10:30:12.503Z"
   },
   {
    "duration": 7,
    "start_time": "2022-11-23T10:30:15.893Z"
   },
   {
    "duration": 4,
    "start_time": "2022-11-23T10:30:19.301Z"
   },
   {
    "duration": 5,
    "start_time": "2022-11-23T10:30:21.394Z"
   },
   {
    "duration": 5,
    "start_time": "2022-11-23T10:30:25.492Z"
   },
   {
    "duration": 39,
    "start_time": "2022-11-23T10:30:27.898Z"
   },
   {
    "duration": 10,
    "start_time": "2022-11-23T10:30:32.598Z"
   },
   {
    "duration": 5,
    "start_time": "2022-11-23T10:30:35.000Z"
   },
   {
    "duration": 11,
    "start_time": "2022-11-23T10:30:37.943Z"
   },
   {
    "duration": 17,
    "start_time": "2022-11-23T10:30:41.462Z"
   },
   {
    "duration": 19,
    "start_time": "2022-11-23T10:30:43.940Z"
   },
   {
    "duration": 3,
    "start_time": "2022-11-23T10:30:51.758Z"
   },
   {
    "duration": 9,
    "start_time": "2022-11-23T10:30:54.095Z"
   },
   {
    "duration": 5,
    "start_time": "2022-11-23T10:30:57.985Z"
   },
   {
    "duration": 3,
    "start_time": "2022-11-23T10:31:01.410Z"
   },
   {
    "duration": 9,
    "start_time": "2022-11-23T10:31:04.039Z"
   },
   {
    "duration": 21,
    "start_time": "2022-11-23T10:31:06.206Z"
   },
   {
    "duration": 11,
    "start_time": "2022-11-23T10:31:10.320Z"
   },
   {
    "duration": 7,
    "start_time": "2022-11-23T10:31:12.510Z"
   },
   {
    "duration": 8,
    "start_time": "2022-11-23T10:31:14.118Z"
   },
   {
    "duration": 7,
    "start_time": "2022-11-23T10:31:21.803Z"
   },
   {
    "duration": 7,
    "start_time": "2022-11-23T10:31:28.910Z"
   },
   {
    "duration": 7,
    "start_time": "2022-11-23T10:31:32.697Z"
   },
   {
    "duration": 10,
    "start_time": "2022-11-23T10:31:36.293Z"
   },
   {
    "duration": 9,
    "start_time": "2022-11-23T10:31:40.405Z"
   },
   {
    "duration": 8,
    "start_time": "2022-11-23T10:31:43.817Z"
   },
   {
    "duration": 8,
    "start_time": "2022-11-23T10:31:45.257Z"
   },
   {
    "duration": 9,
    "start_time": "2022-11-23T10:31:50.927Z"
   },
   {
    "duration": 7,
    "start_time": "2022-11-23T10:31:54.042Z"
   },
   {
    "duration": 8,
    "start_time": "2022-11-23T10:31:55.515Z"
   },
   {
    "duration": 10,
    "start_time": "2022-11-23T10:32:00.526Z"
   },
   {
    "duration": 9,
    "start_time": "2022-11-23T10:32:01.895Z"
   },
   {
    "duration": 7,
    "start_time": "2022-11-23T10:32:03.527Z"
   },
   {
    "duration": 9,
    "start_time": "2022-11-23T10:32:06.759Z"
   },
   {
    "duration": 9,
    "start_time": "2022-11-23T10:32:08.999Z"
   },
   {
    "duration": 8,
    "start_time": "2022-11-23T10:32:10.290Z"
   },
   {
    "duration": 8,
    "start_time": "2022-11-23T10:32:11.697Z"
   },
   {
    "duration": 495,
    "start_time": "2022-11-23T12:03:47.711Z"
   },
   {
    "duration": 22,
    "start_time": "2022-11-23T12:03:48.208Z"
   },
   {
    "duration": 15,
    "start_time": "2022-11-23T12:03:48.231Z"
   },
   {
    "duration": 12,
    "start_time": "2022-11-23T12:03:48.248Z"
   },
   {
    "duration": 46,
    "start_time": "2022-11-23T12:03:48.261Z"
   },
   {
    "duration": 3,
    "start_time": "2022-11-23T12:03:48.309Z"
   },
   {
    "duration": 15,
    "start_time": "2022-11-23T12:03:48.314Z"
   },
   {
    "duration": 4,
    "start_time": "2022-11-23T12:03:48.330Z"
   },
   {
    "duration": 12,
    "start_time": "2022-11-23T12:03:48.336Z"
   },
   {
    "duration": 4,
    "start_time": "2022-11-23T12:03:48.351Z"
   },
   {
    "duration": 34,
    "start_time": "2022-11-23T12:03:48.356Z"
   },
   {
    "duration": 9,
    "start_time": "2022-11-23T12:03:48.391Z"
   },
   {
    "duration": 24,
    "start_time": "2022-11-23T12:03:48.402Z"
   },
   {
    "duration": 13,
    "start_time": "2022-11-23T12:03:48.428Z"
   },
   {
    "duration": 22,
    "start_time": "2022-11-23T12:03:48.442Z"
   },
   {
    "duration": 16,
    "start_time": "2022-11-23T12:03:48.465Z"
   },
   {
    "duration": 4,
    "start_time": "2022-11-23T12:03:48.483Z"
   },
   {
    "duration": 12,
    "start_time": "2022-11-23T12:03:48.489Z"
   },
   {
    "duration": 30,
    "start_time": "2022-11-23T12:03:48.503Z"
   },
   {
    "duration": 4,
    "start_time": "2022-11-23T12:03:48.535Z"
   },
   {
    "duration": 13,
    "start_time": "2022-11-23T12:03:48.541Z"
   },
   {
    "duration": 21,
    "start_time": "2022-11-23T12:03:48.556Z"
   },
   {
    "duration": 11,
    "start_time": "2022-11-23T12:03:48.579Z"
   },
   {
    "duration": 8,
    "start_time": "2022-11-23T12:03:48.627Z"
   },
   {
    "duration": 8,
    "start_time": "2022-11-23T12:03:48.638Z"
   },
   {
    "duration": 6,
    "start_time": "2022-11-23T12:03:48.648Z"
   },
   {
    "duration": 10,
    "start_time": "2022-11-23T12:03:48.656Z"
   },
   {
    "duration": 7,
    "start_time": "2022-11-23T12:03:48.670Z"
   },
   {
    "duration": 13,
    "start_time": "2022-11-23T12:03:48.678Z"
   },
   {
    "duration": 41,
    "start_time": "2022-11-23T12:03:48.692Z"
   },
   {
    "duration": 12,
    "start_time": "2022-11-23T12:03:48.735Z"
   },
   {
    "duration": 26,
    "start_time": "2022-11-23T12:03:48.748Z"
   },
   {
    "duration": 10,
    "start_time": "2022-11-23T12:03:48.775Z"
   },
   {
    "duration": 8,
    "start_time": "2022-11-23T12:03:48.787Z"
   },
   {
    "duration": 12,
    "start_time": "2022-11-23T12:03:48.796Z"
   },
   {
    "duration": 22,
    "start_time": "2022-11-23T12:03:48.810Z"
   },
   {
    "duration": 10,
    "start_time": "2022-11-23T12:03:48.833Z"
   },
   {
    "duration": 8,
    "start_time": "2022-11-23T12:03:48.845Z"
   },
   {
    "duration": 12,
    "start_time": "2022-11-23T12:03:48.854Z"
   },
   {
    "duration": 15,
    "start_time": "2022-11-23T12:03:48.868Z"
   },
   {
    "duration": 21,
    "start_time": "2022-11-23T12:03:48.885Z"
   },
   {
    "duration": 30,
    "start_time": "2022-11-23T12:03:48.907Z"
   },
   {
    "duration": 46,
    "start_time": "2022-11-23T18:10:46.093Z"
   },
   {
    "duration": 6,
    "start_time": "2022-11-23T18:11:05.243Z"
   },
   {
    "duration": 542,
    "start_time": "2022-11-23T18:11:17.539Z"
   },
   {
    "duration": 22,
    "start_time": "2022-11-23T18:11:21.787Z"
   },
   {
    "duration": 16,
    "start_time": "2022-11-23T18:11:25.124Z"
   },
   {
    "duration": 9,
    "start_time": "2022-11-23T18:11:30.510Z"
   },
   {
    "duration": 33,
    "start_time": "2022-11-23T18:11:37.341Z"
   },
   {
    "duration": 4,
    "start_time": "2022-11-23T18:11:41.109Z"
   },
   {
    "duration": 7,
    "start_time": "2022-11-23T18:11:43.162Z"
   },
   {
    "duration": 5,
    "start_time": "2022-11-23T18:11:47.476Z"
   },
   {
    "duration": 8,
    "start_time": "2022-11-23T18:11:51.034Z"
   },
   {
    "duration": 4,
    "start_time": "2022-11-23T18:11:53.137Z"
   },
   {
    "duration": 33,
    "start_time": "2022-11-23T18:11:55.537Z"
   },
   {
    "duration": 15,
    "start_time": "2022-11-23T18:11:57.787Z"
   },
   {
    "duration": 4,
    "start_time": "2022-11-23T18:12:00.143Z"
   },
   {
    "duration": 11,
    "start_time": "2022-11-23T18:12:01.976Z"
   },
   {
    "duration": 20,
    "start_time": "2022-11-23T18:12:03.711Z"
   },
   {
    "duration": 18,
    "start_time": "2022-11-23T18:12:07.500Z"
   },
   {
    "duration": 4,
    "start_time": "2022-11-23T18:12:16.226Z"
   },
   {
    "duration": 10,
    "start_time": "2022-11-23T18:12:21.059Z"
   },
   {
    "duration": 6,
    "start_time": "2022-11-23T18:12:23.000Z"
   },
   {
    "duration": 3,
    "start_time": "2022-11-23T18:12:29.429Z"
   },
   {
    "duration": 9,
    "start_time": "2022-11-23T18:12:31.035Z"
   },
   {
    "duration": 31,
    "start_time": "2022-11-23T18:12:34.491Z"
   },
   {
    "duration": 11,
    "start_time": "2022-11-23T18:12:39.369Z"
   },
   {
    "duration": 7,
    "start_time": "2022-11-23T18:12:41.764Z"
   },
   {
    "duration": 6,
    "start_time": "2022-11-23T18:12:43.497Z"
   },
   {
    "duration": 7,
    "start_time": "2022-11-23T18:12:46.398Z"
   },
   {
    "duration": 7,
    "start_time": "2022-11-23T18:12:48.073Z"
   },
   {
    "duration": 6,
    "start_time": "2022-11-23T18:12:51.066Z"
   },
   {
    "duration": 20,
    "start_time": "2022-11-23T18:12:59.226Z"
   },
   {
    "duration": 3,
    "start_time": "2022-11-23T18:13:38.696Z"
   },
   {
    "duration": 29,
    "start_time": "2022-11-23T18:14:01.646Z"
   },
   {
    "duration": 7,
    "start_time": "2022-11-23T18:16:50.212Z"
   },
   {
    "duration": 7,
    "start_time": "2022-11-23T18:17:19.971Z"
   },
   {
    "duration": 8,
    "start_time": "2022-11-23T18:19:07.569Z"
   },
   {
    "duration": 7,
    "start_time": "2022-11-23T18:20:09.698Z"
   },
   {
    "duration": 9,
    "start_time": "2022-11-23T18:20:47.236Z"
   },
   {
    "duration": 27,
    "start_time": "2022-11-23T18:24:44.853Z"
   },
   {
    "duration": 20,
    "start_time": "2022-11-23T18:37:28.982Z"
   },
   {
    "duration": 21,
    "start_time": "2022-11-23T18:37:56.387Z"
   },
   {
    "duration": 18,
    "start_time": "2022-11-23T18:45:31.929Z"
   },
   {
    "duration": 11,
    "start_time": "2022-11-23T18:51:11.373Z"
   },
   {
    "duration": 30,
    "start_time": "2022-11-23T18:52:30.445Z"
   },
   {
    "duration": 9,
    "start_time": "2022-11-23T18:54:06.905Z"
   },
   {
    "duration": 29,
    "start_time": "2022-11-23T18:55:09.379Z"
   },
   {
    "duration": 51,
    "start_time": "2022-11-24T10:22:05.681Z"
   },
   {
    "duration": 682,
    "start_time": "2022-11-24T10:22:20.065Z"
   },
   {
    "duration": 22,
    "start_time": "2022-11-24T10:22:31.306Z"
   },
   {
    "duration": 13,
    "start_time": "2022-11-24T10:22:38.711Z"
   },
   {
    "duration": 10,
    "start_time": "2022-11-24T10:22:44.583Z"
   },
   {
    "duration": 30,
    "start_time": "2022-11-24T10:22:47.310Z"
   },
   {
    "duration": 3,
    "start_time": "2022-11-24T10:22:49.682Z"
   },
   {
    "duration": 8,
    "start_time": "2022-11-24T10:22:52.567Z"
   },
   {
    "duration": 5,
    "start_time": "2022-11-24T10:22:57.278Z"
   },
   {
    "duration": 7,
    "start_time": "2022-11-24T10:22:58.937Z"
   },
   {
    "duration": 4,
    "start_time": "2022-11-24T10:23:02.450Z"
   },
   {
    "duration": 30,
    "start_time": "2022-11-24T10:23:06.068Z"
   },
   {
    "duration": 9,
    "start_time": "2022-11-24T10:23:07.775Z"
   },
   {
    "duration": 4,
    "start_time": "2022-11-24T10:23:10.318Z"
   },
   {
    "duration": 19,
    "start_time": "2022-11-24T10:23:15.289Z"
   },
   {
    "duration": 20,
    "start_time": "2022-11-24T10:23:18.235Z"
   },
   {
    "duration": 17,
    "start_time": "2022-11-24T10:23:22.500Z"
   },
   {
    "duration": 4,
    "start_time": "2022-11-24T10:23:26.457Z"
   },
   {
    "duration": 16,
    "start_time": "2022-11-24T10:23:33.179Z"
   },
   {
    "duration": 8,
    "start_time": "2022-11-24T10:23:35.294Z"
   },
   {
    "duration": 4,
    "start_time": "2022-11-24T10:23:38.020Z"
   },
   {
    "duration": 8,
    "start_time": "2022-11-24T10:23:47.454Z"
   },
   {
    "duration": 22,
    "start_time": "2022-11-24T10:23:51.148Z"
   },
   {
    "duration": 11,
    "start_time": "2022-11-24T10:23:54.505Z"
   },
   {
    "duration": 8,
    "start_time": "2022-11-24T10:23:59.582Z"
   },
   {
    "duration": 8,
    "start_time": "2022-11-24T10:24:03.079Z"
   },
   {
    "duration": 8,
    "start_time": "2022-11-24T10:24:04.376Z"
   },
   {
    "duration": 7,
    "start_time": "2022-11-24T10:24:10.950Z"
   },
   {
    "duration": 6,
    "start_time": "2022-11-24T10:24:13.271Z"
   },
   {
    "duration": 31,
    "start_time": "2022-11-24T10:24:25.974Z"
   },
   {
    "duration": 21,
    "start_time": "2022-11-24T10:26:06.403Z"
   },
   {
    "duration": 7,
    "start_time": "2022-11-24T10:26:26.499Z"
   },
   {
    "duration": 8,
    "start_time": "2022-11-24T10:26:27.404Z"
   },
   {
    "duration": 9,
    "start_time": "2022-11-24T10:26:28.209Z"
   },
   {
    "duration": 8,
    "start_time": "2022-11-24T10:26:33.612Z"
   },
   {
    "duration": 7,
    "start_time": "2022-11-24T10:26:39.118Z"
   },
   {
    "duration": 29,
    "start_time": "2022-11-24T10:27:12.685Z"
   },
   {
    "duration": 28,
    "start_time": "2022-11-24T10:28:12.429Z"
   },
   {
    "duration": 72,
    "start_time": "2022-11-24T10:38:53.369Z"
   },
   {
    "duration": 70,
    "start_time": "2022-11-24T10:42:47.515Z"
   },
   {
    "duration": 69,
    "start_time": "2022-11-24T10:43:20.625Z"
   },
   {
    "duration": 15,
    "start_time": "2022-11-24T10:43:20.696Z"
   },
   {
    "duration": 34,
    "start_time": "2022-11-24T10:43:20.713Z"
   },
   {
    "duration": 10,
    "start_time": "2022-11-24T10:43:20.749Z"
   },
   {
    "duration": 38,
    "start_time": "2022-11-24T10:43:20.760Z"
   },
   {
    "duration": 3,
    "start_time": "2022-11-24T10:43:20.800Z"
   },
   {
    "duration": 11,
    "start_time": "2022-11-24T10:43:20.804Z"
   },
   {
    "duration": 3,
    "start_time": "2022-11-24T10:43:20.817Z"
   },
   {
    "duration": 19,
    "start_time": "2022-11-24T10:43:20.821Z"
   },
   {
    "duration": 16,
    "start_time": "2022-11-24T10:43:20.842Z"
   },
   {
    "duration": 52,
    "start_time": "2022-11-24T10:43:20.859Z"
   },
   {
    "duration": 8,
    "start_time": "2022-11-24T10:43:20.913Z"
   },
   {
    "duration": 12,
    "start_time": "2022-11-24T10:43:20.922Z"
   },
   {
    "duration": 12,
    "start_time": "2022-11-24T10:43:20.935Z"
   },
   {
    "duration": 37,
    "start_time": "2022-11-24T10:43:20.949Z"
   },
   {
    "duration": 15,
    "start_time": "2022-11-24T10:43:20.987Z"
   },
   {
    "duration": 3,
    "start_time": "2022-11-24T10:43:21.003Z"
   },
   {
    "duration": 12,
    "start_time": "2022-11-24T10:43:21.008Z"
   },
   {
    "duration": 5,
    "start_time": "2022-11-24T10:43:21.021Z"
   },
   {
    "duration": 3,
    "start_time": "2022-11-24T10:43:21.027Z"
   },
   {
    "duration": 11,
    "start_time": "2022-11-24T10:43:21.031Z"
   },
   {
    "duration": 42,
    "start_time": "2022-11-24T10:43:21.043Z"
   },
   {
    "duration": 10,
    "start_time": "2022-11-24T10:43:21.087Z"
   },
   {
    "duration": 6,
    "start_time": "2022-11-24T10:43:21.098Z"
   },
   {
    "duration": 7,
    "start_time": "2022-11-24T10:43:21.106Z"
   },
   {
    "duration": 6,
    "start_time": "2022-11-24T10:43:21.114Z"
   },
   {
    "duration": 14,
    "start_time": "2022-11-24T10:43:21.121Z"
   },
   {
    "duration": 38,
    "start_time": "2022-11-24T10:43:21.137Z"
   },
   {
    "duration": 28,
    "start_time": "2022-11-24T10:43:21.177Z"
   },
   {
    "duration": 6,
    "start_time": "2022-11-24T10:43:21.207Z"
   },
   {
    "duration": 9,
    "start_time": "2022-11-24T10:43:21.215Z"
   },
   {
    "duration": 13,
    "start_time": "2022-11-24T10:43:21.225Z"
   },
   {
    "duration": 10,
    "start_time": "2022-11-24T10:43:21.239Z"
   },
   {
    "duration": 8,
    "start_time": "2022-11-24T10:43:21.250Z"
   },
   {
    "duration": 42,
    "start_time": "2022-11-24T10:43:21.259Z"
   },
   {
    "duration": 69,
    "start_time": "2022-11-24T10:46:47.742Z"
   },
   {
    "duration": 15,
    "start_time": "2022-11-24T10:46:47.813Z"
   },
   {
    "duration": 17,
    "start_time": "2022-11-24T10:46:47.829Z"
   },
   {
    "duration": 34,
    "start_time": "2022-11-24T10:46:47.848Z"
   },
   {
    "duration": 43,
    "start_time": "2022-11-24T10:46:47.883Z"
   },
   {
    "duration": 3,
    "start_time": "2022-11-24T10:46:47.928Z"
   },
   {
    "duration": 10,
    "start_time": "2022-11-24T10:46:47.932Z"
   },
   {
    "duration": 4,
    "start_time": "2022-11-24T10:46:47.943Z"
   },
   {
    "duration": 7,
    "start_time": "2022-11-24T10:46:47.948Z"
   },
   {
    "duration": 19,
    "start_time": "2022-11-24T10:46:47.958Z"
   },
   {
    "duration": 33,
    "start_time": "2022-11-24T10:46:47.978Z"
   },
   {
    "duration": 9,
    "start_time": "2022-11-24T10:46:48.012Z"
   },
   {
    "duration": 4,
    "start_time": "2022-11-24T10:46:48.022Z"
   },
   {
    "duration": 13,
    "start_time": "2022-11-24T10:46:48.027Z"
   },
   {
    "duration": 42,
    "start_time": "2022-11-24T10:46:48.042Z"
   },
   {
    "duration": 16,
    "start_time": "2022-11-24T10:46:48.086Z"
   },
   {
    "duration": 4,
    "start_time": "2022-11-24T10:46:48.103Z"
   },
   {
    "duration": 13,
    "start_time": "2022-11-24T10:46:48.108Z"
   },
   {
    "duration": 5,
    "start_time": "2022-11-24T10:46:48.123Z"
   },
   {
    "duration": 3,
    "start_time": "2022-11-24T10:46:48.130Z"
   },
   {
    "duration": 10,
    "start_time": "2022-11-24T10:46:48.135Z"
   },
   {
    "duration": 49,
    "start_time": "2022-11-24T10:46:48.147Z"
   },
   {
    "duration": 13,
    "start_time": "2022-11-24T10:46:48.198Z"
   },
   {
    "duration": 9,
    "start_time": "2022-11-24T10:46:48.213Z"
   },
   {
    "duration": 8,
    "start_time": "2022-11-24T10:46:48.223Z"
   },
   {
    "duration": 47,
    "start_time": "2022-11-24T10:46:48.232Z"
   },
   {
    "duration": 8,
    "start_time": "2022-11-24T10:46:48.281Z"
   },
   {
    "duration": 26,
    "start_time": "2022-11-24T10:46:48.292Z"
   },
   {
    "duration": 27,
    "start_time": "2022-11-24T10:46:48.319Z"
   },
   {
    "duration": 8,
    "start_time": "2022-11-24T10:46:48.348Z"
   },
   {
    "duration": 13,
    "start_time": "2022-11-24T10:46:48.357Z"
   },
   {
    "duration": 8,
    "start_time": "2022-11-24T10:46:48.377Z"
   },
   {
    "duration": 19,
    "start_time": "2022-11-24T10:46:48.387Z"
   },
   {
    "duration": 10,
    "start_time": "2022-11-24T10:46:48.408Z"
   },
   {
    "duration": 35,
    "start_time": "2022-11-24T10:46:48.420Z"
   },
   {
    "duration": 707,
    "start_time": "2022-11-25T06:24:26.907Z"
   },
   {
    "duration": 24,
    "start_time": "2022-11-25T06:24:27.616Z"
   },
   {
    "duration": 16,
    "start_time": "2022-11-25T06:24:27.642Z"
   },
   {
    "duration": 11,
    "start_time": "2022-11-25T06:24:27.660Z"
   },
   {
    "duration": 45,
    "start_time": "2022-11-25T06:24:27.673Z"
   },
   {
    "duration": 3,
    "start_time": "2022-11-25T06:24:27.720Z"
   },
   {
    "duration": 12,
    "start_time": "2022-11-25T06:24:27.725Z"
   },
   {
    "duration": 5,
    "start_time": "2022-11-25T06:24:27.754Z"
   },
   {
    "duration": 16,
    "start_time": "2022-11-25T06:24:27.760Z"
   },
   {
    "duration": 5,
    "start_time": "2022-11-25T06:24:27.778Z"
   },
   {
    "duration": 37,
    "start_time": "2022-11-25T06:24:27.784Z"
   },
   {
    "duration": 9,
    "start_time": "2022-11-25T06:24:27.823Z"
   },
   {
    "duration": 4,
    "start_time": "2022-11-25T06:24:27.855Z"
   },
   {
    "duration": 14,
    "start_time": "2022-11-25T06:24:27.860Z"
   },
   {
    "duration": 18,
    "start_time": "2022-11-25T06:24:27.876Z"
   },
   {
    "duration": 16,
    "start_time": "2022-11-25T06:24:27.896Z"
   },
   {
    "duration": 4,
    "start_time": "2022-11-25T06:24:27.913Z"
   },
   {
    "duration": 38,
    "start_time": "2022-11-25T06:24:27.919Z"
   },
   {
    "duration": 6,
    "start_time": "2022-11-25T06:24:27.959Z"
   },
   {
    "duration": 4,
    "start_time": "2022-11-25T06:24:27.966Z"
   },
   {
    "duration": 14,
    "start_time": "2022-11-25T06:24:27.972Z"
   },
   {
    "duration": 20,
    "start_time": "2022-11-25T06:24:27.987Z"
   },
   {
    "duration": 13,
    "start_time": "2022-11-25T06:24:28.009Z"
   },
   {
    "duration": 32,
    "start_time": "2022-11-25T06:24:28.024Z"
   },
   {
    "duration": 8,
    "start_time": "2022-11-25T06:24:28.057Z"
   },
   {
    "duration": 8,
    "start_time": "2022-11-25T06:24:28.067Z"
   },
   {
    "duration": 11,
    "start_time": "2022-11-25T06:24:28.076Z"
   },
   {
    "duration": 7,
    "start_time": "2022-11-25T06:24:28.090Z"
   },
   {
    "duration": 24,
    "start_time": "2022-11-25T06:24:28.098Z"
   },
   {
    "duration": 33,
    "start_time": "2022-11-25T06:24:28.124Z"
   },
   {
    "duration": 11,
    "start_time": "2022-11-25T06:24:28.159Z"
   },
   {
    "duration": 14,
    "start_time": "2022-11-25T06:24:28.172Z"
   },
   {
    "duration": 11,
    "start_time": "2022-11-25T06:24:28.187Z"
   },
   {
    "duration": 10,
    "start_time": "2022-11-25T06:24:28.199Z"
   },
   {
    "duration": 63,
    "start_time": "2022-11-25T06:24:28.210Z"
   },
   {
    "duration": 526,
    "start_time": "2023-05-08T13:41:47.118Z"
   },
   {
    "duration": 20,
    "start_time": "2023-05-08T13:41:47.645Z"
   },
   {
    "duration": 20,
    "start_time": "2023-05-08T13:41:47.666Z"
   },
   {
    "duration": 14,
    "start_time": "2023-05-08T13:41:47.687Z"
   },
   {
    "duration": 37,
    "start_time": "2023-05-08T13:41:47.703Z"
   },
   {
    "duration": 3,
    "start_time": "2023-05-08T13:41:47.742Z"
   },
   {
    "duration": 21,
    "start_time": "2023-05-08T13:41:47.746Z"
   },
   {
    "duration": 16,
    "start_time": "2023-05-08T13:41:47.769Z"
   },
   {
    "duration": 13,
    "start_time": "2023-05-08T13:41:47.786Z"
   },
   {
    "duration": 11,
    "start_time": "2023-05-08T13:41:47.800Z"
   },
   {
    "duration": 41,
    "start_time": "2023-05-08T13:41:47.812Z"
   },
   {
    "duration": 8,
    "start_time": "2023-05-08T13:41:47.855Z"
   },
   {
    "duration": 4,
    "start_time": "2023-05-08T13:41:47.865Z"
   },
   {
    "duration": 14,
    "start_time": "2023-05-08T13:41:47.872Z"
   },
   {
    "duration": 19,
    "start_time": "2023-05-08T13:41:47.888Z"
   },
   {
    "duration": 16,
    "start_time": "2023-05-08T13:41:47.909Z"
   },
   {
    "duration": 4,
    "start_time": "2023-05-08T13:41:47.926Z"
   },
   {
    "duration": 9,
    "start_time": "2023-05-08T13:41:47.932Z"
   },
   {
    "duration": 12,
    "start_time": "2023-05-08T13:41:47.942Z"
   },
   {
    "duration": 3,
    "start_time": "2023-05-08T13:41:47.956Z"
   },
   {
    "duration": 16,
    "start_time": "2023-05-08T13:41:47.961Z"
   },
   {
    "duration": 33,
    "start_time": "2023-05-08T13:41:47.978Z"
   },
   {
    "duration": 11,
    "start_time": "2023-05-08T13:41:48.012Z"
   },
   {
    "duration": 6,
    "start_time": "2023-05-08T13:41:48.024Z"
   },
   {
    "duration": 14,
    "start_time": "2023-05-08T13:41:48.031Z"
   },
   {
    "duration": 17,
    "start_time": "2023-05-08T13:41:48.046Z"
   },
   {
    "duration": 16,
    "start_time": "2023-05-08T13:41:48.064Z"
   },
   {
    "duration": 13,
    "start_time": "2023-05-08T13:41:48.081Z"
   },
   {
    "duration": 24,
    "start_time": "2023-05-08T13:41:48.095Z"
   },
   {
    "duration": 6,
    "start_time": "2023-05-08T13:41:48.120Z"
   },
   {
    "duration": 17,
    "start_time": "2023-05-08T13:41:48.128Z"
   },
   {
    "duration": 18,
    "start_time": "2023-05-08T13:41:48.146Z"
   },
   {
    "duration": 8,
    "start_time": "2023-05-08T13:41:48.166Z"
   },
   {
    "duration": 12,
    "start_time": "2023-05-08T13:41:48.175Z"
   },
   {
    "duration": 34,
    "start_time": "2023-05-08T13:41:48.188Z"
   },
   {
    "duration": 450,
    "start_time": "2023-09-11T20:12:41.863Z"
   },
   {
    "duration": 24,
    "start_time": "2023-09-11T20:12:42.315Z"
   },
   {
    "duration": 14,
    "start_time": "2023-09-11T20:12:42.341Z"
   },
   {
    "duration": 9,
    "start_time": "2023-09-11T20:12:42.357Z"
   },
   {
    "duration": 38,
    "start_time": "2023-09-11T20:12:42.368Z"
   },
   {
    "duration": 4,
    "start_time": "2023-09-11T20:12:42.408Z"
   },
   {
    "duration": 10,
    "start_time": "2023-09-11T20:12:42.413Z"
   },
   {
    "duration": 20,
    "start_time": "2023-09-11T20:12:42.425Z"
   },
   {
    "duration": 6,
    "start_time": "2023-09-11T20:12:42.447Z"
   },
   {
    "duration": 4,
    "start_time": "2023-09-11T20:12:42.457Z"
   },
   {
    "duration": 35,
    "start_time": "2023-09-11T20:12:42.462Z"
   },
   {
    "duration": 10,
    "start_time": "2023-09-11T20:12:42.499Z"
   },
   {
    "duration": 34,
    "start_time": "2023-09-11T20:12:42.511Z"
   },
   {
    "duration": 13,
    "start_time": "2023-09-11T20:12:42.546Z"
   },
   {
    "duration": 19,
    "start_time": "2023-09-11T20:12:42.560Z"
   },
   {
    "duration": 15,
    "start_time": "2023-09-11T20:12:42.580Z"
   },
   {
    "duration": 3,
    "start_time": "2023-09-11T20:12:42.597Z"
   },
   {
    "duration": 11,
    "start_time": "2023-09-11T20:12:42.602Z"
   },
   {
    "duration": 6,
    "start_time": "2023-09-11T20:12:42.615Z"
   },
   {
    "duration": 5,
    "start_time": "2023-09-11T20:12:42.644Z"
   },
   {
    "duration": 10,
    "start_time": "2023-09-11T20:12:42.650Z"
   },
   {
    "duration": 18,
    "start_time": "2023-09-11T20:12:42.662Z"
   },
   {
    "duration": 10,
    "start_time": "2023-09-11T20:12:42.682Z"
   },
   {
    "duration": 10,
    "start_time": "2023-09-11T20:12:42.694Z"
   },
   {
    "duration": 40,
    "start_time": "2023-09-11T20:12:42.705Z"
   },
   {
    "duration": 7,
    "start_time": "2023-09-11T20:12:42.746Z"
   },
   {
    "duration": 9,
    "start_time": "2023-09-11T20:12:42.754Z"
   },
   {
    "duration": 6,
    "start_time": "2023-09-11T20:12:42.765Z"
   },
   {
    "duration": 22,
    "start_time": "2023-09-11T20:12:42.772Z"
   },
   {
    "duration": 7,
    "start_time": "2023-09-11T20:12:42.795Z"
   },
   {
    "duration": 9,
    "start_time": "2023-09-11T20:12:42.803Z"
   },
   {
    "duration": 40,
    "start_time": "2023-09-11T20:12:42.813Z"
   },
   {
    "duration": 8,
    "start_time": "2023-09-11T20:12:42.854Z"
   },
   {
    "duration": 18,
    "start_time": "2023-09-11T20:12:42.864Z"
   },
   {
    "duration": 33,
    "start_time": "2023-09-11T20:12:42.883Z"
   }
  ],
  "colab": {
   "name": "dpp_template_part2.ipynb",
   "provenance": []
  },
  "kernelspec": {
   "display_name": "Python 3 (ipykernel)",
   "language": "python",
   "name": "python3"
  },
  "language_info": {
   "codemirror_mode": {
    "name": "ipython",
    "version": 3
   },
   "file_extension": ".py",
   "mimetype": "text/x-python",
   "name": "python",
   "nbconvert_exporter": "python",
   "pygments_lexer": "ipython3",
   "version": "3.9.5"
  },
  "toc": {
   "base_numbering": 1,
   "nav_menu": {},
   "number_sections": true,
   "sideBar": true,
   "skip_h1_title": true,
   "title_cell": "Table of Contents",
   "title_sidebar": "Contents",
   "toc_cell": false,
   "toc_position": {},
   "toc_section_display": true,
   "toc_window_display": false
  }
 },
 "nbformat": 4,
 "nbformat_minor": 5
}
